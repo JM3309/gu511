{
 "cells": [
  {
   "cell_type": "markdown",
   "metadata": {
    "slideshow": {
     "slide_type": "slide"
    }
   },
   "source": [
    "# MS 511: Advanced Math & Stat Computing\n",
    "\n",
    "## welcome!\n",
    "\n",
    "lecture notes: https://www.github.com/rzl-ds/gu511"
   ]
  },
  {
   "cell_type": "markdown",
   "metadata": {
    "slideshow": {
     "slide_type": "subslide"
    }
   },
   "source": [
    "## schedule\n",
    "\n",
    "+ **course lectures** will meet every thursday *except* Nov 22nd (thanksgiving)\n",
    "+ **physical office hours** will be held in St. Mary's Hall (room tbd) every thursday from 5 - 6:30 (i.e. before class)\n",
    "+ **~~virtual~~ cloud office hours** will be held every Monday from 7 - 11 PM"
   ]
  },
  {
   "cell_type": "markdown",
   "metadata": {
    "slideshow": {
     "slide_type": "subslide"
    }
   },
   "source": [
    "## lecture material\n",
    "\n",
    "all lectures are made in `jupyter notebook` format and hosted on `github`:\n",
    "\n",
    "https://github.com/rzl-ds/gu511"
   ]
  },
  {
   "cell_type": "markdown",
   "metadata": {
    "slideshow": {
     "slide_type": "subslide"
    }
   },
   "source": [
    "recommended books are *supplementary* and not required (sorry!!)\n",
    "\n",
    "<img align=\"center\" src=\"https://i.pinimg.com/736x/4c/05/d4/4c05d472eda06bfc1b599a82f620c86d--professor-college-life.jpg\" width=\"300\">"
   ]
  },
  {
   "cell_type": "markdown",
   "metadata": {
    "slideshow": {
     "slide_type": "subslide"
    }
   },
   "source": [
    "## lecture lab work\n",
    "\n",
    "+ every week we will have hands-on in-class lab work. You will need your laptop for every lecture\n",
    "+ operating systems does not matter! Although we will be doing most of our work in the linux environment, we will be emphasizing *operating system flexibility*"
   ]
  },
  {
   "cell_type": "markdown",
   "metadata": {
    "slideshow": {
     "slide_type": "subslide"
    }
   },
   "source": [
    "## homework\n",
    "\n",
    "+ *weekly* homeworks\n",
    "+ will be *released* sometime between the end of class and friday EOD\n",
    "    + this will be announced via [canvas](http://canvas.georgetown.edu/) (you will get an email)\n",
    "    + homeworks will be released as stand-alone `jupyter notebook` files on github here: https://github.com/rzl-ds/gu511_hw\n",
    "+ will be *due* by the following friday EOD"
   ]
  },
  {
   "cell_type": "markdown",
   "metadata": {
    "slideshow": {
     "slide_type": "subslide"
    }
   },
   "source": [
    "+ for homeworks, we are looking to accentuate some real-world \"dev-ops\" sort of tasks, specifically learning how to deliver things in certain packages:\n",
    "    + scheduled emails\n",
    "    + as github repos or pull requests\n",
    "    + as shared jupyter notebooks, markdown documents, or webpages\n",
    "    + updating entries in shared databases or file servers"
   ]
  },
  {
   "cell_type": "markdown",
   "metadata": {
    "slideshow": {
     "slide_type": "subslide"
    }
   },
   "source": [
    "## exams\n",
    "\n",
    "+ \"exams\" will be take-home, and on the honor system\n",
    "+ they will effectively be longer, more wide-ranging homework assignments\n",
    "+ one midterm exam (oct 12 - 15th)\n",
    "+ one final (after dec 13, date tbd)"
   ]
  },
  {
   "cell_type": "markdown",
   "metadata": {
    "slideshow": {
     "slide_type": "subslide"
    }
   },
   "source": [
    "## grading policy\n",
    "\n",
    "+ the final grade will be a weighted average of the homework, exam 1, and exam 2, with weights 50, 25, and 25 (resp)\n",
    "+ I will grade the final results on a curve\n",
    "+ the final grades will range between A and a B-\n",
    "    + I won't *require* that any of those grades are given -- if the level of effort and completion is comparable I won't split hairs just to give one student an A or one student a B-\n",
    "    + C or below are reserved for cases of academic integrity violations, failure to submit homeworks or missed exams, etc."
   ]
  },
  {
   "cell_type": "markdown",
   "metadata": {
    "slideshow": {
     "slide_type": "subslide"
    }
   },
   "source": [
    "## topics\n",
    "\n",
    "the [existing lectures](https://github.com/rzl-ds/gu511) represent *last year's* course topics. I want this class to evolve with students' interests and also technology.\n",
    "\n",
    "your first assignment will include filling out a topic interest survey."
   ]
  },
  {
   "cell_type": "markdown",
   "metadata": {
    "slideshow": {
     "slide_type": "slide"
    }
   },
   "source": [
    "# course goal\n",
    "\n",
    "I want to help you learn about the tools I use on a daily or weekly basis to perform data science in the real world. Most of these tools exist in the linux environment, and are increasingly accessed in virtualized setttings (*i.e.* \"in the cloud\").\n",
    "\n",
    "I don't expect to make you all *masters* at these tools, but I do hope to give you all familiarity with them, and at the very least I hope to let you know which words to pay attention to when the jargon starts raining down."
   ]
  },
  {
   "cell_type": "markdown",
   "metadata": {
    "slideshow": {
     "slide_type": "slide"
    }
   },
   "source": [
    "<div align=\"center\"><h1>what are your questions?</h1></div>"
   ]
  }
 ],
 "metadata": {
  "celltoolbar": "Slideshow",
  "kernelspec": {
   "display_name": "Python 3",
   "language": "python",
   "name": "python3"
  },
  "language_info": {
   "codemirror_mode": {
    "name": "ipython",
    "version": 3
   },
   "file_extension": ".py",
   "mimetype": "text/x-python",
   "name": "python",
   "nbconvert_exporter": "python",
   "pygments_lexer": "ipython3",
   "version": "3.6.6"
  }
 },
 "nbformat": 4,
 "nbformat_minor": 2
}
