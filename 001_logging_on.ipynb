{
 "cells": [
  {
   "cell_type": "markdown",
   "metadata": {
    "slideshow": {
     "slide_type": "slide"
    }
   },
   "source": [
    "# lecture 1: \"logging on\""
   ]
  },
  {
   "cell_type": "markdown",
   "metadata": {
    "slideshow": {
     "slide_type": "subslide"
    }
   },
   "source": [
    "## outline\n",
    "\n",
    "1. Your Computer\n",
    "2. Moving to the Cloud\n",
    "3. Logging in\n",
    "4. `sudo shutdown now`"
   ]
  },
  {
   "cell_type": "markdown",
   "metadata": {
    "slideshow": {
     "slide_type": "slide"
    }
   },
   "source": [
    "# your computer"
   ]
  },
  {
   "cell_type": "markdown",
   "metadata": {
    "slideshow": {
     "slide_type": "fragment"
    }
   },
   "source": [
    "what do you know about your computer?"
   ]
  },
  {
   "cell_type": "markdown",
   "metadata": {
    "slideshow": {
     "slide_type": "fragment"
    }
   },
   "source": [
    "better question: what do you *need* to know about your computer?"
   ]
  },
  {
   "cell_type": "markdown",
   "metadata": {
    "slideshow": {
     "slide_type": "subslide"
    }
   },
   "source": [
    "here are some important questions:\n",
    "\n",
    "+ What is the Operating System (OS)?\n",
    "    + Microsoft (MS)\n",
    "    + Mac (OS)\n",
    "    + Linux (\\*nix)"
   ]
  },
  {
   "cell_type": "markdown",
   "metadata": {
    "slideshow": {
     "slide_type": "fragment"
    }
   },
   "source": [
    "+ what can you do on it?\n",
    "+ what can't you do on it?\n",
    "+ how do you know?"
   ]
  },
  {
   "cell_type": "markdown",
   "metadata": {
    "slideshow": {
     "slide_type": "slide"
    }
   },
   "source": [
    "## your computer's capabilities\n",
    "\n",
    "An example.\n",
    "\n",
    "In [version 3.5](https://www.python.org/dev/peps/pep-0465/), python introduced a cool new feature: the `@` symbol can be used as a single symbol for matrix multiplication. This means that you can do the following:"
   ]
  },
  {
   "cell_type": "code",
   "execution_count": null,
   "metadata": {
    "slideshow": {
     "slide_type": "-"
    }
   },
   "outputs": [],
   "source": [
    "import numpy as np\n",
    "\n",
    "a = np.array([[1, 2], [3, 4]])\n",
    "b = np.array([[10, 9], [8, 7]])\n",
    "\n",
    "a @ b"
   ]
  },
  {
   "cell_type": "markdown",
   "metadata": {
    "slideshow": {
     "slide_type": "subslide"
    }
   },
   "source": [
    "this is the most important advancement in modern science. I must have it."
   ]
  },
  {
   "cell_type": "markdown",
   "metadata": {
    "slideshow": {
     "slide_type": "subslide"
    }
   },
   "source": [
    "right now, on your computer:"
   ]
  },
  {
   "cell_type": "markdown",
   "metadata": {
    "slideshow": {
     "slide_type": "fragment"
    }
   },
   "source": [
    "+ who has python?"
   ]
  },
  {
   "cell_type": "markdown",
   "metadata": {
    "slideshow": {
     "slide_type": "fragment"
    }
   },
   "source": [
    "+ who knows which version of python they have?"
   ]
  },
  {
   "cell_type": "markdown",
   "metadata": {
    "slideshow": {
     "slide_type": "fragment"
    }
   },
   "source": [
    "+ who has python 3 or above?"
   ]
  },
  {
   "cell_type": "markdown",
   "metadata": {
    "slideshow": {
     "slide_type": "fragment"
    }
   },
   "source": [
    "+ who has numpy?"
   ]
  },
  {
   "cell_type": "markdown",
   "metadata": {
    "slideshow": {
     "slide_type": "fragment"
    }
   },
   "source": [
    "+ who has python 3.5?"
   ]
  },
  {
   "cell_type": "markdown",
   "metadata": {
    "slideshow": {
     "slide_type": "fragment"
    }
   },
   "source": [
    "+ if you don't have any of the above, do you know if you can tweak your laptop until you do?"
   ]
  },
  {
   "cell_type": "markdown",
   "metadata": {
    "slideshow": {
     "slide_type": "fragment"
    }
   },
   "source": [
    "+ how does this change when it's not *your* laptop, but *some one else's* desktop?"
   ]
  },
  {
   "cell_type": "markdown",
   "metadata": {
    "slideshow": {
     "slide_type": "subslide"
    }
   },
   "source": [
    "To put it another way, your physical laptop may have limitations that prevent you from doing everything you might want to do. \n",
    "\n",
    "Actually, your laptop could have a *ton* of limitations:\n",
    "\n",
    "+ things you could change, but would require spending time and money\n",
    "    + only one set of hardware and software\n",
    "    + fixed disk space\n",
    "    + fixed memory\n",
    "    + hardware soon to be obsolete"
   ]
  },
  {
   "cell_type": "markdown",
   "metadata": {
    "slideshow": {
     "slide_type": "subslide"
    }
   },
   "source": [
    "+ \"company\" inefficiencies\n",
    "    + you don't use every bit of resource every second (wasted money!)\n",
    "    + sysad needs to install and patch software and configure every desktop\n",
    "    + sysad needs to monitor entire network\n",
    "    + you need to wait for the sysad's time\n",
    "    + if you've ever worked with IT anywhere, you know what I'm talking about"
   ]
  },
  {
   "cell_type": "markdown",
   "metadata": {
    "slideshow": {
     "slide_type": "subslide"
    }
   },
   "source": [
    "+ security\n",
    "    + you are in charge of security (it's hard and you're probably not great at it)\n",
    "    + each laptop or desktop is a new potential point of failure"
   ]
  },
  {
   "cell_type": "markdown",
   "metadata": {
    "slideshow": {
     "slide_type": "slide"
    }
   },
   "source": [
    "let's expand our proverbial horizons by going to..."
   ]
  },
  {
   "cell_type": "markdown",
   "metadata": {
    "slideshow": {
     "slide_type": "fragment"
    }
   },
   "source": [
    "**<div align=\"center\">the cloud</div>**\n",
    "<div align=\"center\"><img src=\"http://drive.google.com/uc?export=view&id=0ByQ4VmO-MwEES194YjB0Q2dBb00\"></div>"
   ]
  },
  {
   "cell_type": "markdown",
   "metadata": {
    "slideshow": {
     "slide_type": "subslide"
    }
   },
   "source": [
    "**<div align=\"center\">also the cloud</div>**\n",
    "<div align=\"center\"><img align=\"center\" src=\"http://drive.google.com/uc?export=view&id=0ByQ4VmO-MwEETU0yNTFycHpzM3M\"></div>"
   ]
  },
  {
   "cell_type": "markdown",
   "metadata": {
    "slideshow": {
     "slide_type": "subslide"
    }
   },
   "source": [
    "\"the cloud\" is a fancy way of saying: let's make those problems some one else's problems. Amazon, Windows, and Google are all more than happy to solve some of those problems for you -- at a price.\n",
    "\n",
    "<br><div align=\"center\">**Over the remainder of the course we will utilize cloud computing as a tool to solve such problems**</div><br>\n",
    "\n",
    "While we do, though, I urge you to ask yourself: how would I do this with just my laptop? Is that possible? Is that actually more reasonable? Sometimes cloud computing is a lifesaver, but sometimes it is a shotgun when all we need is a flyswatter."
   ]
  },
  {
   "cell_type": "markdown",
   "metadata": {
    "slideshow": {
     "slide_type": "slide"
    }
   },
   "source": [
    "# our first cloud server"
   ]
  },
  {
   "cell_type": "markdown",
   "metadata": {
    "slideshow": {
     "slide_type": "subslide"
    }
   },
   "source": [
    "Let's create a cloud server. There are several good options for doing this, but the primary three (in order of popularity) are\n",
    "\n",
    "1. [Amazon Web Services (AWS)](https://aws.amazon.com/)\n",
    "2. [Microsoft Azure](https://azure.microsoft.com/en-us/?v=17.14)\n",
    "3. [Google Cloud](https://cloud.google.com/)\n",
    "\n",
    "There is a whole meta-industry of third parties which will manage the above for you (e.g. Hortonworks, Cloudera, Rackspace) because managing these services is *hard*.\n",
    "\n",
    "We will go with AWS for two reasons:\n",
    "\n",
    "1. it's very common\n",
    "2. they bribed us"
   ]
  },
  {
   "cell_type": "markdown",
   "metadata": {
    "slideshow": {
     "slide_type": "subslide"
    }
   },
   "source": [
    "## create an aws account"
   ]
  },
  {
   "cell_type": "markdown",
   "metadata": {
    "slideshow": {
     "slide_type": "subslide"
    }
   },
   "source": [
    "**<div align=\"center\">aws account creation exercise</div>**\n",
    "**<div align=\"center\"><a href=\"https://aws.amazon.com/free/\">https://aws.amazon.com/free/</a></div>**\n",
    "<div align=\"center\">use your georgetown.edu email address</div>\n",
    "<br><br>\n",
    "<div align=\"center\" style=\"font-style:italic\">if you already have an account, sit tight and watch us walk through this</div>"
   ]
  },
  {
   "cell_type": "markdown",
   "metadata": {
    "slideshow": {
     "slide_type": "notes"
    }
   },
   "source": [
    "*notes for users reading along*\n",
    "\n",
    "1. go to [the free tier account creation page](https://aws.amazon.com/free/) and click \"create account\"\n",
    "2. click \"create a free account\" button\n",
    "3. enter your *georgetown.edu* email address and select \"create a new aws account\"\n",
    "4. Login Credentials screen\n",
    "    1. fill in the details and add a new password\n",
    "    1. choose an easy-to-remember aws account name (your guid is a good choice)\n",
    "5. Contact Information screen\n",
    "    1. switch to \"Personal Account\"\n",
    "    2. fill it all out (every field is required)\n",
    "6. Payment Information screen\n",
    "    1. *must* use real credit card\n",
    "7. Identity Verification screen\n",
    "    1. enter your phone number, and then enter the matrix with this phone call business\n",
    "8. Support Plan screen\n",
    "    1. leave it at \"Basic\" and click the \"Continue\" button\n",
    "9. Confirmation screen\n",
    "    1. click the \"Launch Management Console\" screen\n",
    "10. signing in\n",
    "    1. enter your email address\n",
    "    2. on the next screen, enter your password"
   ]
  },
  {
   "cell_type": "markdown",
   "metadata": {
    "slideshow": {
     "slide_type": "slide"
    }
   },
   "source": [
    "does everyone have an account now? Are you on [the main dashboard of your `aws` console](https://console.aws.amazon.com/console/home?region=us-east-1)?\n",
    "\n",
    "head on over to [your account page](https://console.aws.amazon.com/billing/home?#/account) (on the top banner, click the dropdown next to your name and select \"My Account\").\n",
    "\n",
    "copy the Account ID to your clipboard."
   ]
  },
  {
   "cell_type": "markdown",
   "metadata": {
    "slideshow": {
     "slide_type": "subslide"
    }
   },
   "source": [
    "## create an aws educate account\n",
    "\n",
    "let's walk through [UIS](https://uis.georgetown.edu/)'s instructions on how to set up our accounts:\n",
    "\n",
    "1. browse to https://aws.amazon.com/education/awseducate/\n",
    "1. click on the \"Join aws educate\" link\n",
    "1. click on the Students icon.\n",
    "1. on the \"tell us about yourself\" page, complete the form. make sure that you include the following information\n",
    "    1. If you have an AWS Account ID, please enter it in the AWS Account ID field.\n",
    "    2. If you do not have an AWS Account ID, please click on the \"Don't have one? Sign up now\" link under the AWS Account ID field.\n",
    "    3. Make sure that you use your Georgetown email address.\n",
    "    4. Enter your grade level.\n",
    "    5. Enter your Graduation year.\n",
    "1. Once you have submitted the completed form, Will Anderson will receive an email asking him to confirm your account, which he will do."
   ]
  },
  {
   "cell_type": "markdown",
   "metadata": {
    "slideshow": {
     "slide_type": "subslide"
    }
   },
   "source": [
    "### get paid (in the future)\n",
    "\n",
    "soon you will get your notification emails that your `aws` account has been approved for `aws` educate. In that email, you will get a short notice that a $100 credit is available for you:\n",
    "\n",
    "```\n",
    "AWS Promotional Credit \n",
    "It's our pleasure to issue you an Amazon Web Services (AWS) promotional credit code in the amount listed below.\n",
    "\n",
    "Credit Amount (US): $100.00 \n",
    "Credit Code: [SOME JUMBLED CODE OF STUFF]\n",
    "```\n",
    "\n",
    "and... nothing else. no links, no info.\n",
    "\n",
    "you add these credits on the Billing Dashboard > Credits page"
   ]
  },
  {
   "cell_type": "markdown",
   "metadata": {
    "slideshow": {
     "slide_type": "subslide"
    }
   },
   "source": [
    "note: we just did two different things:\n",
    "\n",
    "1. we created an AWS account\n",
    "2. we applied for an AWS educate account (not available to the general public)\n",
    "\n",
    "the AWS account will live on past your time here at Georgetown if you would like it to. \n",
    "\n",
    "As for AWS educate, this is effectively a credit system -- you sign up with a `.edu` email address and they give you a cold \\$100 in `aws` credit every year. you can renew this account (and the \\$100 student credits that come with it) every year in May for as long as your `edu` address is still valid -- pretty neat."
   ]
  },
  {
   "cell_type": "markdown",
   "metadata": {
    "slideshow": {
     "slide_type": "slide"
    }
   },
   "source": [
    "## navigating the aws console"
   ]
  },
  {
   "cell_type": "markdown",
   "metadata": {
    "slideshow": {
     "slide_type": "subslide"
    }
   },
   "source": [
    "Navigate to [the console](https://console.aws.amazon.com/console/home) and investigate the items in the menu banner at the top\n",
    "\n",
    "+ aws \"home\" button\n",
    "+ services drop-down\n",
    "    + alows you to access each aws service from *any* window (not just home)\n",
    "+ resource groups drop-down\n",
    "    + a dropdown that allows you to select groups of all services which share tags\n",
    "+ pinned items\n",
    "    + add frequently used services to the banner for one-click access"
   ]
  },
  {
   "cell_type": "markdown",
   "metadata": {
    "slideshow": {
     "slide_type": "subslide"
    }
   },
   "source": [
    "+ notifications\n",
    "    + if you set up billing or performance monitoring notifications they will appear here\n",
    "+ account info\n",
    "    + general account info, useful for quick access to billing and organizational information\n",
    "+ region\n",
    "    + allows you to isolate services based on their availability region where meaningful\n",
    "+ support"
   ]
  },
  {
   "cell_type": "markdown",
   "metadata": {
    "slideshow": {
     "slide_type": "slide"
    }
   },
   "source": [
    "## security bare minimum"
   ]
  },
  {
   "cell_type": "markdown",
   "metadata": {
    "slideshow": {
     "slide_type": "fragment"
    }
   },
   "source": [
    "Let's apply a modicum of security and common sense to our aws account. Fortunately, AWS has already put together a handy checklist on our [`iam` (Identity and Access Management) dashboard](https://console.aws.amazon.com/iam/home?region=us-east-1#/home).\n",
    "\n",
    "<div align=\"center\"><img src=\"http://drive.google.com/uc?export=view&id=0ByQ4VmO-MwEEVXNLdGhHbnpGODQ\"></div>"
   ]
  },
  {
   "cell_type": "markdown",
   "metadata": {
    "slideshow": {
     "slide_type": "subslide"
    }
   },
   "source": [
    "***WARNING***: we are about to dive head-first into the `aws iam` (`i`dentity and `a`ccess `m`anagement) service, one of the most important and generally confusing features. bear with me for a bit, but do ask questions if you're confused!"
   ]
  },
  {
   "cell_type": "markdown",
   "metadata": {
    "slideshow": {
     "slide_type": "subslide"
    }
   },
   "source": [
    "Start by signing in and navigating to the IAM service in [your console](https://console.aws.amazon.com/console/home?region=us-east-1):\n",
    "\n",
    "<div align=\"center\"><img src=\"http://drive.google.com/uc?export=view&id=0ByQ4VmO-MwEEUkdWdUNLMG1EV3c\"></div>"
   ]
  },
  {
   "cell_type": "markdown",
   "metadata": {
    "slideshow": {
     "slide_type": "subslide"
    }
   },
   "source": [
    "We should be presented with a five-item \"security status\" checklist. Let's lock this bad boy down before we go do our top secret homework projects."
   ]
  },
  {
   "cell_type": "markdown",
   "metadata": {
    "slideshow": {
     "slide_type": "subslide"
    }
   },
   "source": [
    "The first two items are the most important: set up MFA on your root account and create an individual IAM user.\n",
    "\n",
    "but what does that mean?"
   ]
  },
  {
   "cell_type": "markdown",
   "metadata": {
    "slideshow": {
     "slide_type": "fragment"
    }
   },
   "source": [
    "Multi-Factor Authentication (MFA) is the coupling of a physical authentication method (e.g. a cell phone or a USB stick) with a password-based authentication method. At this point, it is a must for any account that supports it, and AWS is no different."
   ]
  },
  {
   "cell_type": "markdown",
   "metadata": {
    "slideshow": {
     "slide_type": "subslide"
    }
   },
   "source": [
    "Also, \"running around as root\" is a danger in and of itself. I've seen AWS officials advocate changing the root password to a random string not even *you* know, and never logging in again. I'm not advocating that, but smarter people are, so choose who to listen to.\n",
    "\n",
    "For now, though, let's do the following:\n",
    "\n",
    "1. configure our root account to use MFA\n",
    "2. create a non-root user account with admin priveleges\n",
    "3. configure our non-root user admin account to use MFA"
   ]
  },
  {
   "cell_type": "markdown",
   "metadata": {
    "slideshow": {
     "slide_type": "subslide"
    }
   },
   "source": [
    "**<div align=\"center\">mfa and non-root user account creation exercise</div>**\n",
    "**<div align=\"center\">https://console.aws.amazon.com/iam/home#/home</div>**\n",
    "\n",
    "<br>\n",
    "<div align=\"center\">phone mfa authentication apps</div>\n",
    "<div align=\"center\"><a href=\"https://play.google.com/store/apps/details?id=com.google.android.apps.authenticator2&hl=en\">Google Authenticator for Android</a></div>\n",
    "<div align=\"center\"><a href=\"https://itunes.apple.com/us/app/google-authenticator/id388497605?mt=8\">Google Authenticator for iPhone</a></div>\n",
    "<div align=\"center\"><a href=\"https://authy.com/\">Authy</a></div>"
   ]
  },
  {
   "cell_type": "markdown",
   "metadata": {
    "slideshow": {
     "slide_type": "notes"
    }
   },
   "source": [
    "*for users reading and following along at home*\n",
    "\n",
    "0. install Google Authenticator on your phone, or authy if you're feeling spicy\n",
    "1. go to the [`iam` console page](https://console.aws.amazon.com/iam/home?region=us-east-1#/home)\n",
    "2. \"Activate MFA on your root account\"\n",
    "    1. click the dropdown menu item and then the \"Manage MFA\" button\n",
    "    2. go with a \"virtual\" MFA device\n",
    "    3. if you've already installed GA or authy, click \"Next Step\"\n",
    "    4. in your app, figure out how to add a new authentication account via QR code and scan the QR code\n",
    "    5. enter *two* consecutive authentication codes\n",
    "    6. you should see a \"successfully added\" dialog\n",
    "3. \"Create individual IAM users\"\n",
    "    1. click on the dropdown menu item and then the \"Manage Users\" button\n",
    "    2. click \"Add user\"\n",
    "    3. add user page:\n",
    "        1. select any user name you want\n",
    "        2. give yourself both types of access\n",
    "            1. Programmatic access, and\n",
    "            2. aws management console access\n",
    "        3. select a custom password (for yourself)\n",
    "        4. uncheck \"Require password reset\" (you just set it!)\n",
    "        5. click \"Next: Permissions\"\n",
    "    4. permissions page\n",
    "        1. add users to group: click \"Create group\"\n",
    "            1. name the group something related to admin: e.g. \"admin\" or \"[your initials here]\\_admin\"\n",
    "            2. select the first box for \"AdministratorAccess\" policy\n",
    "        2. click \"Next: Review\"\n",
    "    5. review page\n",
    "        1. click \"Create users\"\n",
    "    6. complete page\n",
    "        1. *download the csv of users access keys and passwords!*\n",
    "4. add an account alias / change the `iam` sign-in link\n",
    "    1. go back to [the `iam` console](https://console.aws.amazon.com/iam/home?region=us-east-1#/home)\n",
    "    2. click on the \"customize\" link up by the \"IAM users sign-in link\"\n",
    "    3. change it to whatever you want\n",
    "    4. copy this url whether you change it or not\n",
    "5. quick diversion because it's super annoying if we don't: [set up billing groups with permissions so you can give your new user billing dashboard priveleges](https://docs.aws.amazon.com/IAM/latest/UserGuide/tutorial_billing.html?icmpid=docs_iam_console#tutorial-billing-step1)\n",
    "    1. give user and role access to billing info\n",
    "        1. navigate to [your root account page](https://console.aws.amazon.com/billing/home?#/account) (upper menu, click on your name, select \"My Account\")\n",
    "        2. in \"IAM User and Role Access to Billing Information\" section, click \"Edit\"\n",
    "        3. click the \"Activate IAM Access\" box\n",
    "        4. click \"Update\" button\n",
    "    2. create \"billing admin\" permission policies\n",
    "        1. go to [the `iam` console](https://console.aws.amazon.com/iam/home?region=us-east-1#/home)\n",
    "        2. click on \"Policies\" in the left menu\n",
    "        3. click on \"Create Policies\"\n",
    "        4. On \"Create policy\" page\n",
    "            1. change Service to **Billing**\n",
    "            1. under Actions, check the \"All Billing actions\" box\n",
    "            1. click \"Review Policy\"\n",
    "        6. review page\n",
    "            1. name it something fancy, like \"billing_admin\" or \"[your initials]\\_billing\"\n",
    "            2. description...?\n",
    "            3. click \"Create Policy\"\n",
    "    3. give \"billing admin\" policy to your \"admin\" group\n",
    "        1. go to [the `iam` groups dashboard](https://console.aws.amazon.com/iam/home?region=us-east-1#/groups) (on any `iam` page, click \"groups\" in the left panel)\n",
    "        2. select the admin group you created in the previous step\n",
    "        3. click \"Attach Policy\"\n",
    "        4. search for the name you just used (e.g. \"billing_admin\")\n",
    "        5. click that policy and click \"Attach Policy\" button\n",
    "6. sign out or root **forever**\n",
    "    1. copy the \"IAM users sign-in link\" on [the `iam` console](https://console.aws.amazon.com/iam/home?region=us-east-1#/home)\n",
    "    2. click on your name in the upper menu\n",
    "    3. \"Sign out\"\n",
    "7. sign back in as a single user\n",
    "    1. navigate to that url you copied above\n",
    "    2. sign in\n",
    "8. add MFA to your *new* account (not just your root account)\n",
    "    1. go back to [the `iam` users console](https://console.aws.amazon.com/iam/home?region=us-east-1#/users)\n",
    "    2. click on your user name\n",
    "    3. click on the \"Security credentials\" tab\n",
    "    4. click on edit pencil following \"Assigned MFA device\"\n",
    "    5. go with a \"virtual\" MFA device\n",
    "    6. if you've already installed GA or authy, click \"Next Step\"\n",
    "    7. in your app, figure out how to add a new authentication account via QR code and scan the QR code\n",
    "    8. enter *two* consecutive authentication codes\n",
    "    9. you should see a \"successfully added\" dialog\n",
    "8. password policy\n",
    "    1. click on \"Apply an IAM password Policy\" and then the \"Manage Password Policy\" button\n",
    "    2. click \"Apply password policy\""
   ]
  },
  {
   "cell_type": "markdown",
   "metadata": {
    "slideshow": {
     "slide_type": "notes"
    }
   },
   "source": [
    "#### verify: we made an account aliases\n",
    "\n",
    "from either the `root` or `iam` user, you can navigate to the `iam` service. On the \"Dashboard\" page of the `iam` service, the very top of the page lists the `iam` sign-in link. you can \"Customize\" this link -- this will give your account an `alias`, which should be something which is much easier to remember when signing in to your account than the 12 digit account id number.\n",
    "\n",
    "<div align=\"center\"><img align=\"middle\" src=\"https://drive.google.com/uc?export=view&id=0ByQ4VmO-MwEEX0xJWUlBcklzNlU\"></div>\n",
    "\n",
    "now users can either access this url directly, *or* they can use that alias text (in the picture example above, `gu511`) as the \"alias\" on the `iam` user login screen (two pictures above)."
   ]
  },
  {
   "cell_type": "markdown",
   "metadata": {
    "slideshow": {
     "slide_type": "subslide"
    }
   },
   "source": [
    "easy as pie! clear as crystal! right?\n",
    "\n",
    "what are your questions?"
   ]
  },
  {
   "cell_type": "markdown",
   "metadata": {
    "slideshow": {
     "slide_type": "slide"
    }
   },
   "source": [
    "# reviewing login process"
   ]
  },
  {
   "cell_type": "markdown",
   "metadata": {
    "slideshow": {
     "slide_type": "subslide"
    }
   },
   "source": [
    "let's be pedantic about this, because it has proven tricky in the past\n",
    "\n",
    "there are two types of accounts which can sign in:\n",
    "\n",
    "1. `root`\n",
    "2. `iam` user\n",
    "\n",
    "we just created a `root` user by opening an account, and then created a special `iam` user that will be our go-to way of logging in in the future.\n",
    "\n",
    "best practice is to reserve the `root` user for only the most essential tasks, and handle all general administrative items via the `iam` user we created in lesson 1."
   ]
  },
  {
   "cell_type": "markdown",
   "metadata": {
    "slideshow": {
     "slide_type": "subslide"
    }
   },
   "source": [
    "those two types of account have similar but *slightly* different ways of logging in. when you go to https://console.aws.amazon.com/console/home, your browser will likely push you toward the login method you most recently used to sign in, so it's important to know how to\n",
    "\n",
    "1. spot the differences, and\n",
    "1. get from one version to the other (`root --> iam` and `iam --> root`)\n",
    "\n",
    "there are three screen you might see..."
   ]
  },
  {
   "cell_type": "markdown",
   "metadata": {
    "slideshow": {
     "slide_type": "subslide"
    }
   },
   "source": [
    "## the general log-in screen\n",
    "\n",
    "if you enter:\n",
    "+ an email address, you will be taken to the `root` login screen\n",
    "+ an account id or an account alias, you will be taken to the `iam` login screen.\n",
    "\n",
    "<div align=\"center\"><img align=\"middle\" src=\"https://drive.google.com/uc?export=view&id=0ByQ4VmO-MwEESEprZEtldTVzd28\"></div>"
   ]
  },
  {
   "cell_type": "markdown",
   "metadata": {
    "slideshow": {
     "slide_type": "subslide"
    }
   },
   "source": [
    "## the root login screen\n",
    "\n",
    "here you will use the password you entered when you created the account.\n",
    "\n",
    "to switch login types `root --> iam`, click the \"Sign in to a different account\" link at the bottom to go back to the *general log-in screen* (previous slide).\n",
    "\n",
    "to log in as `root`, proceed\n",
    "\n",
    "<div align=\"center\"><img align=\"middle\" src=\"https://drive.google.com/uc?export=view&id=0ByQ4VmO-MwEEcGpJMVVHQnZ6LVU\"></div>"
   ]
  },
  {
   "cell_type": "markdown",
   "metadata": {
    "slideshow": {
     "slide_type": "subslide"
    }
   },
   "source": [
    "if you are logging in as `root`, after clicking the \"Sign In\" button, you will be taken to the MFA token authentication page:\n",
    "\n",
    "<div align=\"center\"><img align=\"middle\" src=\"https://drive.google.com/uc?export=view&id=0ByQ4VmO-MwEET2Jla2VTSWZOckk\"></div>"
   ]
  },
  {
   "cell_type": "markdown",
   "metadata": {
    "slideshow": {
     "slide_type": "subslide"
    }
   },
   "source": [
    "at this point you should open your MFA app (Google Authenticator or Authy) and enter the first 6-digit number that is produced *for the root account* (you should have MFA tokens for both `root` and your `iam` user.\n",
    "\n",
    "<div align=\"center\"><img align=\"middle\" src=\"https://drive.google.com/uc?export=view&id=1uzYyzP3a_Y1Jr6l2c-DpYpJzK5ryNKcA\" width=\"600\"></div>"
   ]
  },
  {
   "cell_type": "markdown",
   "metadata": {
    "slideshow": {
     "slide_type": "subslide"
    }
   },
   "source": [
    "## the `iam` user login screen\n",
    "\n",
    "if you used your account id or alias instead of your email address, you would get the `iam` user login screen.\n",
    "\n",
    "to switch login types `iam --> root`, click the \"Sign-in using root account credentials\" link at the bottom to go direclty to the root log in screen (previous slides).\n",
    "\n",
    "to log in as your `iam` user, proceed\n",
    "\n",
    "<div align=\"center\"><img align=\"middle\" src=\"https://drive.google.com/uc?export=view&id=0ByQ4VmO-MwEERFAteGM4Mzc2dGM\"></div>"
   ]
  },
  {
   "cell_type": "markdown",
   "metadata": {
    "slideshow": {
     "slide_type": "subslide"
    }
   },
   "source": [
    "in the first cell of this page, you need to enter your `aws` account id (a unique 12-digit number that you can find on your \"My Account\" page as either and `iam` user or `root`) or the alias you created above.\n",
    "\n",
    "the second and third are for your `iam` user name and the password you gave that `iam` user when you created it."
   ]
  },
  {
   "cell_type": "markdown",
   "metadata": {
    "slideshow": {
     "slide_type": "subslide"
    }
   },
   "source": [
    "after clicking the \"Sign In\" button, you will be taken to the MFA token authentication page:\n",
    "\n",
    "<div align=\"center\"><img align=\"middle\" src=\"https://drive.google.com/uc?export=view&id=0ByQ4VmO-MwEEQndZMnc2a0NHOVk\"></div>"
   ]
  },
  {
   "cell_type": "markdown",
   "metadata": {
    "slideshow": {
     "slide_type": "subslide"
    }
   },
   "source": [
    "do the same authentication dance\n",
    "\n",
    "<div align=\"center\"><img align=\"middle\" src=\"https://drive.google.com/uc?export=view&id=1uzYyzP3a_Y1Jr6l2c-DpYpJzK5ryNKcA\" width=\"600\"></div>"
   ]
  },
  {
   "cell_type": "markdown",
   "metadata": {
    "slideshow": {
     "slide_type": "slide"
    }
   },
   "source": [
    "# creating an ec2 instance"
   ]
  },
  {
   "cell_type": "markdown",
   "metadata": {
    "slideshow": {
     "slide_type": "subslide"
    }
   },
   "source": [
    "The aws service EC2 (elastic cloud compute) is the service you are *probably* thinking of when you think of \"cloud computing\". This service allows you to provision, configure, and launch individual servers for remote use.\n",
    "\n",
    "let's start by making one of our own!"
   ]
  },
  {
   "cell_type": "markdown",
   "metadata": {
    "slideshow": {
     "slide_type": "subslide"
    }
   },
   "source": [
    "**<div align=\"center\">creating an ec2 instance exercise</div>**\n",
    "**<div align=\"center\">https://console.aws.amazon.com/ec2/v2/home</div>**"
   ]
  },
  {
   "cell_type": "markdown",
   "metadata": {
    "slideshow": {
     "slide_type": "subslide"
    }
   },
   "source": [
    "## region\n",
    "\n",
    "aws is broken up into several geographically large \"regions\" which have faster network connectivity. Additionally, amazon can charge you extra for crossing regions -- good for them!\n",
    "\n",
    "as a result, it is often in your interest to keep all the services you use (which need to work together) in the same region.\n",
    "\n",
    "importantly, **you can only set the region of an EC2 instance at the beginning**. the process of cloning an existing server to another region is easy enough that this is not a major issue, but something to know.\n",
    "\n",
    "##### TO DO:\n",
    "\n",
    "+ make sure that the region is set to \"US East (N.Virginia)\"\n",
    "+ click on the \"launch instance\" button, or navigate (on the left menu) to \"instances > instances\" and launch from there"
   ]
  },
  {
   "cell_type": "markdown",
   "metadata": {
    "slideshow": {
     "slide_type": "subslide"
    }
   },
   "source": [
    "## step 1: choose an Amazon Machine Image (AMI)\n",
    "\n",
    "### what is an ami\n",
    "\n",
    "an ami is, essentially, the files you want installed on your computer right off the bat. This includes\n",
    "\n",
    "+ the OS\n",
    "    + note: the particular kernel is *not* included; that is managed by Amazon\n",
    "+ any pre-installed packages\n",
    "+ custom configurations\n",
    "+ data\n",
    "\n",
    "Generally you will use an ami that some one has already put together for you, but know that you could create your own AMI if you wanted to."
   ]
  },
  {
   "cell_type": "markdown",
   "metadata": {
    "slideshow": {
     "slide_type": "notes"
    }
   },
   "source": [
    "advanced: the ami is basically a compressed and chunked (in 10 MB blocks) set of files that act as the boot files of your instance. This affects the \"root device type\" option below: the RDT is basically just \"where\" these files live"
   ]
  },
  {
   "cell_type": "markdown",
   "metadata": {
    "slideshow": {
     "slide_type": "subslide"
    }
   },
   "source": [
    "### how to choose\n",
    "\n",
    "+ [free](https://aws.amazon.com/free/) vs. non-free\n",
    "    + note: linux and windows don’t count against each other\n",
    "+ aws-supported vs. not\n",
    "+ marketplace vs. non-marketplace\n",
    "    + effectively: supported vs. not supported\n",
    "    + example: search in AWS Marketplace for “MediaWiki”\n",
    "+ pre-built vs. vanilla \n",
    "    + example: search in Community AMIs for LAMP\n",
    "+ [root device type](http://docs.aws.amazon.com/AWSEC2/latest/UserGuide/RootDeviceStorage.html)\n",
    "    + \"where\" the ami files live. \n",
    "    + two options\n",
    "        + Elastic Block Store (EBS): your computer points to files in Amazon EBS\n",
    "        + instance store: files are copied from s3 to your host on startup\n",
    "    + consider EBS the default"
   ]
  },
  {
   "cell_type": "markdown",
   "metadata": {
    "slideshow": {
     "slide_type": "notes"
    }
   },
   "source": [
    "advanced topics:\n",
    "\n",
    "+ EBS: ami boot files live in ebs and your server treats them as networked mounts at all times\n",
    "+ instance: ami boot files live in s3 and the startup process copies them to your virtualized server's ephemeral storage prior to boot"
   ]
  },
  {
   "cell_type": "markdown",
   "metadata": {
    "slideshow": {
     "slide_type": "subslide"
    }
   },
   "source": [
    "### how to choose (cont.)\n",
    "\n",
    "+ [virtualization type](http://docs.aws.amazon.com/AWSEC2/latest/UserGuide/virtualization_types.html)\n",
    "    + options:\n",
    "        + HVM (hardware virtual machine)\n",
    "        + PV (paravirtual)\n",
    "        + PV on HVM\n",
    "    + this is an advanced topic -- you will almost always use HVM\n",
    "        \n",
    "##### TO DO:\n",
    "\n",
    "+ click the \"Free tier only\" box\n",
    "+ select the \"Ubuntu Server 16.04 LTS (HVM), SSD Volume Type\" 64-bit AMI"
   ]
  },
  {
   "cell_type": "markdown",
   "metadata": {
    "slideshow": {
     "slide_type": "notes"
    }
   },
   "source": [
    "advanced topics:\n",
    "\n",
    "+ hvm: hardware virtual machine, the hardware itself is virtualized (e.g. a virtual process stands in place of actual communication with a physical CPU)\n",
    "+ paravirtual: the hardware is real but the processes / software are able to scale with virtual resources. separate environments (jails?) are created in memory and operations occur as if they are the only processes accessing that (possibly shared) physical resource"
   ]
  },
  {
   "cell_type": "markdown",
   "metadata": {
    "slideshow": {
     "slide_type": "subslide"
    }
   },
   "source": [
    "## step 2: choose an instance type\n",
    "\n",
    "let's focus on the main concerns (other options are important but advanced)\n",
    "\n",
    "+ number of cores (vCPUs)\n",
    "    + check out ECUs, a cross-processor normalized measurement of capability\n",
    "    + also “physical processor”, “clock speed”\n",
    "    + also “processor architecture”\n",
    "+ Memory\n",
    "+ storage type\n",
    "+ storage size\n",
    "\n",
    "##### TO DO:\n",
    "\n",
    "+ select t2.micro\n",
    "+ don't hit the \"review and launch\" button -- hit the \"next: configure instance details\" button"
   ]
  },
  {
   "cell_type": "markdown",
   "metadata": {
    "slideshow": {
     "slide_type": "subslide"
    }
   },
   "source": [
    "## step 3: configure instance details\n",
    "\n",
    "there is a lot to unpack on this page\n",
    "\n",
    "+ [spot pricing](https://docs.aws.amazon.com/AWSEC2/latest/UserGuide/using-spot-instances.html?icmpid=docs_ec2_console) (can’t be changed after this, I don’t think!)\n",
    "    + spot pricing is pretty great if it suits your needs (and it probably does)\n",
    "+ VPC (for organizational networking purposes)\n",
    "+ IAM role (deep dive later)\n",
    "    + \"instances\" (i.e. this server) are members of roles, inheriting the permissions of the roles \n",
    "+ Shutdown behavior\n",
    "    + \"power button\" vs \"in the dumpster\"\n",
    "    \n",
    "##### TO DO:\n",
    "\n",
    "+ if there is no vpc value, create a new one (use all default parameters)\n",
    "+ change the shutdown behavior to 'stop'\n",
    "+ check the \"enable termination protection\" box\n",
    "+ everything else: leave as is"
   ]
  },
  {
   "cell_type": "markdown",
   "metadata": {
    "slideshow": {
     "slide_type": "subslide"
    }
   },
   "source": [
    "## step 4: add storage\n",
    "\n",
    "#### size\n",
    "\n",
    "just a quick note: on the free tier, you can go up to 30 GiB per month *shared across all instances*. The default size of ec2 free tier instances is 8 GiB, but you can crank that up to 30 if you want. I'll recommend at least 15 so we have room to do crazy stuff with our new test boxes if we want."
   ]
  },
  {
   "cell_type": "markdown",
   "metadata": {
    "slideshow": {
     "slide_type": "subslide"
    }
   },
   "source": [
    "#### volume type\n",
    "\n",
    "there are two categories and four types of storage volumnes that aws supports at this time:\n",
    "\n",
    "1. ssd: solid-state drives\n",
    "    1. gp2: general purpose, **recommended default**\n",
    "    2. io1: provisioned iops\n",
    "2. hdd: hard disk drives\n",
    "    1. st1: throughput optimized\n",
    "    2. sc1: cold\n",
    "    3. standard: magnetic (previous generation)\n",
    "    \n",
    "details can be found [here](https://docs.aws.amazon.com/AWSEC2/latest/UserGuide/EBSVolumeTypes.html?icmpid=docs_ec2_console). `gp2` is the recommended default. The SSD types are for many quick transactions (iops), and HDD types are for streaming big data."
   ]
  },
  {
   "cell_type": "markdown",
   "metadata": {
    "slideshow": {
     "slide_type": "subslide"
    }
   },
   "source": [
    "## step 5: add tags\n",
    "\n",
    "Tags are key-value pairs used to identify properties of a service. They are never necessary, but can be very useful for organizing many moving parts within a larger cloud-based ecosystem. \n",
    "\n",
    "For example, at ERI we have multiple offices and each is working on multiple projects. we utilize the same company-wide account, but separating out costs is important. Tags let us tag on the office or project level and billing can be split up by tags.\n",
    "\n",
    "I recommend being liberal with tagging. I'm tagging everything I create in this class with `gu511: gu511` (note: key and value can be the same)"
   ]
  },
  {
   "cell_type": "markdown",
   "metadata": {
    "slideshow": {
     "slide_type": "subslide"
    }
   },
   "source": [
    "## step 6: configure security group\n",
    "\n",
    "this is one of the most useful configuration options to understand. generally speaking, aws operates on a [principle of least privelege](https://en.wikipedia.org/wiki/Principle_of_least_privilege) model. This means that everything you configure -- servers, services, users -- will generally need to be granted permissions in order to do anything.\n",
    "\n",
    "This is great because it is highly secure; it's also pretty annoying.\n",
    "\n",
    "the security group is the configuration that determines how internet traffic can access your instance. It is a collection of access rules made up of the following:\n",
    "\n",
    "+ type: this is mostly names of a set of default options\n",
    "    + click through the options to see how those default values change\n",
    "+ protocol: this is the language and structure (\"protocol\") in which we assume inbound traffic will come\n",
    "+ port range: on which port our server will listen for this sort of traffic\n",
    "+ source: from where we will allow this traffic to come"
   ]
  },
  {
   "cell_type": "markdown",
   "metadata": {
    "slideshow": {
     "slide_type": "subslide"
    }
   },
   "source": [
    "## step 6: configure security group (cont.)\n",
    "\n",
    "### network port diversion\n",
    "\n",
    "You saw a few familiar names (e.g. ssh, mysql) in the type section above. each corresponded to a protocol (usually TCP) and a port number. A [port](https://en.wikipedia.org/wiki/List_of_TCP_and_UDP_port_numbers#Well-known_ports) is a computer networking construct which identifies the final destination of a transmission -- using the postal mail analogy, if the IP address is the \"street address\" of your computer, the port acts as the apartment number.\n",
    "\n",
    "There are many [assigned ports](https://en.wikipedia.org/wiki/List_of_TCP_and_UDP_port_numbers#Well-known_ports) beyond the ones aws treats as defaults. Take a look at that list for things you've seen before.\n",
    "\n",
    "is anyone in this room old enough to remember kazaa? this will not be on the exam."
   ]
  },
  {
   "cell_type": "markdown",
   "metadata": {
    "slideshow": {
     "slide_type": "subslide"
    }
   },
   "source": [
    "## step 6: configure security group (cont.)\n",
    "\n",
    "some of the most common ports:\n",
    "\n",
    "\n",
    "| service        | port number      |\n",
    "|----------------|------------------|\n",
    "| ftp            | 20, 21           |\n",
    "| ssh            | 22               |\n",
    "| http           | 80               |\n",
    "| https          | 443              |\n",
    "| local web apps | 8000, 8080, 8888 |\n",
    "| mysql          | 3306             |\n",
    "| postgres       | 5432             |\n",
    "| neo4j          | 7474             |"
   ]
  },
  {
   "cell_type": "markdown",
   "metadata": {
    "slideshow": {
     "slide_type": "subslide"
    }
   },
   "source": [
    "## step 6: configure security group (cont.)\n",
    "\n",
    "*if* you want to follow some best practices (PoLP, e.g.), you could find out your own IP address and limit all access to only that address. \n",
    "\n",
    "**note**: you'll have to do this for every ip address you use. This means your home network, your work network, the coffee shop wifi, the GU wifi, your home network in a month or two when comcast cycles it... you get the picture.\n",
    "\n",
    "security is a full time job -- don't take that for granted the next time you're talking to your SysAd!"
   ]
  },
  {
   "cell_type": "markdown",
   "metadata": {
    "slideshow": {
     "slide_type": "subslide"
    }
   },
   "source": [
    "## step 7: review\n",
    "\n",
    "at this stage you will generate the ssh key pair for your instance -- **save these files!!!**. there is no way to change that key-pair after launch, and no way to get them back.\n",
    "\n",
    "we will go through a long discussion about what those key pairs are for later, but for now, just know they are precious."
   ]
  },
  {
   "cell_type": "markdown",
   "metadata": {
    "slideshow": {
     "slide_type": "slide"
    }
   },
   "source": [
    "# L A U N C H ! ! !"
   ]
  },
  {
   "cell_type": "markdown",
   "metadata": {
    "slideshow": {
     "slide_type": "subslide"
    }
   },
   "source": [
    "## ec2 dashboard\n",
    "\n",
    "Now that we have a running instance, let's take a quick tour of the most important parts of the ec2 dashboard."
   ]
  },
  {
   "cell_type": "markdown",
   "metadata": {
    "slideshow": {
     "slide_type": "subslide"
    }
   },
   "source": [
    "##### instances\n",
    "\n",
    "https://console.aws.amazon.com/ec2/v2/home?region=us-east-1#Instances:sort=instanceId\n",
    "\n",
    "+ top panel: description table\n",
    "    + summary configuration information for each ec2 instance\n",
    "    + **click on your instance's line in the table**\n",
    "    + Instance states: **right click on your instance's line in the table**\n",
    "        + start, stop, reboot, terminate\n",
    "    + DNS, IP, and elastic IPs\n",
    "        + [Quick diversion into DNS](https://howdns.works/)\n",
    "        + Look at your (running) instance’s IP address. Now restart. What’s the IP address now?\n",
    "        + Elastic ips: up to 5, and they are free-ish -- use 'em or pay!\n",
    "        + From [amazon](http://docs.aws.amazon.com/AWSEC2/latest/UserGuide/elastic-ip-addresses-eip.html#using-instance-addressing-limit): “We strongly encourage you to use an Elastic IP address primarily for the ability to remap the address to another instance in the case of instance failure, and to use DNS hostnames for all other inter-node communication.”"
   ]
  },
  {
   "cell_type": "markdown",
   "metadata": {
    "slideshow": {
     "slide_type": "subslide"
    }
   },
   "source": [
    "##### instances (cont.)\n",
    "\n",
    "+ bottom panel: instance-specific configuration\n",
    "    + description: configuration and relationship information -- useful for links to attached or related services\n",
    "        + in particular: click through to security group, or \"view inbound rules\""
   ]
  },
  {
   "cell_type": "markdown",
   "metadata": {
    "slideshow": {
     "slide_type": "subslide"
    }
   },
   "source": [
    "##### Elastic Block Share (EBS)\n",
    "\n",
    "+ volumes\n",
    "    + the physical storage used by your ec2 instances\n",
    "    + right-click to change size (relatively new feature, and awesome!)\n",
    "    + snapshot here is not related to the next section -- it's the snapshot that the volume was created from (remember discussion from AMI section)\n",
    "+ snapshots\n",
    "    + \"backups\" -- frozen copies of your physical storage"
   ]
  },
  {
   "cell_type": "markdown",
   "metadata": {
    "slideshow": {
     "slide_type": "subslide"
    }
   },
   "source": [
    "##### network and security\n",
    "\n",
    "+ security groups\n",
    "    + one of the most important sections to understand and use\n",
    "    + controls network traffic in and out of your instances (and other services)\n",
    "    + inbound vs. outbound\n",
    "        + outbound defaults to \"anything, anywhere\"\n",
    "        + inbound defaults to just ssh for linux and just rdp (remote desktop protocol) for windows\n",
    "+ elastic IPs\n",
    "    + annoyed that your IP address changes every time you restart?\n",
    "    + want to stop updating your putty configuration or ssh `config` file?\n",
    "    + get an elastic IP! it's the same each time \n",
    "    + note: this means a static public DNS as well\n",
    "    + up to 5\n",
    "    + free while in use"
   ]
  },
  {
   "cell_type": "markdown",
   "metadata": {
    "slideshow": {
     "slide_type": "subslide"
    }
   },
   "source": [
    "##### Advanced stuff (out of scope, but available)\n",
    "\n",
    "there are a *ton* of advanced configuration options and parameters. You will likely not use almost any of them, but you should still be aware of the sorts of things an organization can do.\n",
    "\n",
    "+ Load balancing\n",
    "    + allows you to balance the incoming requests for services you create\n",
    "+ auto scaling\n",
    "    + automaticaly create new ec2 instances from templates as needed (based on demand)\n",
    "+ instance management / admin automation\n",
    "    + perform system administration in a batch way across all your instances and templates\n",
    "    + centralized paramater management\n",
    "    + os update and software patch deployment"
   ]
  },
  {
   "cell_type": "markdown",
   "metadata": {
    "slideshow": {
     "slide_type": "slide"
    }
   },
   "source": [
    "# billing\n",
    "\n",
    "The server we just created is a \"free tier\" server, and we have not used any service yet which will exceed the limits allowed within the general amazon free tier.\n",
    "\n",
    "Just to be safe, though, why not try to monitor or limit the amount of money we can spend?\n",
    "\n",
    "Head over to the [create budget](https://console.aws.amazon.com/billing/home?#/createbudget) facility of the billing dashboard (*Toolbar* Account Dropdown > My Billing Dashboard > *Left Menu* Budgets). Create a budget limiting the number of dollars per month to be something you feel comfortable with (in the real world, I choose $15).\n",
    "\n",
    "Note: this will *notify* you. it will not take actions like shutting off services by default -- that is still up to you. it is possible to configure something more automatic, and perhaps we will later in the course."
   ]
  },
  {
   "cell_type": "markdown",
   "metadata": {
    "slideshow": {
     "slide_type": "slide"
    }
   },
   "source": [
    "# logging in"
   ]
  },
  {
   "cell_type": "markdown",
   "metadata": {
    "slideshow": {
     "slide_type": "subslide"
    }
   },
   "source": [
    "## remote access\n",
    "\n",
    "there are a couple of common protocols for remotely accessing information -- each serves a different purpose.\n",
    "\n",
    "+ `ssh`\n",
    "    + \"Secure SHell\". This is the *de facto* standard method of remote desktop connection in the linux world.\n",
    "+ `ftp`, `ftps`\n",
    "    + \"File Transfer Protocol (Secure or SSL)\". This is the less secure of two standard methods of transfering files over internet connections\n",
    "+ `sftp`\n",
    "    + \"(Secure, SSH) File Transfer Protocol\" is a combination of the above to protocols -- it is `ftp` over a secure shell connection\n",
    "+ `http`, `https`\n",
    "    + \"HyperText Transfer Protocol (Secure)\" is the standard protocol for all internet traffic\n",
    "+ `rdp`\n",
    "    + \"Remote Desktop Protocol\" is a windows-specific protocol for remotely accessing and using desktops and servers with the windows operatin system"
   ]
  },
  {
   "cell_type": "markdown",
   "metadata": {
    "slideshow": {
     "slide_type": "subslide"
    }
   },
   "source": [
    "I have used every one of the above protocols in my day to day work and I would recommend at least a base level familiarity with each.\n",
    "\n",
    "For the purposes of this course, though, `ssh` will be the most important protocol (as it is how we will connect to everything)"
   ]
  },
  {
   "cell_type": "markdown",
   "metadata": {
    "slideshow": {
     "slide_type": "subslide"
    }
   },
   "source": [
    "# END OF LECTURE\n",
    "\n",
    "next lecture: connect to our server using [ssh](002_ssh.ipynb)."
   ]
  }
 ],
 "metadata": {
  "celltoolbar": "Slideshow",
  "kernelspec": {
   "display_name": "Python 3",
   "language": "python",
   "name": "python3"
  },
  "language_info": {
   "codemirror_mode": {
    "name": "ipython",
    "version": 3
   },
   "file_extension": ".py",
   "mimetype": "text/x-python",
   "name": "python",
   "nbconvert_exporter": "python",
   "pygments_lexer": "ipython3",
   "version": "3.6.6"
  }
 },
 "nbformat": 4,
 "nbformat_minor": 2
}
