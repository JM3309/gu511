{
 "cells": [
  {
   "cell_type": "markdown",
   "metadata": {
    "slideshow": {
     "slide_type": "slide"
    }
   },
   "source": [
    "# python"
   ]
  },
  {
   "cell_type": "markdown",
   "metadata": {
    "slideshow": {
     "slide_type": "slide"
    }
   },
   "source": [
    "## why might you use `python`"
   ]
  },
  {
   "cell_type": "markdown",
   "metadata": {
    "slideshow": {
     "slide_type": "subslide"
    }
   },
   "source": [
    "[`python`](https://www.python.org/) is one of the most popular scripting and programming languages in the world. there are, [like, ninefinity different ways of ranking programming lanaguages](https://www.python.org/), and `python` sits in the top 5 of almost every one of them.\n",
    "\n",
    "I have used it on every single project I've ever worked on. I am an unashamed `python` fanboy.\n",
    "\n",
    "I'm also not really one for the `R` vs. `python` holy wars -- the two have different use cases and any conversation that attempts to settle \"which is better\" is already fundamentally flawed, in my opinion. That being said, I'd like to make the following case as to why you should *learn* `python`, even if it doesn't become your go-to data science language:"
   ]
  },
  {
   "cell_type": "markdown",
   "metadata": {
    "slideshow": {
     "slide_type": "subslide"
    }
   },
   "source": [
    "##### `python` is much more common than `R` *outside* the statistics community\n",
    "\n",
    "this is a feature of a number of biases, but also speaks to something fundamental about the differences between the languages: `R` is a very *deep* language in a very *narrow* field of concepts (namely, statistics), whereas `python` is among the most *broad* and *flexible* languages without a central purpose.\n",
    "\n",
    "Another reason this matters: the barrier to entry for a company or government agency's IT department will be lower (or already surpassed) for `python` and `python` packages if for no other reason than that computer engineers are familiar with it by default."
   ]
  },
  {
   "cell_type": "markdown",
   "metadata": {
    "slideshow": {
     "slide_type": "subslide"
    }
   },
   "source": [
    "##### there is a package for that\n",
    "\n",
    "this is a corollary of the previous point: if there is a thing you want to do, it is very likely that some one has already done it in `python`, and that their work is available for you to use.\n",
    "\n",
    "For a point of comparison, there are [13,121 `R` packages on `CRAN`](https://cran.r-project.org/web/packages/), and [153,987 on `pypi`](https://pypi.org/)."
   ]
  },
  {
   "cell_type": "code",
   "execution_count": null,
   "metadata": {},
   "outputs": [],
   "source": [
    "import antigravity"
   ]
  },
  {
   "cell_type": "markdown",
   "metadata": {
    "slideshow": {
     "slide_type": "subslide"
    }
   },
   "source": [
    "##### it does all the most basic things well\n",
    "\n",
    "although it is available and well-supported on every OS, `python` is very much a linux-focused language. it \"grew up\" in linux as an alternative scripting language (alternative to `bash` and other `shell` scripts). because of this, it acquired some of the linux philosophy points, and specifically those that focus on simplicity.\n",
    "\n",
    "many of the current iterations of linux tools are actually calling `python` scripts under the hood, which means that essential things like web scraping, emailing, scheduling and timing, networking, logging, and database access are all possible and highly optimized in `python`"
   ]
  },
  {
   "cell_type": "markdown",
   "metadata": {
    "slideshow": {
     "slide_type": "subslide"
    }
   },
   "source": [
    "##### it is fun\n",
    "\n",
    "`python` was created with the express interest of being as simple to program in as possible. most of the syntax and rules are specifically generated to make the language function as much like pseudo-code as possible, so code is easy to read.\n",
    "\n",
    "the community also has an edge to it. a good example: start a python session and type\n",
    "\n",
    "```python\n",
    "import this\n",
    "```"
   ]
  },
  {
   "cell_type": "code",
   "execution_count": null,
   "metadata": {
    "slideshow": {
     "slide_type": "subslide"
    }
   },
   "outputs": [],
   "source": [
    "import this"
   ]
  },
  {
   "cell_type": "markdown",
   "metadata": {
    "slideshow": {
     "slide_type": "subslide"
    }
   },
   "source": [
    "okay, so it's a particular type of fun for a particular type of person. but given the prior that you're in this class, I suppose that's a safer prediction"
   ]
  },
  {
   "cell_type": "markdown",
   "metadata": {
    "slideshow": {
     "slide_type": "slide"
    }
   },
   "source": [
    "## why might you not?"
   ]
  },
  {
   "cell_type": "markdown",
   "metadata": {
    "slideshow": {
     "slide_type": "slide"
    }
   },
   "source": [
    "### version 2 vs. 3"
   ]
  },
  {
   "cell_type": "markdown",
   "metadata": {
    "slideshow": {
     "slide_type": "subslide"
    }
   },
   "source": [
    "I'd be remiss not to mention one of the major red marks against `python` -- the infamous \"2 vs. 3\" upgrade controversy.\n",
    "\n",
    "in order to make some very low-level changes to the language (primarily for performance improvements and to support international languages), the developer community chose to make a new major version of `python`: `python3`.\n",
    "\n",
    "the process caused a lot of confusion among newcomers to the language -- which was exploding in popularity at around the same time -- and also put a large burden of uncertainty on corporate developers and development.\n",
    "\n",
    "the bottom line, in my opinion is this:\n",
    "\n",
    "***unless you have no other option, you should always use python 3 and only python 3***"
   ]
  },
  {
   "cell_type": "markdown",
   "metadata": {
    "slideshow": {
     "slide_type": "slide"
    }
   },
   "source": [
    "### it's not *built* for statistics"
   ]
  },
  {
   "cell_type": "markdown",
   "metadata": {
    "slideshow": {
     "slide_type": "subslide"
    }
   },
   "source": [
    "every single decision made in the development of the `R` programming language has been optimized for a particular audience (statisticians) with a particular task (statistics). as such, it does some things that computer scientists and software developers find baffling but are extremely intuitive to data scientists.\n",
    "\n",
    "the river often flows in the other direction in `python` world"
   ]
  },
  {
   "cell_type": "markdown",
   "metadata": {
    "slideshow": {
     "slide_type": "slide"
    }
   },
   "source": [
    "# packages"
   ]
  },
  {
   "cell_type": "markdown",
   "metadata": {
    "slideshow": {
     "slide_type": "subslide"
    }
   },
   "source": [
    "a given file of executible `python` code is probably best referred to as a \"script\", but a collection of scripts which expose some sort of interface to a user to do \"something\" are generally called a \"library\" or a \"package\". \n",
    "\n",
    "This is mostly the same convention as in the `R` community -- think of the differences between scripts you wrote and `dplyr` and all the other stuff Hadley wrote."
   ]
  },
  {
   "cell_type": "markdown",
   "metadata": {
    "slideshow": {
     "slide_type": "subslide"
    }
   },
   "source": [
    "## my favorite packages\n",
    "\n",
    "So what sorts of `python` packages should you use?"
   ]
  },
  {
   "cell_type": "markdown",
   "metadata": {
    "slideshow": {
     "slide_type": "subslide"
    }
   },
   "source": [
    "first of all, the builtin packages are pretty great, and cover a wide range of the most necessary use cases for a programming language (e.g. file i/o and os utilities and tie-ins). The ones I use most often are:\n",
    "\n",
    "+ `argparse` - reading in and parsing command line arguments\n",
    "+ `collections` - sets of \"collection\" objects (e.g. ordered dictionaries, named tuples, default dictionaries)\n",
    "+ `csv` - for reading and writing delimited files\n",
    "+ `datetime` - the fundamental date object and utilities library\n",
    "+ `functools` - functional tools, including fancy stuff like partial function definitions and caching\n",
    "+ `itertools` - an awesome library of utilities for iterating through collections of items\n",
    "+ `json` - for parsing and constructing well formatted JSON\n",
    "+ `logging` - for logging messages to console, file, etc\n",
    "+ `os` - operating system interaction (I use this in almost every single program)\n",
    "+ `pickle` - a `python`-native serialization protocol, for saving `python` stuff\n",
    "+ `random` - a decent (if not special) randomization library\n",
    "+ `re` - regular expression parsing library\n",
    "+ `time` - a generic OS-level time interface\n",
    "\n",
    "for any `python` installation, these *already exist* -- no installation necessary"
   ]
  },
  {
   "cell_type": "markdown",
   "metadata": {
    "slideshow": {
     "slide_type": "subslide"
    }
   },
   "source": [
    "there are also a ton of great open-source libraries for just about any purpose you might imagine. Again, the ones I use most often:\n",
    "\n",
    "+ `flask` - a `python` web framework (for standing up webpages)\n",
    "+ `ipython` - the best interactive shell, it just makes the normal python program look silly\n",
    "+ `jupyter` - the interactive extension of the above (`ipython`, this is what is used to make this bodacious document you see before you)\n",
    "+ `lxml` - a fast and flexible XML / HTML library\n",
    "+ `matplotlib` - a plotting library that is super useful but will make `R` users dream of their former glory\n",
    "+ `nltk` - Natural Language Tool Kit, a library for language processing and text analytics\n",
    "+ `numpy` - NUMerical PYthon, a lot of super duper array and linear algebra glue code to make C and FORTRAN routines available in `python`.\n",
    "+ `pandas` - PANel DAta, a dataframe interface for feature data. This is the main data science library in `python` and, again, I use it in almost every single program\n",
    "+ `plotly` - an amazing plotting library"
   ]
  },
  {
   "cell_type": "markdown",
   "metadata": {
    "slideshow": {
     "slide_type": "subslide"
    }
   },
   "source": [
    "+ `psycopg2` - a `postgres` library\n",
    "+ `requests` - the main web GET and POST library\n",
    "+ `scipy` - SCIentific PYthon, and extension of `numpy` to include a more scientific utilities\n",
    "+ `scrapy` - a flexibile but easy web scraping framework\n",
    "+ `seaborn` - something you import whenever you use `matplotlib` to make your plots non-heinous (also has some useful functions that no one has discovered yet)\n",
    "+ `selenium` - a javascript engine library (for when `requests` isn't good enough)\n",
    "+ `sklearn` - the other half of the primary data science workflow, an all-purpose modeling library\n",
    "+ `sqlalchemy` - an ORM library for most sql databases. It's pretty flashy and when you finally need it, you'll know in your heart.\n",
    "+ `tensorflow`, `torch`, and `keras` - the three big libraries for deep learning implementations\n",
    "+ `tqdm` - a fancy-pants progress bar library. You don't need it, but you want it.\n",
    "+ `yaml` - a library for parsing the world's greatest configuration format, Yet Another Markup Language (YAML)"
   ]
  },
  {
   "cell_type": "markdown",
   "metadata": {
    "slideshow": {
     "slide_type": "subslide"
    }
   },
   "source": [
    "## installing packages\n",
    "\n",
    "So, let's take a journey together.\n",
    "\n",
    "Unlike `R`, the folks who put `python` together thought that people should care about the versions of the packages they installed. They didn't really do anything to make this happen in a sane way, though, so there were like ten different ways to install packages. \n",
    "\n",
    "If you learned `python` in the early days, you probably heard it was hard to install packages. Well, it was. Maybe it still is, depending on your attitude. That's right, I'm blaming the victim."
   ]
  },
  {
   "cell_type": "markdown",
   "metadata": {
    "slideshow": {
     "slide_type": "subslide"
    }
   },
   "source": [
    "Really, though, I'm sorry. If you're coming to `python` from `R` this probably feels silly. Why not just have an `install` function and install whatever you want? \n",
    "\n",
    "Why? Basically, because that's a bad idea for writing production-level software.\n",
    "\n",
    "production-level software is meant to be deterministic, and to be stable. Software that has the ability to install packages within the language has several disadvantages:\n",
    "\n",
    "1. avoids administrator oversight\n",
    "    1. having to ask your admin to install something is a *good* thing\n",
    "2. could install something malicious or broken without anyone knowing\n",
    "3. could install different versions on different machines at different times"
   ]
  },
  {
   "cell_type": "markdown",
   "metadata": {
    "slideshow": {
     "slide_type": "subslide"
    }
   },
   "source": [
    "Basically, the versions of all your packages matter, so you should care about that stuff. The `python` community is pretty stickly about that and has gone to great lengths (and, like, 15 different methods) to try and solve that problem. And today, that means that everyone is doing one of the following (and then some):\n",
    "\n",
    "+ using `pip` (\"Pip Installs Python\", and yes, recursive acronyms are annoying)\n",
    "+ using `pip`, but in a virtual environment\n",
    "+ using `conda` (virtual environments on steroids or amphetamines, depending on whether you're a data scientist or sysad (resp))\n",
    "\n",
    "I advocate using `conda` for many reasons -- more on this in the next lecture"
   ]
  },
  {
   "cell_type": "markdown",
   "metadata": {
    "slideshow": {
     "slide_type": "slide"
    }
   },
   "source": [
    "# actually writing and executing `python` code"
   ]
  },
  {
   "cell_type": "markdown",
   "metadata": {
    "slideshow": {
     "slide_type": "slide"
    }
   },
   "source": [
    "## interactive shells: `ipython` and `jupyter notebook`"
   ]
  },
  {
   "cell_type": "markdown",
   "metadata": {
    "slideshow": {
     "slide_type": "subslide"
    }
   },
   "source": [
    "the default `python` command opens a vanilla `python` shell, where you can execute any of the `python` commands your heart disires. that being said, the experience is obviously lacking the bells and whistles of any modern code development or execution environment.\n",
    "\n",
    "for your personal use, `IPython` (interactive `python` shell) and `jupyter notebook`s are as close as it comes to a *must install* package as there is.\n",
    "\n",
    "I personally think of `ipython` as being the primary means of developing software, and `jupyter` as being almost exclusively for exploratory documents and presentations, but you should do whatever works for you!"
   ]
  },
  {
   "cell_type": "markdown",
   "metadata": {
    "slideshow": {
     "slide_type": "subslide"
    }
   },
   "source": [
    "the documents and slideshows we've been using as lecture notes this whole time were created with `jupyter`, and I believe you used them extensively in 510. if it is still new to you, though, `jupyter` is a cool `python` package which allows you to execute interpreted `python` commands in a \"notebook\" format, where commands and notes are isolated into separate \"cells\" that can be executed on demand.\n",
    "\n",
    "there are a couple of popular \"ways\" of developing `python` code, and `jupyter` notebooks are probably the most popular.\n",
    "\n",
    "I highly recommend becomming familiar with both, but particularly `jupyter`!"
   ]
  },
  {
   "cell_type": "markdown",
   "metadata": {
    "slideshow": {
     "slide_type": "subslide"
    }
   },
   "source": [
    "### what `jupyter` actually is\n",
    "\n",
    "based on my understanding of `jupyter` usage in 510, I am assuming most of you are familiar with how to *use* `jupyter notebook`s. I think it can still be helpful to know what `jupyter` actually *is*, and what it is *doing*."
   ]
  },
  {
   "cell_type": "markdown",
   "metadata": {
    "slideshow": {
     "slide_type": "subslide"
    }
   },
   "source": [
    "`jupyter` is a `python` package (we can install it!) that does a lot of different things, but the main thing it does is create a **service** (a long-running process that *listens* for requests and *responds* to them with information)"
   ]
  },
  {
   "cell_type": "code",
   "execution_count": null,
   "metadata": {
    "slideshow": {
     "slide_type": "-"
    }
   },
   "outputs": [],
   "source": [
    "%%bash\n",
    "ps -aef | grep jupyter"
   ]
  },
  {
   "cell_type": "markdown",
   "metadata": {
    "slideshow": {
     "slide_type": "subslide"
    }
   },
   "source": [
    "that long running service knows how to read specially-formatted `json` files (`.ipynb`). these files contain code snippets that `jupyter` (hopefully) knows how to run and text blocks it can render. take this file, for example:"
   ]
  },
  {
   "cell_type": "code",
   "execution_count": null,
   "metadata": {
    "slideshow": {
     "slide_type": "subslide"
    }
   },
   "outputs": [],
   "source": [
    "%%bash\n",
    "head -n100 /Users/zach.lamberty/personal/code/gu511/005_python.ipynb"
   ]
  },
  {
   "cell_type": "markdown",
   "metadata": {
    "slideshow": {
     "slide_type": "subslide"
    }
   },
   "source": [
    "finally, this process knows how to start up different processes for handling calculations in different languages (kernels)."
   ]
  },
  {
   "cell_type": "markdown",
   "metadata": {
    "slideshow": {
     "slide_type": "subslide"
    }
   },
   "source": [
    "when a **client** (your web browser) access the `jupyter notebook` **service** (via `http`), you begin a back-and-forth communication that eventually leads to you executing `python` code here in this pretty browser window.\n",
    "\n",
    "note: this client-server paradigm comes up a lot, right? because we're communicating over `http`, we should be able to run `jupyter notebook` services anywhere in the world, and connect to them from anywhere else, as long as that `http` message can travel. hm... I smell a homework exercise... "
   ]
  },
  {
   "cell_type": "markdown",
   "metadata": {
    "slideshow": {
     "slide_type": "subslide"
    }
   },
   "source": [
    "I bring up all of the above just to say: `jupyter` is complicated! you're doing a lot with not a lot of effort. good for you. as you go on and experience problems or quirks, most of them come back to this architecture. you have a central process running as someone (maybe not you), and your attempts to run `python` code are going through this filter"
   ]
  },
  {
   "cell_type": "markdown",
   "metadata": {
    "slideshow": {
     "slide_type": "subslide"
    }
   },
   "source": [
    "### code in other languages with `jupyter`\n",
    "\n",
    "you may have noticed a cell I ran up above:\n",
    "\n",
    "```python\n",
    "%%bash\n",
    "head -n100 /Users/zach.lamberty/personal/code/gu511/005_python.ipynb\n",
    "```\n",
    "\n",
    "that `%%bash` piece is `ipython` / `jupyter` specific -- it won't work in regular `python`. in this case it enables me to write code in a different language (here, `bash`), and the `jupyter` service knows how to execute. `jupyter` currently [supports many programming languages this way](https://github.com/jupyter/jupyter/wiki/Jupyter-kernels) (requires some installation)"
   ]
  },
  {
   "cell_type": "markdown",
   "metadata": {
    "slideshow": {
     "slide_type": "slide"
    }
   },
   "source": [
    "## editors and `IDE`s"
   ]
  },
  {
   "cell_type": "markdown",
   "metadata": {
    "slideshow": {
     "slide_type": "subslide"
    }
   },
   "source": [
    "there are a multitude of options for developing code in `python`, and the choice really comes down to your personal preferrences. If you've \"grown up\" coding in `RStudio`, the you probably expect a windowed environment where you can write scripts, execute blocks, visualize output, and explore objects, you are probably going to favor one of:\n",
    "\n",
    "+ [`rodeo`](https://www.yhat.com/products/rodeo)\n",
    "+ [`spyder`](https://pythonhosted.org/spyder/)"
   ]
  },
  {
   "cell_type": "markdown",
   "metadata": {
    "slideshow": {
     "slide_type": "subslide"
    }
   },
   "source": [
    "additionally, recent updates to `RStudio` itself (using the `R` `reticulate` package) [allow you to run `python` code in `RStudio`](https://blog.rstudio.com/2018/10/09/rstudio-1-2-preview-reticulated-python/)."
   ]
  },
  {
   "cell_type": "markdown",
   "metadata": {
    "slideshow": {
     "slide_type": "subslide"
    }
   },
   "source": [
    "there are a ton of good editors and I won't belabor the point. try out a bunch and see which one speaks to you. I know a lot of people who enjoy the following options:\n",
    "\n",
    "* [sublimetext](https://www.sublimetext.com/)\n",
    "* [atom](https://atom.io/)\n",
    "* [vscode](https://code.visualstudio.com/)"
   ]
  },
  {
   "cell_type": "markdown",
   "metadata": {
    "slideshow": {
     "slide_type": "subslide"
    }
   },
   "source": [
    "personally, I'm a huge fan of developing code in side-by-side terminals -- one for a regular editor and another for an `IPython` session. I have the ability copy and paste code for quick execution, but I *also* have a workflow which forces me to write real modules with callable functions I can re-import as I develop. It's a way of making sure the code I write becomes somethign I can deploy."
   ]
  },
  {
   "cell_type": "markdown",
   "metadata": {
    "slideshow": {
     "slide_type": "slide"
    }
   },
   "source": [
    "# a crash course of stuff you should know or learn!"
   ]
  },
  {
   "cell_type": "markdown",
   "metadata": {
    "slideshow": {
     "slide_type": "subslide"
    }
   },
   "source": [
    "I know that Stuart covered `python` in his course, so this may be overkill. If you're a `python` pro, bear with me -- sit back and bask in your total l33tness while we take a lightning tour of things that I think are #important.\n",
    "\n",
    "some of these topics may feel a little out of left field, but they are things I've learned that I think are essential (but not sufficient) to being a good `python` programmer"
   ]
  },
  {
   "cell_type": "markdown",
   "metadata": {
    "slideshow": {
     "slide_type": "slide"
    }
   },
   "source": [
    "## code structure and organization"
   ]
  },
  {
   "cell_type": "markdown",
   "metadata": {
    "slideshow": {
     "slide_type": "subslide"
    }
   },
   "source": [
    "+ [pep8](https://www.python.org/dev/peps/pep-0008/) was a really good idea. you should follow it\n",
    "+ keep code in files called \"someshortword.py\"\n",
    "+ there are basically two types of `py` file:\n",
    "    + modules: I can run `import thisthing` in a `python` session and nothing happens, but now I have new `python` toys\n",
    "    + scripts: I can run `python thisthing.py` from a bash shell and it *does a thing*\n",
    "    + if your file does a combination of those two, you should ask yourself why\n",
    "+ if I run `import thisthing` and *something happens*, that is almost always not a good idea"
   ]
  },
  {
   "cell_type": "markdown",
   "metadata": {
    "slideshow": {
     "slide_type": "subslide"
    }
   },
   "source": [
    "for *python files* (not `jupyter notebooks`, that is), this is \n",
    "\n",
    "a bad idea\n",
    "\n",
    "```python\n",
    "# thisthing.py\n",
    "\n",
    "import pandas as pd\n",
    "import sklearn.neural_network\n",
    "\n",
    "x = pd.read_csv('magicdata.csv')\n",
    "y = pd.read_csv('easytarget.csv')\n",
    "m = sklearn.neural_network.MLPClassifier(\n",
    "    hidden_layer_sizes=(1E999, 1E99999999999999),\n",
    "    random_state=1337\n",
    ")\n",
    "\n",
    "m.fit(x, y)\n",
    "```"
   ]
  },
  {
   "cell_type": "markdown",
   "metadata": {
    "slideshow": {
     "slide_type": "subslide"
    }
   },
   "source": [
    "a better idea\n",
    "\n",
    "```python\n",
    "# thisthing.py\n",
    "\n",
    "import pandas as pd\n",
    "import sklearn.neural_network\n",
    "\n",
    "\n",
    "def load_xy(xfile='magicdata.csv', yfile='easytarget.csv'):\n",
    "    x = pd.read_csv(xfile)\n",
    "    y = pd.read_csv(yfile)  \n",
    "    return x, y\n",
    "   \n",
    "   \n",
    "def model(x, y):\n",
    "    m = sklearn.neural_network.MLPClassifier(\n",
    "        hidden_layer_sizes=(1E999, 1E99999999999999), \n",
    "        random_state=1337\n",
    "    )\n",
    "    m.fit(x, y)\n",
    "    return m\n",
    "    \n",
    "\n",
    "def main(xfile='magicdata.csv', yfile='easytarget.csv'):\n",
    "    x, y = load_xy(xfile, yfile)\n",
    "    m = model(x, y)\n",
    "    print(m.coefs_)\n",
    "    \n",
    "\n",
    "# more on this later...\n",
    "if __name__ == '__main__':\n",
    "    main()\n",
    "```"
   ]
  },
  {
   "cell_type": "markdown",
   "metadata": {
    "slideshow": {
     "slide_type": "slide"
    }
   },
   "source": [
    "## `io` operations and file objects"
   ]
  },
  {
   "cell_type": "markdown",
   "metadata": {
    "slideshow": {
     "slide_type": "slide"
    }
   },
   "source": [
    "### reading and writing files\n",
    "\n",
    "for many people, the idea of \"opening a file\" is not any different than saying \"here's a file path, go get me all the stuff in it\". for example, at this point, I imagine most of you are familiar with something such as:\n",
    "\n",
    "```python\n",
    "import pandas as pd\n",
    "\n",
    "df = pd.read_csv('/path/to/my/precious/data.csv')\n",
    "```\n",
    "\n",
    "I have a file name, I open it with a function, what else is there?"
   ]
  },
  {
   "cell_type": "markdown",
   "metadata": {
    "slideshow": {
     "slide_type": "slide"
    }
   },
   "source": [
    "there are actually many different things you might want to do with a file:\n",
    "\n",
    "1. read the contents into a single `str` because that's what some other library requries\n",
    "1. replace or remove all of the occurrences of a word\n",
    "1. load the first 100 lines only\n",
    "1. search through a file to find out what line a particular string is on\n",
    "1. count all occurrences of a given word\n",
    "1. replace certain characters for easier NLP processing\n",
    "\n",
    "now, you could just load an entire file to a string object or `pandas` data frame, make your changes, and write it out. that's fine until you get to a file that is several GBs."
   ]
  },
  {
   "cell_type": "markdown",
   "metadata": {
    "slideshow": {
     "slide_type": "subslide"
    }
   },
   "source": [
    "most of the things I mentioned above that you might want to do involve *iterating* through a file one character or line at a time. this is the fundamental way that `python` handles files.\n",
    "\n",
    "`python` interacts with the file system through a concept called a \"file object,\" which you can basically think of as a cursor pointing to a memory address at a certain point within a file. given where this cursor is currently, the file object could read the next character, the next word, the next line (etc). it could write new contents to the file."
   ]
  },
  {
   "cell_type": "markdown",
   "metadata": {
    "slideshow": {
     "slide_type": "subslide"
    }
   },
   "source": [
    "[about 1 million steps under the hood](https://github.com/pandas-dev/pandas/blob/master/pandas/io/common.py#L417-L430), `pd.read_csv` is doing this for you (thanks, `pandas`!), making that `str` path usable.\n",
    "\n",
    "other libraries -- important ones! -- don't take care of you that way.\n",
    "\n",
    "1. `pickle` (builtin serialization library) works on file objects\n",
    "1. `json` and `yaml`, libraries for parsing two of the most common configuration formats, work on file objects\n",
    "1. several parsing libraries (`lxml`, `nltk`) require string inputs or file pointers, so `read_csv` and the like are out\n",
    "\n",
    "all I mean to say is: **you will use file objects!**. it's good to know what they are, even at a high level"
   ]
  },
  {
   "cell_type": "markdown",
   "metadata": {
    "slideshow": {
     "slide_type": "subslide"
    }
   },
   "source": [
    "let's look at how you use a file object on a low level. if you don't follow right now, don't worry -- you *generally* won't have to do this, but you do very often have to create a file object and pass it to some other function that does, so it's helpful to know more"
   ]
  },
  {
   "cell_type": "markdown",
   "metadata": {
    "slideshow": {
     "slide_type": "subslide"
    }
   },
   "source": [
    "the main function for interacting with files is the `open` function. "
   ]
  },
  {
   "cell_type": "code",
   "execution_count": null,
   "metadata": {},
   "outputs": [],
   "source": [
    "help(open)"
   ]
  },
  {
   "cell_type": "code",
   "execution_count": null,
   "metadata": {
    "slideshow": {
     "slide_type": "subslide"
    }
   },
   "outputs": [],
   "source": [
    "f = open('/tmp/testfile.txt', 'w')\n",
    "\n",
    "f.write('hello')"
   ]
  },
  {
   "cell_type": "code",
   "execution_count": null,
   "metadata": {},
   "outputs": [],
   "source": [
    "%%bash\n",
    "less /tmp/testfile.txt"
   ]
  },
  {
   "cell_type": "markdown",
   "metadata": {
    "slideshow": {
     "slide_type": "subslide"
    }
   },
   "source": [
    "hm... nothing?"
   ]
  },
  {
   "cell_type": "code",
   "execution_count": null,
   "metadata": {},
   "outputs": [],
   "source": [
    "# this saves the writing we've done\n",
    "f.flush()"
   ]
  },
  {
   "cell_type": "code",
   "execution_count": null,
   "metadata": {},
   "outputs": [],
   "source": [
    "%%bash\n",
    "less /tmp/testfile.txt"
   ]
  },
  {
   "cell_type": "code",
   "execution_count": null,
   "metadata": {
    "slideshow": {
     "slide_type": "subslide"
    }
   },
   "outputs": [],
   "source": [
    "f.write('world')\n",
    "f.flush()"
   ]
  },
  {
   "cell_type": "code",
   "execution_count": null,
   "metadata": {},
   "outputs": [],
   "source": [
    "%%bash\n",
    "less /tmp/testfile.txt"
   ]
  },
  {
   "cell_type": "markdown",
   "metadata": {},
   "source": [
    "yep -- you even have to write the new line characters:"
   ]
  },
  {
   "cell_type": "code",
   "execution_count": null,
   "metadata": {
    "slideshow": {
     "slide_type": "subslide"
    }
   },
   "outputs": [],
   "source": [
    "f.write('\\n')\n",
    "f.write('hello\\n')\n",
    "f.write('world')\n",
    "f.flush()"
   ]
  },
  {
   "cell_type": "code",
   "execution_count": null,
   "metadata": {},
   "outputs": [],
   "source": [
    "%%bash\n",
    "less /tmp/testfile.txt"
   ]
  },
  {
   "cell_type": "markdown",
   "metadata": {
    "slideshow": {
     "slide_type": "subslide"
    }
   },
   "source": [
    "note: you *have to close* file objects!"
   ]
  },
  {
   "cell_type": "code",
   "execution_count": null,
   "metadata": {},
   "outputs": [],
   "source": [
    "f.close()"
   ]
  },
  {
   "cell_type": "markdown",
   "metadata": {},
   "source": [
    "and clean up..."
   ]
  },
  {
   "cell_type": "code",
   "execution_count": null,
   "metadata": {},
   "outputs": [],
   "source": [
    "%%bash\n",
    "rm /tmp/testfile.txt"
   ]
  },
  {
   "cell_type": "markdown",
   "metadata": {
    "slideshow": {
     "slide_type": "subslide"
    }
   },
   "source": [
    "so, this may feel a little low-level and annoying, and also overkill for some of our purposes. well, it is. people much smarter and better at programming at `python` did us a solid by writing us a bunch of libraries to handle the reading and writing of data.\n",
    "\n",
    "that being said, *it is super common* that a function wants to take a *file object* and not a name of a file. so you should get used to the idea that you might have to take the extra step of using the `open` function to create a file object from a file name."
   ]
  },
  {
   "cell_type": "markdown",
   "metadata": {
    "slideshow": {
     "slide_type": "subslide"
    }
   },
   "source": [
    "### context managers and the `with` statement\n",
    "\n",
    "so what was the deal with\n",
    "\n",
    "```python\n",
    "with open(filename, 'r') as f:\n",
    "    # blah blah\n",
    "```"
   ]
  },
  {
   "cell_type": "markdown",
   "metadata": {
    "slideshow": {
     "slide_type": "subslide"
    }
   },
   "source": [
    "remember how I said that you *absolutely have to close file objects*?\n",
    "\n",
    "note how I'm not doing that here?"
   ]
  },
  {
   "cell_type": "markdown",
   "metadata": {
    "slideshow": {
     "slide_type": "subslide"
    }
   },
   "source": [
    "a [*context manager*](https://docs.python.org/3.6/reference/datamodel.html#context-managers) is a syntactical construct (way of writing the code) such that\n",
    "\n",
    "1. you create and rename some object\n",
    "    1. the results of `open(filename, 'r')` are called `f`\n",
    "2. you \"enter\" a context\n",
    "    1. internally, the context object has an `__enter__` method which \"does something\"\n",
    "        1. the file object is created\n",
    "        2. a database connection is initialized\n",
    "3. after you've done all the code in the indented block, you \"exit\" the context\n",
    "    1. the context object has an `__exit__` method which \"cleans up\"\n",
    "        1. the file object is closed\n",
    "        2. the database cursor is executed, all transactions are wrapped up, and the database connection is closed"
   ]
  },
  {
   "cell_type": "markdown",
   "metadata": {
    "slideshow": {
     "slide_type": "subslide"
    }
   },
   "source": [
    "recommendation: *never* open a file with\n",
    "\n",
    "```python\n",
    "# bad way -- very bad, no! bad!\n",
    "f = open(filename, 'r')\n",
    "\n",
    "# do stuff\n",
    "\n",
    "f.close()\n",
    "```\n",
    "\n",
    "but *always* use context managers\n",
    "\n",
    "```python\n",
    "# yaaaaaaaaaaaaaaaaaaaaaaaaaaaaaaaaaaaaaaaaaaaaaaa!\n",
    "with open(filename, 'r') as f:\n",
    "    # do stuff\n",
    "```"
   ]
  },
  {
   "cell_type": "markdown",
   "metadata": {
    "slideshow": {
     "slide_type": "subslide"
    }
   },
   "source": [
    "this way you will *never forget* and if the context object (here, a file object) ever gets more complex or requires more clean up *you don't have to care*, and not having to care is the very heart of good programming."
   ]
  },
  {
   "cell_type": "markdown",
   "metadata": {
    "slideshow": {
     "slide_type": "subslide"
    }
   },
   "source": [
    "### `os`\n",
    "\n",
    "the `os` module has, basically, one goal: handle all the stuff that is different between different operating systems for you. \n",
    "\n",
    "the best example of this is file paths. suppose I want to create a file three directories below the current location: how do I write that path?\n",
    "\n",
    "```sh\n",
    "# in windows:\n",
    "subdir1\\subdir2\\subdir3\\myfile.txt\n",
    "\n",
    "# in linux:\n",
    "subdir1/subdir2/subdir3/myfile.txt\n",
    "```\n",
    "\n",
    "it'd be sad if such a dumb difference broke our script"
   ]
  },
  {
   "cell_type": "markdown",
   "metadata": {
    "slideshow": {
     "slide_type": "subslide"
    }
   },
   "source": [
    "in steps the `os` module:"
   ]
  },
  {
   "cell_type": "code",
   "execution_count": null,
   "metadata": {},
   "outputs": [],
   "source": [
    "import os\n",
    "os.path.join('subdir1', 'subdir2', 'subdir3', 'myfile.txt')"
   ]
  },
  {
   "cell_type": "markdown",
   "metadata": {},
   "source": [
    "my recommendation: never write a path in `python` again, ever, for any reason. always use `os.path`"
   ]
  },
  {
   "cell_type": "markdown",
   "metadata": {
    "slideshow": {
     "slide_type": "subslide"
    }
   },
   "source": [
    "the way that `os` joins those directories together is by using the `os.sep` character"
   ]
  },
  {
   "cell_type": "code",
   "execution_count": null,
   "metadata": {},
   "outputs": [],
   "source": [
    "os.sep"
   ]
  },
  {
   "cell_type": "markdown",
   "metadata": {
    "slideshow": {
     "slide_type": "-"
    }
   },
   "source": [
    "note that if we want to create a path relative to the root directory, then, we could do the following:"
   ]
  },
  {
   "cell_type": "code",
   "execution_count": null,
   "metadata": {},
   "outputs": [],
   "source": [
    "os.path.join(os.sep, 'tmp', 'myfile.txt')"
   ]
  },
  {
   "cell_type": "markdown",
   "metadata": {
    "slideshow": {
     "slide_type": "subslide"
    }
   },
   "source": [
    "another very useful part of the `os` module is the `environ` dictionary object, which is an OS-agnostic way of loading all of the environment variables:"
   ]
  },
  {
   "cell_type": "code",
   "execution_count": null,
   "metadata": {
    "scrolled": true
   },
   "outputs": [],
   "source": [
    "os.environ"
   ]
  },
  {
   "cell_type": "markdown",
   "metadata": {},
   "source": [
    "note: this is a `python` dictionary-like object:"
   ]
  },
  {
   "cell_type": "code",
   "execution_count": null,
   "metadata": {},
   "outputs": [],
   "source": [
    "os.environ['PWD']"
   ]
  },
  {
   "cell_type": "markdown",
   "metadata": {
    "slideshow": {
     "slide_type": "subslide"
    }
   },
   "source": [
    "there are a ton of other goodies in the `os` module, but you'll learn them in due time."
   ]
  },
  {
   "cell_type": "markdown",
   "metadata": {
    "slideshow": {
     "slide_type": "notes"
    }
   },
   "source": [
    "*in the interest of time, I'm going to comment out the `csv` section for lectures. if you're reading at home, this package is super useful, but it's less important than many of the others and I'd rather be sure to get to them than to cover this package*"
   ]
  },
  {
   "cell_type": "markdown",
   "metadata": {
    "slideshow": {
     "slide_type": "notes"
    }
   },
   "source": [
    "### `csv`\n",
    "\n",
    "before `pandas` dataframes, there were lists of dictionaries:\n",
    "\n",
    "```python\n",
    "[\n",
    "    {'col0': val00, 'col1': val10, 'col2': val20},\n",
    "    {'col0': val01, 'col1': val11, 'col2': val21},\n",
    "    {'col0': val02, 'col1': val12, 'col2': val22},\n",
    "    {'col0': val03, 'col1': val13, 'col2': val23},\n",
    "]\n",
    "```\n",
    "\n",
    "this is one `pythonic` way of representing a csv file: records as dictionaries, and key-value pairs corresponding to header field names and values."
   ]
  },
  {
   "cell_type": "markdown",
   "metadata": {
    "slideshow": {
     "slide_type": "notes"
    }
   },
   "source": [
    "the `csv` module (and specifically the `csv.DictReader` and `csv.DictWriter` objects) allow us to read and write csv files into this data structure"
   ]
  },
  {
   "cell_type": "code",
   "execution_count": null,
   "metadata": {
    "slideshow": {
     "slide_type": "notes"
    }
   },
   "outputs": [],
   "source": [
    "import csv\n",
    "\n",
    "x = [\n",
    "    {'a': 1, 'b': 2, 'c': 3},\n",
    "    {'a': 100, 'b': 200, 'c': 300},\n",
    "]\n",
    "\n",
    "# I'll explain what this \"with\" thing is later\n",
    "with open(os.path.join(os.sep, 'tmp', 'myfile.csv'), 'w') as f:\n",
    "    c = csv.DictWriter(f, fieldnames=['a', 'b', 'c'])\n",
    "    c.writeheader()\n",
    "    c.writerows(x)"
   ]
  },
  {
   "cell_type": "code",
   "execution_count": null,
   "metadata": {
    "slideshow": {
     "slide_type": "notes"
    }
   },
   "outputs": [],
   "source": [
    "%%bash\n",
    "less /tmp/myfile.csv"
   ]
  },
  {
   "cell_type": "markdown",
   "metadata": {
    "slideshow": {
     "slide_type": "notes"
    }
   },
   "source": [
    "and now we could read it (or any csv) in:"
   ]
  },
  {
   "cell_type": "code",
   "execution_count": null,
   "metadata": {
    "slideshow": {
     "slide_type": "notes"
    }
   },
   "outputs": [],
   "source": [
    "# I'll explain what this \"with\" thing is later\n",
    "with open(os.path.join(os.sep, 'tmp', 'myfile.csv'), 'r') as f:\n",
    "    c = csv.DictReader(f)\n",
    "    # note: c is just a special file object; you still need to iterate\n",
    "    # through it all to get all the records!\n",
    "    x = list(c)\n",
    "    \n",
    "x"
   ]
  },
  {
   "cell_type": "markdown",
   "metadata": {
    "slideshow": {
     "slide_type": "notes"
    }
   },
   "source": [
    "an `OrderedDict` is a special class (from the `collections` module) which is simply a dictionary where the order of the keys is remembered"
   ]
  },
  {
   "cell_type": "markdown",
   "metadata": {
    "slideshow": {
     "slide_type": "notes"
    }
   },
   "source": [
    "##### why should you ever do this?\n",
    "\n",
    "generally speaking, you will probably want to read `csv` files in with `numpy`, `scipy`, or `pandas`. however, it is possible you might be in an environment where those are not made available to you.\n",
    "\n",
    "first, ask yourself why you are acting as a data scientist but not allowed to use actual data scientist tools. then, remember that the answer *does* exist in the standard library, and see what you can figure out."
   ]
  },
  {
   "cell_type": "markdown",
   "metadata": {
    "slideshow": {
     "slide_type": "slide"
    }
   },
   "source": [
    "## string formatting\n",
    "\n",
    "you should read [this entire format string syntax page](https://docs.python.org/3.6/library/string.html#formatstrings).\n",
    "\n",
    "the basic gist of it, though, is that there is that every string object `s` in python has a member function\n",
    "\n",
    "```python\n",
    "s.format(...)\n",
    "```\n",
    "\n",
    "and this can be used to replace elements within the string that are coded within `{}` characters. There is a large and highly flexible mini-language for doing this. for example"
   ]
  },
  {
   "cell_type": "code",
   "execution_count": null,
   "metadata": {
    "slideshow": {
     "slide_type": "subslide"
    }
   },
   "outputs": [],
   "source": [
    "myname = 'zach'\n",
    "print('hello {}, how are you today'.format(myname))\n",
    "\n",
    "me = {\n",
    "    'name': 'zach',\n",
    "    'mood': 'groovy',\n",
    "}\n",
    "print('{name:} is feeling {mood:} today'.format(**me))\n",
    "\n",
    "s = ' my title '\n",
    "print('{:-^100}'.format(s))"
   ]
  },
  {
   "cell_type": "markdown",
   "metadata": {
    "slideshow": {
     "slide_type": "subslide"
    }
   },
   "source": [
    "**<div align=\"center\">mini exercise: write \"hello world\" to file</div>**\n",
    "\n",
    "1. create a \"hello world\" function that\n",
    "    1. takes a person's name as its first variable\n",
    "    2. creates a string to write to file using string formatting expressions and the variable name \n",
    "    3. open a file `/tmp/test.txt` using the `with` context manager construct\n",
    "    4. write that string to file\n",
    "    5. in bash, print the results of that code to screen"
   ]
  },
  {
   "cell_type": "code",
   "execution_count": null,
   "metadata": {},
   "outputs": [],
   "source": [
    "os.path.join(os.sep, 'tmp', 'test.txt')"
   ]
  },
  {
   "cell_type": "code",
   "execution_count": null,
   "metadata": {
    "slideshow": {
     "slide_type": "subslide"
    }
   },
   "outputs": [],
   "source": [
    "import os\n",
    "\n",
    "def hello_world(name):\n",
    "    s = 'hello {}, how are you today?'.format(name)\n",
    "    filename = os.path.join(os.sep, 'tmp', 'test.txt')\n",
    "    with open(filename, 'w') as f:\n",
    "        f.write(s)\n",
    "    \n",
    "hello_world('caitlin')"
   ]
  },
  {
   "cell_type": "code",
   "execution_count": null,
   "metadata": {},
   "outputs": [],
   "source": [
    "%%bash\n",
    "cat /tmp/test.txt"
   ]
  },
  {
   "cell_type": "markdown",
   "metadata": {
    "slideshow": {
     "slide_type": "slide"
    }
   },
   "source": [
    "## `pandas`\n",
    "\n",
    "`pandas` is *the* data science data farme library. in the latter parts of this course we will be using `pandas` and `scikit-learn` to do some of our analyses, so I'll push the learning of `pandas` off until then. Just know that you should learn `pandas`.\n",
    "\n",
    "In many ways, `pandas` is a second programming language. because it sits part-way between python (where there is one and only one way to do things, iteration is a first-order principle) and `R` (where everything is vectorized there is a paradigm shift relative to the `R` community: whereas the `R` community is focused on making the language easy and intuitive for the user, the `pandas` community defaults more toward the development community. this will make the learning curve particularly steep for most."
   ]
  },
  {
   "cell_type": "code",
   "execution_count": null,
   "metadata": {
    "slideshow": {
     "slide_type": "subslide"
    }
   },
   "outputs": [],
   "source": [
    "import pandas as pd\n",
    "\n",
    "df = pd.read_csv(\n",
    "    'https://archive.ics.uci.edu/ml/machine-learning-databases/iris/iris.data',\n",
    "    names=['sepal_length', 'sepal_width', 'petal_length', 'petal_width', 'class']\n",
    ")\n",
    "\n",
    "df.head()"
   ]
  },
  {
   "cell_type": "code",
   "execution_count": null,
   "metadata": {},
   "outputs": [],
   "source": [
    "df.describe()"
   ]
  },
  {
   "cell_type": "code",
   "execution_count": null,
   "metadata": {
    "slideshow": {
     "slide_type": "subslide"
    }
   },
   "outputs": [],
   "source": [
    "df.groupby('class').mean()"
   ]
  },
  {
   "cell_type": "markdown",
   "metadata": {
    "collapsed": true,
    "slideshow": {
     "slide_type": "slide"
    }
   },
   "source": [
    "## plotting\n",
    "\n",
    "okay, okay, I hear you: \"but all I want to do is plot\"\n",
    "\n",
    "one common knock against `python` is that it makes plotting so much harder than `R`, and that is absolutely a valid complaint. That being said, I don't think it is *quite* as bad as people like to make it out to be"
   ]
  },
  {
   "cell_type": "markdown",
   "metadata": {
    "slideshow": {
     "slide_type": "subslide"
    }
   },
   "source": [
    "### `matplotlib`\n",
    "\n",
    "this is the primary plotting workhorse in the `python` world, and also the source of much of the angst. the name comes from the fact that this package was actually built as an attempted replacement plotting library for *matlab* transfers.\n",
    "\n",
    "rather than dive into a whole tutorial about `matplotlib`, let me just offer a few pieces of advice:\n",
    "\n",
    "1. begin any notebook in which you plan to plot with `%matplotlib inline` or `%matplotlib notebook`\n",
    "2. favor the object oriented method (*e.g.* `f, ax = matplotlib.pyplot.subplots(); ax.plot(x, y)`) over the \"interactive\" `pyplot` method (*e.g.* `matplotlib.pyplot.plot(x, y)`).\n",
    "3. import `seaborn` first; it will configure almost all of the defaults for you\n",
    "4. you're probably using `pandas`, so lean on the `pandas` plotting builtins"
   ]
  },
  {
   "cell_type": "code",
   "execution_count": null,
   "metadata": {
    "slideshow": {
     "slide_type": "subslide"
    }
   },
   "outputs": [],
   "source": [
    "%matplotlib inline\n",
    "\n",
    "import random\n",
    "import matplotlib.pyplot as plt\n",
    "\n",
    "x = [random.gauss(0, 1) for i in range(1000)]\n",
    "y = [random.gauss(0, 1) for i in range(1000)]\n",
    "\n",
    "f, ax = plt.subplots()\n",
    "ax.plot(x, y, linestyle='', marker='o')"
   ]
  },
  {
   "cell_type": "markdown",
   "metadata": {
    "slideshow": {
     "slide_type": "subslide"
    }
   },
   "source": [
    "### `matplotlib` with `pandas`\n",
    "\n",
    "the good folks behind `pandas` decided to build support for `matplotlib` plotting directly into their dataframe object interface, so often times you are best off calling a dataframe's `plot` method:"
   ]
  },
  {
   "cell_type": "code",
   "execution_count": null,
   "metadata": {},
   "outputs": [],
   "source": [
    "df = pd.DataFrame({'x': x, 'y': y})\n",
    "df.head()"
   ]
  },
  {
   "cell_type": "code",
   "execution_count": null,
   "metadata": {
    "slideshow": {
     "slide_type": "subslide"
    }
   },
   "outputs": [],
   "source": [
    "df.plot.scatter('x', 'y')"
   ]
  },
  {
   "cell_type": "markdown",
   "metadata": {
    "slideshow": {
     "slide_type": "subslide"
    }
   },
   "source": [
    "### `seaborn`\n",
    "\n",
    "think of `seaborn` as a sort of conceptual gradient boost to `matplotlib` -- it was created to handle some of the rough edges for the statistical community, and makes first-class some familiar `R` plotting concepts such as\n",
    "\n",
    "1. easy distribution and kde plots\n",
    "2. panel plotting\n",
    "3. plot types\n",
    "    1. violin plots, box and whisker plots, swarmplots\n",
    "4. plotting features\n",
    "    1. jitter, nicer default color schemes\n",
    "5. several statistically familiar datasets"
   ]
  },
  {
   "cell_type": "markdown",
   "metadata": {
    "slideshow": {
     "slide_type": "subslide"
    }
   },
   "source": [
    "if you do nothing else to make your plots better, I recommend starting every notebook with\n",
    "\n",
    "```python\n",
    "import seaborn as sns\n",
    "sns.set()\n",
    "```"
   ]
  },
  {
   "cell_type": "code",
   "execution_count": null,
   "metadata": {},
   "outputs": [],
   "source": [
    "import seaborn as sns\n",
    "sns.set()"
   ]
  },
  {
   "cell_type": "code",
   "execution_count": null,
   "metadata": {
    "slideshow": {
     "slide_type": "subslide"
    }
   },
   "outputs": [],
   "source": [
    "sns.jointplot('x', 'y', data=df)"
   ]
  },
  {
   "cell_type": "code",
   "execution_count": null,
   "metadata": {
    "slideshow": {
     "slide_type": "subslide"
    }
   },
   "outputs": [],
   "source": [
    "sns.jointplot('x', 'y', data=df, kind='kde')"
   ]
  },
  {
   "cell_type": "code",
   "execution_count": null,
   "metadata": {
    "slideshow": {
     "slide_type": "subslide"
    }
   },
   "outputs": [],
   "source": [
    "iris = sns.load_dataset('iris')\n",
    "sns.pairplot(iris)"
   ]
  },
  {
   "cell_type": "markdown",
   "metadata": {
    "slideshow": {
     "slide_type": "subslide"
    }
   },
   "source": [
    "### `plotly`\n",
    "\n",
    "finally, I strongly urge you to check out `plotly`. it has come a long way since the early days (in which it was a fundamental requirement that you post your plots to a public website -- a total non-starter for work with sensitive or proprietary information, for example). it is based on a language-independent graphical object model, and as a result not only is the process of *creating* graphs nearly identical from `R` to `python` to `matlab` to `julia` to (you get it), but converting from one language to another is actually built in to the package itself.\n",
    "\n",
    "plus, it's a `d3` based `javascript`-first library, so it often has some of the cool web bells and whistles before most of the others do (really, before any of them do in `python`)"
   ]
  },
  {
   "cell_type": "code",
   "execution_count": null,
   "metadata": {
    "slideshow": {
     "slide_type": "subslide"
    }
   },
   "outputs": [],
   "source": [
    "import plotly\n",
    "import plotly.graph_objs as go\n",
    "import plotly.offline\n",
    "\n",
    "plotly.offline.init_notebook_mode(connected=True)"
   ]
  },
  {
   "cell_type": "code",
   "execution_count": null,
   "metadata": {},
   "outputs": [],
   "source": [
    "data = [\n",
    "    go.Scatter(\n",
    "        x=df.x,\n",
    "        y=df.y,\n",
    "        mode='markers'\n",
    "    )\n",
    "]\n",
    "\n",
    "plotly.offline.iplot(data)"
   ]
  },
  {
   "cell_type": "markdown",
   "metadata": {
    "slideshow": {
     "slide_type": "slide"
    }
   },
   "source": [
    "## iteration\n",
    "\n",
    "one of the first-order concepts in `python` is that things which are collections should be *iterable* -- you should be able to move through them in order using a \n",
    "\n",
    "```python\n",
    "for item in collection:\n",
    "    # do a thing...\n",
    "```\n",
    "\n",
    "construct. basically, any time a thing *can* be iteratable, it *should* be iterable."
   ]
  },
  {
   "cell_type": "markdown",
   "metadata": {
    "slideshow": {
     "slide_type": "subslide"
    }
   },
   "source": [
    "these constructs are so important that the community has developed a standard library called [`itertools`](https://docs.python.org/3/library/itertools.html) to support some complex iteration steps. Among many other things, this will allow you to:"
   ]
  },
  {
   "cell_type": "code",
   "execution_count": null,
   "metadata": {
    "slideshow": {
     "slide_type": "subslide"
    }
   },
   "outputs": [],
   "source": [
    "import itertools\n",
    "\n",
    "# iterate through products of different lists\n",
    "# think \"nested for loops\"\n",
    "alist = [0, 1, 2]\n",
    "blist = 'abc'\n",
    "\n",
    "for (a, b) in itertools.product(alist, blist):\n",
    "    print(a, b)"
   ]
  },
  {
   "cell_type": "code",
   "execution_count": null,
   "metadata": {
    "slideshow": {
     "slide_type": "subslide"
    }
   },
   "outputs": [],
   "source": [
    "# do all combinations with or without replacement\n",
    "for (a0, a1) in itertools.combinations(alist, 2):\n",
    "    print(a0, a1)\n",
    "    \n",
    "print()\n",
    "\n",
    "for (a0, a1) in itertools.combinations_with_replacement(alist, 2):\n",
    "    print(a0, a1)"
   ]
  },
  {
   "cell_type": "code",
   "execution_count": null,
   "metadata": {},
   "outputs": [],
   "source": [
    "# zip together lists with repetition from a shorter list\n",
    "alist = range(10)\n",
    "blist = 'ab'\n",
    "\n",
    "for (a, b) in zip(alist, blist):\n",
    "    print(a, b)\n",
    "    \n",
    "print()\n",
    "\n",
    "for (a, b) in zip(alist, itertools.cycle(blist)):\n",
    "    print(a, b)"
   ]
  },
  {
   "cell_type": "markdown",
   "metadata": {
    "slideshow": {
     "slide_type": "subslide"
    }
   },
   "source": [
    "### list comprehensions and generators\n",
    "\n",
    "you are no doubt familiar with the ability to create lists, sets, and dictionaries using for loops:\n",
    "\n",
    "```python\n",
    "l = []\n",
    "s = set()\n",
    "t = tuple()\n",
    "d = {}\n",
    "for i in range(10):\n",
    "    l.append(i ** 2)\n",
    "    s.add(i ** 2)\n",
    "    t += (i ** 2, )\n",
    "    d[i] = i ** 2\n",
    "```\n",
    "\n",
    "but this actually *not* the preferred way of creating collections from simple iteration. the `pythonic` way of doing that is to use *comprehensions*"
   ]
  },
  {
   "cell_type": "markdown",
   "metadata": {
    "slideshow": {
     "slide_type": "subslide"
    }
   },
   "source": [
    "a list, set, tuple, or dictionary comprehension takes the form:\n",
    "\n",
    "```python\n",
    "l = [\n",
    "    some expression\n",
    "    for elem1 in some iterable\n",
    "    [optional conditional check on elem1]\n",
    "    for elem2 in some other iterable dependent on elem1\n",
    "    [optional condtional check on elem2]\n",
    "    ...\n",
    "]\n",
    "```\n",
    "\n",
    "you can think of it as \n",
    "\n",
    "1. moving the final item which gets added to the collection to the very top\n",
    "2. keeping the `for` loop elements in order\n",
    "3. losing the \"`:`\" characters\n",
    "4. moving everything to the same indentation level"
   ]
  },
  {
   "cell_type": "code",
   "execution_count": null,
   "metadata": {
    "slideshow": {
     "slide_type": "subslide"
    }
   },
   "outputs": [],
   "source": [
    "l = []\n",
    "for i in range(10):\n",
    "    l.append(i ** 2)\n",
    "print(l)\n",
    "\n",
    "print() \n",
    "\n",
    "l = [\n",
    "    i ** 2\n",
    "    for i in range(10)\n",
    "]\n",
    "\n",
    "print(l)"
   ]
  },
  {
   "cell_type": "code",
   "execution_count": null,
   "metadata": {
    "slideshow": {
     "slide_type": "subslide"
    }
   },
   "outputs": [],
   "source": [
    "d = {}\n",
    "for i in range(10):\n",
    "    d[i] = i ** 2\n",
    "print(d)\n",
    "\n",
    "print()\n",
    "\n",
    "# note: unlike for loops, comprehension expressions don't\n",
    "# have to be on multiple lines\n",
    "d = {i: i ** 2 for i in range(10)}"
   ]
  },
  {
   "cell_type": "code",
   "execution_count": null,
   "metadata": {
    "slideshow": {
     "slide_type": "subslide"
    }
   },
   "outputs": [],
   "source": [
    "d = {}\n",
    "\n",
    "for i in range(5):\n",
    "    if i % 2 == 0:\n",
    "        for j in range(i, 5):\n",
    "            if j % 2 == 0:\n",
    "                d[i, j] = (i ** 2, j ** 3)\n",
    "print(d)\n",
    "\n",
    "print()\n",
    "\n",
    "d = {\n",
    "    (i, j): (i ** 2, j ** 3)\n",
    "    for i in range(5)\n",
    "    if i % 2 == 0\n",
    "    for j in range(i, 5)\n",
    "    if j % 2 == 0\n",
    "}\n",
    "print(d)"
   ]
  },
  {
   "cell_type": "markdown",
   "metadata": {
    "slideshow": {
     "slide_type": "subslide"
    }
   },
   "source": [
    "### generators\n",
    "\n",
    "you may have been tempted to try this for sets as well:"
   ]
  },
  {
   "cell_type": "code",
   "execution_count": null,
   "metadata": {},
   "outputs": [],
   "source": [
    "s = (i ** 2 for i in range(10))\n",
    "s\n",
    "\n",
    "# note: this is the correct way to do it for a set:\n",
    "#s = tuple(i ** 2 for i in range(10))\n",
    "#s"
   ]
  },
  {
   "cell_type": "markdown",
   "metadata": {
    "slideshow": {
     "slide_type": "subslide"
    }
   },
   "source": [
    "this is not a set comprehension but isntead a *generator*. you can think of it is a memory-optimized version of the *comprehension* construct above.\n",
    "\n",
    "in this sense, a *comprehension* take some iterables and a rule for composing them into individual values, and then builds all of the items at once and stores them in memory. a generator, on the other hand, acts more like a factory for those items. You can iterate through either, but if you use a generator you only need to hold one of those things in memory at a time."
   ]
  },
  {
   "cell_type": "code",
   "execution_count": null,
   "metadata": {},
   "outputs": [],
   "source": [
    "g = ((i ** 2) for i in range(10))"
   ]
  },
  {
   "cell_type": "code",
   "execution_count": null,
   "metadata": {},
   "outputs": [],
   "source": [
    "# keep running this cell and see what happens\n",
    "g.send(None)"
   ]
  },
  {
   "cell_type": "markdown",
   "metadata": {
    "slideshow": {
     "slide_type": "subslide"
    }
   },
   "source": [
    "each time we run the `send` method, our generator supplies us with the calculated value (from that recipe) given the next input (from that iterator)\n",
    "\n",
    "in other words, the generator object had an *internal state*, a \"current\" value of those iterated `i` values, and a recipe for converting them into an object which it would then *yield* as we called the `send` method."
   ]
  },
  {
   "cell_type": "markdown",
   "metadata": {
    "slideshow": {
     "slide_type": "subslide"
    }
   },
   "source": [
    "we can actually see that state"
   ]
  },
  {
   "cell_type": "code",
   "execution_count": null,
   "metadata": {},
   "outputs": [],
   "source": [
    "g = ((i ** 2) for i in range(10))"
   ]
  },
  {
   "cell_type": "code",
   "execution_count": null,
   "metadata": {},
   "outputs": [],
   "source": [
    "# keep running the cell and see what happens\n",
    "print(g.send(None))\n",
    "g.gi_frame.f_locals"
   ]
  },
  {
   "cell_type": "markdown",
   "metadata": {
    "slideshow": {
     "slide_type": "subslide"
    }
   },
   "source": [
    "of course, you normally wouldn't just create a generator and call `send` on it, you would use the normal iterator `for` loop construct:"
   ]
  },
  {
   "cell_type": "code",
   "execution_count": null,
   "metadata": {},
   "outputs": [],
   "source": [
    "g = (i ** 2 for i in range(10))\n",
    "for i2 in g:\n",
    "    print(i2)"
   ]
  },
  {
   "cell_type": "markdown",
   "metadata": {
    "slideshow": {
     "slide_type": "subslide"
    }
   },
   "source": [
    "## that `__main__` thing\n",
    "\n",
    "at the very beginning I wrote a \"better idea\" version of a module file, and it ended with this block:\n",
    "\n",
    "```python\n",
    "if __name__ == '__main__':\n",
    "    main()\n",
    "```\n",
    "\n",
    "can some one explain what is happening with that block?"
   ]
  },
  {
   "cell_type": "markdown",
   "metadata": {
    "slideshow": {
     "slide_type": "subslide"
    }
   },
   "source": [
    "as I said above, there are two types of `python` files: modules that provide functions for doing things, and scripts that acutally do things. \n",
    "\n",
    "modules all have a \"name\" member variable which is accessible via\n",
    "\n",
    "```python\n",
    "mymodule.__name__\n",
    "```\n",
    "\n",
    "(pronounced \"mymodule dunder name\").\n",
    "\n",
    "for example:"
   ]
  },
  {
   "cell_type": "code",
   "execution_count": null,
   "metadata": {},
   "outputs": [],
   "source": [
    "import os\n",
    "os.__name__"
   ]
  },
  {
   "cell_type": "code",
   "execution_count": null,
   "metadata": {},
   "outputs": [],
   "source": [
    "import logging.config\n",
    "logging.config.__name__"
   ]
  },
  {
   "cell_type": "markdown",
   "metadata": {
    "slideshow": {
     "slide_type": "subslide"
    }
   },
   "source": [
    "the `__name__` variable value can be hard-coded to be something special within the source code of the module, but by default it is the same as the module name as it gets imported. so, if you wrote a `python` file `thisthing.py`, without making any change at all you would find that\n",
    "\n",
    "```python\n",
    "import thisthing\n",
    "thisthing.__name__\n",
    "```\n",
    "\n",
    "would print the string \n",
    "\n",
    "```\n",
    "'thisthing'\n",
    "```"
   ]
  },
  {
   "cell_type": "markdown",
   "metadata": {
    "slideshow": {
     "slide_type": "subslide"
    }
   },
   "source": [
    "what's going on here is roughly the following:\n",
    "\n",
    "1. the `python` interpreter sees that you want to `import thisthing`\n",
    "2. it creates a \"namespace\" for `thisthing`\n",
    "    1. a \"namespace\" is a segmented place where the contents of the `thisthing` can be put\n",
    "        1. helps avoid naming conflicts\n",
    "        2. is basically a big dictionary with \"names\" and the compiled objects they point to (like functions, values)\n",
    "    2. a special variable `__name__` is created inside the `thisthing` module with a value `\"thisthing\"`\n",
    "    3. all of the functions and values in `thisthing.py` are then executed and loaded into the `thisthing` namespace\n",
    "    4. within the scope of `thisthing.py`, it is known that the \"name\" of their namespace is `thisthing`\n",
    "3. all of the items in the `thisthing` module are then made available as `thisthing.SOME_ITEM`"
   ]
  },
  {
   "cell_type": "markdown",
   "metadata": {},
   "source": [
    "so when the compiler goes to `import os`, it creates a namespace `'os'`, it creates a `__name__` value within that namespace, and it loads everything in `os`.\n",
    "\n",
    "the end result is that there is now an object called `__name__` within the namespace `os`, aka\n",
    "\n",
    "```python\n",
    "os.__name__\n",
    "```"
   ]
  },
  {
   "cell_type": "markdown",
   "metadata": {
    "slideshow": {
     "slide_type": "subslide"
    }
   },
   "source": [
    "there is one special name that doesn't correspond to a module -- that is the \"script environment\":"
   ]
  },
  {
   "cell_type": "code",
   "execution_count": null,
   "metadata": {},
   "outputs": [],
   "source": [
    "__name__"
   ]
  },
  {
   "cell_type": "markdown",
   "metadata": {
    "slideshow": {
     "slide_type": "subslide"
    }
   },
   "source": [
    "why the compiler starts for the first time, it's basically doing that some process without a module to `import`. it creates a *global* namespace, where everything the names of things are not prepended with anything. the `__name__` value is set to `__main__`"
   ]
  },
  {
   "cell_type": "markdown",
   "metadata": {
    "slideshow": {
     "slide_type": "subslide"
    }
   },
   "source": [
    "#### why does this matter, though?\n",
    "\n",
    "so, given those two facts:\n",
    "\n",
    "1. a general module, when `import`ed, will result in a module object with a `__name__` member variable equal to the string with which it was `import`ed: `thisthing.__name__`\n",
    "2. the value of `__name__` in the global scope with value `__main__`\n",
    "\n",
    "what does it mean to have a block\n",
    "\n",
    "```python\n",
    "# a bunch of code\n",
    "# ...\n",
    "# ...\n",
    "# ...\n",
    "\n",
    "if __name__ == \"__main__\":\n",
    "    do_a_thing()\n",
    "```\n",
    "\n",
    "??"
   ]
  },
  {
   "cell_type": "markdown",
   "metadata": {
    "slideshow": {
     "slide_type": "slide"
    }
   },
   "source": [
    "***<div align=\"center\">YESSSSSSSSSSSSSSSSSSSSSSSSSSSSSSSSSSSSSSSSS</div>***\n",
    "<div align=\"center\"><img src=\"http://ih0.redbubble.net/image.13413141.8561/flat,550x550,075,f.u3.jpg\"></div>\n",
    "\n",
    "# END OF LECTURE\n",
    "\n",
    "next lecture: [environment management pt. 1: anaconda](006_environments_1_anaconda.ipynb)"
   ]
  }
 ],
 "metadata": {
  "celltoolbar": "Slideshow",
  "kernelspec": {
   "display_name": "Python 3",
   "language": "python",
   "name": "python3"
  },
  "language_info": {
   "codemirror_mode": {
    "name": "ipython",
    "version": 3
   },
   "file_extension": ".py",
   "mimetype": "text/x-python",
   "name": "python",
   "nbconvert_exporter": "python",
   "pygments_lexer": "ipython3",
   "version": "3.6.6"
  }
 },
 "nbformat": 4,
 "nbformat_minor": 2
}
