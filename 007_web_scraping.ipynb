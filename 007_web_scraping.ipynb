{
 "cells": [
  {
   "cell_type": "markdown",
   "metadata": {
    "slideshow": {
     "slide_type": "slide"
    }
   },
   "source": [
    "# web scraping"
   ]
  },
  {
   "cell_type": "markdown",
   "metadata": {
    "slideshow": {
     "slide_type": "slide"
    }
   },
   "source": [
    "let's talk about the internet. specifically, how people communicate using the internet. super specifically, how you can get data and request that \"things\" be done for you using the internet.\n",
    "\n",
    "this is by no means an exhaustive summary. there are 7.2 bajillion articles about web scraping and they're probably all better. [especially the Mozilla ones](https://developer.mozilla.org/en-US/). also, people always freak out about how bad the W3 pages are (and they are), but they're still (in my opinion) a good beginner's resource. so dont' be afraid to try them out, but be aware that there are some problems."
   ]
  },
  {
   "cell_type": "markdown",
   "metadata": {
    "slideshow": {
     "slide_type": "subslide"
    }
   },
   "source": [
    "the only thing that is special about this one is that I wrote it and you've been duped into reading it.\n",
    "\n",
    "so enjoy!"
   ]
  },
  {
   "cell_type": "markdown",
   "metadata": {
    "slideshow": {
     "slide_type": "subslide"
    }
   },
   "source": [
    "## `http`, `request`s and `response`s\n",
    "\n",
    "the basic problem here is that some one out there in the ol' interwebs has put up a pretty page with some data we want, and we need to go get it.\n",
    "\n",
    "we are trying to make our computer yell at their computer and send us that neat data. so we need to figure out how to yell in a way that makes their computer happy."
   ]
  },
  {
   "cell_type": "markdown",
   "metadata": {
    "slideshow": {
     "slide_type": "subslide"
    }
   },
   "source": [
    "note that we've already done some internet based communication using different protocols: we've yelled from one computer to another via `ssh`. we've used programs like `ssh`, `scp`, and `putty` to manage this yelling. we're going to do the same thing, but with a new **protocol** -- a new yelling language. \n",
    "\n",
    "our computers all yell at eachother in a language called `http` -- you have perhaps heard of it."
   ]
  },
  {
   "cell_type": "markdown",
   "metadata": {
    "slideshow": {
     "slide_type": "subslide"
    }
   },
   "source": [
    "### `request`s\n",
    "\n",
    "[there are a ton of details about how to yell](https://developer.mozilla.org/en-US/docs/Web/HTTP), what's appropriate and what isn't, etc. but the basic idea is that you make a block of text like the below and then send it over the internet to the other server\n",
    "\n",
    "<br><div align=\"center\"><img src=\"https://mdn.mozillademos.org/files/13821/HTTP_Request_Headers2.png\" width=\"700px\"></div>"
   ]
  },
  {
   "cell_type": "markdown",
   "metadata": {},
   "source": [
    "these messages basically contain 3 pieces:\n",
    "\n",
    "+ the start line (above, `POST / HTTP/1.1`)\n",
    "+ the `headers`\n",
    "    + metadata about the request. things like where it is coming from, the type of browser requesting it, what sorts of format that `request`-ing agent understands (e.g. `html`, `json`)\n",
    "+ the `body`\n",
    "    + a generic space for the `request`er to add any content (text) that might be meaningful to the server on the other end of that `request`"
   ]
  },
  {
   "cell_type": "markdown",
   "metadata": {
    "slideshow": {
     "slide_type": "subslide"
    }
   },
   "source": [
    "right now, let's zero in on the first line (called the \"start line\"):\n",
    "\n",
    "```\n",
    "POST / HTTP/1.1\n",
    "```\n",
    "\n",
    "this has three pieces:\n",
    "\n",
    "1. the [`request` `method`](https://developer.mozilla.org/en-US/docs/Web/HTTP/Methods) (here, `POST`)\n",
    "1. a url to which this message should be sent (here, `/`, but it will usually be a full fledged public `url`)\n",
    "1. the `http` protocol version (here, `HTTP/1.1`)\n",
    "\n",
    "let's zero in on that first element -- the `method`"
   ]
  },
  {
   "cell_type": "markdown",
   "metadata": {
    "slideshow": {
     "slide_type": "subslide"
    }
   },
   "source": [
    "there are several different types of yells (`request` `method`s) which \"you\" (the client) can make to \"them\" (the `http` server):\n",
    "\n",
    "+ `GET` -- you want to get a thing and they should give it to you\n",
    "+ `POST` -- you want to send them a thing and they should at least write you a thank you card; if they want to give you something back that's cool but it's not expected (but it's polite, so, that's basically the same as expectation, but with all sorts of passive aggressiveness tacked on)"
   ]
  },
  {
   "cell_type": "markdown",
   "metadata": {
    "slideshow": {
     "slide_type": "subslide"
    }
   },
   "source": [
    "+ `HEAD` -- you want to get a thing but you would prefer it if they just told you about the thing first, like sent you a picture of it or told you how big it was. You may still want to get it at some point but you're just testing the water. it's a fun, no commitment thing -- why rush in?\n",
    "+ `PUT` -- a really pushy `POST` request, basically they tell us they have a cool painting and we say OUR PAINTING HERE IS BETTER FORGET YOURS"
   ]
  },
  {
   "cell_type": "markdown",
   "metadata": {
    "slideshow": {
     "slide_type": "subslide"
    }
   },
   "source": [
    "+ `DELETE` -- actually that painting was dumb. you were right. our bad\n",
    "+ `CONNECT`, `OPTIONS`, `TRACE`, `PATCH` -- stuff your parents yell to their friends but no one really does any more outside of really formal settings"
   ]
  },
  {
   "cell_type": "markdown",
   "metadata": {
    "slideshow": {
     "slide_type": "subslide"
    }
   },
   "source": [
    "all of these have their time and place and the web wouldn't work without them.\n",
    "\n",
    "that being said, you generally only need `GET` and `POST` messages."
   ]
  },
  {
   "cell_type": "markdown",
   "metadata": {
    "slideshow": {
     "slide_type": "subslide"
    }
   },
   "source": [
    "### `response`s\n",
    "\n",
    "suppose you found some server out on the internet and you decided to compose a `GET` message like the one above and send it to that computer (using its `ip` address). that server spins its wheels determining what it wants to say and then sends you back a `response` -- something *similar* to a `request`, but with simple, important differences:\n",
    "\n",
    "<br><div align=\"center\"><img src=\"https://mdn.mozillademos.org/files/13823/HTTP_Response_Headers2.png\" width=\"700px\"></div>"
   ]
  },
  {
   "cell_type": "markdown",
   "metadata": {
    "slideshow": {
     "slide_type": "subslide"
    }
   },
   "source": [
    "these messages basically contain 3 pieces:\n",
    "\n",
    "+ the start line (above, `HTTP/1.1 200 OK`)\n",
    "+ the `headers`\n",
    "    + metadata about the `response`. things like where it is coming from, the format of the material it is sending back (if anything), `cookie` values (cached, computed values for future use)\n",
    "+ the `body`\n",
    "    + a generic space for the server to put the content that was `request`ed"
   ]
  },
  {
   "cell_type": "markdown",
   "metadata": {
    "slideshow": {
     "slide_type": "subslide"
    }
   },
   "source": [
    "right now, let's zero in on the first line (called the \"start line\"):\n",
    "\n",
    "```\n",
    "HTTP/1.1 200 OK\n",
    "```\n",
    "\n",
    "1. the `http` protocol version (here, `HTTP/1.1`)\n",
    "1. the [`http` status code](https://developer.mozilla.org/en-US/docs/Web/HTTP/Status) (here, `200`)\n",
    "    + 100s: information responses (rare in web scraping)\n",
    "    + 200s: success! (what we want)\n",
    "    + 300s: redirection (go look *here* instead)\n",
    "    + 400s: **client** error (*you* did something wrong)\n",
    "    + 500s: **server** error (you did everything right but the server borked)\n",
    "1. a short summary of the response (here, `OK`)"
   ]
  },
  {
   "cell_type": "markdown",
   "metadata": {
    "slideshow": {
     "slide_type": "subslide"
    }
   },
   "source": [
    "## what's in the `body`\n",
    "\n",
    "so, suppose you got your computer to yell at their computer and everyone's on the same page.\n",
    "\n",
    "you say HEY CAN I `GET` OR WHAT and the server sends a `response`. the body is:"
   ]
  },
  {
   "cell_type": "markdown",
   "metadata": {
    "slideshow": {
     "slide_type": "subslide"
    }
   },
   "source": [
    "```\n",
    "01100101 01100001 01110011 01110100 01100101 01110010 00100000 01100101 \n",
    "01100111 01100111 01110011 00100000 01100001 01110010 01100101 00100000 \n",
    "01100111 01110010 01100101 01100001 01110100 00100000 01001001 00100000 \n",
    "01101100 01101111 01110110 01100101 00100000 01100101 01100001 01110011 \n",
    "01110100 01100101 01110010 00100000 01100101 01100111 01100111 01110011 \n",
    "00101110 00100000 01110011 01100011 01110010 01100001 01101101 01100010 \n",
    "01101100 01100101 01100100 00101100 00100000 01101111 01110110 01100101 \n",
    "01110010 00100000 01100101 01100001 01110011 01111001 00101100 00100000 \n",
    "01100100 01101111 01101110 00100111 01110100 00100000 01100101 01110110 \n",
    "01100101 01101110 00100000 01100011 01100001 01110010 01100101 00101110 \n",
    "00100000 01110011 01100101 01110010 01101001 01101111 01110101 01110011 \n",
    "01101100 01111001 00100000 01110100 01100001 01110011 01110100 01111001 \n",
    "00101110\n",
    "```\n",
    "\n",
    "<!--a href=\"http://www.rapidtables.com/convert/number/binary-to-ascii.htm\">funtimes<a/ -->"
   ]
  },
  {
   "cell_type": "markdown",
   "metadata": {
    "slideshow": {
     "slide_type": "subslide"
    }
   },
   "source": [
    "not cool."
   ]
  },
  {
   "cell_type": "markdown",
   "metadata": {
    "slideshow": {
     "slide_type": "subslide"
    }
   },
   "source": [
    "there's nothing that says the `body` will come in any particular format, but there are some very common formats. in particular: `html`/`xml` and `json`"
   ]
  },
  {
   "cell_type": "markdown",
   "metadata": {
    "slideshow": {
     "slide_type": "slide"
    }
   },
   "source": [
    "### `html` and `xml`\n",
    "\n",
    "okay so things are actually a *little* cool, it looks like many of the other computers out there speak [HyperText Markup Language](https://developer.mozilla.org/en-US/docs/Web/HTML). So at least they're trying.\n",
    "\n",
    "`html` is a special amalgam of xml-like tag structures that is the language which is used by your browser to render webpages."
   ]
  },
  {
   "cell_type": "markdown",
   "metadata": {
    "slideshow": {
     "slide_type": "subslide"
    }
   },
   "source": [
    "check out [this example page with simple `html`](http://www.columbia.edu/~fdc/sample.html).\n",
    "\n",
    "specifically, open it in your browser and then right click and select \"view source.\" you can do that on any webpage."
   ]
  },
  {
   "cell_type": "markdown",
   "metadata": {
    "slideshow": {
     "slide_type": "subslide"
    }
   },
   "source": [
    "of course, you usually will have more luck using the \"developers tools\" than just viewing source\n",
    "\n",
    "+ in google chrome, right click > \"Inspect\"\n",
    "+ in firefox, right click > \"Inspect Element\"\n",
    "+ in explorer or edge, press F12\n",
    "+ in safari, go to www.google.com, search for, and then download something else."
   ]
  },
  {
   "cell_type": "markdown",
   "metadata": {
    "slideshow": {
     "slide_type": "subslide"
    }
   },
   "source": [
    "so suppose you sent a `GET` request to [that simple `url` from above](http://www.columbia.edu/~fdc/sample.html) and received something (I've added indentations) that looked like:\n",
    "\n",
    "```html\n",
    "<!DOCTYPE HTML PUBLIC \"-//W3C//DTD HTML 4.01 Transitional//EN\">\n",
    "<html>\n",
    "  <head>\n",
    "    <!-- THIS IS A COMMENT -->\n",
    "    <title>Sample Web Page</title>\n",
    "    <META http-equiv=\"Content-Type\" content=\"text/html; charset=iso-8859-1\"/>\n",
    "  </head>\n",
    "  <body bgcolor=\"#ffffff\" text=\"#000000\">\n",
    "    <h2>Sample Web Page</h2>\n",
    "    <!-- How to insert an image -->\n",
    "    <img src=\"picture-of-something.jpg\" alt=\"Brief description\" width=\"100%\"><br>\n",
    "    <small><i>A random photo, maximize your browser to enlarge.</i></small>\n",
    "    <p>\n",
    "        <a href=\"http://www.columbia.edu/~fdc/\">Frank da Cruz</a><br>\n",
    "        ...\n",
    "```"
   ]
  },
  {
   "cell_type": "markdown",
   "metadata": {
    "slideshow": {
     "slide_type": "subslide"
    }
   },
   "source": [
    "##### EXTREMELY brief `xml` refresher\n",
    "\n",
    "<br><div align=\"center\"><img src=\"https://i1.wp.com/img.c4learn.com/2012/05/What-is-an-XML-ELement1.png\" width=\"600px\"><br><p>picture from <a href=\"https://premaseem.wordpress.com/2015/01/25/xml-elements-vs-attributes/\">this blog post</a></p></div>"
   ]
  },
  {
   "cell_type": "markdown",
   "metadata": {
    "slideshow": {
     "slide_type": "subslide"
    }
   },
   "source": [
    "we will learn two ways of parsing `html` for *elements* of data we wish to obtain: `xpath` and `css` selectors"
   ]
  },
  {
   "cell_type": "markdown",
   "metadata": {
    "slideshow": {
     "slide_type": "subslide"
    }
   },
   "source": [
    "#### searching `html` with `xpath`\n",
    "\n",
    "[`xpath`](https://msdn.microsoft.com/en-us/library/ms256086) is a query language for `xml` documents. Given that `html` is effectively a refined subset of `xml`, it's a natural fit for parsing `html` documents.\n",
    "\n",
    "it's a bit older than an alternative selecting language option (`css`) (time-tested in years, but perhaps not in projects or eyeballs) and has a broader use case (all of `xml`) and can do some things `css` selectors cannot. **however**, it has a steeper learning curve and is less commonly used in the `web`-scraping community.\n",
    "\n",
    "by analogy, `xpath` is to `css` selectors what `C` or `C++` are to `python`"
   ]
  },
  {
   "cell_type": "markdown",
   "metadata": {
    "slideshow": {
     "slide_type": "subslide"
    }
   },
   "source": [
    "that being said, it's by far my favorite of the two, and almost always my go-to. this is probably only because I learned it first, which is a terrible way to make a decision.\n",
    "\n",
    "so keep that in mind as I intentionally make you learn it first, too."
   ]
  },
  {
   "cell_type": "markdown",
   "metadata": {
    "slideshow": {
     "slide_type": "subslide"
    }
   },
   "source": [
    "in many respects, `xpath` is similar to describing paths of files on a linux file system. let's learn via this analogy.\n",
    "\n",
    "suppose that you know that somewhere several levels deep inside your root directory there is a folder called `important_files` and that it has a file in it where the extension is `.txt` and you want to list information about it.\n",
    "\n",
    "if you knew the *exact path*, you could use the `ls` command:\n",
    "\n",
    "```\n",
    "ls /path/to/directory/important_files/my_file.txt\n",
    "```"
   ]
  },
  {
   "cell_type": "markdown",
   "metadata": {
    "slideshow": {
     "slide_type": "subslide"
    }
   },
   "source": [
    "if you *don't* know the *exact path*, though, maybe you could use some wildcard / `glob` expressions to find it. for example, you could use the find tool:\n",
    "\n",
    "```bash\n",
    "find . -ipath \"*important_files/*.txt\"\n",
    "\n",
    "# real example:\n",
    "find ~/miniconda3 -ipath \"*/pkgs/*.yaml\"\n",
    "```"
   ]
  },
  {
   "cell_type": "markdown",
   "metadata": {
    "slideshow": {
     "slide_type": "subslide"
    }
   },
   "source": [
    "this example is a little convoluted. typically you don't suddenly have an instinct that there are `yaml` files you need and they are all under the `pkgs` directory; rather, you identify the files you need and you build as generic a `glob` expression as you can to search for only those, e.g.:\n",
    "\n",
    "> all the files I want end in `.yaml`, but that's too broad -- I want only those that had `pkgs` as one of the ancestor directories"
   ]
  },
  {
   "cell_type": "markdown",
   "metadata": {
    "slideshow": {
     "slide_type": "subslide"
    }
   },
   "source": [
    "`xpath` is similar. take the example below, and suppose we wanted to \"select\" the `ul` item. \n",
    "\n",
    "you know things about the hierarchy of a document (it's a list item `ul`) and the attributes (attribute `class` has value `zachs_list`)\n",
    "\n",
    "```html\n",
    "<body>\n",
    "    <div>\n",
    "        <ul class=\"zachs_list\">\n",
    "            <li>hello</li>\n",
    "            <li>world</li>\n",
    "        </ul>\n",
    "    </div>\n",
    "</body>\n",
    "```"
   ]
  },
  {
   "cell_type": "markdown",
   "metadata": {
    "slideshow": {
     "slide_type": "subslide"
    }
   },
   "source": [
    "we can specify the *exact path*:\n",
    "\n",
    "```\n",
    "path = /body/div/ul\n",
    "```\n",
    "\n",
    "```html\n",
    "<body>\n",
    "    <div>\n",
    "        <ul class=\"zachs_list\">\n",
    "            <li>hello</li>\n",
    "            <li>world</li>\n",
    "        </ul>\n",
    "    </div>\n",
    "</body>\n",
    "```"
   ]
  },
  {
   "cell_type": "markdown",
   "metadata": {
    "slideshow": {
     "slide_type": "subslide"
    }
   },
   "source": [
    "it's also possible to discuss *relative paths*. suppose we want to describe `ul` *relative* to `div`:\n",
    "\n",
    "```\n",
    "path = ./ul\n",
    "```\n",
    "\n",
    "```html\n",
    "<body>\n",
    "    <div>\n",
    "        <ul class=\"zachs_list\">\n",
    "            <li>hello</li>\n",
    "            <li>world</li>\n",
    "        </ul>\n",
    "    </div>\n",
    "</body>\n",
    "```"
   ]
  },
  {
   "cell_type": "markdown",
   "metadata": {
    "slideshow": {
     "slide_type": "subslide"
    }
   },
   "source": [
    "we can also represent unknown elements along some longer hierarchy (similar to our `*` in our patterns in the file path examples above. we do this in `xpath` by writing two consecutive `/` characters. suppose we want to find any `ul` element under the `root` (top of the document) with any intermediate elements:\n",
    "\n",
    "```\n",
    "path = //ul\n",
    "```\n",
    "\n",
    "```html\n",
    "<body>\n",
    "    <div>\n",
    "        <ul class=\"zachs_list\">\n",
    "            <li>hello</li>\n",
    "            <li>world</li>\n",
    "        </ul>\n",
    "    </div>\n",
    "</body>\n",
    "```"
   ]
  },
  {
   "cell_type": "markdown",
   "metadata": {
    "slideshow": {
     "slide_type": "subslide"
    }
   },
   "source": [
    "finally, it's possible to select elements using their attributes (those items inside the `<>` characters such as `class`, `id`, *etc.*).\n",
    "\n",
    "you specify these elements using the following notation:\n",
    "\n",
    "```\n",
    "/path/to/element[@attr=\"attr_value\"]\n",
    "```"
   ]
  },
  {
   "cell_type": "markdown",
   "metadata": {
    "slideshow": {
     "slide_type": "subslide"
    }
   },
   "source": [
    "for example, we could find all `ul` elements with `class` value of `zachs_list` via the path:\n",
    "\n",
    "```\n",
    "path = //ul[@class=\"zachs_list\"]\n",
    "```\n",
    "\n",
    "```html\n",
    "<body>\n",
    "    <div>\n",
    "        <ul class=\"zachs_list\">\n",
    "            <li>hello</li>\n",
    "            <li>world</li>\n",
    "        </ul>\n",
    "    </div>\n",
    "</body>\n",
    "```"
   ]
  },
  {
   "cell_type": "markdown",
   "metadata": {
    "slideshow": {
     "slide_type": "subslide"
    }
   },
   "source": [
    "**<div align=\"center\">mini-exercise: create some `xpath` expressions</div>**\n",
    "\n",
    "given the source `html` from this webpage: https://anaconda.org/anaconda/repo, develop some `xpath` expressions to select the values in the \"Package Name\" column.\n",
    "\n",
    "*hint: in \"inspect\" mode, you can find an \"element selector\" button that will allow you to click on the visible element and it will isolate that piece in the source code*"
   ]
  },
  {
   "cell_type": "markdown",
   "metadata": {
    "slideshow": {
     "slide_type": "subslide"
    }
   },
   "source": [
    "here are some reasonable options:\n",
    "\n",
    "1. absolute: `/html/body/div/div/div/div/div/div/div/div/div/table/tbody/tr/td/a/span`\n",
    "2. at any depth (over-inclusive): `//a/span`\n",
    "3. using attributes: `//span[@class=\"packageName\"]`"
   ]
  },
  {
   "cell_type": "markdown",
   "metadata": {
    "slideshow": {
     "slide_type": "subslide"
    }
   },
   "source": [
    "one final note on \"narrowing down\" the number of items which will match a given `xpath` expression: there are two very common attributes in `html` documents, and because they serve different purposes in `html` and `css`, they can be pretty useful in selecting items:\n",
    "\n",
    "1. `class`: this attribute marks that an element is \"in a class with\" other elements, so it often defines elements which are conceptually related. This is particularly common for groups of things that are specially formatted (e.g. our \"Package Name\" elements, which are all green links\n",
    "2. `id`: this is a *globally unique* attribute, so if we want to get one and only one element (*e.g.* `<table class=\"full-width\" id=\"repo-packages-table\">`) this is a guaranteed way to do so"
   ]
  },
  {
   "cell_type": "markdown",
   "metadata": {
    "slideshow": {
     "slide_type": "subslide"
    }
   },
   "source": [
    "#### searching `html` with `css`\n",
    "\n",
    "Cascading Style Sheets (*aka* [`css`](https://developer.mozilla.org/en-US/docs/Web/CSS)) is a language for describing how a browser should format and style the `html` documents it renders."
   ]
  },
  {
   "cell_type": "markdown",
   "metadata": {
    "slideshow": {
     "slide_type": "subslide"
    }
   },
   "source": [
    "`css` files are not a pre-requisite for creating a webpage (styling can be done directly in `html` docs), but websites that *don't* utilize `css`(or some more advanced variant) are few and far between."
   ]
  },
  {
   "cell_type": "markdown",
   "metadata": {
    "slideshow": {
     "slide_type": "subslide"
    }
   },
   "source": [
    "If you want an example of `css`, you can again refer to the \"Inspect\" screen / \"developers tools.\" \n",
    "\n",
    "+ The entire right panel is dedicated to `css` and `javascript` properties of the highlighted `html` document elements.\n",
    "+ the `Sources` tab of the Inspect window has a lot of files, but all the delivered `css` files are there\n",
    "+ check out the `css` file for [the Elder Research landing page](http://www.elderresearch.com/): [source is here](http://www.elderresearch.com/hs-fs/hub/2176909/hub_generated/template_assets/1491831211917/custom/page/css/vast-style.min.css), but that's not that useful, is it?  "
   ]
  },
  {
   "cell_type": "markdown",
   "metadata": {
    "slideshow": {
     "slide_type": "subslide"
    }
   },
   "source": [
    "why does this matter?\n",
    "\n",
    "developers are already using `css` to find and style \"things like this\" in `html` documents. we can do the same! if we want to find elements that look like\n",
    "\n",
    "```html\n",
    "<ul class=\"zachs_list\">\n",
    "```\n",
    "\n",
    "we can use `css` selector shorthand:\n",
    "\n",
    "```css\n",
    "ul.zachs_list\n",
    "```"
   ]
  },
  {
   "cell_type": "markdown",
   "metadata": {
    "slideshow": {
     "slide_type": "subslide"
    }
   },
   "source": [
    "`css` is a remarkably flexible way of specifying elements within a hierarchy and [this MDN tutorial](https://developer.mozilla.org/en-US/docs/Learn/CSS/Introduction_to_CSS/Selectors) is an excellent intro. there are a few rules that are most important to know:\n",
    "\n",
    "+ you don't *have* to provide the element tag\n",
    "+ `class` values are selected with the `.` character (e.g. `.class_name`)\n",
    "+ `id` values are selected with the `#` character (e.g. `#id_name`)\n",
    "+ a basic element in a selector is a combo of the `html` tag elements (e.g. `div`, `p`, `li`) and/or the above (e.g. `div.class1`)"
   ]
  },
  {
   "cell_type": "markdown",
   "metadata": {
    "slideshow": {
     "slide_type": "subslide"
    }
   },
   "source": [
    "+ the basic elements can be combined in several ways\n",
    "    + a comma between elements (e.g. `div, p`) will select any element of either the first or second type\n",
    "    + a space (e.g. `div p`) will select any second element underneath the first\n",
    "    + a `>` (e.g. `div > p`) will select any second element which is a direct child of the first\n",
    "    + a `+` (e.g. `div + p`) will select any second element which is an immediate sibling of the first \n",
    "    + a `~` (e.g. `div ~ p`) will select any second element which is any sibling of the first"
   ]
  },
  {
   "cell_type": "markdown",
   "metadata": {
    "slideshow": {
     "slide_type": "subslide"
    }
   },
   "source": [
    "+ attributes can be selected via\n",
    "    + `[attr]`: any element which has a given attribute\n",
    "    + `[attr=val]`: any element which has the given attribute with the given value\n",
    "    + several other options performing logical test on the values"
   ]
  },
  {
   "cell_type": "markdown",
   "metadata": {},
   "source": [
    "#### examples of each of the above"
   ]
  },
  {
   "cell_type": "markdown",
   "metadata": {
    "slideshow": {
     "slide_type": "subslide"
    }
   },
   "source": [
    "a comma between elements will select any element of either the first or second type\n",
    "\n",
    "selector:\n",
    "```css\n",
    "ul, li\n",
    "```\n",
    "\n",
    "matches:\n",
    "```html\n",
    "<body>\n",
    "    <div>\n",
    "        <ul class=\"zachs_list\">  <!-- selected -->\n",
    "            <li>hello</li>       <!-- selected -->\n",
    "            <li>world</li>       <!-- selected -->\n",
    "        </ul>\n",
    "    </div>\n",
    "</body>\n",
    "```"
   ]
  },
  {
   "cell_type": "markdown",
   "metadata": {
    "slideshow": {
     "slide_type": "subslide"
    }
   },
   "source": [
    "a space between elements will select any element of the *second* type which is a descendent of the *first* at *any* depth\n",
    "\n",
    "selector\n",
    "```css\n",
    "div li\n",
    "```\n",
    "\n",
    "matches\n",
    "```html\n",
    "<body>\n",
    "    <div>                        <!-- not selected, but looking under here -->\n",
    "        <ul class=\"zachs_list\">\n",
    "            <li>hello</li>       <!-- selected -->\n",
    "            <li>world</li>       <!-- selected -->\n",
    "        </ul>\n",
    "    </div>\n",
    "</body>\n",
    "```"
   ]
  },
  {
   "cell_type": "markdown",
   "metadata": {
    "slideshow": {
     "slide_type": "subslide"
    }
   },
   "source": [
    "a `>` between two elements will select any element of the *second* type which is a *direct child* of an element of the *first* type\n",
    "\n",
    "selector\n",
    "```css\n",
    "ul > li\n",
    "```\n",
    "\n",
    "matches\n",
    "```html\n",
    "<body>\n",
    "    <div>\n",
    "        <ul class=\"zachs_list\">\n",
    "            <li>hello</li>       <!-- selected -->\n",
    "            <li>world</li>       <!-- selected -->\n",
    "        </ul>\n",
    "    </div>\n",
    "</body>\n",
    "```"
   ]
  },
  {
   "cell_type": "markdown",
   "metadata": {
    "slideshow": {
     "slide_type": "subslide"
    }
   },
   "source": [
    "note that the `>` selector statement is pickier than the corresponding space (` `). `div li` worked above, but `div > li` does not work\n",
    "\n",
    "selector\n",
    "```css\n",
    "div > li\n",
    "```\n",
    "\n",
    "matches\n",
    "```html\n",
    "<body>\n",
    "    <div>                        <!-- not selected, but looking under here -->\n",
    "        <ul class=\"zachs_list\">  \n",
    "            <li>hello</li>       <!-- not selected, not a direct child! -->\n",
    "            <li>world</li>       <!-- not selected, not a direct child! -->\n",
    "        </ul>\n",
    "    </div>\n",
    "</body>\n",
    "```"
   ]
  },
  {
   "cell_type": "markdown",
   "metadata": {
    "slideshow": {
     "slide_type": "subslide"
    }
   },
   "source": [
    "a `+` between two elements will select any element of the *second* type which is an *immediately-following sibling* of an element of the *first* type\n",
    "\n",
    "selector\n",
    "```css\n",
    "li + li\n",
    "```\n",
    "\n",
    "matches\n",
    "```html\n",
    "<body>\n",
    "    <div>\n",
    "        <ul class=\"zachs_list\">\n",
    "            <li>hello</li>       <!-- not selected, but element of first type -->\n",
    "            <li>world</li>       <!-- selected, immediate sibling -->\n",
    "            <li>for fun</li>     <!-- not selected, not an *immediate* sibling -->\n",
    "        </ul>\n",
    "    </div>\n",
    "</body>\n",
    "```"
   ]
  },
  {
   "cell_type": "markdown",
   "metadata": {
    "slideshow": {
     "slide_type": "subslide"
    }
   },
   "source": [
    "a `~` between two elements will select any element of the *second* type which is *any following sibling* of an element of the first type\n",
    "\n",
    "selector\n",
    "```css\n",
    "ul ~ li\n",
    "```\n",
    "\n",
    "matches\n",
    "```html\n",
    "<body>\n",
    "    <div>\n",
    "        <ul class=\"zachs_list\">\n",
    "            <li>hello</li>       <!-- not selected, not a *following* sibling -->\n",
    "            <li>world</li>       <!-- selected -->\n",
    "        </ul>\n",
    "        <ul class=\"zachs_second_list\">\n",
    "            <li>world</li>       <!-- not selected, not a *following* sibling -->\n",
    "        </ul>\n",
    "    </div>\n",
    "</body>\n",
    "```"
   ]
  },
  {
   "cell_type": "markdown",
   "metadata": {
    "slideshow": {
     "slide_type": "subslide"
    }
   },
   "source": [
    "writing an attribute name within brackets (e.g. `[attr]`) or a tag element plus that string (e.g. `div[attr]`) will select any element which has that tag (if provided) and has that attribute (regardless of value)\n",
    "\n",
    "selector\n",
    "```css\n",
    "ul[myattr]\n",
    "```\n",
    "\n",
    "matches\n",
    "```html\n",
    "<body>\n",
    "    <div>\n",
    "        <ul class=\"zachs_list\">\n",
    "            <li myattr=\"myval\">hello</li>  <!-- selected -->\n",
    "            <li>world</li>\n",
    "        </ul>\n",
    "    </div>\n",
    "</body>\n",
    "```"
   ]
  },
  {
   "cell_type": "markdown",
   "metadata": {
    "slideshow": {
     "slide_type": "subslide"
    }
   },
   "source": [
    "and without specifying that it must be a `ul` element:\n",
    "\n",
    "selector\n",
    "```css\n",
    "/* note: no leading element! */\n",
    "[myattr]\n",
    "```\n",
    "\n",
    "matches\n",
    "```html\n",
    "<body>\n",
    "    <div>\n",
    "        <ul class=\"zachs_list\">\n",
    "            <li myattr=\"myval\">hello</li>    <!-- selected -->\n",
    "            <li>world</li>\n",
    "        </ul>\n",
    "    </div>\n",
    "    <p myattr=\"myval\">example paragraph</p>  <!-- selected -->\n",
    "</body>\n",
    "```"
   ]
  },
  {
   "cell_type": "markdown",
   "metadata": {
    "slideshow": {
     "slide_type": "subslide"
    }
   },
   "source": [
    "note that the this selector doesn't care if the *attribute* has anything for a *value*:\n",
    "\n",
    "selector\n",
    "```css\n",
    "/* note: no leading element! */\n",
    "[myattr]\n",
    "```\n",
    "\n",
    "matches\n",
    "```html\n",
    "<body>\n",
    "    <div>\n",
    "        <ul class=\"zachs_list\">\n",
    "            <li myattr>hello</li>             <!-- selected, even without a value -->\n",
    "            <li>world</li>\n",
    "        </ul>\n",
    "    </div>\n",
    "    <p myattr=\"myval\"> example paragraph</p>  <!-- selected -->\n",
    "</body>\n",
    "```"
   ]
  },
  {
   "cell_type": "markdown",
   "metadata": {
    "slideshow": {
     "slide_type": "subslide"
    }
   },
   "source": [
    "finally, you can also specify that in addition to *having* an attribute that attribute has a specific value (`[attr=val]`). the same rules re: including or not including the tabs apply\n",
    "\n",
    "selector\n",
    "```css\n",
    "li[myattr=\"myval\"]\n",
    "```\n",
    "\n",
    "matches\n",
    "```html\n",
    "<body>\n",
    "    <div>\n",
    "        <ul class=\"zachs_list\">\n",
    "            <li myattr=\"myval\">hello</li>  <!-- selected -->\n",
    "            <li>world</li>\n",
    "        </ul>\n",
    "    </div>\n",
    "</body>\n",
    "```"
   ]
  },
  {
   "cell_type": "markdown",
   "metadata": {
    "slideshow": {
     "slide_type": "subslide"
    }
   },
   "source": [
    "and an example in which the tag is not provided but only one element has a matching attribute value\n",
    "\n",
    "selector\n",
    "```css\n",
    "[myattr=\"myval\"]\n",
    "```\n",
    "\n",
    "matches\n",
    "```html\n",
    "<body>\n",
    "    <div>\n",
    "        <ul class=\"zachs_list\">\n",
    "            <li myattr>hello</li>             <!-- not selected, no value -->\n",
    "            <li>world</li>\n",
    "        </ul>\n",
    "    </div>\n",
    "    <p myattr=\"myval\"> example paragraph</p>  <!-- selected -->\n",
    "    <p myattr=\"blurb\"> example paragraph</p>  <!-- not selected, wrong value -->\n",
    "</body>\n",
    "```"
   ]
  },
  {
   "cell_type": "markdown",
   "metadata": {
    "slideshow": {
     "slide_type": "subslide"
    }
   },
   "source": [
    "### a quick diversion: installing selector gadget\n",
    "\n",
    "generally speaking, it never *hurts* to check out the source code when building an `xpath` expression or a `css` selector expression. but there's a pretty great tool for cutting short, if you're interested..."
   ]
  },
  {
   "cell_type": "markdown",
   "metadata": {
    "slideshow": {
     "slide_type": "subslide"
    }
   },
   "source": [
    "**<div align=\"center\">mini-exercise: install selector gadget</div>**\n",
    "\n",
    "go find the browser extension [selector gadget](http://selectorgadget.com/) and install it.\n",
    "\n",
    "note: this is optional. if you don't like cluttering your browser I get it and you can just follow along"
   ]
  },
  {
   "cell_type": "markdown",
   "metadata": {
    "slideshow": {
     "slide_type": "subslide"
    }
   },
   "source": [
    "up above we built an `xpath` expression to find the \"Package Name\" element in the table at (https://anaconda.org/anaconda/repo). let's look at how selector gadget helps us here"
   ]
  },
  {
   "cell_type": "markdown",
   "metadata": {
    "slideshow": {
     "slide_type": "subslide"
    }
   },
   "source": [
    "**<div align=\"center\">mini-exercise: use selector gadget to build a `css` path and an `xpath` expression</div>**\n",
    "\n",
    "1. go to the [`anaconda` package repo page](https://anaconda.org/anaconda/repo))\n",
    "1. activate selector gadget by clicking on the extension button\n",
    "1. select the package name element\n",
    "    1. this will activate (highlight yellow) elements which match that selected item under *some* `css` selector path\n",
    "1. click on any \"wrong\" items until only the desire elements are highlighted\n",
    "1. investigate the `css` selector item at the bottom, and click the `xpath` button\n",
    "1. repeat with the Summary field items"
   ]
  },
  {
   "cell_type": "markdown",
   "metadata": {
    "slideshow": {
     "slide_type": "slide"
    }
   },
   "source": [
    "## `json` format and `javascript`\n",
    "\n",
    "`html` isn't the only way that computers yell at each other, though. there are other formats they yell in, and one of the most common is [JavaScript Object Notation](http://json.org/), or `json` for short."
   ]
  },
  {
   "cell_type": "markdown",
   "metadata": {
    "slideshow": {
     "slide_type": "subslide"
    }
   },
   "source": [
    "if you're familiar with `python` default data types, `json` can be converted directly to lists, dictionaries, numbers, and strings. my personal favorite example is [the Magic the Gathering `json` webpage](https://mtgjson.com/) ([direct link to example](https://mtgjson.com/json/XLN.json)), but [there are a ton out there](https://github.com/toddmotto/public-apis)."
   ]
  },
  {
   "cell_type": "markdown",
   "metadata": {
    "slideshow": {
     "slide_type": "subslide"
    }
   },
   "source": [
    "there are a million web tutorials out there. use any of them. they're all better than this.\n",
    "\n",
    "`json` is everywhere. it [has it's detractors](https://codepunk.io/xml-vs-json-why-json-sucks/), but it is essentially the *de facto* data and information transfer protocol on the web."
   ]
  },
  {
   "cell_type": "markdown",
   "metadata": {
    "slideshow": {
     "slide_type": "subslide"
    }
   },
   "source": [
    "as I wrote above, `json` is the \"JavaScript Object Notation.\" the reason it's so ubiquitous is that [`javascript`](https://developer.mozilla.org/en-US/docs/Web/JavaScript) is ubiquitous. \n",
    "\n",
    "but **`json` is not `javascript`**. it's a *notation*, a agreed-upon format for writing out hierarchical objects as text.\n",
    "\n",
    "`javascript` is a programming language which has a ton of ~~bugs~~ features resulting from its use case as the primary web language for client-side computation (where heavy lifting is done by your laptop (via your browser) rather than the server sending you information)."
   ]
  },
  {
   "cell_type": "markdown",
   "metadata": {
    "slideshow": {
     "slide_type": "subslide"
    }
   },
   "source": [
    "some people treat `javascript` as if it's not a chaos land of abominations and for the most part we all let them go on thinking those things, because they make us really pretty and fast webpages. Sometimes [everyone realizes that the whole enterprise is castles built on sand](https://qz.com/646467/how-one-programmer-broke-the-internet-by-deleting-a-tiny-piece-of-code/) and the super l33t trolls of the internet have a chuckle or two."
   ]
  },
  {
   "cell_type": "markdown",
   "metadata": {
    "slideshow": {
     "slide_type": "subslide"
    }
   },
   "source": [
    "the main reason I bring it up is this:\n",
    "\n",
    "+ getting `json` as the body of a `response` to your `request` is trivially easy -- the best case scenario for web scraping\n",
    "+ needing `javascript` to *compute* something so that it can be scraped is much harder -- the worst case scenario for web scraping (but still doable!!)\n",
    "\n",
    "sometimes the only way to access the data you want is via `javascript`. in about 99% of all cases I've come across, I find this is something you can avoid with some digging and some advance knowledge of how web pages are built / how to use the browser inspect tools."
   ]
  },
  {
   "cell_type": "markdown",
   "metadata": {
    "slideshow": {
     "slide_type": "subslide"
    }
   },
   "source": [
    "why avoid `javascript`? because it requires breaking out of the simple `requests` paradigm and using a full-fledged `javascript` engine, and that's a big jump in complexity.\n",
    "\n",
    "**whenever possible, I try and just `GET` things.**"
   ]
  },
  {
   "cell_type": "markdown",
   "metadata": {
    "slideshow": {
     "slide_type": "slide"
    }
   },
   "source": [
    "## setup `python` to make `request`s"
   ]
  },
  {
   "cell_type": "markdown",
   "metadata": {
    "slideshow": {
     "slide_type": "subslide"
    }
   },
   "source": [
    "**<div align=\"center\">mini-exercise: create a web scraping `conda` environment</div>**\n",
    "\n",
    "using `conda`, let's create a new environment and install the most basic items for our first web scraping tests. use `ec2` or your laptop, wherever you prefer to access `conda` from a command line\n",
    "\n",
    "```bash\n",
    "conda create -n scrapesville python=3\n",
    "conda activate scrapesville\n",
    "conda install -y requests lxml cssselect pandas beautifulsoup4\n",
    "```\n",
    "\n",
    "that's it! we should be good to go"
   ]
  },
  {
   "cell_type": "markdown",
   "metadata": {
    "slideshow": {
     "slide_type": "notes"
    }
   },
   "source": [
    "fun side story: check out [this cute little trick](https://www.theregister.co.uk/2017/09/15/pretend_python_packages_prey_on_poor_typing/), and make sure you always install `requests` and not `reqeusts`\n",
    "\n",
    "update: this has actually been addressed by `pypi` admins, and they are supposedly preventing this in the future. how? not sure."
   ]
  },
  {
   "cell_type": "markdown",
   "metadata": {
    "slideshow": {
     "slide_type": "slide"
    }
   },
   "source": [
    "## `GET` requests"
   ]
  },
  {
   "cell_type": "markdown",
   "metadata": {
    "slideshow": {
     "slide_type": "subslide"
    }
   },
   "source": [
    "let's do some scraping!\n",
    "\n",
    "as a reminder, a `GET` request is a request we send to a server to ask for some information, and the returned message is whatever content we asked for."
   ]
  },
  {
   "cell_type": "markdown",
   "metadata": {
    "slideshow": {
     "slide_type": "subslide"
    }
   },
   "source": [
    "### `json` is almost too easy\n",
    "\n",
    "let's start with the easy case: a `GET` request that returns `json`.\n",
    "\n",
    "my go-to `json` example, as discussed above, is [mtgjson.com](https://mtgjson.com/). however, I can understand why maybe that's not the most useful resource for everyone. \n",
    "\n",
    "let's work with the (debatably) more useful [`github` software developers jobs board `json` api](https://jobs.github.com/api)."
   ]
  },
  {
   "cell_type": "markdown",
   "metadata": {
    "slideshow": {
     "slide_type": "subslide"
    }
   },
   "source": [
    "take, for example, the below url:\n",
    "\n",
    "```\n",
    "https://jobs.github.com/positions.json?description=data&location=washington%20dc&full_time=true\n",
    "```\n",
    "[(link)](https://jobs.github.com/positions.json?description=data&location=washington%20dc&full_time=true)"
   ]
  },
  {
   "cell_type": "markdown",
   "metadata": {
    "slideshow": {
     "slide_type": "subslide"
    }
   },
   "source": [
    "let's break the url from this request down into pieces. I'll use whitespace to emphasize the pieces:\n",
    "\n",
    "```\n",
    "https://jobs.github.com/positions.json\n",
    "    ?\n",
    "    description=data\n",
    "    &location=washington%20dc\n",
    "    &full_time=true\n",
    "```"
   ]
  },
  {
   "cell_type": "markdown",
   "metadata": {
    "slideshow": {
     "slide_type": "subslide"
    }
   },
   "source": [
    "```\n",
    "https://jobs.github.com/positions.json  <-- the endpoint\n",
    "    ?\n",
    "    description=data\n",
    "    &location=washington%20dc\n",
    "    &full_time=true\n",
    "```\n",
    "\n",
    "the first part is the familiar looking `url`. this is known as the api \"endpoint,\" a `url` to which we can send `request`s. in an api call, this serves the name of the function call"
   ]
  },
  {
   "cell_type": "markdown",
   "metadata": {
    "slideshow": {
     "slide_type": "subslide"
    }
   },
   "source": [
    "```\n",
    "https://jobs.github.com/positions.json\n",
    "    ?                                   <-- the start of parameters\n",
    "    description=data\n",
    "    &location=washington%20dc\n",
    "    &full_time=true\n",
    "```\n",
    "\n",
    "`?` is a common delimiter (most common? only?) indicating that what follows is a list of key-value pairs of parameters and their values. think of this is the open-parentheses of a function declaration"
   ]
  },
  {
   "cell_type": "markdown",
   "metadata": {
    "slideshow": {
     "slide_type": "subslide"
    }
   },
   "source": [
    "```\n",
    "https://jobs.github.com/positions.json\n",
    "    ?\n",
    "    description=data           <-- parameter=value\n",
    "    &location=washington%20dc  <-- &parameter=value\n",
    "    &full_time=true            <-- &parameter=value\n",
    "```\n",
    "\n",
    "each of the `key=value` strings are parameter and value pairs passed to the api function.\n",
    "\n",
    "the allowed keys are defined by the api endpoint, and a really good api will [tell you what the possibilities are](https://jobs.github.com/api) (but some won't)."
   ]
  },
  {
   "cell_type": "markdown",
   "metadata": {
    "slideshow": {
     "slide_type": "subslide"
    }
   },
   "source": [
    "```\n",
    "https://jobs.github.com/positions.json\n",
    "    ?\n",
    "    description=data           <-- parameter=value\n",
    "    &location=washington%20dc  <-- &parameter=value\n",
    "    &full_time=true            <-- &parameter=value\n",
    "```\n",
    "\n",
    "in addition to the `key=value` pairs there are `&` characters -- these symbols separate key-value pairs, like commas in an `R` or `python` function"
   ]
  },
  {
   "cell_type": "markdown",
   "metadata": {
    "slideshow": {
     "slide_type": "subslide"
    }
   },
   "source": [
    "all together:\n",
    "\n",
    "```\n",
    "https://jobs.github.com/positions.json?description=data&location=washington%20dc&full_time=true\n",
    "```\n",
    "\n",
    "+ ask the `github` `positions.json` endpoint, and\n",
    "+ sets the `description` to be `\"data\"`\n",
    "+ sets the `location` to be `washington%20dc`\n",
    "    + here `%20` is a [`url`-encoding](https://en.wikipedia.org/wiki/Percent-encoding) of the space character. many characters are escaped and encoded this way\n",
    "+ sets the `full_time` paramter to be `true`\n",
    "    + note: `javascript` and hence most `api`s have a lowercase `t` in the `true` boolean"
   ]
  },
  {
   "cell_type": "markdown",
   "metadata": {
    "slideshow": {
     "slide_type": "subslide"
    }
   },
   "source": [
    "let's do it with `python`!"
   ]
  },
  {
   "cell_type": "code",
   "execution_count": 2,
   "metadata": {
    "ExecuteTime": {
     "end_time": "2017-05-29T19:46:28.554830Z",
     "start_time": "2017-05-29T19:46:28.551277Z"
    },
    "scrolled": true,
    "slideshow": {
     "slide_type": "subslide"
    }
   },
   "outputs": [
    {
     "name": "stdout",
     "output_type": "stream",
     "text": [
      "Help on function get in module requests.api:\n",
      "\n",
      "get(url, params=None, **kwargs)\n",
      "    Sends a GET request.\n",
      "    \n",
      "    :param url: URL for the new :class:`Request` object.\n",
      "    :param params: (optional) Dictionary or bytes to be sent in the query string for the :class:`Request`.\n",
      "    :param \\*\\*kwargs: Optional arguments that ``request`` takes.\n",
      "    :return: :class:`Response <Response>` object\n",
      "    :rtype: requests.Response\n",
      "\n"
     ]
    }
   ],
   "source": [
    "import requests\n",
    "\n",
    "help(requests.get)"
   ]
  },
  {
   "cell_type": "code",
   "execution_count": 5,
   "metadata": {
    "ExecuteTime": {
     "end_time": "2017-05-29T19:57:42.970066Z",
     "start_time": "2017-05-29T19:57:42.962608Z"
    },
    "slideshow": {
     "slide_type": "subslide"
    }
   },
   "outputs": [],
   "source": [
    "response = requests.get(\n",
    "    # note: no ? or key-value pairs in the url\n",
    "    url='https://jobs.github.com/positions.json',\n",
    "    # the key-value pairs go here, and note we don't %20 (requests does\n",
    "    # that for us)\n",
    "    params={\n",
    "        'description': 'data',\n",
    "        'location': 'washington dc',\n",
    "        'full_time': 'true',\n",
    "    }\n",
    ")"
   ]
  },
  {
   "cell_type": "code",
   "execution_count": 6,
   "metadata": {
    "ExecuteTime": {
     "end_time": "2017-05-29T19:57:57.275483Z",
     "start_time": "2017-05-29T19:57:56.981163Z"
    },
    "slideshow": {
     "slide_type": "subslide"
    }
   },
   "outputs": [
    {
     "data": {
      "text/plain": [
       "<Response [200]>"
      ]
     },
     "execution_count": 6,
     "metadata": {},
     "output_type": "execute_result"
    }
   ],
   "source": [
    "response"
   ]
  },
  {
   "cell_type": "markdown",
   "metadata": {
    "slideshow": {
     "slide_type": "subslide"
    }
   },
   "source": [
    "remember that the 200-series [`http` status codes](https://developer.mozilla.org/en-US/docs/Web/HTTP/Status) are *success* codes, so our request above was successful\n",
    "\n",
    "this code is useful information for more automated process, but also sometimes helps us understand what went wrong. for the most part, we like 200s and we hate 400s and 500s. the others -- supposedly -- exist."
   ]
  },
  {
   "cell_type": "code",
   "execution_count": 7,
   "metadata": {
    "ExecuteTime": {
     "end_time": "2017-05-28T20:58:36.635583Z",
     "start_time": "2017-05-28T20:58:36.630604Z"
    },
    "slideshow": {
     "slide_type": "subslide"
    }
   },
   "outputs": [
    {
     "data": {
      "text/plain": [
       "200"
      ]
     },
     "execution_count": 7,
     "metadata": {},
     "output_type": "execute_result"
    }
   ],
   "source": [
    "response.status_code"
   ]
  },
  {
   "cell_type": "markdown",
   "metadata": {
    "slideshow": {
     "slide_type": "subslide"
    }
   },
   "source": [
    "very cool. now what about the content? as we requested in above, this `api` responded with `json`, which is accessible via the `json` method of this `response` object:"
   ]
  },
  {
   "cell_type": "code",
   "execution_count": 8,
   "metadata": {
    "ExecuteTime": {
     "end_time": "2017-05-29T19:50:04.093796Z",
     "start_time": "2017-05-29T19:50:04.086461Z"
    },
    "slideshow": {
     "slide_type": "-"
    }
   },
   "outputs": [
    {
     "data": {
      "text/plain": [
       "[{'id': 'dc2a338a-c360-11e8-97da-4b3aa852afc3',\n",
       "  'created_at': 'Fri Sep 28 20:55:57 UTC 2018',\n",
       "  'title': 'Elasticsearch Software Engineer',\n",
       "  'location': 'Merrifield, VA',\n",
       "  'type': 'Full Time',\n",
       "  'description': \"<p>Chenega Professional &amp; Technical Services (CPTS) is seeking an experienced and motivated Elasticsearch Front-End Software Engineer to become part of our team developing mission-critical applications for a large federal agency.  You will work in a collaborative team environment to design, develop and enhance front end software for search functionality and the agency's enterprise data warehouse systems. </p>\\n\\n<p>Essential Duties and Responsibilities: (Reasonable accommodations may be made to enable individuals with disabilities to perform the essential functions of this position)\\nBuild new customer-facing features and reusable UI patterns\\nCollaborate with UI and UX designers to create the best experience for our end users.\\nWrite tests to ensure code is accurate and troubleshoot/debug code as needed.\\nProvide valuable work in support of Scrum Team efforts.\\nParticipate in active team environment as both a continual learner and supportive coach.\\nStrong communication skills required which includes the ability to articulate the why, how, and what of our work.</p>\\n\\n<p>Minimum Qualifications: (To perform this job successfully, an individual must be able to perform each essential duty satisfactorily.)\\nMinimum of 2 years of Elasticsearch 5 development for the support of search applications.\\nMinimum of 3 years of ASP.Net C# MVC based web development experience using Visual Studio 2008 or higher.\\nExperience performing front end development HTML 5, JavaScript, CSS and React.\\nMinimum of 3 years of experience with Agile development methodologies.\\nExperience using Microsoft Team Foundation Server (TFS) in an Agile development environment.\\nKnowledge of RabbitMQ for message brokering.</p>\\n\\n<p>Active Secret clearance required.</p>\\n\\n<p>Knowledge, Skills and Abilities:\\n·        Ability to work independently and part of a team.\\n·        Excellent oral and written communication skills.</p>\",\n",
       "  'how_to_apply': '<p>Please visit <a href=\"http://www.chenegapts.com/careers/\">http://www.chenegapts.com/careers/</a> to apply.</p>\\n\\n<p>Please send your resume to <a href=\"mailto:Contactchess@chenega.com\">Contactchess@chenega.com</a></p>',\n",
       "  'company': 'Chenega Professional & Technical Services, LLC',\n",
       "  'company_url': 'http://www.chenegapts.com',\n",
       "  'company_logo': 'http://github-jobs.s3.amazonaws.com/d56d70d4-c360-11e8-9b94-cf851806b035.png',\n",
       "  'url': 'http://jobs.github.com/positions/dc2a338a-c360-11e8-97da-4b3aa852afc3'},\n",
       " {'id': '3b19b2f4-c360-11e8-8bfb-020f767b8cb7',\n",
       "  'created_at': 'Fri Sep 28 20:51:30 UTC 2018',\n",
       "  'title': 'Front-End Software Engineer',\n",
       "  'location': 'Arlington,VA',\n",
       "  'type': 'Full Time',\n",
       "  'description': '<p>Summary:</p>\\n\\n<p>Chenega Professional &amp; Technical Services (CPTS) is seeking an experienced and motivated Front-End Software Engineer to become part of our team developing mission-critical applications for a Federal agency. You will work in a collaborative team environment to design, develop and enhance front end software for search functionality and the enterprise data warehouse systems.</p>\\n\\n<p>Essential Duties and Responsibilities: (Reasonable accommodations may be made to enable individuals with disabilities to perform the essential functions of this position)</p>\\n\\n<p>Build new customer-facing features and reusable UI patterns</p>\\n\\n<p>Collaborate with UI and UX designers to create the best experience for our end users.\\nWrite tests to ensure code is accurate and troubleshoot/debug code as needed.\\nProvide valuable work in support of Scrum Team efforts.\\nParticipate in active team environment as both a continual learner and supportive coach.\\nStrong communication skills required which includes the ability to articulate the why, how, and what of our work.</p>\\n\\n<p>Minimum Qualifications: (To perform this job successfully, an individual must be able to perform each essential duty satisfactorily.)</p>\\n\\n<p>Minimum of 3 years of ASP.Net C# MVC based web development experience using Visual Studio 2008 or higher.\\nExperience performing front end development HTML 5, JavaScript, CSS and React.\\nMinimum of 3 years of experience with Agile development methodologies.\\nExperience using Microsoft Team Foundation Server (TFS) in an Agile development environment.\\nKnowledge of RabbitMQ for message brokering.</p>\\n\\n<p>Active Secret clearance required.</p>\\n\\n<p>Knowledge, Skills and Abilities:</p>\\n\\n<p>· Ability to work independently and part of a team.</p>\\n\\n<p>· Excellent oral and written communication skills.</p>',\n",
       "  'how_to_apply': '<p>Please visit our careers page to apply: <a href=\"http://www.chenegapts.com/careers/\">http://www.chenegapts.com/careers/</a>.</p>\\n\\n<p>You can also send a resume to <a href=\"mailto:Contactchess@chenega.com\">Contactchess@chenega.com</a></p>',\n",
       "  'company': 'Chenega Professional & Technical Services',\n",
       "  'company_url': 'http://www.chenegapts.com',\n",
       "  'company_logo': 'http://github-jobs.s3.amazonaws.com/19cabf6c-c360-11e8-8128-abe3fb390bcc.png',\n",
       "  'url': 'http://jobs.github.com/positions/3b19b2f4-c360-11e8-8bfb-020f767b8cb7'},\n",
       " {'id': 'f22ec18e-c35e-11e8-91dd-4570520dfabc',\n",
       "  'created_at': 'Fri Sep 28 20:44:44 UTC 2018',\n",
       "  'title': 'Data Architect/SQL Developer SME',\n",
       "  'location': 'Fairfax,VA',\n",
       "  'type': 'Full Time',\n",
       "  'description': '<p>Summary:</p>\\n\\n<p>Chenega Professional &amp; Technical Services (CPTS) is seeking a Data Architect SME to provide enterprise data warehouse support to a large federal client. The Data Architect SME will serve as a subject matter expert and team lead on all aspects of the Enterprise Data Warehouse.</p>\\n\\n<p>Salary range is <strong>$220k</strong> - <strong>$275k+</strong> with full benefits for the right candidate depending on qualifications!!! </p>\\n\\n<p>Essential Duties and Responsibilities: (Reasonable accommodations may be made to enable individuals with disabilities to perform the essential functions of this position)</p>\\n\\n<p>· Manage and mentor team to provide high performance and continual improvement on complex projects to ensure successful Production Operations</p>\\n\\n<p>· Lead the EDW team through the use of best practices in SQL development; code reviews; making recommendations for improvements; research Microsoft solutions.</p>\\n\\n<p>· Manage team backlog using MS Team Foundation Server.</p>\\n\\n<p>· Develop scripts, perform database support activities, conduct performance tuning and database design, dimensional analysis, and modeling.</p>\\n\\n<p>· Maintain and add to an extensive set of SQL Server Integration Service (SSIS) packages for Extract, Transform, and Load (ETL) data manipulation.</p>\\n\\n<p>· Maintain, enhance, and create enterprise and application level reports using SQL Server Report Service (SSRS) and other Business Intelligence (BI) tools.</p>\\n\\n<p>· Provide effective leadership for staff; day-to-day administrative and technical direction of onsite personnel; assignment of staff personnel to appropriate functions/tasks/duties.</p>\\n\\n<p>· Establish or improve procedures and controls, where necessary, to ensure that all services meet schedules of production.</p>\\n\\n<p>Supervisory Responsibilities:</p>\\n\\n<p>Provide leadership and workload management for a small, well established agile team of experienced database and software engineers.\\nConduct regular code reviews for team members</p>\\n\\n<p>Minimum Qualifications: (To perform this job successfully, an individual must be able to perform each essential duty satisfactorily.)</p>\\n\\n<p>Bachelor’s degree required.\\nMinimum of 15 years of total database experience.\\nMinimum of 12 years of SQL Server experience.\\nMinimum of 3 years of experience with Microsoft BI tools such as SSRS and PowerPivot.\\nAn active Secret Clearance is required.</p>\\n\\n<p>Knowledge, Skills and Abilities:</p>\\n\\n<p>Experience with SQL Server databases of at least 3 TB and 100 million total rows of data.\\nExperience with the configuration of a database disaster recovery option at a geographically separated facility.\\nAbility to integrate rapidly into a well-established team of experienced database and software engineers, immediately add value as a servant leader.\\nAbove average ability to establish rapport with customers and team members from diverse backgrounds.\\nExcellent oral and written communication skills including the ability to actively listen.\\nExperience architecting, developing, deploying and maintaining MS Azure Solutions a plus.</p>',\n",
       "  'how_to_apply': '<p>Visit our careers page to apply: <a href=\"http://www.chenegapts.com/careers/\">http://www.chenegapts.com/careers/</a></p>\\n\\n<p>Email your resume to <a href=\"mailto:ContactChess@chenega.com\">ContactChess@chenega.com</a></p>',\n",
       "  'company': 'Chenega Professional & Technical Services',\n",
       "  'company_url': 'http://www.chenegapts.com',\n",
       "  'company_logo': 'http://github-jobs.s3.amazonaws.com/aa74d3ec-c35e-11e8-9589-c289f19a71c4.png',\n",
       "  'url': 'http://jobs.github.com/positions/f22ec18e-c35e-11e8-91dd-4570520dfabc'},\n",
       " {'id': 'fcd1226a-c013-11e8-9fd1-e7263fcd7c8c',\n",
       "  'created_at': 'Mon Sep 24 16:08:46 UTC 2018',\n",
       "  'title': 'Full Stack Web Developer',\n",
       "  'location': 'Chantilly, VA',\n",
       "  'type': 'Full Time',\n",
       "  'description': '<p>We are looking for talented mid to senior level developers to join our team at Prominent Edge.  We are a small company of 20 developers and designers who put themselves in the shoes of our customers and make sure we deliver strong solutions. Our projects and the needs of our customers vary greatly; therefore, we always choose the technology stack and approach that best suits the particular problem and the goals of our customers.  As a result, we want developers who do high-quality work and are up for learning and applying new technologies when appropriate. We want developers who know at least one modern web technology stack. Candidates need to be full stack developers even if they have a strong preference for either front-end or back-end. We understand that for our team to perform at its best, everyone needs to work on tasks that they enjoy.  Most of our projects have been web applications which tend to be open source and have a geospatial aspect to them. We also really take care of our employees as demonstrated in our exceptional benefits package. Check out our website at <a href=\"http://prominentedge.com\">http://prominentedge.com</a> for more information and apply through <a href=\"http://prominentedge.com/careers.html\">the careers page</a>.</p>\\n\\n<h1>Required Skills</h1>\\n\\n<p>Proficient in <strong>at least one</strong> technology in each bullet point:</p>\\n\\n<ul>\\n<li>Databases: Postgres/PostGIS, SQLite, MySQL, ElasticSearch, MongoDB, or Redis</li>\\n<li>Languages: JavaScript, Python, Ruby, or Java</li>\\n<li>Server-side frameworks: Flask, Django, NodeJS/Express, Rails, or Spring</li>\\n<li>Client-side technologies: Angular or React</li>\\n<li>Operating systems: Linux, OSX, or Windows</li>\\n</ul><h1>Bonus Skills</h1>\\n\\n<p>These skills are nice-to-haves:</p>\\n\\n<ul>\\n<li>Virtualization: Docker, VirtualBox, or VMWare</li>\\n<li>DevOps/CI: Ansible, Chef, Puppet, Jenkins, Travis, or Kubernetes</li>\\n<li>Amazon Web Services: S3, EC2, RDS, Lambda, API Gateway, or Dynamo</li>\\n<li>Geospatial: Back-end or front-end experience with geospatial data or libraries</li>\\n</ul><h1>W2 Benefits</h1>\\n\\n<p>Not only you get to join our team of awesome playful ninjas, we also have great benefits:</p>\\n\\n<ul>\\n<li>Six weeks paid time off per year.</li>\\n<li>Six percent 401k matching, vested immediately.</li>\\n<li>Free PPO/POS healthcare for the entire family.</li>\\n</ul><p>We pay you for every hour you work.  Need something extra? Give yourself a raise by doing more hours when you can.</p>\\n\\n<p>Want to take time off without using vacation time? Shuffle your hours around in any pay period.</p>\\n\\n<p>Want a new MacBook Pro laptop? We\\'ll get you one.  If you like your current MacBook Pro, we’ll buy you the new version whenever you want.</p>\\n\\n<p>Want some training or to travel to a conference that is relevant to your job? We offer that too!</p>',\n",
       "  'how_to_apply': '<p>Apply through our website:  <a href=\"http://prominentedge.com/careers.html\">http://prominentedge.com/careers.html</a>.</p>',\n",
       "  'company': 'Prominent Edge LLC',\n",
       "  'company_url': 'http://Prominent Edge LLC',\n",
       "  'company_logo': 'http://github-jobs.s3.amazonaws.com/20c43b86-c013-11e8-82a0-37f44895d002.png',\n",
       "  'url': 'http://jobs.github.com/positions/fcd1226a-c013-11e8-9fd1-e7263fcd7c8c'}]"
      ]
     },
     "execution_count": 8,
     "metadata": {},
     "output_type": "execute_result"
    }
   ],
   "source": [
    "j = response.json()\n",
    "j"
   ]
  },
  {
   "cell_type": "markdown",
   "metadata": {
    "slideshow": {
     "slide_type": "subslide"
    }
   },
   "source": [
    "we can dig into that as we would with any `python` dict of dicts of dicts of dicts of lists of dicts:"
   ]
  },
  {
   "cell_type": "code",
   "execution_count": 11,
   "metadata": {
    "ExecuteTime": {
     "end_time": "2017-05-29T19:50:56.966925Z",
     "start_time": "2017-05-29T19:50:56.959787Z"
    },
    "slideshow": {
     "slide_type": "-"
    }
   },
   "outputs": [
    {
     "data": {
      "text/plain": [
       "'Data Architect/SQL Developer SME'"
      ]
     },
     "execution_count": 11,
     "metadata": {},
     "output_type": "execute_result"
    }
   ],
   "source": [
    "j[2]['title']"
   ]
  },
  {
   "cell_type": "code",
   "execution_count": 14,
   "metadata": {},
   "outputs": [
    {
     "data": {
      "text/html": [
       "<p>Summary:</p>\n",
       "\n",
       "<p>Chenega Professional &amp; Technical Services (CPTS) is seeking a Data Architect SME to provide enterprise data warehouse support to a large federal client. The Data Architect SME will serve as a subject matter expert and team lead on all aspects of the Enterprise Data Warehouse.</p>\n",
       "\n",
       "<p>Salary range is <strong>$220k</strong> - <strong>$275k+</strong> with full benefits for the right candidate depending on qualifications!!! </p>\n",
       "\n",
       "<p>Essential Duties and Responsibilities: (Reasonable accommodations may be made to enable individuals with disabilities to perform the essential functions of this position)</p>\n",
       "\n",
       "<p>· Manage and mentor team to provide high performance and continual improvement on complex projects to ensure successful Production Operations</p>\n",
       "\n",
       "<p>· Lead the EDW team through the use of best practices in SQL development; code reviews; making recommendations for improvements; research Microsoft solutions.</p>\n",
       "\n",
       "<p>· Manage team backlog using MS Team Foundation Server.</p>\n",
       "\n",
       "<p>· Develop scripts, perform database support activities, conduct performance tuning and database design, dimensional analysis, and modeling.</p>\n",
       "\n",
       "<p>· Maintain and add to an extensive set of SQL Server Integration Service (SSIS) packages for Extract, Transform, and Load (ETL) data manipulation.</p>\n",
       "\n",
       "<p>· Maintain, enhance, and create enterprise and application level reports using SQL Server Report Service (SSRS) and other Business Intelligence (BI) tools.</p>\n",
       "\n",
       "<p>· Provide effective leadership for staff; day-to-day administrative and technical direction of onsite personnel; assignment of staff personnel to appropriate functions/tasks/duties.</p>\n",
       "\n",
       "<p>· Establish or improve procedures and controls, where necessary, to ensure that all services meet schedules of production.</p>\n",
       "\n",
       "<p>Supervisory Responsibilities:</p>\n",
       "\n",
       "<p>Provide leadership and workload management for a small, well established agile team of experienced database and software engineers.\n",
       "Conduct regular code reviews for team members</p>\n",
       "\n",
       "<p>Minimum Qualifications: (To perform this job successfully, an individual must be able to perform each essential duty satisfactorily.)</p>\n",
       "\n",
       "<p>Bachelor’s degree required.\n",
       "Minimum of 15 years of total database experience.\n",
       "Minimum of 12 years of SQL Server experience.\n",
       "Minimum of 3 years of experience with Microsoft BI tools such as SSRS and PowerPivot.\n",
       "An active Secret Clearance is required.</p>\n",
       "\n",
       "<p>Knowledge, Skills and Abilities:</p>\n",
       "\n",
       "<p>Experience with SQL Server databases of at least 3 TB and 100 million total rows of data.\n",
       "Experience with the configuration of a database disaster recovery option at a geographically separated facility.\n",
       "Ability to integrate rapidly into a well-established team of experienced database and software engineers, immediately add value as a servant leader.\n",
       "Above average ability to establish rapport with customers and team members from diverse backgrounds.\n",
       "Excellent oral and written communication skills including the ability to actively listen.\n",
       "Experience architecting, developing, deploying and maintaining MS Azure Solutions a plus.</p>"
      ],
      "text/plain": [
       "<IPython.core.display.HTML object>"
      ]
     },
     "metadata": {},
     "output_type": "display_data"
    }
   ],
   "source": [
    "from IPython.core.display import display, HTML\n",
    "\n",
    "display(HTML(j[2]['description']))"
   ]
  },
  {
   "cell_type": "markdown",
   "metadata": {
    "slideshow": {
     "slide_type": "subslide"
    }
   },
   "source": [
    "not too bad!"
   ]
  },
  {
   "cell_type": "markdown",
   "metadata": {
    "slideshow": {
     "slide_type": "subslide"
    }
   },
   "source": [
    "### `html` is a little harder"
   ]
  },
  {
   "cell_type": "markdown",
   "metadata": {
    "slideshow": {
     "slide_type": "subslide"
    }
   },
   "source": [
    "as a working example, let's keep focusing on that `conda` repo table: https://anaconda.org/anaconda/repo."
   ]
  },
  {
   "cell_type": "markdown",
   "metadata": {
    "slideshow": {
     "slide_type": "subslide"
    }
   },
   "source": [
    "we'll use the `requests` library to get the `html` document, and then a few different ways of parsing / searching that document\n",
    "\n",
    "+ `xpath` with the `lxml` library\n",
    "+ `css` selectors with the `lxml` library\n",
    "+ `beautifulsoup4` find functions"
   ]
  },
  {
   "cell_type": "code",
   "execution_count": 20,
   "metadata": {
    "ExecuteTime": {
     "end_time": "2017-05-29T20:08:47.928238Z",
     "start_time": "2017-05-29T20:08:47.899689Z"
    },
    "slideshow": {
     "slide_type": "-"
    }
   },
   "outputs": [],
   "source": [
    "import requests"
   ]
  },
  {
   "cell_type": "code",
   "execution_count": 74,
   "metadata": {
    "ExecuteTime": {
     "end_time": "2017-05-29T20:08:48.636707Z",
     "start_time": "2017-05-29T20:08:48.058919Z"
    },
    "slideshow": {
     "slide_type": "subslide"
    }
   },
   "outputs": [
    {
     "data": {
      "text/plain": [
       "200"
      ]
     },
     "execution_count": 74,
     "metadata": {},
     "output_type": "execute_result"
    }
   ],
   "source": [
    "response = requests.get(url='https://anaconda.org/anaconda/repo')\n",
    "response.status_code"
   ]
  },
  {
   "cell_type": "code",
   "execution_count": 22,
   "metadata": {
    "ExecuteTime": {
     "end_time": "2017-05-29T20:08:48.648337Z",
     "start_time": "2017-05-29T20:08:48.639302Z"
    },
    "slideshow": {
     "slide_type": "-"
    }
   },
   "outputs": [
    {
     "name": "stdout",
     "output_type": "stream",
     "text": [
      "<!doctype html>\n",
      "<html lang=\"en\">\n",
      "  <head>\n",
      "    <meta charset=\"utf-8\" /><script type=\"text/javascript\">(window.NREUM||(NREUM={})).loader_config={xpid:\"VQUBU1dQChACUFhUAAcEVg==\"};window.NREUM||(NREUM={}),__nr_require=function(t,n,e){function r(e){if(!n[e]){var o=n[e]={exports:{}};t[e][0].call(o.exports,function(n){var o=t[e][1][n];return r(o||n)},o,o.exports)}return n[e].exports}if(\"function\"==typeof __nr_require)return __nr_require;for(var o=0;o<e.length;o++)r(e[o]);return r}({1:[function(t,n,e){function r(t){try{s.console&&console.log(t)}catch(n){}}var o,i=t(\"ee\"),a=t(16),s={};try{o=localStorage.getItem(\"__nr_flags\").split(\",\"),console&&\"function\"==typeof console.log&&(s.console=!0,o.indexOf(\"dev\")!==-1&&(s.dev=!0),o.indexOf(\"nr_dev\")!==-1&&(s.nrDev=!0))}catch(c){}s.nrDev&&i.on(\"internal-error\",function(t){r(t.stack)}),s.dev&&i.on(\"fn-err\",function(t,n,e){r(e.stack)}),s.dev&&(r(\"NR AGENT IN DEVELOPMENT MODE\"),r(\"flags: \"+a(s,function(t,n){return t}).join(\", \")))},{}],2:[function(t,n,e){function r(t,n,e,r,s){try{p?p-=1:o(s||new UncaughtException(t,n,e),!0)}catch(f){try{i(\"ierr\",[f,c.now(),!0])}catch(d){}}return\"function\"==typeof u&&u.apply(this,a(arguments))}function UncaughtException(t,n,e){this.message=t||\"Uncaught error with no additional information\",this.sourceURL=n,this.line=e}function o(t,n){var e=n?null:c.now();i(\"err\",[t,e])}var i=t(\"handle\"),a=t(17),s=t(\"ee\"),c=t(\"loader\"),f=t(\"gos\"),u=window.onerror,d=!1,l=\"nr@seenError\",p=0;c.features.err=!0,t(1),window.onerror=r;try{throw new Error}catch(h){\"stack\"in h&&(t(8),t(7),\"addEventListener\"in window&&t(5),c.xhrWrappable&&t(9),d=!0)}s.on(\"fn-start\",function(t,n,e){d&&(p+=1)}),s.on(\"fn-err\",function(t,n,e){d&&!e[l]&&(f(e,l,function(){return!0}),this.thrown=!0,o(e))}),s.on(\"fn-end\",function(){d&&!this.thrown&&p>0&&(p-=1)}),s.on(\"internal-error\",function(t){i(\"ierr\",[t,c.now(),!0])})},{}],3:[function(t,n,e){t(\"loader\").features.ins=!0},{}],4:[function(t,n,e){function r(t){}if(window.performance&&window.performance.timing&&window.performance.getEntriesByType){var o=t(\"ee\"),i=t(\"handle\"),a=t(8),s=t(7),c=\"learResourceTimings\",f=\"addEventListener\",u=\"resourcetimingbufferfull\",d=\"bstResource\",l=\"resource\",p=\"-start\",h=\"-end\",m=\"fn\"+p,v=\"fn\"+h,w=\"bstTimer\",y=\"pushState\",g=t(\"loader\");g.features.stn=!0,t(6);var b=NREUM.o.EV;o.on(m,function(t,n){var e=t[0];e instanceof b&&(this.bstStart=g.now())}),o.on(v,function(t,n){var e=t[0];e instanceof b&&i(\"bst\",[e,n,this.bstStart,g.now()])}),a.on(m,function(t,n,e){this.bstStart=g.now(),this.bstType=e}),a.on(v,function(t,n){i(w,[n,this.bstStart,g.now(),this.bstType])}),s.on(m,function(){this.bstStart=g.now()}),s.on(v,function(t,n){i(w,[n,this.bstStart,g.now(),\"requestAnimationFrame\"])}),o.on(y+p,function(t){this.time=g.now(),this.startPath=location.pathname+location.hash}),o.on(y+h,function(t){i(\"bstHist\",[location.pathname+location.hash,this.startPath,this.time])}),f in window.performance&&(window.performance[\"c\"+c]?window.performance[f](u,function(t){i(d,[window.performance.getEntriesByType(l)]),window.performance[\"c\"+c]()},!1):window.performance[f](\"webkit\"+u,function(t){i(d,[window.performance.getEntriesByType(l)]),window.performance[\"webkitC\"+c]()},!1)),document[f](\"scroll\",r,{passive:!0}),document[f](\"keypress\",r,!1),document[f](\"click\",r,!1)}},{}],5:[function(t,n,e){function r(t){for(var n=t;n&&!n.hasOwnProperty(u);)n=Object.getPrototypeOf(n);n&&o(n)}function o(t){s.inPlace(t,[u,d],\"-\",i)}function i(t,n){return t[1]}var a=t(\"ee\").get(\"events\"),s=t(19)(a,!0),c=t(\"gos\"),f=XMLHttpRequest,u=\"addEventListener\",d=\"removeEventListener\";n.exports=a,\"getPrototypeOf\"in Object?(r(document),r(window),r(f.prototype)):f.prototype.hasOwnProperty(u)&&(o(window),o(f.prototype)),a.on(u+\"-start\",function(t,n){var e=t[1],r=c(e,\"nr@wrapped\",function(){function t(){if(\"function\"==typeof e.handleEvent)return e.handleEvent.apply(e,arguments)}var n={object:t,\"function\":e}[typeof e];return n?s(n,\"fn-\",null,n.name||\"anonymous\"):e});this.wrapped=t[1]=r}),a.on(d+\"-start\",function(t){t[1]=this.wrapped||t[1]})},{}],6:[function(t,n,e){var r=t(\"ee\").get(\"history\"),o=t(19)(r);n.exports=r,o.inPlace(window.history,[\"pushState\",\"replaceState\"],\"-\")},{}],7:[function(t,n,e){var r=t(\"ee\").get(\"raf\"),o=t(19)(r),i=\"equestAnimationFrame\";n.exports=r,o.inPlace(window,[\"r\"+i,\"mozR\"+i,\"webkitR\"+i,\"msR\"+i],\"raf-\"),r.on(\"raf-start\",function(t){t[0]=o(t[0],\"fn-\")})},{}],8:[function(t,n,e){function r(t,n,e){t[0]=a(t[0],\"fn-\",null,e)}function o(t,n,e){this.method=e,this.timerDuration=isNaN(t[1])?0:+t[1],t[0]=a(t[0],\"fn-\",this,e)}var i=t(\"ee\").get(\"timer\"),a=t(19)(i),s=\"setTimeout\",c=\"setInterval\",f=\"clearTimeout\",u=\"-start\",d=\"-\";n.exports=i,a.inPlace(window,[s,\"setImmediate\"],s+d),a.inPlace(window,[c],c+d),a.inPlace(window,[f,\"clearImmediate\"],f+d),i.on(c+u,r),i.on(s+u,o)},{}],9:[function(t,n,e){function r(t,n){d.inPlace(n,[\"onreadystatechange\"],\"fn-\",s)}function o(){var t=this,n=u.context(t);t.readyState>3&&!n.resolved&&(n.resolved=!0,u.emit(\"xhr-resolved\",[],t)),d.inPlace(t,y,\"fn-\",s)}function i(t){g.push(t),h&&(x?x.then(a):v?v(a):(E=-E,O.data=E))}function a(){for(var t=0;t<g.length;t++)r([],g[t]);g.length&&(g=[])}function s(t,n){return n}function c(t,n){for(var e in t)n[e]=t[e];return n}t(5);var f=t(\"ee\"),u=f.get(\"xhr\"),d=t(19)(u),l=NREUM.o,p=l.XHR,h=l.MO,m=l.PR,v=l.SI,w=\"readystatechange\",y=[\"onload\",\"onerror\",\"onabort\",\"onloadstart\",\"onloadend\",\"onprogress\",\"ontimeout\"],g=[];n.exports=u;var b=window.XMLHttpRequest=function(t){var n=new p(t);try{u.emit(\"new-xhr\",[n],n),n.addEventListener(w,o,!1)}catch(e){try{u.emit(\"internal-error\",[e])}catch(r){}}return n};if(c(p,b),b.prototype=p.prototype,d.inPlace(b.prototype,[\"open\",\"send\"],\"-xhr-\",s),u.on(\"send-xhr-start\",function(t,n){r(t,n),i(n)}),u.on(\"open-xhr-start\",r),h){var x=m&&m.resolve();if(!v&&!m){var E=1,O=document.createTextNode(E);new h(a).observe(O,{characterData:!0})}}else f.on(\"fn-end\",function(t){t[0]&&t[0].type===w||a()})},{}],10:[function(t,n,e){function r(t){var n=this.params,e=this.metrics;if(!this.ended){this.ended=!0;for(var r=0;r<d;r++)t.removeEventListener(u[r],this.listener,!1);if(!n.aborted){if(e.duration=a.now()-this.startTime,4===t.readyState){n.status=t.status;var i=o(t,this.lastSize);if(i&&(e.rxSize=i),this.sameOrigin){var c=t.getResponseHeader(\"X-NewRelic-App-Data\");c&&(n.cat=c.split(\", \").pop())}}else n.status=0;e.cbTime=this.cbTime,f.emit(\"xhr-done\",[t],t),s(\"xhr\",[n,e,this.startTime])}}}function o(t,n){var e=t.responseType;if(\"json\"===e&&null!==n)return n;var r=\"arraybuffer\"===e||\"blob\"===e||\"json\"===e?t.response:t.responseText;return h(r)}function i(t,n){var e=c(n),r=t.params;r.host=e.hostname+\":\"+e.port,r.pathname=e.pathname,t.sameOrigin=e.sameOrigin}var a=t(\"loader\");if(a.xhrWrappable){var s=t(\"handle\"),c=t(11),f=t(\"ee\"),u=[\"load\",\"error\",\"abort\",\"timeout\"],d=u.length,l=t(\"id\"),p=t(14),h=t(13),m=window.XMLHttpRequest;a.features.xhr=!0,t(9),f.on(\"new-xhr\",function(t){var n=this;n.totalCbs=0,n.called=0,n.cbTime=0,n.end=r,n.ended=!1,n.xhrGuids={},n.lastSize=null,p&&(p>34||p<10)||window.opera||t.addEventListener(\"progress\",function(t){n.lastSize=t.loaded},!1)}),f.on(\"open-xhr-start\",function(t){this.params={method:t[0]},i(this,t[1]),this.metrics={}}),f.on(\"open-xhr-end\",function(t,n){\"loader_config\"in NREUM&&\"xpid\"in NREUM.loader_config&&this.sameOrigin&&n.setRequestHeader(\"X-NewRelic-ID\",NREUM.loader_config.xpid)}),f.on(\"send-xhr-start\",function(t,n){var e=this.metrics,r=t[0],o=this;if(e&&r){var i=h(r);i&&(e.txSize=i)}this.startTime=a.now(),this.listener=function(t){try{\"abort\"===t.type&&(o.params.aborted=!0),(\"load\"!==t.type||o.called===o.totalCbs&&(o.onloadCalled||\"function\"!=typeof n.onload))&&o.end(n)}catch(e){try{f.emit(\"internal-error\",[e])}catch(r){}}};for(var s=0;s<d;s++)n.addEventListener(u[s],this.listener,!1)}),f.on(\"xhr-cb-time\",function(t,n,e){this.cbTime+=t,n?this.onloadCalled=!0:this.called+=1,this.called!==this.totalCbs||!this.onloadCalled&&\"function\"==typeof e.onload||this.end(e)}),f.on(\"xhr-load-added\",function(t,n){var e=\"\"+l(t)+!!n;this.xhrGuids&&!this.xhrGuids[e]&&(this.xhrGuids[e]=!0,this.totalCbs+=1)}),f.on(\"xhr-load-removed\",function(t,n){var e=\"\"+l(t)+!!n;this.xhrGuids&&this.xhrGuids[e]&&(delete this.xhrGuids[e],this.totalCbs-=1)}),f.on(\"addEventListener-end\",function(t,n){n instanceof m&&\"load\"===t[0]&&f.emit(\"xhr-load-added\",[t[1],t[2]],n)}),f.on(\"removeEventListener-end\",function(t,n){n instanceof m&&\"load\"===t[0]&&f.emit(\"xhr-load-removed\",[t[1],t[2]],n)}),f.on(\"fn-start\",function(t,n,e){n instanceof m&&(\"onload\"===e&&(this.onload=!0),(\"load\"===(t[0]&&t[0].type)||this.onload)&&(this.xhrCbStart=a.now()))}),f.on(\"fn-end\",function(t,n){this.xhrCbStart&&f.emit(\"xhr-cb-time\",[a.now()-this.xhrCbStart,this.onload,n],n)})}},{}],11:[function(t,n,e){n.exports=function(t){var n=document.createElement(\"a\"),e=window.location,r={};n.href=t,r.port=n.port;var o=n.href.split(\"://\");!r.port&&o[1]&&(r.port=o[1].split(\"/\")[0].split(\"@\").pop().split(\":\")[1]),r.port&&\"0\"!==r.port||(r.port=\"https\"===o[0]?\"443\":\"80\"),r.hostname=n.hostname||e.hostname,r.pathname=n.pathname,r.protocol=o[0],\"/\"!==r.pathname.charAt(0)&&(r.pathname=\"/\"+r.pathname);var i=!n.protocol||\":\"===n.protocol||n.protocol===e.protocol,a=n.hostname===document.domain&&n.port===e.port;return r.sameOrigin=i&&(!n.hostname||a),r}},{}],12:[function(t,n,e){function r(){}function o(t,n,e){return function(){return i(t,[f.now()].concat(s(arguments)),n?null:this,e),n?void 0:this}}var i=t(\"handle\"),a=t(16),s=t(17),c=t(\"ee\").get(\"tracer\"),f=t(\"loader\"),u=NREUM;\"undefined\"==typeof window.newrelic&&(newrelic=u);var d=[\"setPageViewName\",\"setCustomAttribute\",\"setErrorHandler\",\"finished\",\"addToTrace\",\"inlineHit\",\"addRelease\"],l=\"api-\",p=l+\"ixn-\";a(d,function(t,n){u[n]=o(l+n,!0,\"api\")}),u.addPageAction=o(l+\"addPageAction\",!0),u.setCurrentRouteName=o(l+\"routeName\",!0),n.exports=newrelic,u.interaction=function(){return(new r).get()};var h=r.prototype={createTracer:function(t,n){var e={},r=this,o=\"function\"==typeof n;return i(p+\"tracer\",[f.now(),t,e],r),function(){if(c.emit((o?\"\":\"no-\")+\"fn-start\",[f.now(),r,o],e),o)try{return n.apply(this,arguments)}catch(t){throw c.emit(\"fn-err\",[arguments,this,t],e),t}finally{c.emit(\"fn-end\",[f.now()],e)}}}};a(\"actionText,setName,setAttribute,save,ignore,onEnd,getContext,end,get\".split(\",\"),function(t,n){h[n]=o(p+n)}),newrelic.noticeError=function(t){\"string\"==typeof t&&(t=new Error(t)),i(\"err\",[t,f.now()])}},{}],13:[function(t,n,e){n.exports=function(t){if(\"string\"==typeof t&&t.length)return t.length;if(\"object\"==typeof t){if(\"undefined\"!=typeof ArrayBuffer&&t instanceof ArrayBuffer&&t.byteLength)return t.byteLength;if(\"undefined\"!=typeof Blob&&t instanceof Blob&&t.size)return t.size;if(!(\"undefined\"!=typeof FormData&&t instanceof FormData))try{return JSON.stringify(t).length}catch(n){return}}}},{}],14:[function(t,n,e){var r=0,o=navigator.userAgent.match(/Firefox[\\/\\s](\\d+\\.\\d+)/);o&&(r=+o[1]),n.exports=r},{}],15:[function(t,n,e){function r(t,n){if(!o)return!1;if(t!==o)return!1;if(!n)return!0;if(!i)return!1;for(var e=i.split(\".\"),r=n.split(\".\"),a=0;a<r.length;a++)if(r[a]!==e[a])return!1;return!0}var o=null,i=null,a=/Version\\/(\\S+)\\s+Safari/;if(navigator.userAgent){var s=navigator.userAgent,c=s.match(a);c&&s.indexOf(\"Chrome\")===-1&&s.indexOf(\"Chromium\")===-1&&(o=\"Safari\",i=c[1])}n.exports={agent:o,version:i,match:r}},{}],16:[function(t,n,e){function r(t,n){var e=[],r=\"\",i=0;for(r in t)o.call(t,r)&&(e[i]=n(r,t[r]),i+=1);return e}var o=Object.prototype.hasOwnProperty;n.exports=r},{}],17:[function(t,n,e){function r(t,n,e){n||(n=0),\"undefined\"==typeof e&&(e=t?t.length:0);for(var r=-1,o=e-n||0,i=Array(o<0?0:o);++r<o;)i[r]=t[n+r];return i}n.exports=r},{}],18:[function(t,n,e){n.exports={exists:\"undefined\"!=typeof window.performance&&window.performance.timing&&\"undefined\"!=typeof window.performance.timing.navigationStart}},{}],19:[function(t,n,e){function r(t){return!(t&&t instanceof Function&&t.apply&&!t[a])}var o=t(\"ee\"),i=t(17),a=\"nr@original\",s=Object.prototype.hasOwnProperty,c=!1;n.exports=function(t,n){function e(t,n,e,o){function nrWrapper(){var r,a,s,c;try{a=this,r=i(arguments),s=\"function\"==typeof e?e(r,a):e||{}}catch(f){l([f,\"\",[r,a,o],s])}u(n+\"start\",[r,a,o],s);try{return c=t.apply(a,r)}catch(d){throw u(n+\"err\",[r,a,d],s),d}finally{u(n+\"end\",[r,a,c],s)}}return r(t)?t:(n||(n=\"\"),nrWrapper[a]=t,d(t,nrWrapper),nrWrapper)}function f(t,n,o,i){o||(o=\"\");var a,s,c,f=\"-\"===o.charAt(0);for(c=0;c<n.length;c++)s=n[c],a=t[s],r(a)||(t[s]=e(a,f?s+o:o,i,s))}function u(e,r,o){if(!c||n){var i=c;c=!0;try{t.emit(e,r,o,n)}catch(a){l([a,e,r,o])}c=i}}function d(t,n){if(Object.defineProperty&&Object.keys)try{var e=Object.keys(t);return e.forEach(function(e){Object.defineProperty(n,e,{get:function(){return t[e]},set:function(n){return t[e]=n,n}})}),n}catch(r){l([r])}for(var o in t)s.call(t,o)&&(n[o]=t[o]);return n}function l(n){try{t.emit(\"internal-error\",n)}catch(e){}}return t||(t=o),e.inPlace=f,e.flag=a,e}},{}],ee:[function(t,n,e){function r(){}function o(t){function n(t){return t&&t instanceof r?t:t?c(t,s,i):i()}function e(e,r,o,i){if(!l.aborted||i){t&&t(e,r,o);for(var a=n(o),s=m(e),c=s.length,f=0;f<c;f++)s[f].apply(a,r);var d=u[g[e]];return d&&d.push([b,e,r,a]),a}}function p(t,n){y[t]=m(t).concat(n)}function h(t,n){var e=y[t];if(e)for(var r=0;r<e.length;r++)e[r]===n&&e.splice(r,1)}function m(t){return y[t]||[]}function v(t){return d[t]=d[t]||o(e)}function w(t,n){f(t,function(t,e){n=n||\"feature\",g[e]=n,n in u||(u[n]=[])})}var y={},g={},b={on:p,addEventListener:p,removeEventListener:h,emit:e,get:v,listeners:m,context:n,buffer:w,abort:a,aborted:!1};return b}function i(){return new r}function a(){(u.api||u.feature)&&(l.aborted=!0,u=l.backlog={})}var s=\"nr@context\",c=t(\"gos\"),f=t(16),u={},d={},l=n.exports=o();l.backlog=u},{}],gos:[function(t,n,e){function r(t,n,e){if(o.call(t,n))return t[n];var r=e();if(Object.defineProperty&&Object.keys)try{return Object.defineProperty(t,n,{value:r,writable:!0,enumerable:!1}),r}catch(i){}return t[n]=r,r}var o=Object.prototype.hasOwnProperty;n.exports=r},{}],handle:[function(t,n,e){function r(t,n,e,r){o.buffer([t],r),o.emit(t,n,e)}var o=t(\"ee\").get(\"handle\");n.exports=r,r.ee=o},{}],id:[function(t,n,e){function r(t){var n=typeof t;return!t||\"object\"!==n&&\"function\"!==n?-1:t===window?0:a(t,i,function(){return o++})}var o=1,i=\"nr@id\",a=t(\"gos\");n.exports=r},{}],loader:[function(t,n,e){function r(){if(!E++){var t=x.info=NREUM.info,n=p.getElementsByTagName(\"script\")[0];if(setTimeout(u.abort,3e4),!(t&&t.licenseKey&&t.applicationID&&n))return u.abort();f(g,function(n,e){t[n]||(t[n]=e)}),c(\"mark\",[\"onload\",a()+x.offset],null,\"api\");var e=p.createElement(\"script\");e.src=\"https://\"+t.agent,n.parentNode.insertBefore(e,n)}}function o(){\"complete\"===p.readyState&&i()}function i(){c(\"mark\",[\"domContent\",a()+x.offset],null,\"api\")}function a(){return O.exists&&performance.now?Math.round(performance.now()):(s=Math.max((new Date).getTime(),s))-x.offset}var s=(new Date).getTime(),c=t(\"handle\"),f=t(16),u=t(\"ee\"),d=t(15),l=window,p=l.document,h=\"addEventListener\",m=\"attachEvent\",v=l.XMLHttpRequest,w=v&&v.prototype;NREUM.o={ST:setTimeout,SI:l.setImmediate,CT:clearTimeout,XHR:v,REQ:l.Request,EV:l.Event,PR:l.Promise,MO:l.MutationObserver};var y=\"\"+location,g={beacon:\"bam.nr-data.net\",errorBeacon:\"bam.nr-data.net\",agent:\"js-agent.newrelic.com/nr-1099.min.js\"},b=v&&w&&w[h]&&!/CriOS/.test(navigator.userAgent),x=n.exports={offset:s,now:a,origin:y,features:{},xhrWrappable:b,userAgent:d};t(12),p[h]?(p[h](\"DOMContentLoaded\",i,!1),l[h](\"load\",r,!1)):(p[m](\"onreadystatechange\",o),l[m](\"onload\",r)),c(\"mark\",[\"firstbyte\",s],null,\"api\");var E=0,O=t(18)},{}]},{},[\"loader\",2,10,4,3]);</script><script type=\"text/javascript\">window.NREUM||(NREUM={});NREUM.info={\"beacon\":\"bam.nr-data.net\",\"queueTime\":0,\"licenseKey\":\"e6ad4d06d5\",\"agent\":\"\",\"transactionName\":\"YVxbYkUAD0RYVBZRCVgWf0NZAhVeVllNWQhXWlZYUwA+R1VWFl4JRFQXVVgMEVhXUgxMSERcSVkZFwhSTkRMSAdVUlhRUhJbR1hUCVkBU0pmQF4EFg==\",\"applicationID\":\"24967630\",\"errorBeacon\":\"bam.nr-data.net\",\"applicationTime\":1291}</script>\n",
      "    <meta name=\"viewport\" content=\"width=device-width, initial-scale=1, minimum-scale=1, maximum-scale=1\">\n",
      "    \n",
      "    <title>Package repository for anaconda :: Anaconda Cloud</title>\n",
      "    <link rel=\"shortcut icon\" href=\"//binstar-static-prod.s3.amazonaws.com/latest/img/apple-touch-icon.png\">\n",
      "    <link rel=\"stylesheet\" type=\"text/css\" href=\"//binstar-static-prod.s3.amazonaws.com/latest/css/app.css\">\n",
      "    <!--[if gte IE 9]>\n",
      "      <style type=\"text/css\">\n",
      "        .gradient {\n",
      "           filter: none;\n",
      "        }\n",
      "      </style>\n",
      "    <![endif]-->\n",
      "    <script src=\"//binstar-static-prod.s3.amazonaws.com/latest/js/bundle.js\"></script>\n",
      "    \n",
      "    <script src=\"https://www.google.com/recaptcha/api.js\" async defer></script>\n",
      "    \n",
      "    \n",
      "    \n",
      "  </head>\n",
      "  <body >\n",
      "    \n",
      "    \n",
      "      <div class=\"contain-to-grid\">\n",
      "  <nav class=\"top-bar\" data-topbar role=\"navigation\">\n",
      "    <ul class=\"title-area\">\n",
      "      <li class=\"name\">\n",
      "        <h1>\n",
      "          <a class=\"navbar-brand\" href=\"/\">\n",
      "            <img src=\"//binstar-static-prod.s3.amazonaws.com/latest/img/AnacondaCloud_logo_green.png\"\n",
      "                 class=\" small \" />\n",
      "          </a>\n",
      "        </h1>\n",
      "      </li>\n",
      "      <li class=\"toggle-topbar menu-icon\"><a href=\"#\"><span>Menu</span></a></li>\n",
      "    </ul>\n",
      "    <section class=\"top-bar-section\">\n",
      "      \n",
      "      <ul class=\"left\">\n",
      "        <li class=\"has-form\">\n",
      "          <form action=\"/search\">\n",
      "            <div class=\"row collapse\">\n",
      "              <div class=\"small-9 columns\">\n",
      "                <input type=\"text\" placeholder=\"Search Anaconda Cloud\" name=\"q\">\n",
      "              </div>\n",
      "              <div class=\"small-3 columns\">\n",
      "                <button type=\"submit\" class=\"button postfix fa fa-search\"></button>\n",
      "              </div>\n",
      "            </div>\n",
      "          </form>\n",
      "        </li>\n",
      "      </ul>\n",
      "      \n",
      "      <ul class=\"right\">\n",
      "        \n",
      "        <li><a href=\"/gallery\">Gallery</a></li>\n",
      "        \n",
      "        \n",
      "        <li><a href=\"/about\">About</a></li>\n",
      "        <li><a href=\"https://www.anaconda.com/enterprise/\" target=\"_blank\">Anaconda</a></li>\n",
      "        <li><a href=\"https://docs.anaconda.com/anaconda-cloud/user-guide\" target=\"_blank\">Help</a></li>\n",
      "        \n",
      "        <li><a href=\"https://www.anaconda.com/downloads\" target=\"_blank\">Download Anaconda</a></li>\n",
      "        \n",
      "        <li><a href=\"/account/login?next=%2Fanaconda%2Frepo\">Sign In</a></li>\n",
      "      </ul>\n",
      "    </section>\n",
      "  </nav>\n",
      "</div>\n",
      "    \n",
      "    \n",
      "    <div class=\"container\">\n",
      "      \n",
      "      <div class=\"row\">\n",
      "        <div class=\"columns medium-12\">\n",
      "          \n",
      "          \n",
      "          \n",
      "          \n",
      "        </div>\n",
      "      </div>\n",
      "\n",
      "      \n",
      "\n",
      "      \n",
      "        <div class=\"row\"><div class=\"columns medium-12\">\n",
      "<div class=\"row\">\n",
      "  <div class=\"columns medium-12\">\n",
      "    <h2><a href=\"/anaconda\" class=\"long-breadcrumb\">anaconda</a> \n",
      "/ \n",
      "<strong>packages</strong></h2>\n",
      "    <div class=\"row\">\n",
      "      <div class=\"columns medium-12\">\n",
      "        \n",
      "<div class=\"row\" id=\"packageTopNav\">\n",
      "  <div class=\"columns medium-12\">\n",
      "    <ul class=\"tabs tabs-3 text-center navigation\">\n",
      "      <li class=\"tab-title active\"> <a href=\"/anaconda/repo\"> Packages </a> </li>\n",
      "      <li class=\"tab-title \"> <a href=\"/anaconda/repo/files\"> Files </a> </li>\n",
      "      <li class=\"tab-title \"> <a href=\"/anaconda/repo/installers\"> Install Instructions </a> </li>\n",
      "      \n",
      "    </ul>\n",
      "  </div>\n",
      "</div>\n",
      "\n",
      "\n",
      "        \n",
      "<div class=\"row\">\n",
      "  <div class=\"columns medium-12\">\n",
      "    <fieldset>\n",
      "      <legend><i class=\"fa fa-filter\"></i> Filters</legend>\n",
      "      <div class=\"row\">\n",
      "        <div class=\"columns medium-4\">\n",
      "          \n",
      "  <dl class=\"sub-nav\" role=\"menu\" title=\"Filter Menu List\">\n",
      "    <dd role=\"menuitem\" data-dropdown=\"Type\">\n",
      "      <a href=\"#\">\n",
      "        Type: all\n",
      "\n",
      "        <i class=\"fa fa-angle-down\"></i>\n",
      "      </a>\n",
      "    </dd>\n",
      "  </dl>\n",
      "  <ul id=\"Type\" class=\"f-dropdown\" data-dropdown-content aria-hidden=\"true\" tabindex=\"-1\">\n",
      "    <li class=\"active \"> <a href=\"/anaconda/repo?type=all\">All</a></li>\n",
      "    \n",
      "      <li class=\" \"> <a href=\"/anaconda/repo?type=pypi\"> <i class=\"ca ca-pypi\"></i> pypi</a></li>\n",
      "    \n",
      "      <li class=\" \"> <a href=\"/anaconda/repo?type=conda\"> <i class=\"ca ca-conda\"></i> conda</a></li>\n",
      "    \n",
      "      <li class=\" \"> <a href=\"/anaconda/repo?type=r\"> <i class=\"ca ca-r\"></i> r</a></li>\n",
      "    \n",
      "  </ul>\n",
      "\n",
      "        </div>\n",
      "        <div class=\"columns medium-4\">\n",
      "          \n",
      "  <dl class=\"sub-nav\" role=\"menu\" title=\"Filter Menu List\">\n",
      "    <dd role=\"menuitem\" data-dropdown=\"Access\">\n",
      "      <a href=\"#\">\n",
      "        Access: all\n",
      "        <i class=\"fa fa-angle-down\"></i>\n",
      "      </a>\n",
      "    </dd>\n",
      "  </dl>\n",
      "  <ul id=\"Access\" class=\"f-dropdown\" data-dropdown-content aria-hidden=\"true\" tabindex=\"-1\">\n",
      "    <li class=\"active \"> <a href=\"/anaconda/repo?access=all\"> <i class=\"fa fa-fw\"></i>Access: All</a> </li>\n",
      "    <li class=\" \"> <a href=\"/anaconda/repo?access=public\"> <i class=\"fa fa-fw fa-globe\"></i> Public</a> </li>\n",
      "    <li class=\" \"> <a href=\"/anaconda/repo?access=private\"> <i class=\"fa fa-fw fa-lock\"></i> Private</a> </li>\n",
      "    <li class=\" \"> <a href=\"/anaconda/repo?access=authenticated\"> <i class=\"fa fa-fw fa-key\"></i> Authenticated</a> </li>\n",
      "  </ul>\n",
      "\n",
      "        </div>\n",
      "        <div class=\"columns medium-4\">\n",
      "          \n",
      "  <dl class=\"sub-nav\" role=\"menu\" title=\"Filter Menu List\">\n",
      "    <dd role=\"menuitem\" data-dropdown=\"Label\">\n",
      "      <a href=\"#\">\n",
      "        Label: all\n",
      "        <i class=\"fa fa-angle-down\"></i>\n",
      "      </a>\n",
      "    </dd>\n",
      "  </dl>\n",
      "  <ul id=\"Label\" class=\"f-dropdown\" data-dropdown-content aria-hidden=\"true\" tabindex=\"-1\">\n",
      "    <li class=\" \"> <a href=\"/anaconda/repo?label=main\"> <i class=\"fa fa-fw fa-tag\"></i>main</a></li>\n",
      "    \n",
      "    \n",
      "      <li class=\"active \"> <a href=\"/anaconda/repo?label=all\"> <i class=\"fa fa-fw \"></i>All labels</a> </li>\n",
      "    \n",
      "    \n",
      "      <li class=\" \"> <a href=\"/anaconda/repo?label=empty\"> <i class=\"fa fa-fw \"></i>Unlabeled</a> </li>\n",
      "    \n",
      "\n",
      "  </ul>\n",
      "\n",
      "        </div>\n",
      "      </div>\n",
      "    </fieldset>\n",
      "  </div>\n",
      "</div>\n",
      "\n",
      "        \n",
      "\n",
      "\n",
      "  <div class=\"row\">\n",
      "    <div class=\"columns medium-12\">\n",
      "      \n",
      "    </div>\n",
      "  </div>\n",
      "  <div class=\"row\">\n",
      "    <div class=\"columns medium-12 package-form-container\">\n",
      "      \n",
      "        <table class=\"full-width\" id=\"repo-packages-table\">\n",
      "          <thead>\n",
      "<tr>\n",
      "  <th class=\"ellipse\">\n",
      "    \n",
      "      \n",
      "    <a class=\"text-white\" href=\"/anaconda/repo?sort=_name&sort_order=desc\" >\n",
      "        <i class=\"fa fa-sort\"></i>\n",
      "        Package Name\n",
      "    </a>\n",
      "    \n",
      "    \n",
      "  </th>\n",
      "  <th class=\"ellipse sorter-false\">Access</th>\n",
      "  <th class=\"ellipse sorter-false\">Summary</th>\n",
      "  <th class=\"ellipse\">\n",
      "    \n",
      "    <a class=\"text-white\" href=\"/anaconda/repo?sort=time.modified&sort_order=asc\" >\n",
      "        <i class=\"fa fa-sort-desc\"></i>\n",
      "        Updated\n",
      "    </a>\n",
      "    \n",
      "  </th>\n",
      "</tr>\n",
      "</thead>\n",
      "          <tbody>\n",
      "\n",
      "  <tr>\n",
      "    <td class=\"package-title\">\n",
      "      \n",
      "      <a data-package href=\"/anaconda/xlutils\">\n",
      "        \n",
      "    <i class=\"ca ca-conda\"></i>\n",
      "  \n",
      "        <span class='packageName'>xlutils</span>\n",
      "      </a>\n",
      "    </td>\n",
      "    <td>public</td>\n",
      "    <td>\n",
      "      No Summary\n",
      "    </td>\n",
      "    <td>2018-10-24</td>\n",
      "  </tr>\n",
      "\n",
      "  <tr>\n",
      "    <td class=\"package-title\">\n",
      "      \n",
      "      <a data-package href=\"/anaconda/vs2013_runtime\">\n",
      "        \n",
      "    <i class=\"ca ca-conda\"></i>\n",
      "  \n",
      "        <span class='packageName'>vs2013_runtime</span>\n",
      "      </a>\n",
      "    </td>\n",
      "    <td>public</td>\n",
      "    <td>\n",
      "      No Summary\n",
      "    </td>\n",
      "    <td>2018-10-24</td>\n",
      "  </tr>\n",
      "\n",
      "  <tr>\n",
      "    <td class=\"package-title\">\n",
      "      \n",
      "      <a data-package href=\"/anaconda/python\">\n",
      "        \n",
      "    <i class=\"ca ca-conda\"></i>\n",
      "  \n",
      "        <span class='packageName'>python</span>\n",
      "      </a>\n",
      "    </td>\n",
      "    <td>public</td>\n",
      "    <td>\n",
      "      General purpose programming language\n",
      "    </td>\n",
      "    <td>2018-10-24</td>\n",
      "  </tr>\n",
      "\n",
      "  <tr>\n",
      "    <td class=\"package-title\">\n",
      "      \n",
      "      <a data-package href=\"/anaconda/python-ntlm\">\n",
      "        \n",
      "    <i class=\"ca ca-conda\"></i>\n",
      "  \n",
      "        <span class='packageName'>python-ntlm</span>\n",
      "      </a>\n",
      "    </td>\n",
      "    <td>public</td>\n",
      "    <td>\n",
      "      No Summary\n",
      "    </td>\n",
      "    <td>2018-10-24</td>\n",
      "  </tr>\n",
      "\n",
      "  <tr>\n",
      "    <td class=\"package-title\">\n",
      "      \n",
      "      <a data-package href=\"/anaconda/plac\">\n",
      "        \n",
      "    <i class=\"ca ca-conda\"></i>\n",
      "  \n",
      "        <span class='packageName'>plac</span>\n",
      "      </a>\n",
      "    </td>\n",
      "    <td>public</td>\n",
      "    <td>\n",
      "      The smartest command line arguments parser in the world\n",
      "    </td>\n",
      "    <td>2018-10-24</td>\n",
      "  </tr>\n",
      "\n",
      "  <tr>\n",
      "    <td class=\"package-title\">\n",
      "      \n",
      "      <a data-package href=\"/anaconda/pbkdf2\">\n",
      "        \n",
      "    <i class=\"ca ca-conda\"></i>\n",
      "  \n",
      "        <span class='packageName'>pbkdf2</span>\n",
      "      </a>\n",
      "    </td>\n",
      "    <td>public</td>\n",
      "    <td>\n",
      "      No Summary\n",
      "    </td>\n",
      "    <td>2018-10-24</td>\n",
      "  </tr>\n",
      "\n",
      "  <tr>\n",
      "    <td class=\"package-title\">\n",
      "      \n",
      "      <a data-package href=\"/anaconda/pathlib\">\n",
      "        \n",
      "    <i class=\"ca ca-conda\"></i>\n",
      "  \n",
      "        <span class='packageName'>pathlib</span>\n",
      "      </a>\n",
      "    </td>\n",
      "    <td>public</td>\n",
      "    <td>\n",
      "      object-oriented filesystem paths\n",
      "    </td>\n",
      "    <td>2018-10-24</td>\n",
      "  </tr>\n",
      "\n",
      "  <tr>\n",
      "    <td class=\"package-title\">\n",
      "      \n",
      "      <a data-package href=\"/anaconda/numpy-devel\">\n",
      "        \n",
      "    <i class=\"ca ca-conda\"></i>\n",
      "  \n",
      "        <span class='packageName'>numpy-devel</span>\n",
      "      </a>\n",
      "    </td>\n",
      "    <td>public</td>\n",
      "    <td>\n",
      "      No Summary\n",
      "    </td>\n",
      "    <td>2018-10-24</td>\n",
      "  </tr>\n",
      "\n",
      "  <tr>\n",
      "    <td class=\"package-title\">\n",
      "      \n",
      "      <a data-package href=\"/anaconda/numpy-base\">\n",
      "        \n",
      "    <i class=\"ca ca-conda\"></i>\n",
      "  \n",
      "        <span class='packageName'>numpy-base</span>\n",
      "      </a>\n",
      "    </td>\n",
      "    <td>public</td>\n",
      "    <td>\n",
      "      No Summary\n",
      "    </td>\n",
      "    <td>2018-10-24</td>\n",
      "  </tr>\n",
      "\n",
      "  <tr>\n",
      "    <td class=\"package-title\">\n",
      "      \n",
      "      <a data-package href=\"/anaconda/numpy\">\n",
      "        \n",
      "    <i class=\"ca ca-conda\"></i>\n",
      "  \n",
      "        <span class='packageName'>numpy</span>\n",
      "      </a>\n",
      "    </td>\n",
      "    <td>public</td>\n",
      "    <td>\n",
      "      Array processing for numbers, strings, records, and objects.\n",
      "    </td>\n",
      "    <td>2018-10-24</td>\n",
      "  </tr>\n",
      "\n",
      "  <tr>\n",
      "    <td class=\"package-title\">\n",
      "      \n",
      "      <a data-package href=\"/anaconda/gevent\">\n",
      "        \n",
      "    <i class=\"ca ca-conda\"></i>\n",
      "  \n",
      "        <span class='packageName'>gevent</span>\n",
      "      </a>\n",
      "    </td>\n",
      "    <td>public</td>\n",
      "    <td>\n",
      "      Coroutine-based network library\n",
      "    </td>\n",
      "    <td>2018-10-24</td>\n",
      "  </tr>\n",
      "\n",
      "  <tr>\n",
      "    <td class=\"package-title\">\n",
      "      \n",
      "      <a data-package href=\"/anaconda/cheetah\">\n",
      "        \n",
      "    <i class=\"ca ca-conda\"></i>\n",
      "  \n",
      "        <span class='packageName'>cheetah</span>\n",
      "      </a>\n",
      "    </td>\n",
      "    <td>public</td>\n",
      "    <td>\n",
      "      No Summary\n",
      "    </td>\n",
      "    <td>2018-10-24</td>\n",
      "  </tr>\n",
      "\n",
      "  <tr>\n",
      "    <td class=\"package-title\">\n",
      "      \n",
      "      <a data-package href=\"/anaconda/characteristic\">\n",
      "        \n",
      "    <i class=\"ca ca-conda\"></i>\n",
      "  \n",
      "        <span class='packageName'>characteristic</span>\n",
      "      </a>\n",
      "    </td>\n",
      "    <td>public</td>\n",
      "    <td>\n",
      "      No Summary\n",
      "    </td>\n",
      "    <td>2018-10-24</td>\n",
      "  </tr>\n",
      "\n",
      "  <tr>\n",
      "    <td class=\"package-title\">\n",
      "      \n",
      "      <a data-package href=\"/anaconda/anaconda\">\n",
      "        \n",
      "    <i class=\"ca ca-conda\"></i>\n",
      "  \n",
      "        <span class='packageName'>anaconda</span>\n",
      "      </a>\n",
      "    </td>\n",
      "    <td>public</td>\n",
      "    <td>\n",
      "      Simplifies package management and deployment of Anaconda\n",
      "    </td>\n",
      "    <td>2018-10-24</td>\n",
      "  </tr>\n",
      "\n",
      "  <tr>\n",
      "    <td class=\"package-title\">\n",
      "      \n",
      "      <a data-package href=\"/anaconda/nb_conda_kernels\">\n",
      "        \n",
      "    <i class=\"ca ca-conda\"></i>\n",
      "  \n",
      "        <span class='packageName'>nb_conda_kernels</span>\n",
      "      </a>\n",
      "    </td>\n",
      "    <td>public</td>\n",
      "    <td>\n",
      "      Launch Jupyter kernels for any installed conda environment\n",
      "    </td>\n",
      "    <td>2018-10-24</td>\n",
      "  </tr>\n",
      "\n",
      "  <tr>\n",
      "    <td class=\"package-title\">\n",
      "      \n",
      "      <a data-package href=\"/anaconda/ruby\">\n",
      "        \n",
      "    <i class=\"ca ca-conda\"></i>\n",
      "  \n",
      "        <span class='packageName'>ruby</span>\n",
      "      </a>\n",
      "    </td>\n",
      "    <td>public</td>\n",
      "    <td>\n",
      "      A dynamic, open source programming language with a focus on simplicity and productivity.\n",
      "    </td>\n",
      "    <td>2018-10-24</td>\n",
      "  </tr>\n",
      "\n",
      "  <tr>\n",
      "    <td class=\"package-title\">\n",
      "      \n",
      "      <a data-package href=\"/anaconda/lockfile\">\n",
      "        \n",
      "    <i class=\"ca ca-conda\"></i>\n",
      "  \n",
      "        <span class='packageName'>lockfile</span>\n",
      "      </a>\n",
      "    </td>\n",
      "    <td>public</td>\n",
      "    <td>\n",
      "      No Summary\n",
      "    </td>\n",
      "    <td>2018-10-24</td>\n",
      "  </tr>\n",
      "\n",
      "  <tr>\n",
      "    <td class=\"package-title\">\n",
      "      \n",
      "      <a data-package href=\"/anaconda/nomkl\">\n",
      "        \n",
      "    <i class=\"ca ca-conda\"></i>\n",
      "  \n",
      "        <span class='packageName'>nomkl</span>\n",
      "      </a>\n",
      "    </td>\n",
      "    <td>public</td>\n",
      "    <td>\n",
      "      No Summary\n",
      "    </td>\n",
      "    <td>2018-10-24</td>\n",
      "  </tr>\n",
      "\n",
      "  <tr>\n",
      "    <td class=\"package-title\">\n",
      "      \n",
      "      <a data-package href=\"/anaconda/blas\">\n",
      "        \n",
      "    <i class=\"ca ca-conda\"></i>\n",
      "  \n",
      "        <span class='packageName'>blas</span>\n",
      "      </a>\n",
      "    </td>\n",
      "    <td>public</td>\n",
      "    <td>\n",
      "      No Summary\n",
      "    </td>\n",
      "    <td>2018-10-24</td>\n",
      "  </tr>\n",
      "\n",
      "  <tr>\n",
      "    <td class=\"package-title\">\n",
      "      \n",
      "      <a data-package href=\"/anaconda/zope\">\n",
      "        \n",
      "    <i class=\"ca ca-conda\"></i>\n",
      "  \n",
      "        <span class='packageName'>zope</span>\n",
      "      </a>\n",
      "    </td>\n",
      "    <td>public</td>\n",
      "    <td>\n",
      "      No Summary\n",
      "    </td>\n",
      "    <td>2018-10-24</td>\n",
      "  </tr>\n",
      "\n",
      "  <tr>\n",
      "    <td class=\"package-title\">\n",
      "      \n",
      "      <a data-package href=\"/anaconda/xlwt\">\n",
      "        \n",
      "    <i class=\"ca ca-conda\"></i>\n",
      "  \n",
      "        <span class='packageName'>xlwt</span>\n",
      "      </a>\n",
      "    </td>\n",
      "    <td>public</td>\n",
      "    <td>\n",
      "      writing data and formatting information to Excel files\n",
      "    </td>\n",
      "    <td>2018-10-24</td>\n",
      "  </tr>\n",
      "\n",
      "  <tr>\n",
      "    <td class=\"package-title\">\n",
      "      \n",
      "      <a data-package href=\"/anaconda/wcwidth\">\n",
      "        \n",
      "    <i class=\"ca ca-conda\"></i>\n",
      "  \n",
      "        <span class='packageName'>wcwidth</span>\n",
      "      </a>\n",
      "    </td>\n",
      "    <td>public</td>\n",
      "    <td>\n",
      "      No Summary\n",
      "    </td>\n",
      "    <td>2018-10-24</td>\n",
      "  </tr>\n",
      "\n",
      "  <tr>\n",
      "    <td class=\"package-title\">\n",
      "      \n",
      "      <a data-package href=\"/anaconda/vcversioner\">\n",
      "        \n",
      "    <i class=\"ca ca-conda\"></i>\n",
      "  \n",
      "        <span class='packageName'>vcversioner</span>\n",
      "      </a>\n",
      "    </td>\n",
      "    <td>public</td>\n",
      "    <td>\n",
      "      No Summary\n",
      "    </td>\n",
      "    <td>2018-10-24</td>\n",
      "  </tr>\n",
      "\n",
      "  <tr>\n",
      "    <td class=\"package-title\">\n",
      "      \n",
      "      <a data-package href=\"/anaconda/unicodecsv\">\n",
      "        \n",
      "    <i class=\"ca ca-conda\"></i>\n",
      "  \n",
      "        <span class='packageName'>unicodecsv</span>\n",
      "      </a>\n",
      "    </td>\n",
      "    <td>public</td>\n",
      "    <td>\n",
      "      No Summary\n",
      "    </td>\n",
      "    <td>2018-10-24</td>\n",
      "  </tr>\n",
      "\n",
      "  <tr>\n",
      "    <td class=\"package-title\">\n",
      "      \n",
      "      <a data-package href=\"/anaconda/traitlets\">\n",
      "        \n",
      "    <i class=\"ca ca-conda\"></i>\n",
      "  \n",
      "        <span class='packageName'>traitlets</span>\n",
      "      </a>\n",
      "    </td>\n",
      "    <td>public</td>\n",
      "    <td>\n",
      "      No Summary\n",
      "    </td>\n",
      "    <td>2018-10-24</td>\n",
      "  </tr>\n",
      "\n",
      "  <tr>\n",
      "    <td class=\"package-title\">\n",
      "      \n",
      "      <a data-package href=\"/anaconda/testpath\">\n",
      "        \n",
      "    <i class=\"ca ca-conda\"></i>\n",
      "  \n",
      "        <span class='packageName'>testpath</span>\n",
      "      </a>\n",
      "    </td>\n",
      "    <td>public</td>\n",
      "    <td>\n",
      "      Testpath is a collection of utilities for Python code working with files and commands.\n",
      "    </td>\n",
      "    <td>2018-10-24</td>\n",
      "  </tr>\n",
      "\n",
      "  <tr>\n",
      "    <td class=\"package-title\">\n",
      "      \n",
      "      <a data-package href=\"/anaconda/sympy\">\n",
      "        \n",
      "    <i class=\"ca ca-conda\"></i>\n",
      "  \n",
      "        <span class='packageName'>sympy</span>\n",
      "      </a>\n",
      "    </td>\n",
      "    <td>public</td>\n",
      "    <td>\n",
      "      Python library for symbolic mathematics\n",
      "    </td>\n",
      "    <td>2018-10-24</td>\n",
      "  </tr>\n",
      "\n",
      "  <tr>\n",
      "    <td class=\"package-title\">\n",
      "      \n",
      "      <a data-package href=\"/anaconda/tblib\">\n",
      "        \n",
      "    <i class=\"ca ca-conda\"></i>\n",
      "  \n",
      "        <span class='packageName'>tblib</span>\n",
      "      </a>\n",
      "    </td>\n",
      "    <td>public</td>\n",
      "    <td>\n",
      "      No Summary\n",
      "    </td>\n",
      "    <td>2018-10-24</td>\n",
      "  </tr>\n",
      "\n",
      "  <tr>\n",
      "    <td class=\"package-title\">\n",
      "      \n",
      "      <a data-package href=\"/anaconda/snowballstemmer\">\n",
      "        \n",
      "    <i class=\"ca ca-conda\"></i>\n",
      "  \n",
      "        <span class='packageName'>snowballstemmer</span>\n",
      "      </a>\n",
      "    </td>\n",
      "    <td>public</td>\n",
      "    <td>\n",
      "      No Summary\n",
      "    </td>\n",
      "    <td>2018-10-24</td>\n",
      "  </tr>\n",
      "\n",
      "  <tr>\n",
      "    <td class=\"package-title\">\n",
      "      \n",
      "      <a data-package href=\"/anaconda/singledispatch\">\n",
      "        \n",
      "    <i class=\"ca ca-conda\"></i>\n",
      "  \n",
      "        <span class='packageName'>singledispatch</span>\n",
      "      </a>\n",
      "    </td>\n",
      "    <td>public</td>\n",
      "    <td>\n",
      "      No Summary\n",
      "    </td>\n",
      "    <td>2018-10-24</td>\n",
      "  </tr>\n",
      "\n",
      "  <tr>\n",
      "    <td class=\"package-title\">\n",
      "      \n",
      "      <a data-package href=\"/anaconda/requests-ftp\">\n",
      "        \n",
      "    <i class=\"ca ca-conda\"></i>\n",
      "  \n",
      "        <span class='packageName'>requests-ftp</span>\n",
      "      </a>\n",
      "    </td>\n",
      "    <td>public</td>\n",
      "    <td>\n",
      "      No Summary\n",
      "    </td>\n",
      "    <td>2018-10-24</td>\n",
      "  </tr>\n",
      "\n",
      "  <tr>\n",
      "    <td class=\"package-title\">\n",
      "      \n",
      "      <a data-package href=\"/anaconda/qtconsole\">\n",
      "        \n",
      "    <i class=\"ca ca-conda\"></i>\n",
      "  \n",
      "        <span class='packageName'>qtconsole</span>\n",
      "      </a>\n",
      "    </td>\n",
      "    <td>public</td>\n",
      "    <td>\n",
      "      Jupyter Qt console\n",
      "    </td>\n",
      "    <td>2018-10-24</td>\n",
      "  </tr>\n",
      "\n",
      "  <tr>\n",
      "    <td class=\"package-title\">\n",
      "      \n",
      "      <a data-package href=\"/anaconda/qtawesome\">\n",
      "        \n",
      "    <i class=\"ca ca-conda\"></i>\n",
      "  \n",
      "        <span class='packageName'>qtawesome</span>\n",
      "      </a>\n",
      "    </td>\n",
      "    <td>public</td>\n",
      "    <td>\n",
      "      Iconic fonts in PyQt and PySide applications\n",
      "    </td>\n",
      "    <td>2018-10-24</td>\n",
      "  </tr>\n",
      "\n",
      "  <tr>\n",
      "    <td class=\"package-title\">\n",
      "      \n",
      "      <a data-package href=\"/anaconda/python-daemon\">\n",
      "        \n",
      "    <i class=\"ca ca-conda\"></i>\n",
      "  \n",
      "        <span class='packageName'>python-daemon</span>\n",
      "      </a>\n",
      "    </td>\n",
      "    <td>public</td>\n",
      "    <td>\n",
      "      Library to implement a well-behaved Unix daemon process.\n",
      "    </td>\n",
      "    <td>2018-10-24</td>\n",
      "  </tr>\n",
      "\n",
      "  <tr>\n",
      "    <td class=\"package-title\">\n",
      "      \n",
      "      <a data-package href=\"/anaconda/pygments\">\n",
      "        \n",
      "    <i class=\"ca ca-conda\"></i>\n",
      "  \n",
      "        <span class='packageName'>pygments</span>\n",
      "      </a>\n",
      "    </td>\n",
      "    <td>public</td>\n",
      "    <td>\n",
      "      No Summary\n",
      "    </td>\n",
      "    <td>2018-10-24</td>\n",
      "  </tr>\n",
      "\n",
      "  <tr>\n",
      "    <td class=\"package-title\">\n",
      "      \n",
      "      <a data-package href=\"/anaconda/pypandoc\">\n",
      "        \n",
      "    <i class=\"ca ca-conda\"></i>\n",
      "  \n",
      "        <span class='packageName'>pypandoc</span>\n",
      "      </a>\n",
      "    </td>\n",
      "    <td>public</td>\n",
      "    <td>\n",
      "      Thin wrapper for &#34;pandoc&#34;\n",
      "    </td>\n",
      "    <td>2018-10-24</td>\n",
      "  </tr>\n",
      "\n",
      "  <tr>\n",
      "    <td class=\"package-title\">\n",
      "      \n",
      "      <a data-package href=\"/anaconda/pyflakes\">\n",
      "        \n",
      "    <i class=\"ca ca-conda\"></i>\n",
      "  \n",
      "        <span class='packageName'>pyflakes</span>\n",
      "      </a>\n",
      "    </td>\n",
      "    <td>public</td>\n",
      "    <td>\n",
      "      Pyflakes analyzes programs and detects various errors.\n",
      "    </td>\n",
      "    <td>2018-10-24</td>\n",
      "  </tr>\n",
      "\n",
      "  <tr>\n",
      "    <td class=\"package-title\">\n",
      "      \n",
      "      <a data-package href=\"/anaconda/pydispatcher\">\n",
      "        \n",
      "    <i class=\"ca ca-conda\"></i>\n",
      "  \n",
      "        <span class='packageName'>pydispatcher</span>\n",
      "      </a>\n",
      "    </td>\n",
      "    <td>public</td>\n",
      "    <td>\n",
      "      No Summary\n",
      "    </td>\n",
      "    <td>2018-10-24</td>\n",
      "  </tr>\n",
      "\n",
      "  <tr>\n",
      "    <td class=\"package-title\">\n",
      "      \n",
      "      <a data-package href=\"/anaconda/prompt_toolkit\">\n",
      "        \n",
      "    <i class=\"ca ca-conda\"></i>\n",
      "  \n",
      "        <span class='packageName'>prompt_toolkit</span>\n",
      "      </a>\n",
      "    </td>\n",
      "    <td>public</td>\n",
      "    <td>\n",
      "      Library for building powerful interactive command lines in Python\n",
      "    </td>\n",
      "    <td>2018-10-24</td>\n",
      "  </tr>\n",
      "\n",
      "  <tr>\n",
      "    <td class=\"package-title\">\n",
      "      \n",
      "      <a data-package href=\"/anaconda/pickleshare\">\n",
      "        \n",
      "    <i class=\"ca ca-conda\"></i>\n",
      "  \n",
      "        <span class='packageName'>pickleshare</span>\n",
      "      </a>\n",
      "    </td>\n",
      "    <td>public</td>\n",
      "    <td>\n",
      "      Tiny &#39;shelve&#39;-like database with concurrency support\n",
      "    </td>\n",
      "    <td>2018-10-24</td>\n",
      "  </tr>\n",
      "\n",
      "  <tr>\n",
      "    <td class=\"package-title\">\n",
      "      \n",
      "      <a data-package href=\"/anaconda/partd\">\n",
      "        \n",
      "    <i class=\"ca ca-conda\"></i>\n",
      "  \n",
      "        <span class='packageName'>partd</span>\n",
      "      </a>\n",
      "    </td>\n",
      "    <td>public</td>\n",
      "    <td>\n",
      "      Data structure for on-disk shuffle operations\n",
      "    </td>\n",
      "    <td>2018-10-24</td>\n",
      "  </tr>\n",
      "\n",
      "  <tr>\n",
      "    <td class=\"package-title\">\n",
      "      \n",
      "      <a data-package href=\"/anaconda/odo\">\n",
      "        \n",
      "    <i class=\"ca ca-conda\"></i>\n",
      "  \n",
      "        <span class='packageName'>odo</span>\n",
      "      </a>\n",
      "    </td>\n",
      "    <td>public</td>\n",
      "    <td>\n",
      "      Shapeshifting for your data\n",
      "    </td>\n",
      "    <td>2018-10-24</td>\n",
      "  </tr>\n",
      "\n",
      "  <tr>\n",
      "    <td class=\"package-title\">\n",
      "      \n",
      "      <a data-package href=\"/anaconda/nbformat\">\n",
      "        \n",
      "    <i class=\"ca ca-conda\"></i>\n",
      "  \n",
      "        <span class='packageName'>nbformat</span>\n",
      "      </a>\n",
      "    </td>\n",
      "    <td>public</td>\n",
      "    <td>\n",
      "      reference implementation of the Jupyter Notebook format\n",
      "    </td>\n",
      "    <td>2018-10-24</td>\n",
      "  </tr>\n",
      "\n",
      "  <tr>\n",
      "    <td class=\"package-title\">\n",
      "      \n",
      "      <a data-package href=\"/anaconda/mock\">\n",
      "        \n",
      "    <i class=\"ca ca-conda\"></i>\n",
      "  \n",
      "        <span class='packageName'>mock</span>\n",
      "      </a>\n",
      "    </td>\n",
      "    <td>public</td>\n",
      "    <td>\n",
      "      No Summary\n",
      "    </td>\n",
      "    <td>2018-10-24</td>\n",
      "  </tr>\n",
      "\n",
      "  <tr>\n",
      "    <td class=\"package-title\">\n",
      "      \n",
      "      <a data-package href=\"/anaconda/locket\">\n",
      "        \n",
      "    <i class=\"ca ca-conda\"></i>\n",
      "  \n",
      "        <span class='packageName'>locket</span>\n",
      "      </a>\n",
      "    </td>\n",
      "    <td>public</td>\n",
      "    <td>\n",
      "      No Summary\n",
      "    </td>\n",
      "    <td>2018-10-24</td>\n",
      "  </tr>\n",
      "\n",
      "  <tr>\n",
      "    <td class=\"package-title\">\n",
      "      \n",
      "      <a data-package href=\"/anaconda/jsonschema\">\n",
      "        \n",
      "    <i class=\"ca ca-conda\"></i>\n",
      "  \n",
      "        <span class='packageName'>jsonschema</span>\n",
      "      </a>\n",
      "    </td>\n",
      "    <td>public</td>\n",
      "    <td>\n",
      "      No Summary\n",
      "    </td>\n",
      "    <td>2018-10-24</td>\n",
      "  </tr>\n",
      "\n",
      "  <tr>\n",
      "    <td class=\"package-title\">\n",
      "      \n",
      "      <a data-package href=\"/anaconda/iso8601\">\n",
      "        \n",
      "    <i class=\"ca ca-conda\"></i>\n",
      "  \n",
      "        <span class='packageName'>iso8601</span>\n",
      "      </a>\n",
      "    </td>\n",
      "    <td>public</td>\n",
      "    <td>\n",
      "      simple module to parse ISO 8601 dates\n",
      "    </td>\n",
      "    <td>2018-10-24</td>\n",
      "  </tr>\n",
      "\n",
      "  <tr>\n",
      "    <td class=\"package-title\">\n",
      "      \n",
      "      <a data-package href=\"/anaconda/ipython_genutils\">\n",
      "        \n",
      "    <i class=\"ca ca-conda\"></i>\n",
      "  \n",
      "        <span class='packageName'>ipython_genutils</span>\n",
      "      </a>\n",
      "    </td>\n",
      "    <td>public</td>\n",
      "    <td>\n",
      "      No Summary\n",
      "    </td>\n",
      "    <td>2018-10-24</td>\n",
      "  </tr>\n",
      "\n",
      "  <tr>\n",
      "    <td class=\"package-title\">\n",
      "      \n",
      "      <a data-package href=\"/anaconda/inflection\">\n",
      "        \n",
      "    <i class=\"ca ca-conda\"></i>\n",
      "  \n",
      "        <span class='packageName'>inflection</span>\n",
      "      </a>\n",
      "    </td>\n",
      "    <td>public</td>\n",
      "    <td>\n",
      "      No Summary\n",
      "    </td>\n",
      "    <td>2018-10-24</td>\n",
      "  </tr>\n",
      "\n",
      "  <tr>\n",
      "    <td class=\"package-title\">\n",
      "      \n",
      "      <a data-package href=\"/anaconda/future\">\n",
      "        \n",
      "    <i class=\"ca ca-conda\"></i>\n",
      "  \n",
      "        <span class='packageName'>future</span>\n",
      "      </a>\n",
      "    </td>\n",
      "    <td>public</td>\n",
      "    <td>\n",
      "      No Summary\n",
      "    </td>\n",
      "    <td>2018-10-24</td>\n",
      "  </tr>\n",
      "\n",
      "</tbody>\n",
      "        </table>\n",
      "      \n",
      "    </div>\n",
      "  </div>\n",
      "  \n",
      "    <div class=\"pagination-centered\">\n",
      "      <ul class=\"pagination\">\n",
      "        <li class=\"arrow unavailable\"><a href=\"/anaconda/repo?page=0\">&laquo; Previous</a></li>\n",
      "\n",
      "        <li class=\"unavailable\" aria-disabled=\"true\"><a href=\"\">showing 1 of 32</a></li>\n",
      "\n",
      "        <li class=\"arrow \"><a href=\"/anaconda/repo?page=2\">Next &raquo;</a></li>\n",
      "      </ul>\n",
      "    </div>\n",
      "    \n",
      " \n",
      "\n",
      "\n",
      "\n",
      "\n",
      "      </div>\n",
      "    </div>\n",
      "  </div>\n",
      "</div>\n",
      "</div></div>\n",
      "      \n",
      "      <div class=\"push\"></div>\n",
      "    </div>\n",
      "    <footer class=\"\">\n",
      "  \n",
      "  <div class=\"row\">\n",
      "    <div class=\"columns medium-3 medium-offset-3\">\n",
      "      <h5>Anaconda Cloud</h5>\n",
      "      <p>\n",
      "        <a href=\"/gallery\">Gallery</a><br>\n",
      "        <a href=\"/about\">About</a><br>\n",
      "        <a href=\"https://docs.anaconda.com/anaconda-cloud/user-guide\" target=\"_blank\">Documentation</a><br>\n",
      "        <a href=\"/contact\">Support</a><br>\n",
      "        <a href=\"https://www.anaconda.com/our-story\" target=\"_blank\">About Anaconda, Inc.</a><br>\n",
      "        <a href=\"https://www.anaconda.com/downloads\" target=\"_blank\">Download Anaconda</a><br>\n",
      "      </p>\n",
      "    </div>\n",
      "    <div class=\"columns medium-3 end\">\n",
      "      <h5>Community</h5>\n",
      "      <p>\n",
      "        <a href=\"https://www.anaconda.com/community\" target=\"_blank\">Anaconda Community</a><br>\n",
      "        <a href=\"https://www.anaconda.com/open-source-core-modern-software\" target=\"_blank\">Open Source</a><br>\n",
      "        <a href=\"https://www.anaconda.com/numfocus\" target=\"_blank\">NumFOCUS</a><br>\n",
      "        <a href=\"https://www.anaconda.com/support\" target=\"_blank\">Support</a><br>\n",
      "        <a href=\"https://www.anaconda.com/blog/developer-blog\" target=\"_blank\">Developer Blog</a>\n",
      "      </p>\n",
      "    </div>\n",
      "  </div>\n",
      "  <br>\n",
      "  <div class=\"row\">\n",
      "    <div class=\"social-icons columns medium-12\">\n",
      "      <ul>\n",
      "        <li><a href=\"https://twitter.com/anacondainc\" target=\"_blank\" aria-haspopup=\"true\" data-tooltip title=\"Follow us on Twitter\">\n",
      "          <img src=\"/static/img/social-icons/twitter.svg\" />\n",
      "        </a></li>\n",
      "        <li><a href=\"https://www.facebook.com/anacondainc\" target=\"_blank\" aria-haspopup=\"true\" data-tooltip title=\"Find us on Facebook\">\n",
      "          <img src=\"/static/img/social-icons/facebook.svg\" />\n",
      "        </a></li>\n",
      "        <li><a href=\"https://www.slideshare.net/continuumio\" target=\"_blank\" aria-haspopup=\"true\" data-tooltip title=\"Follow us on Slideshare\">\n",
      "          <img src=\"/static/img/social-icons/slideshare.svg\" />\n",
      "        </a></li>\n",
      "        <li><a href=\"https://www.linkedin.com/company/anacondainc\" target=\"_blank\" aria-haspopup=\"true\" data-tooltip title=\"Find us on LinkedIn\">\n",
      "          <img src=\"/static/img/social-icons/linkedin.svg\" />\n",
      "        </a></li>\n",
      "        <li><a href=\"https://www.instagram.com/anaconda_inc/\" target=\"_blank\" aria-haspopup=\"true\" data-tooltip title=\"Follow us on Instagram\">\n",
      "          <img src=\"/static/img/social-icons/instagram.svg\" />\n",
      "        </a></li>\n",
      "        <li><a href=\"https://www.youtube.com/c/ContinuumIo\" target=\"_blank\" aria-haspopup=\"true\" data-tooltip title=\"Watch us on YouTube\">\n",
      "          <img src=\"/static/img/social-icons/youtube.svg\" />\n",
      "        </a></li>\n",
      "        <li><a href=\"https://github.com/ContinuumIO\" target=\"_blank\" aria-haspopup=\"true\" data-tooltip title=\"Follow us on GitHub\">\n",
      "          <img src=\"/static/img/social-icons/github.svg\" />\n",
      "        </a></li>\n",
      "      </ul>\n",
      "    </div>\n",
      "  </div>\n",
      "\n",
      "</footer>\n",
      "<div class=\"license full-width\">\n",
      "  <div class=\"row\">\n",
      "    <div class=\"columns medium-12 text-center\">\n",
      "      <h5>\n",
      "        \n",
      "        <a href=\"/about/legal/privacy\" target=\"_blank\">PRIVACY POLICY</a>\n",
      "        &nbsp;&#124;&nbsp;\n",
      "        <a href=\"/about/legal/terms\" target=\"_blank\">EULA</a>\n",
      "        \n",
      "        <span>(Anaconda Cloud v2.33.27)</span>\n",
      "        &copy;\n",
      "        2018 Anaconda, Inc. All Rights Reserved.\n",
      "      </h5>\n",
      "    </div>\n",
      "  </div>\n",
      "</div>\n",
      "    \n",
      "   \n",
      "\n",
      "    \n",
      "    \n",
      "    <!-- Google Tag Manager -->\n",
      "<noscript><iframe src=\"//www.googletagmanager.com/ns.html?id=GTM-MTFQWW\"\n",
      "height=\"0\" width=\"0\" style=\"display:none;visibility:hidden\"></iframe></noscript>\n",
      "<script>(function(w,d,s,l,i){w[l]=w[l]||[];w[l].push({'gtm.start':\n",
      "new Date().getTime(),event:'gtm.js'});var f=d.getElementsByTagName(s)[0],\n",
      "j=d.createElement(s),dl=l!='dataLayer'?'&l='+l:'';j.async=true;j.src=\n",
      "'//www.googletagmanager.com/gtm.js?id='+i+dl;f.parentNode.insertBefore(j,f);\n",
      "})(window,document,'script','dataLayer','GTM-MTFQWW');</script>\n",
      "<!-- End Google Tag Manager -->\n",
      "    \n",
      "    <div id=\"ajax-modal\" class=\"reveal-modal\" data-reveal aria-hidden=\"true\"></div>\n",
      "  </body>\n",
      "</html>\n"
     ]
    }
   ],
   "source": [
    "print(response.text)"
   ]
  },
  {
   "cell_type": "markdown",
   "metadata": {
    "slideshow": {
     "slide_type": "subslide"
    }
   },
   "source": [
    "#### `xpath` selection with `lxml`\n",
    "\n",
    "first, let's use the `lxml` package (for parsing `xml` documents) and specifically `lxml.html` library to parse the returned `html` into an `lxml.html` object"
   ]
  },
  {
   "cell_type": "code",
   "execution_count": 23,
   "metadata": {
    "ExecuteTime": {
     "end_time": "2017-05-29T20:08:49.164770Z",
     "start_time": "2017-05-29T20:08:49.155322Z"
    }
   },
   "outputs": [
    {
     "data": {
      "text/plain": [
       "<Element html at 0x110b311d8>"
      ]
     },
     "execution_count": 23,
     "metadata": {},
     "output_type": "execute_result"
    }
   ],
   "source": [
    "import lxml.html\n",
    "\n",
    "root = lxml.html.fromstring(response.text)\n",
    "root"
   ]
  },
  {
   "cell_type": "markdown",
   "metadata": {
    "slideshow": {
     "slide_type": "subslide"
    }
   },
   "source": [
    "the `Element` object is nested: it has \"children\" which are, themselves, `lxml.html Element` objects:"
   ]
  },
  {
   "cell_type": "code",
   "execution_count": 24,
   "metadata": {
    "ExecuteTime": {
     "end_time": "2017-05-29T20:09:19.186413Z",
     "start_time": "2017-05-29T20:09:19.179952Z"
    }
   },
   "outputs": [
    {
     "data": {
      "text/plain": [
       "[<Element head at 0x110b317c8>, <Element body at 0x110b316d8>]"
      ]
     },
     "execution_count": 24,
     "metadata": {},
     "output_type": "execute_result"
    }
   ],
   "source": [
    "root.getchildren()"
   ]
  },
  {
   "cell_type": "markdown",
   "metadata": {
    "slideshow": {
     "slide_type": "subslide"
    }
   },
   "source": [
    "we can use `xpath` expressions via the `xpath` method on each `Element` object. by definition, all `xpath` expressions executed this way are relative to the particular object whose method we are using"
   ]
  },
  {
   "cell_type": "code",
   "execution_count": 25,
   "metadata": {
    "ExecuteTime": {
     "end_time": "2017-05-29T20:10:31.310437Z",
     "start_time": "2017-05-29T20:10:31.303160Z"
    }
   },
   "outputs": [
    {
     "data": {
      "text/plain": [
       "[<Element body at 0x110b316d8>]"
      ]
     },
     "execution_count": 25,
     "metadata": {},
     "output_type": "execute_result"
    }
   ],
   "source": [
    "root.xpath('body')"
   ]
  },
  {
   "cell_type": "markdown",
   "metadata": {
    "slideshow": {
     "slide_type": "subslide"
    }
   },
   "source": [
    "let's take the full `xpath` to the \"Package Name\" elements we developed above:\n",
    "\n",
    "```\n",
    "body/div/div/div/div/div/div/div/div/div/table/tbody/tr/td/a/span\n",
    "```\n",
    "\n",
    "and find elements at this `xpath` using the `xpath` method, one element at a time"
   ]
  },
  {
   "cell_type": "code",
   "execution_count": 41,
   "metadata": {
    "ExecuteTime": {
     "end_time": "2017-05-29T20:10:37.561101Z",
     "start_time": "2017-05-29T20:10:37.553486Z"
    },
    "scrolled": true,
    "slideshow": {
     "slide_type": "subslide"
    }
   },
   "outputs": [
    {
     "data": {
      "text/plain": [
       "[<Element span at 0x110bc17c8>,\n",
       " <Element span at 0x110bc18b8>,\n",
       " <Element span at 0x110bc1908>,\n",
       " <Element span at 0x110bc1958>,\n",
       " <Element span at 0x110bc19a8>,\n",
       " <Element span at 0x110bc19f8>,\n",
       " <Element span at 0x110bc1a48>,\n",
       " <Element span at 0x110bc1a98>,\n",
       " <Element span at 0x110bc1ae8>,\n",
       " <Element span at 0x110bc1b38>,\n",
       " <Element span at 0x110bc1b88>,\n",
       " <Element span at 0x110bc1bd8>,\n",
       " <Element span at 0x110bc1c28>,\n",
       " <Element span at 0x110bc1c78>,\n",
       " <Element span at 0x110bc1cc8>,\n",
       " <Element span at 0x110bc1d18>,\n",
       " <Element span at 0x110bc1d68>,\n",
       " <Element span at 0x110bc1db8>,\n",
       " <Element span at 0x110bc1e08>,\n",
       " <Element span at 0x110bc1e58>,\n",
       " <Element span at 0x110bc1ea8>,\n",
       " <Element span at 0x110bc1ef8>,\n",
       " <Element span at 0x110bc1f48>,\n",
       " <Element span at 0x110bc1f98>,\n",
       " <Element span at 0x110bc2048>,\n",
       " <Element span at 0x110bc2098>,\n",
       " <Element span at 0x110bc20e8>,\n",
       " <Element span at 0x110bc2138>,\n",
       " <Element span at 0x110bc2188>,\n",
       " <Element span at 0x110bc21d8>,\n",
       " <Element span at 0x110bc2228>,\n",
       " <Element span at 0x110bc2278>,\n",
       " <Element span at 0x110bc22c8>,\n",
       " <Element span at 0x110bc2318>,\n",
       " <Element span at 0x110bc2368>,\n",
       " <Element span at 0x110bc23b8>,\n",
       " <Element span at 0x110bc2408>,\n",
       " <Element span at 0x110bc2458>,\n",
       " <Element span at 0x110bc24a8>,\n",
       " <Element span at 0x110bc24f8>,\n",
       " <Element span at 0x110bc2548>,\n",
       " <Element span at 0x110bc2598>,\n",
       " <Element span at 0x110bc25e8>,\n",
       " <Element span at 0x110bc2638>,\n",
       " <Element span at 0x110bc2688>,\n",
       " <Element span at 0x110bc26d8>,\n",
       " <Element span at 0x110bc2728>,\n",
       " <Element span at 0x110bc2778>,\n",
       " <Element span at 0x110bc27c8>,\n",
       " <Element span at 0x110bc2818>]"
      ]
     },
     "execution_count": 41,
     "metadata": {},
     "output_type": "execute_result"
    }
   ],
   "source": [
    "# build it up one element at a time\n",
    "#root.xpath('body/div/div/div/div/div/div/div/div/div/table/tbody/tr/td/a/span')\n",
    "root.xpath('body/div/div/div/div/div/div/div/div/div/table/tbody/tr/td/a/span')"
   ]
  },
  {
   "cell_type": "markdown",
   "metadata": {
    "slideshow": {
     "slide_type": "subslide"
    }
   },
   "source": [
    "note that `tbody` element in the path above. it turns out that modern browsers add the `tbody` element in there whether it's in the source code or not.\n",
    "\n",
    "this means that we can often end up in a situation where `tbody` is what we see in the chrome devtools, for example, but there's actually no `tbody` element in the `lxml` object.\n",
    "\n",
    "why is still mostly a mystery to me, and [I'm comforted by the fact that I'm not alone](https://stackoverflow.com/questions/27918086/why-tbody-will-be-added-automatically-by-browser)."
   ]
  },
  {
   "cell_type": "code",
   "execution_count": 42,
   "metadata": {
    "scrolled": true,
    "slideshow": {
     "slide_type": "subslide"
    }
   },
   "outputs": [
    {
     "data": {
      "text/plain": [
       "[<Element span at 0x110bc17c8>,\n",
       " <Element span at 0x110bc18b8>,\n",
       " <Element span at 0x110bc1908>,\n",
       " <Element span at 0x110bc1958>,\n",
       " <Element span at 0x110bc19a8>,\n",
       " <Element span at 0x110bc19f8>,\n",
       " <Element span at 0x110bc1a48>,\n",
       " <Element span at 0x110bc1a98>,\n",
       " <Element span at 0x110bc1ae8>,\n",
       " <Element span at 0x110bc1b38>,\n",
       " <Element span at 0x110bc1b88>,\n",
       " <Element span at 0x110bc1bd8>,\n",
       " <Element span at 0x110bc1c28>,\n",
       " <Element span at 0x110bc1c78>,\n",
       " <Element span at 0x110bc1cc8>,\n",
       " <Element span at 0x110bc1d18>,\n",
       " <Element span at 0x110bc1d68>,\n",
       " <Element span at 0x110bc1db8>,\n",
       " <Element span at 0x110bc1e08>,\n",
       " <Element span at 0x110bc1e58>,\n",
       " <Element span at 0x110bc1ea8>,\n",
       " <Element span at 0x110bc1ef8>,\n",
       " <Element span at 0x110bc1f48>,\n",
       " <Element span at 0x110bc1f98>,\n",
       " <Element span at 0x110bc2048>,\n",
       " <Element span at 0x110bc2098>,\n",
       " <Element span at 0x110bc20e8>,\n",
       " <Element span at 0x110bc2138>,\n",
       " <Element span at 0x110bc2188>,\n",
       " <Element span at 0x110bc21d8>,\n",
       " <Element span at 0x110bc2228>,\n",
       " <Element span at 0x110bc2278>,\n",
       " <Element span at 0x110bc22c8>,\n",
       " <Element span at 0x110bc2318>,\n",
       " <Element span at 0x110bc2368>,\n",
       " <Element span at 0x110bc23b8>,\n",
       " <Element span at 0x110bc2408>,\n",
       " <Element span at 0x110bc2458>,\n",
       " <Element span at 0x110bc24a8>,\n",
       " <Element span at 0x110bc24f8>,\n",
       " <Element span at 0x110bc2548>,\n",
       " <Element span at 0x110bc2598>,\n",
       " <Element span at 0x110bc25e8>,\n",
       " <Element span at 0x110bc2638>,\n",
       " <Element span at 0x110bc2688>,\n",
       " <Element span at 0x110bc26d8>,\n",
       " <Element span at 0x110bc2728>,\n",
       " <Element span at 0x110bc2778>,\n",
       " <Element span at 0x110bc27c8>,\n",
       " <Element span at 0x110bc2818>]"
      ]
     },
     "execution_count": 42,
     "metadata": {},
     "output_type": "execute_result"
    }
   ],
   "source": [
    "root.xpath('body/div/div/div/div/div/div/div/div/div/table/tbody/tr/td/a/span')"
   ]
  },
  {
   "cell_type": "markdown",
   "metadata": {
    "slideshow": {
     "slide_type": "subslide"
    }
   },
   "source": [
    "SO USEFUL RIGHT? Let's look at one of those items above"
   ]
  },
  {
   "cell_type": "code",
   "execution_count": 43,
   "metadata": {
    "ExecuteTime": {
     "end_time": "2017-05-29T20:11:44.061211Z",
     "start_time": "2017-05-29T20:11:44.052941Z"
    }
   },
   "outputs": [
    {
     "name": "stdout",
     "output_type": "stream",
     "text": [
      "we have 50 spans\n",
      "b'<span class=\"packageName\">xlutils</span>\\n      '\n"
     ]
    }
   ],
   "source": [
    "packageElems = root.xpath('body/div/div/div/div/div/div/div/div/div/table/tbody/tr/td/a/span')\n",
    "print('we have {} spans'.format(len(packageElems)))\n",
    "\n",
    "pkg0 = packageElems[0]\n",
    "print(lxml.html.tostring(pkg0))"
   ]
  },
  {
   "cell_type": "markdown",
   "metadata": {
    "slideshow": {
     "slide_type": "subslide"
    }
   },
   "source": [
    "this `span` element has a `class` attribute with value `\"packageName\"`:"
   ]
  },
  {
   "cell_type": "code",
   "execution_count": 44,
   "metadata": {
    "ExecuteTime": {
     "end_time": "2017-05-29T20:12:30.762546Z",
     "start_time": "2017-05-29T20:12:30.757188Z"
    }
   },
   "outputs": [
    {
     "data": {
      "text/plain": [
       "{'class': 'packageName'}"
      ]
     },
     "execution_count": 44,
     "metadata": {},
     "output_type": "execute_result"
    }
   ],
   "source": [
    "pkg0.attrib"
   ]
  },
  {
   "cell_type": "markdown",
   "metadata": {
    "slideshow": {
     "slide_type": "subslide"
    }
   },
   "source": [
    "that seems pretty dang unique to the \"package name\" column we are interested in, right? how about we use it in our `xpath` expression:"
   ]
  },
  {
   "cell_type": "code",
   "execution_count": 45,
   "metadata": {},
   "outputs": [
    {
     "name": "stdout",
     "output_type": "stream",
     "text": [
      "we have 50 td cells\n",
      "b'<span class=\"packageName\">xlutils</span>\\n      '\n"
     ]
    }
   ],
   "source": [
    "packageElems = root.xpath('//span[@class=\"packageName\"]')\n",
    "print('we have {} td cells'.format(len(packageElems)))\n",
    "\n",
    "pkg0 = packageElems[0]\n",
    "print(lxml.html.tostring(pkg0))"
   ]
  },
  {
   "cell_type": "markdown",
   "metadata": {
    "slideshow": {
     "slide_type": "subslide"
    }
   },
   "source": [
    "same elements with about 1/80th of the work. cool.\n",
    "\n",
    "the text contained \"within\" this first `span` element is `xlutils` (might change day-to-day), and can be accessed via the `text` object attribute:"
   ]
  },
  {
   "cell_type": "code",
   "execution_count": 46,
   "metadata": {
    "ExecuteTime": {
     "end_time": "2017-05-28T21:55:39.828425Z",
     "start_time": "2017-05-28T21:55:39.821335Z"
    },
    "slideshow": {
     "slide_type": "-"
    }
   },
   "outputs": [
    {
     "data": {
      "text/plain": [
       "'xlutils'"
      ]
     },
     "execution_count": 46,
     "metadata": {},
     "output_type": "execute_result"
    }
   ],
   "source": [
    "pkg0.text"
   ]
  },
  {
   "cell_type": "markdown",
   "metadata": {
    "slideshow": {
     "slide_type": "subslide"
    }
   },
   "source": [
    "using that `text` object attribute we can get all of the package names from a simple list comprehension"
   ]
  },
  {
   "cell_type": "code",
   "execution_count": 47,
   "metadata": {
    "ExecuteTime": {
     "end_time": "2017-05-29T20:13:31.615896Z",
     "start_time": "2017-05-29T20:13:31.611198Z"
    },
    "slideshow": {
     "slide_type": "-"
    }
   },
   "outputs": [
    {
     "data": {
      "text/plain": [
       "['xlutils',\n",
       " 'vs2013_runtime',\n",
       " 'python',\n",
       " 'python-ntlm',\n",
       " 'plac',\n",
       " 'pbkdf2',\n",
       " 'pathlib',\n",
       " 'numpy-devel',\n",
       " 'numpy-base',\n",
       " 'numpy']"
      ]
     },
     "execution_count": 47,
     "metadata": {},
     "output_type": "execute_result"
    }
   ],
   "source": [
    "packagenames = [elem.text for elem in packageElems]\n",
    "\n",
    "packagenames[:10]"
   ]
  },
  {
   "cell_type": "markdown",
   "metadata": {
    "slideshow": {
     "slide_type": "subslide"
    }
   },
   "source": [
    "that's pretty good so far, but what if we want to actually pull down *all* the contents of that table -- not just the package name?\n",
    "\n",
    "we could create a separate parser for each column and zip them together\n",
    "\n",
    "there are issues with this sort of approach, though -- any idea what would be problematic with this?"
   ]
  },
  {
   "cell_type": "markdown",
   "metadata": {
    "slideshow": {
     "slide_type": "subslide"
    }
   },
   "source": [
    "first, what would happen if one of the rows was missing an element, and we zipped lists of different lengths? or a future table had multiple sub-elements in a cell in a row (e.g. [here](https://en.wikipedia.org/wiki/Help:Table#Cells_spanning_multiple_rows_or_columns))"
   ]
  },
  {
   "cell_type": "markdown",
   "metadata": {
    "slideshow": {
     "slide_type": "subslide"
    }
   },
   "source": [
    "second, that approach actually throws away quite a bit of information. every element within one *row* of the table is actually a *child* of a table row element (`tr`). \n",
    "\n",
    "we could use an `xpath` expression to get our `tr`, and then iterate through the elements (`td`) that are children of those rows."
   ]
  },
  {
   "cell_type": "markdown",
   "metadata": {
    "slideshow": {
     "slide_type": "subslide"
    }
   },
   "source": [
    "let's start by building an expression to get the table rows:"
   ]
  },
  {
   "cell_type": "code",
   "execution_count": 48,
   "metadata": {
    "ExecuteTime": {
     "end_time": "2017-05-28T22:00:29.521328Z",
     "start_time": "2017-05-28T22:00:29.514293Z"
    },
    "slideshow": {
     "slide_type": "-"
    }
   },
   "outputs": [
    {
     "name": "stdout",
     "output_type": "stream",
     "text": [
      "we got 50 rows\n"
     ]
    },
    {
     "data": {
      "text/plain": [
       "<Element tr at 0x110bb7638>"
      ]
     },
     "execution_count": 48,
     "metadata": {},
     "output_type": "execute_result"
    }
   ],
   "source": [
    "rows = root.xpath('//table[@id=\"repo-packages-table\"]/tbody/tr')\n",
    "print('we got {} rows'.format(len(rows)))\n",
    "\n",
    "row0 = rows[0]\n",
    "row0"
   ]
  },
  {
   "cell_type": "markdown",
   "metadata": {
    "slideshow": {
     "slide_type": "subslide"
    }
   },
   "source": [
    "this `tr` element has four children, one for each column"
   ]
  },
  {
   "cell_type": "code",
   "execution_count": 49,
   "metadata": {
    "ExecuteTime": {
     "end_time": "2017-05-28T22:00:33.258378Z",
     "start_time": "2017-05-28T22:00:33.252770Z"
    },
    "slideshow": {
     "slide_type": "-"
    }
   },
   "outputs": [
    {
     "data": {
      "text/plain": [
       "[<Element td at 0x110bba6d8>,\n",
       " <Element td at 0x110bba778>,\n",
       " <Element td at 0x110bba5e8>,\n",
       " <Element td at 0x110bba7c8>]"
      ]
     },
     "execution_count": 49,
     "metadata": {},
     "output_type": "execute_result"
    }
   ],
   "source": [
    "row0.getchildren()"
   ]
  },
  {
   "cell_type": "markdown",
   "metadata": {
    "slideshow": {
     "slide_type": "subslide"
    }
   },
   "source": [
    "let's unpack this row and parse out the info we want from each element"
   ]
  },
  {
   "cell_type": "code",
   "execution_count": 50,
   "metadata": {
    "slideshow": {
     "slide_type": "-"
    }
   },
   "outputs": [],
   "source": [
    "packageTd, accessTd, summaryTd, updatedTd = row0.getchildren()"
   ]
  },
  {
   "cell_type": "markdown",
   "metadata": {
    "slideshow": {
     "slide_type": "subslide"
    }
   },
   "source": [
    "for `packageTd`, let's get the link to and name of the package. we can use the `find` object method to return the first (and only the first) element which matches a given `xpath` expression"
   ]
  },
  {
   "cell_type": "code",
   "execution_count": 51,
   "metadata": {
    "slideshow": {
     "slide_type": "-"
    }
   },
   "outputs": [
    {
     "name": "stdout",
     "output_type": "stream",
     "text": [
      "<Element a at 0x110bbf7c8>\n"
     ]
    },
    {
     "data": {
      "text/plain": [
       "{'data-package': '', 'href': '/anaconda/xlutils'}"
      ]
     },
     "execution_count": 51,
     "metadata": {},
     "output_type": "execute_result"
    }
   ],
   "source": [
    "a = packageTd.find('a')\n",
    "print(a)\n",
    "\n",
    "a.attrib"
   ]
  },
  {
   "cell_type": "code",
   "execution_count": 52,
   "metadata": {
    "slideshow": {
     "slide_type": "subslide"
    }
   },
   "outputs": [
    {
     "data": {
      "text/plain": [
       "'/anaconda/xlutils'"
      ]
     },
     "execution_count": 52,
     "metadata": {},
     "output_type": "execute_result"
    }
   ],
   "source": [
    "packagelink = packageTd.find('a').attrib['href']\n",
    "packagelink"
   ]
  },
  {
   "cell_type": "markdown",
   "metadata": {
    "slideshow": {
     "slide_type": "subslide"
    }
   },
   "source": [
    "as for the name, that's the `text` element on the `span` (we saw this up above)."
   ]
  },
  {
   "cell_type": "code",
   "execution_count": 53,
   "metadata": {
    "slideshow": {
     "slide_type": "-"
    }
   },
   "outputs": [
    {
     "data": {
      "text/plain": [
       "'xlutils'"
      ]
     },
     "execution_count": 53,
     "metadata": {},
     "output_type": "execute_result"
    }
   ],
   "source": [
    "packagename = packageTd.find('a/span').text\n",
    "packagename"
   ]
  },
  {
   "cell_type": "markdown",
   "metadata": {
    "slideshow": {
     "slide_type": "subslide"
    }
   },
   "source": [
    "the other three are much easier -- each is simply a `td` element with a text item we'd like to pull out"
   ]
  },
  {
   "cell_type": "code",
   "execution_count": 54,
   "metadata": {
    "slideshow": {
     "slide_type": "-"
    }
   },
   "outputs": [
    {
     "data": {
      "text/plain": [
       "('public', '\\n      No Summary\\n    ', '2018-10-24')"
      ]
     },
     "execution_count": 54,
     "metadata": {},
     "output_type": "execute_result"
    }
   ],
   "source": [
    "access = accessTd.text\n",
    "summary = summaryTd.text\n",
    "updated = updatedTd.text\n",
    "\n",
    "access, summary, updated"
   ]
  },
  {
   "cell_type": "markdown",
   "metadata": {
    "slideshow": {
     "slide_type": "subslide"
    }
   },
   "source": [
    "the extra whitespace on the `summary` is annoying -- we can `strip` that off. also, let's parse the `updated` date string into a datetime object"
   ]
  },
  {
   "cell_type": "code",
   "execution_count": 55,
   "metadata": {
    "slideshow": {
     "slide_type": "-"
    }
   },
   "outputs": [
    {
     "data": {
      "text/plain": [
       "('public', 'No Summary', datetime.datetime(2018, 10, 24, 0, 0))"
      ]
     },
     "execution_count": 55,
     "metadata": {},
     "output_type": "execute_result"
    }
   ],
   "source": [
    "import datetime\n",
    "\n",
    "access = accessTd.text\n",
    "summary = summaryTd.text.strip()\n",
    "updated = datetime.datetime.strptime(updatedTd.text, '%Y-%m-%d')\n",
    "\n",
    "access, summary, updated"
   ]
  },
  {
   "cell_type": "markdown",
   "metadata": {
    "slideshow": {
     "slide_type": "subslide"
    }
   },
   "source": [
    "let's unpack these four elements all in one place and put them together into a dictionary for this record"
   ]
  },
  {
   "cell_type": "code",
   "execution_count": 56,
   "metadata": {
    "ExecuteTime": {
     "end_time": "2017-05-28T22:00:41.080453Z",
     "start_time": "2017-05-28T22:00:41.070761Z"
    },
    "slideshow": {
     "slide_type": "-"
    }
   },
   "outputs": [
    {
     "data": {
      "text/plain": [
       "{'packagelink': '/anaconda/xlutils',\n",
       " 'packagename': 'xlutils',\n",
       " 'access': 'public',\n",
       " 'summary': 'No Summary',\n",
       " 'updated': datetime.datetime(2018, 10, 24, 0, 0)}"
      ]
     },
     "execution_count": 56,
     "metadata": {},
     "output_type": "execute_result"
    }
   ],
   "source": [
    "packageTd, accessTd, summaryTd, updatedTd = row0.getchildren()\n",
    "d = {\n",
    "    'packagelink': packageTd.find('a').attrib['href'],\n",
    "    'packagename': packageTd.find('a/span').text,\n",
    "    'access': accessTd.text,\n",
    "    'summary': summaryTd.text.strip(),\n",
    "    'updated': datetime.datetime.strptime(updatedTd.text, '%Y-%m-%d'),\n",
    "}\n",
    "d"
   ]
  },
  {
   "cell_type": "markdown",
   "metadata": {
    "slideshow": {
     "slide_type": "subslide"
    }
   },
   "source": [
    "let's turn that into a function we can apply to all of the rows in our parsed table"
   ]
  },
  {
   "cell_type": "code",
   "execution_count": 57,
   "metadata": {
    "ExecuteTime": {
     "end_time": "2017-05-28T22:00:41.080453Z",
     "start_time": "2017-05-28T22:00:41.070761Z"
    },
    "slideshow": {
     "slide_type": "-"
    }
   },
   "outputs": [],
   "source": [
    "def parse_row(elem):\n",
    "    packageTd, accessTd, summaryTd, updatedTd = elem.getchildren()\n",
    "    d = {\n",
    "        'packagelink': packageTd.find('a').attrib['href'],\n",
    "        'packagename': packageTd.find('a/span').text,\n",
    "        'access': accessTd.text,\n",
    "        'summary': summaryTd.text.strip(),\n",
    "        'updated': datetime.datetime.strptime(updatedTd.text, '%Y-%m-%d'),\n",
    "    }\n",
    "    return d"
   ]
  },
  {
   "cell_type": "markdown",
   "metadata": {
    "slideshow": {
     "slide_type": "subslide"
    }
   },
   "source": [
    "and finally, we can take our `rows` element from wayyyyyyyy back and use a list comprehension to parse each row in that list to a dictionary of useful information. in fact, it'll be a list of dictionaries -- let's just toss it into a `pandas` dataframe while we're at it"
   ]
  },
  {
   "cell_type": "code",
   "execution_count": 58,
   "metadata": {
    "slideshow": {
     "slide_type": "-"
    }
   },
   "outputs": [
    {
     "data": {
      "text/html": [
       "<div>\n",
       "<style>\n",
       "    .dataframe thead tr:only-child th {\n",
       "        text-align: right;\n",
       "    }\n",
       "\n",
       "    .dataframe thead th {\n",
       "        text-align: left;\n",
       "    }\n",
       "\n",
       "    .dataframe tbody tr th {\n",
       "        vertical-align: top;\n",
       "    }\n",
       "</style>\n",
       "<table border=\"1\" class=\"dataframe\">\n",
       "  <thead>\n",
       "    <tr style=\"text-align: right;\">\n",
       "      <th></th>\n",
       "      <th>access</th>\n",
       "      <th>packagelink</th>\n",
       "      <th>packagename</th>\n",
       "      <th>summary</th>\n",
       "      <th>updated</th>\n",
       "    </tr>\n",
       "  </thead>\n",
       "  <tbody>\n",
       "    <tr>\n",
       "      <th>0</th>\n",
       "      <td>public</td>\n",
       "      <td>/anaconda/xlutils</td>\n",
       "      <td>xlutils</td>\n",
       "      <td>No Summary</td>\n",
       "      <td>2018-10-24</td>\n",
       "    </tr>\n",
       "    <tr>\n",
       "      <th>1</th>\n",
       "      <td>public</td>\n",
       "      <td>/anaconda/vs2013_runtime</td>\n",
       "      <td>vs2013_runtime</td>\n",
       "      <td>No Summary</td>\n",
       "      <td>2018-10-24</td>\n",
       "    </tr>\n",
       "    <tr>\n",
       "      <th>2</th>\n",
       "      <td>public</td>\n",
       "      <td>/anaconda/python</td>\n",
       "      <td>python</td>\n",
       "      <td>General purpose programming language</td>\n",
       "      <td>2018-10-24</td>\n",
       "    </tr>\n",
       "    <tr>\n",
       "      <th>3</th>\n",
       "      <td>public</td>\n",
       "      <td>/anaconda/python-ntlm</td>\n",
       "      <td>python-ntlm</td>\n",
       "      <td>No Summary</td>\n",
       "      <td>2018-10-24</td>\n",
       "    </tr>\n",
       "    <tr>\n",
       "      <th>4</th>\n",
       "      <td>public</td>\n",
       "      <td>/anaconda/plac</td>\n",
       "      <td>plac</td>\n",
       "      <td>The smartest command line arguments parser in ...</td>\n",
       "      <td>2018-10-24</td>\n",
       "    </tr>\n",
       "  </tbody>\n",
       "</table>\n",
       "</div>"
      ],
      "text/plain": [
       "   access               packagelink     packagename  \\\n",
       "0  public         /anaconda/xlutils         xlutils   \n",
       "1  public  /anaconda/vs2013_runtime  vs2013_runtime   \n",
       "2  public          /anaconda/python          python   \n",
       "3  public     /anaconda/python-ntlm     python-ntlm   \n",
       "4  public            /anaconda/plac            plac   \n",
       "\n",
       "                                             summary    updated  \n",
       "0                                         No Summary 2018-10-24  \n",
       "1                                         No Summary 2018-10-24  \n",
       "2               General purpose programming language 2018-10-24  \n",
       "3                                         No Summary 2018-10-24  \n",
       "4  The smartest command line arguments parser in ... 2018-10-24  "
      ]
     },
     "execution_count": 58,
     "metadata": {},
     "output_type": "execute_result"
    }
   ],
   "source": [
    "import pandas as pd\n",
    "\n",
    "rows = root.xpath('//table[@id=\"repo-packages-table\"]/tbody/tr')\n",
    "packageinfo = [parse_row(row) for row in rows]\n",
    "dfpackage = pd.DataFrame(packageinfo)\n",
    "dfpackage.head()"
   ]
  },
  {
   "cell_type": "markdown",
   "metadata": {
    "slideshow": {
     "slide_type": "subslide"
    }
   },
   "source": [
    "from end to end, then, we have the following `python` code to parse this entire table:"
   ]
  },
  {
   "cell_type": "code",
   "execution_count": 68,
   "metadata": {
    "slideshow": {
     "slide_type": "subslide"
    }
   },
   "outputs": [],
   "source": [
    "def parse_row(elem):\n",
    "    packageTd, accessTd, summaryTd, updatedTd = elem.getchildren()\n",
    "    return {\n",
    "        'packagelink': packageTd.find('a').attrib['href'],\n",
    "        'packagename': packageTd.find('a/span').text,\n",
    "        'access': accessTd.text,\n",
    "        'summary': summaryTd.text.strip(),\n",
    "        'updated': datetime.datetime.strptime(updatedTd.text, '%Y-%m-%d'),\n",
    "    }\n",
    "\n",
    "def get_packages():\n",
    "    response = requests.get(url='https://anaconda.org/anaconda/repo')\n",
    "    root = lxml.html.fromstring(response.text)\n",
    "    return pd.DataFrame([\n",
    "        parse_row(row)\n",
    "        for row in root.xpath('//table[@id=\"repo-packages-table\"]/tbody/tr')\n",
    "    ])"
   ]
  },
  {
   "cell_type": "code",
   "execution_count": 69,
   "metadata": {
    "slideshow": {
     "slide_type": "subslide"
    }
   },
   "outputs": [
    {
     "data": {
      "text/html": [
       "<div>\n",
       "<style>\n",
       "    .dataframe thead tr:only-child th {\n",
       "        text-align: right;\n",
       "    }\n",
       "\n",
       "    .dataframe thead th {\n",
       "        text-align: left;\n",
       "    }\n",
       "\n",
       "    .dataframe tbody tr th {\n",
       "        vertical-align: top;\n",
       "    }\n",
       "</style>\n",
       "<table border=\"1\" class=\"dataframe\">\n",
       "  <thead>\n",
       "    <tr style=\"text-align: right;\">\n",
       "      <th></th>\n",
       "      <th>access</th>\n",
       "      <th>packagelink</th>\n",
       "      <th>packagename</th>\n",
       "      <th>summary</th>\n",
       "      <th>updated</th>\n",
       "    </tr>\n",
       "  </thead>\n",
       "  <tbody>\n",
       "    <tr>\n",
       "      <th>0</th>\n",
       "      <td>public</td>\n",
       "      <td>/anaconda/xlutils</td>\n",
       "      <td>xlutils</td>\n",
       "      <td>No Summary</td>\n",
       "      <td>2018-10-24</td>\n",
       "    </tr>\n",
       "    <tr>\n",
       "      <th>1</th>\n",
       "      <td>public</td>\n",
       "      <td>/anaconda/vs2013_runtime</td>\n",
       "      <td>vs2013_runtime</td>\n",
       "      <td>No Summary</td>\n",
       "      <td>2018-10-24</td>\n",
       "    </tr>\n",
       "    <tr>\n",
       "      <th>2</th>\n",
       "      <td>public</td>\n",
       "      <td>/anaconda/python</td>\n",
       "      <td>python</td>\n",
       "      <td>General purpose programming language</td>\n",
       "      <td>2018-10-24</td>\n",
       "    </tr>\n",
       "    <tr>\n",
       "      <th>3</th>\n",
       "      <td>public</td>\n",
       "      <td>/anaconda/python-ntlm</td>\n",
       "      <td>python-ntlm</td>\n",
       "      <td>No Summary</td>\n",
       "      <td>2018-10-24</td>\n",
       "    </tr>\n",
       "    <tr>\n",
       "      <th>4</th>\n",
       "      <td>public</td>\n",
       "      <td>/anaconda/plac</td>\n",
       "      <td>plac</td>\n",
       "      <td>The smartest command line arguments parser in ...</td>\n",
       "      <td>2018-10-24</td>\n",
       "    </tr>\n",
       "  </tbody>\n",
       "</table>\n",
       "</div>"
      ],
      "text/plain": [
       "   access               packagelink     packagename  \\\n",
       "0  public         /anaconda/xlutils         xlutils   \n",
       "1  public  /anaconda/vs2013_runtime  vs2013_runtime   \n",
       "2  public          /anaconda/python          python   \n",
       "3  public     /anaconda/python-ntlm     python-ntlm   \n",
       "4  public            /anaconda/plac            plac   \n",
       "\n",
       "                                             summary    updated  \n",
       "0                                         No Summary 2018-10-24  \n",
       "1                                         No Summary 2018-10-24  \n",
       "2               General purpose programming language 2018-10-24  \n",
       "3                                         No Summary 2018-10-24  \n",
       "4  The smartest command line arguments parser in ... 2018-10-24  "
      ]
     },
     "execution_count": 69,
     "metadata": {},
     "output_type": "execute_result"
    }
   ],
   "source": [
    "dfpackage = get_packages()\n",
    "dfpackage.head()"
   ]
  },
  {
   "cell_type": "markdown",
   "metadata": {
    "slideshow": {
     "slide_type": "subslide"
    }
   },
   "source": [
    "#### `css` selection\n",
    "\n",
    "as you saw above, we were generally referring to the `class` or `id` elements of `html` tag elements -- well, that's almost identical to what is done in `css`."
   ]
  },
  {
   "cell_type": "markdown",
   "metadata": {
    "slideshow": {
     "slide_type": "subslide"
    }
   },
   "source": [
    "we can use the `cssselect` (three `s` characters there) to do the `css` selection. repeating the selection of *just* the \"Package Name\" column is easy to reproduce\n",
    "\n",
    "*note: we will reuse the `lxml.html` object from before*"
   ]
  },
  {
   "cell_type": "code",
   "execution_count": 61,
   "metadata": {
    "ExecuteTime": {
     "end_time": "2017-05-29T20:29:01.666896Z",
     "start_time": "2017-05-29T20:29:01.644927Z"
    },
    "slideshow": {
     "slide_type": "-"
    }
   },
   "outputs": [
    {
     "data": {
      "text/plain": [
       "['xlutils', 'vs2013_runtime', 'python', 'python-ntlm', 'plac']"
      ]
     },
     "execution_count": 61,
     "metadata": {},
     "output_type": "execute_result"
    }
   ],
   "source": [
    "packageElems = root.cssselect('.packageName')\n",
    "packages = [elem.text for elem in packageElems]\n",
    "packages[:5]"
   ]
  },
  {
   "cell_type": "markdown",
   "metadata": {
    "slideshow": {
     "slide_type": "subslide"
    }
   },
   "source": [
    "the selection of the table element is also trivial. we can use the `#` character to select based on the `id` value, and the `tr` element to select a descendent of that selected table\n",
    "\n",
    "`xpath` expression\n",
    "\n",
    "```\n",
    "//table[@id=\"repo-packages-table\"]/tbody/tr\n",
    "```\n",
    "\n",
    "becomes `css` selector\n",
    "\n",
    "```\n",
    "table#repo-packages-table tr\n",
    "```"
   ]
  },
  {
   "cell_type": "code",
   "execution_count": 70,
   "metadata": {
    "ExecuteTime": {
     "end_time": "2017-05-29T20:29:02.281904Z",
     "start_time": "2017-05-29T20:29:02.272074Z"
    },
    "slideshow": {
     "slide_type": "-"
    }
   },
   "outputs": [
    {
     "name": "stdout",
     "output_type": "stream",
     "text": [
      "we found 51 rows\n"
     ]
    },
    {
     "data": {
      "text/plain": [
       "[<Element tr at 0x1217499f8>,\n",
       " <Element tr at 0x110bb7638>,\n",
       " <Element tr at 0x110bb7548>,\n",
       " <Element tr at 0x110bb7688>,\n",
       " <Element tr at 0x110bb76d8>]"
      ]
     },
     "execution_count": 70,
     "metadata": {},
     "output_type": "execute_result"
    }
   ],
   "source": [
    "rows = root.cssselect('table#repo-packages-table tr')\n",
    "print('we found {} rows'.format(len(rows)))\n",
    "\n",
    "rows[:5]"
   ]
  },
  {
   "cell_type": "markdown",
   "metadata": {
    "slideshow": {
     "slide_type": "subslide"
    }
   },
   "source": [
    "notice something weird?"
   ]
  },
  {
   "cell_type": "markdown",
   "metadata": {
    "slideshow": {
     "slide_type": "subslide"
    }
   },
   "source": [
    "that `css` selection grabbed 51 rows, but we were only supposed to have 50. our \"any descendant\" selector picked up the header as well. not cool!\n",
    "\n",
    "let's be more specific"
   ]
  },
  {
   "cell_type": "code",
   "execution_count": 71,
   "metadata": {
    "ExecuteTime": {
     "end_time": "2017-05-29T20:29:02.281904Z",
     "start_time": "2017-05-29T20:29:02.272074Z"
    },
    "slideshow": {
     "slide_type": "-"
    }
   },
   "outputs": [
    {
     "name": "stdout",
     "output_type": "stream",
     "text": [
      "we found 50 rows\n"
     ]
    },
    {
     "data": {
      "text/plain": [
       "[<Element tr at 0x110bb7638>,\n",
       " <Element tr at 0x110bb7548>,\n",
       " <Element tr at 0x110bb7688>,\n",
       " <Element tr at 0x110bb76d8>,\n",
       " <Element tr at 0x110bb7728>]"
      ]
     },
     "execution_count": 71,
     "metadata": {},
     "output_type": "execute_result"
    }
   ],
   "source": [
    "rows = root.cssselect('table#repo-packages-table tbody tr')\n",
    "print('we found {} rows'.format(len(rows)))\n",
    "\n",
    "rows[:5]"
   ]
  },
  {
   "cell_type": "markdown",
   "metadata": {
    "slideshow": {
     "slide_type": "subslide"
    }
   },
   "source": [
    "we can reproduce the entire earlier behavior with `css` selectors:"
   ]
  },
  {
   "cell_type": "code",
   "execution_count": 72,
   "metadata": {
    "slideshow": {
     "slide_type": "subslide"
    }
   },
   "outputs": [],
   "source": [
    "def parse_row(elem):\n",
    "    packageTd, accessTd, summaryTd, updatedTd = elem.getchildren()\n",
    "    return {\n",
    "        'packagelink': packageTd.cssselect('a')[0].attrib['href'],\n",
    "        'packagename': packageTd.cssselect('a span')[0].text,\n",
    "        'access': accessTd.text,\n",
    "        'summary': summaryTd.text.strip(),\n",
    "        'updated': datetime.datetime.strptime(updatedTd.text, '%Y-%m-%d'),\n",
    "    }\n",
    "\n",
    "def get_packages():\n",
    "    response = requests.get(url='https://anaconda.org/anaconda/repo')\n",
    "    root = lxml.html.fromstring(response.text)\n",
    "    return pd.DataFrame([\n",
    "        parse_row(row)\n",
    "        for row in root.cssselect('table#repo-packages-table tbody tr')\n",
    "    ])"
   ]
  },
  {
   "cell_type": "code",
   "execution_count": 73,
   "metadata": {
    "slideshow": {
     "slide_type": "subslide"
    }
   },
   "outputs": [
    {
     "data": {
      "text/html": [
       "<div>\n",
       "<style>\n",
       "    .dataframe thead tr:only-child th {\n",
       "        text-align: right;\n",
       "    }\n",
       "\n",
       "    .dataframe thead th {\n",
       "        text-align: left;\n",
       "    }\n",
       "\n",
       "    .dataframe tbody tr th {\n",
       "        vertical-align: top;\n",
       "    }\n",
       "</style>\n",
       "<table border=\"1\" class=\"dataframe\">\n",
       "  <thead>\n",
       "    <tr style=\"text-align: right;\">\n",
       "      <th></th>\n",
       "      <th>access</th>\n",
       "      <th>packagelink</th>\n",
       "      <th>packagename</th>\n",
       "      <th>summary</th>\n",
       "      <th>updated</th>\n",
       "    </tr>\n",
       "  </thead>\n",
       "  <tbody>\n",
       "    <tr>\n",
       "      <th>0</th>\n",
       "      <td>public</td>\n",
       "      <td>/anaconda/xlutils</td>\n",
       "      <td>xlutils</td>\n",
       "      <td>No Summary</td>\n",
       "      <td>2018-10-24</td>\n",
       "    </tr>\n",
       "    <tr>\n",
       "      <th>1</th>\n",
       "      <td>public</td>\n",
       "      <td>/anaconda/vs2013_runtime</td>\n",
       "      <td>vs2013_runtime</td>\n",
       "      <td>No Summary</td>\n",
       "      <td>2018-10-24</td>\n",
       "    </tr>\n",
       "    <tr>\n",
       "      <th>2</th>\n",
       "      <td>public</td>\n",
       "      <td>/anaconda/python</td>\n",
       "      <td>python</td>\n",
       "      <td>General purpose programming language</td>\n",
       "      <td>2018-10-24</td>\n",
       "    </tr>\n",
       "    <tr>\n",
       "      <th>3</th>\n",
       "      <td>public</td>\n",
       "      <td>/anaconda/python-ntlm</td>\n",
       "      <td>python-ntlm</td>\n",
       "      <td>No Summary</td>\n",
       "      <td>2018-10-24</td>\n",
       "    </tr>\n",
       "    <tr>\n",
       "      <th>4</th>\n",
       "      <td>public</td>\n",
       "      <td>/anaconda/plac</td>\n",
       "      <td>plac</td>\n",
       "      <td>The smartest command line arguments parser in ...</td>\n",
       "      <td>2018-10-24</td>\n",
       "    </tr>\n",
       "  </tbody>\n",
       "</table>\n",
       "</div>"
      ],
      "text/plain": [
       "   access               packagelink     packagename  \\\n",
       "0  public         /anaconda/xlutils         xlutils   \n",
       "1  public  /anaconda/vs2013_runtime  vs2013_runtime   \n",
       "2  public          /anaconda/python          python   \n",
       "3  public     /anaconda/python-ntlm     python-ntlm   \n",
       "4  public            /anaconda/plac            plac   \n",
       "\n",
       "                                             summary    updated  \n",
       "0                                         No Summary 2018-10-24  \n",
       "1                                         No Summary 2018-10-24  \n",
       "2               General purpose programming language 2018-10-24  \n",
       "3                                         No Summary 2018-10-24  \n",
       "4  The smartest command line arguments parser in ... 2018-10-24  "
      ]
     },
     "execution_count": 73,
     "metadata": {},
     "output_type": "execute_result"
    }
   ],
   "source": [
    "dfpackage = get_packages()\n",
    "dfpackage.head()"
   ]
  },
  {
   "cell_type": "markdown",
   "metadata": {
    "slideshow": {
     "slide_type": "subslide"
    }
   },
   "source": [
    "### a great alternative: beautiful soup\n",
    "\n",
    "often, you will have the luxury of installing whatever program you want. if you do, you may save yourself a lot of hassle by installing [`beautifulsoup4`](https://www.crummy.com/software/BeautifulSoup/bs4/doc/). this is a souped-up version of the `lxml.html` object and is pretty straight-forward to use."
   ]
  },
  {
   "cell_type": "markdown",
   "metadata": {
    "slideshow": {
     "slide_type": "subslide"
    }
   },
   "source": [
    "let's start by creating a `soup` object from `html` text:"
   ]
  },
  {
   "cell_type": "code",
   "execution_count": 80,
   "metadata": {
    "scrolled": true,
    "slideshow": {
     "slide_type": "-"
    }
   },
   "outputs": [
    {
     "name": "stdout",
     "output_type": "stream",
     "text": [
      "<body>\n",
      " <div class=\"contain-to-grid\">\n",
      "  <nav class=\"top-bar\" data-topbar=\"\" role=\"navigation\">\n",
      "   <ul class=\"title-area\">\n",
      "    <li class=\"name\">\n",
      "     <h1>\n",
      "      <a class=\"navbar-brand\" href=\"/\">\n",
      "       <img class=\" small \" src=\"//binstar-static-prod.s3.amazonaws.com/latest/img/AnacondaCloud_logo_green.png\"/>\n",
      "      </a>\n",
      "     </h1>\n",
      "    </li>\n",
      "    <li class=\"toggle-topbar menu-icon\">\n",
      "     <a href=\"#\">\n",
      "      <span>\n",
      "       Menu\n",
      "      </span>\n",
      "     </a>\n",
      "    </li>\n",
      "   </ul>\n",
      "   <section class=\"top-bar-section\">\n",
      "    <ul class=\"left\">\n",
      "     <li class=\"has-form\">\n",
      "      <form action=\"/search\">\n",
      "       <div class=\"row collapse\">\n",
      "        <div class=\"small-9 columns\">\n",
      "         <input name=\"q\" placeholder=\"Search Anaconda Cloud\" type=\"text\"/>\n",
      "        </div>\n",
      "        <div class=\"small-3 columns\">\n",
      "         <button class=\"button postfix fa fa-search\" type=\"submit\">\n",
      "         </button>\n",
      "        </div>\n",
      "       </div>\n",
      "      </form>\n",
      "     </li>\n",
      "    </ul>\n",
      "    <ul class=\"right\">\n",
      "     <li>\n",
      "      <a href=\"/gallery\">\n",
      "      \n"
     ]
    }
   ],
   "source": [
    "from bs4 import BeautifulSoup\n",
    "\n",
    "response = requests.get(url='https://anaconda.org/anaconda/repo')\n",
    "soup = BeautifulSoup(response.text)\n",
    "\n",
    "print(soup.body.prettify()[:1000])"
   ]
  },
  {
   "cell_type": "markdown",
   "metadata": {
    "slideshow": {
     "slide_type": "subslide"
    }
   },
   "source": [
    "first of all, we can do all of the `css` selector statements from above exactly as before, this time via"
   ]
  },
  {
   "cell_type": "code",
   "execution_count": null,
   "metadata": {
    "slideshow": {
     "slide_type": "-"
    }
   },
   "outputs": [],
   "source": [
    "trs = soup.select('table#repo-packages-table tbody tr')\n",
    "print('we found {} rows\\n'.format(len(trs)))\n",
    "tr0 = trs[0]\n",
    "print(type(tr0))"
   ]
  },
  {
   "cell_type": "markdown",
   "metadata": {
    "slideshow": {
     "slide_type": "subslide"
    }
   },
   "source": [
    "the objects we are picking out are not `lxml.html` elements any more but now `bs4.element.Tag` objects:"
   ]
  },
  {
   "cell_type": "code",
   "execution_count": 85,
   "metadata": {
    "slideshow": {
     "slide_type": "-"
    }
   },
   "outputs": [
    {
     "data": {
      "text/plain": [
       "<tr>\n",
       "<td class=\"package-title\">\n",
       "<a data-package=\"\" href=\"/anaconda/xlutils\">\n",
       "<i class=\"ca ca-conda\"></i>\n",
       "<span class=\"packageName\">xlutils</span>\n",
       "</a>\n",
       "</td>\n",
       "<td>public</td>\n",
       "<td>\n",
       "      No Summary\n",
       "    </td>\n",
       "<td>2018-10-24</td>\n",
       "</tr>"
      ]
     },
     "execution_count": 85,
     "metadata": {},
     "output_type": "execute_result"
    }
   ],
   "source": [
    "tr0"
   ]
  },
  {
   "cell_type": "markdown",
   "metadata": {
    "slideshow": {
     "slide_type": "subslide"
    }
   },
   "source": [
    "in addition, the `soup` object has a `find_all` method which accepts a flexible set of inputs for defining elements.\n",
    "\n",
    "the first of those inputs is the `name` argument, and can be any one of what the author calls [\"filters\"](https://www.crummy.com/software/BeautifulSoup/bs4/doc/#kinds-of-filters), and there are a few types:"
   ]
  },
  {
   "cell_type": "markdown",
   "metadata": {
    "slideshow": {
     "slide_type": "subslide"
    }
   },
   "source": [
    "a string: search for *element tags* that exactly match the provided string"
   ]
  },
  {
   "cell_type": "code",
   "execution_count": 99,
   "metadata": {
    "scrolled": true
   },
   "outputs": [
    {
     "data": {
      "text/plain": [
       "[<span>Menu</span>,\n",
       " <span class=\"packageName\">xlutils</span>,\n",
       " <span class=\"packageName\">vs2013_runtime</span>,\n",
       " <span class=\"packageName\">python</span>,\n",
       " <span class=\"packageName\">python-ntlm</span>,\n",
       " <span class=\"packageName\">plac</span>,\n",
       " <span class=\"packageName\">pbkdf2</span>,\n",
       " <span class=\"packageName\">pathlib</span>,\n",
       " <span class=\"packageName\">numpy-devel</span>,\n",
       " <span class=\"packageName\">numpy-base</span>,\n",
       " <span class=\"packageName\">numpy</span>,\n",
       " <span class=\"packageName\">gevent</span>,\n",
       " <span class=\"packageName\">cheetah</span>,\n",
       " <span class=\"packageName\">characteristic</span>,\n",
       " <span class=\"packageName\">anaconda</span>,\n",
       " <span class=\"packageName\">nb_conda_kernels</span>,\n",
       " <span class=\"packageName\">ruby</span>,\n",
       " <span class=\"packageName\">lockfile</span>,\n",
       " <span class=\"packageName\">nomkl</span>,\n",
       " <span class=\"packageName\">blas</span>,\n",
       " <span class=\"packageName\">zope</span>,\n",
       " <span class=\"packageName\">xlwt</span>,\n",
       " <span class=\"packageName\">wcwidth</span>,\n",
       " <span class=\"packageName\">vcversioner</span>,\n",
       " <span class=\"packageName\">unicodecsv</span>,\n",
       " <span class=\"packageName\">traitlets</span>,\n",
       " <span class=\"packageName\">testpath</span>,\n",
       " <span class=\"packageName\">sympy</span>,\n",
       " <span class=\"packageName\">tblib</span>,\n",
       " <span class=\"packageName\">snowballstemmer</span>,\n",
       " <span class=\"packageName\">singledispatch</span>,\n",
       " <span class=\"packageName\">requests-ftp</span>,\n",
       " <span class=\"packageName\">qtconsole</span>,\n",
       " <span class=\"packageName\">qtawesome</span>,\n",
       " <span class=\"packageName\">python-daemon</span>,\n",
       " <span class=\"packageName\">pygments</span>,\n",
       " <span class=\"packageName\">pypandoc</span>,\n",
       " <span class=\"packageName\">pyflakes</span>,\n",
       " <span class=\"packageName\">pydispatcher</span>,\n",
       " <span class=\"packageName\">prompt_toolkit</span>,\n",
       " <span class=\"packageName\">pickleshare</span>,\n",
       " <span class=\"packageName\">partd</span>,\n",
       " <span class=\"packageName\">odo</span>,\n",
       " <span class=\"packageName\">nbformat</span>,\n",
       " <span class=\"packageName\">mock</span>,\n",
       " <span class=\"packageName\">locket</span>,\n",
       " <span class=\"packageName\">jsonschema</span>,\n",
       " <span class=\"packageName\">iso8601</span>,\n",
       " <span class=\"packageName\">ipython_genutils</span>,\n",
       " <span class=\"packageName\">inflection</span>,\n",
       " <span class=\"packageName\">future</span>,\n",
       " <span>(Anaconda Cloud v2.33.27)</span>]"
      ]
     },
     "execution_count": 99,
     "metadata": {},
     "output_type": "execute_result"
    }
   ],
   "source": [
    "soup.find_all('span')"
   ]
  },
  {
   "cell_type": "markdown",
   "metadata": {
    "slideshow": {
     "slide_type": "subslide"
    }
   },
   "source": [
    "a regular expression: search for *element tags* that match a regular expression"
   ]
  },
  {
   "cell_type": "code",
   "execution_count": 100,
   "metadata": {
    "scrolled": true
   },
   "outputs": [
    {
     "data": {
      "text/plain": [
       "[<span>Menu</span>,\n",
       " <span class=\"packageName\">xlutils</span>,\n",
       " <span class=\"packageName\">vs2013_runtime</span>,\n",
       " <span class=\"packageName\">python</span>,\n",
       " <span class=\"packageName\">python-ntlm</span>,\n",
       " <span class=\"packageName\">plac</span>,\n",
       " <span class=\"packageName\">pbkdf2</span>,\n",
       " <span class=\"packageName\">pathlib</span>,\n",
       " <span class=\"packageName\">numpy-devel</span>,\n",
       " <span class=\"packageName\">numpy-base</span>,\n",
       " <span class=\"packageName\">numpy</span>,\n",
       " <span class=\"packageName\">gevent</span>,\n",
       " <span class=\"packageName\">cheetah</span>,\n",
       " <span class=\"packageName\">characteristic</span>,\n",
       " <span class=\"packageName\">anaconda</span>,\n",
       " <span class=\"packageName\">nb_conda_kernels</span>,\n",
       " <span class=\"packageName\">ruby</span>,\n",
       " <span class=\"packageName\">lockfile</span>,\n",
       " <span class=\"packageName\">nomkl</span>,\n",
       " <span class=\"packageName\">blas</span>,\n",
       " <span class=\"packageName\">zope</span>,\n",
       " <span class=\"packageName\">xlwt</span>,\n",
       " <span class=\"packageName\">wcwidth</span>,\n",
       " <span class=\"packageName\">vcversioner</span>,\n",
       " <span class=\"packageName\">unicodecsv</span>,\n",
       " <span class=\"packageName\">traitlets</span>,\n",
       " <span class=\"packageName\">testpath</span>,\n",
       " <span class=\"packageName\">sympy</span>,\n",
       " <span class=\"packageName\">tblib</span>,\n",
       " <span class=\"packageName\">snowballstemmer</span>,\n",
       " <span class=\"packageName\">singledispatch</span>,\n",
       " <span class=\"packageName\">requests-ftp</span>,\n",
       " <span class=\"packageName\">qtconsole</span>,\n",
       " <span class=\"packageName\">qtawesome</span>,\n",
       " <span class=\"packageName\">python-daemon</span>,\n",
       " <span class=\"packageName\">pygments</span>,\n",
       " <span class=\"packageName\">pypandoc</span>,\n",
       " <span class=\"packageName\">pyflakes</span>,\n",
       " <span class=\"packageName\">pydispatcher</span>,\n",
       " <span class=\"packageName\">prompt_toolkit</span>,\n",
       " <span class=\"packageName\">pickleshare</span>,\n",
       " <span class=\"packageName\">partd</span>,\n",
       " <span class=\"packageName\">odo</span>,\n",
       " <span class=\"packageName\">nbformat</span>,\n",
       " <span class=\"packageName\">mock</span>,\n",
       " <span class=\"packageName\">locket</span>,\n",
       " <span class=\"packageName\">jsonschema</span>,\n",
       " <span class=\"packageName\">iso8601</span>,\n",
       " <span class=\"packageName\">ipython_genutils</span>,\n",
       " <span class=\"packageName\">inflection</span>,\n",
       " <span class=\"packageName\">future</span>,\n",
       " <span>(Anaconda Cloud v2.33.27)</span>]"
      ]
     },
     "execution_count": 100,
     "metadata": {},
     "output_type": "execute_result"
    }
   ],
   "source": [
    "import re\n",
    "\n",
    "soup.find_all(re.compile('spa\\w'))"
   ]
  },
  {
   "cell_type": "markdown",
   "metadata": {
    "slideshow": {
     "slide_type": "subslide"
    }
   },
   "source": [
    "a list: take a list of elements and find all elements that match any of them"
   ]
  },
  {
   "cell_type": "code",
   "execution_count": 103,
   "metadata": {
    "scrolled": true,
    "slideshow": {
     "slide_type": "-"
    }
   },
   "outputs": [
    {
     "data": {
      "text/plain": [
       "153"
      ]
     },
     "execution_count": 103,
     "metadata": {},
     "output_type": "execute_result"
    }
   ],
   "source": [
    "len(soup.find_all(['span', 'a']))"
   ]
  },
  {
   "cell_type": "markdown",
   "metadata": {
    "slideshow": {
     "slide_type": "subslide"
    }
   },
   "source": [
    "additional options are filters which always return `True` (the constant filter, include everything) and the filter which looks at the passed in `tag` element and invokes some code (check the docs for details)"
   ]
  },
  {
   "cell_type": "markdown",
   "metadata": {
    "slideshow": {
     "slide_type": "subslide"
    }
   },
   "source": [
    "assuming `find_all` can filter down the *tags* using the above filters as the value of the parameter `name`, we can go one step further and filter based on the `attributes` by providing key-value pairs to `python`. for example"
   ]
  },
  {
   "cell_type": "code",
   "execution_count": 106,
   "metadata": {
    "scrolled": true,
    "slideshow": {
     "slide_type": "-"
    }
   },
   "outputs": [
    {
     "data": {
      "text/plain": [
       "[<span class=\"packageName\">xlutils</span>,\n",
       " <span class=\"packageName\">vs2013_runtime</span>,\n",
       " <span class=\"packageName\">python</span>,\n",
       " <span class=\"packageName\">python-ntlm</span>,\n",
       " <span class=\"packageName\">plac</span>,\n",
       " <span class=\"packageName\">pbkdf2</span>,\n",
       " <span class=\"packageName\">pathlib</span>,\n",
       " <span class=\"packageName\">numpy-devel</span>,\n",
       " <span class=\"packageName\">numpy-base</span>,\n",
       " <span class=\"packageName\">numpy</span>,\n",
       " <span class=\"packageName\">gevent</span>,\n",
       " <span class=\"packageName\">cheetah</span>,\n",
       " <span class=\"packageName\">characteristic</span>,\n",
       " <span class=\"packageName\">anaconda</span>,\n",
       " <span class=\"packageName\">nb_conda_kernels</span>,\n",
       " <span class=\"packageName\">ruby</span>,\n",
       " <span class=\"packageName\">lockfile</span>,\n",
       " <span class=\"packageName\">nomkl</span>,\n",
       " <span class=\"packageName\">blas</span>,\n",
       " <span class=\"packageName\">zope</span>,\n",
       " <span class=\"packageName\">xlwt</span>,\n",
       " <span class=\"packageName\">wcwidth</span>,\n",
       " <span class=\"packageName\">vcversioner</span>,\n",
       " <span class=\"packageName\">unicodecsv</span>,\n",
       " <span class=\"packageName\">traitlets</span>,\n",
       " <span class=\"packageName\">testpath</span>,\n",
       " <span class=\"packageName\">sympy</span>,\n",
       " <span class=\"packageName\">tblib</span>,\n",
       " <span class=\"packageName\">snowballstemmer</span>,\n",
       " <span class=\"packageName\">singledispatch</span>,\n",
       " <span class=\"packageName\">requests-ftp</span>,\n",
       " <span class=\"packageName\">qtconsole</span>,\n",
       " <span class=\"packageName\">qtawesome</span>,\n",
       " <span class=\"packageName\">python-daemon</span>,\n",
       " <span class=\"packageName\">pygments</span>,\n",
       " <span class=\"packageName\">pypandoc</span>,\n",
       " <span class=\"packageName\">pyflakes</span>,\n",
       " <span class=\"packageName\">pydispatcher</span>,\n",
       " <span class=\"packageName\">prompt_toolkit</span>,\n",
       " <span class=\"packageName\">pickleshare</span>,\n",
       " <span class=\"packageName\">partd</span>,\n",
       " <span class=\"packageName\">odo</span>,\n",
       " <span class=\"packageName\">nbformat</span>,\n",
       " <span class=\"packageName\">mock</span>,\n",
       " <span class=\"packageName\">locket</span>,\n",
       " <span class=\"packageName\">jsonschema</span>,\n",
       " <span class=\"packageName\">iso8601</span>,\n",
       " <span class=\"packageName\">ipython_genutils</span>,\n",
       " <span class=\"packageName\">inflection</span>,\n",
       " <span class=\"packageName\">future</span>]"
      ]
     },
     "execution_count": 106,
     "metadata": {},
     "output_type": "execute_result"
    }
   ],
   "source": [
    "# class is special -- it's reserve in `python`, so if we are looking for \n",
    "# elements such that `class=\"packageName\"` in `html`, add the underscore\n",
    "soup.find_all('span', class_='packageName')"
   ]
  },
  {
   "cell_type": "markdown",
   "metadata": {
    "slideshow": {
     "slide_type": "subslide"
    }
   },
   "source": [
    "the same goes for `id` values, `href` values, etc. in particular, this allows you to **use regular expressions** when matching the values of things -- e.g. you can find all the elements which contain a certain `class_` value, or all the `href` values which are external."
   ]
  },
  {
   "cell_type": "markdown",
   "metadata": {
    "slideshow": {
     "slide_type": "slide"
    }
   },
   "source": [
    "## `POST` requests"
   ]
  },
  {
   "cell_type": "markdown",
   "metadata": {
    "slideshow": {
     "slide_type": "subslide"
    }
   },
   "source": [
    "sometimes a `POST` request is basically the same as `GET` request -- point at a `url` and yell `POST` instead of `GET` and you're done.\n",
    "\n",
    "generally speaking, though, we are *also* sending data along with our `POST` request"
   ]
  },
  {
   "cell_type": "markdown",
   "metadata": {
    "slideshow": {
     "slide_type": "subslide"
    }
   },
   "source": [
    "far and away, the most common use case for `POST` requests is submitting data via `html` forms (e.g. login forms, uploads, submission forms). \n",
    "\n",
    "as a quick and simple example of a `POST` request, let's check out the submission api for [github gist](https://gist.github.com/RZachLamberty) (a place to host small snippets of code instead of full repos):\n",
    "\n",
    "https://developer.github.com/v3/gists/#create-a-gist"
   ]
  },
  {
   "cell_type": "markdown",
   "metadata": {
    "slideshow": {
     "slide_type": "subslide"
    }
   },
   "source": [
    "so, we have the ability to create a new gist via an automated `POST` message. let's do that!\n",
    "\n",
    "our first task is to build the data object in that gist. It looks like a dictionary, so let's just see if that works."
   ]
  },
  {
   "cell_type": "code",
   "execution_count": 107,
   "metadata": {
    "slideshow": {
     "slide_type": "subslide"
    }
   },
   "outputs": [],
   "source": [
    "data = {\n",
    "    'description': 'a test post of a gist',\n",
    "    'public': True,\n",
    "    'files': {\n",
    "        'my_test_file.py': {\n",
    "            'content': \"print('hello world')\"\n",
    "        }\n",
    "    }\n",
    "}"
   ]
  },
  {
   "cell_type": "markdown",
   "metadata": {
    "slideshow": {
     "slide_type": "subslide"
    }
   },
   "source": [
    "let's try and post this information using the `requests.post` function. we could either convert the `data` element to `json` using the `python json.dumps` function, or we could let `requests` do it for us via the `json` parameter."
   ]
  },
  {
   "cell_type": "code",
   "execution_count": 108,
   "metadata": {
    "slideshow": {
     "slide_type": "-"
    }
   },
   "outputs": [
    {
     "data": {
      "text/plain": [
       "401"
      ]
     },
     "execution_count": 108,
     "metadata": {},
     "output_type": "execute_result"
    }
   ],
   "source": [
    "resp = requests.post(\n",
    "    url=\"https://api.github.com/gists\",\n",
    "    json=data\n",
    ")\n",
    "resp.status_code"
   ]
  },
  {
   "cell_type": "markdown",
   "metadata": {
    "slideshow": {
     "slide_type": "subslide"
    }
   },
   "source": [
    "dang. 400s are no good. we did receive a `json` response, for what it's worth:"
   ]
  },
  {
   "cell_type": "code",
   "execution_count": 112,
   "metadata": {
    "scrolled": true,
    "slideshow": {
     "slide_type": "-"
    }
   },
   "outputs": [
    {
     "data": {
      "text/plain": [
       "{'message': 'Requires authentication',\n",
       " 'documentation_url': 'https://developer.github.com/v3/gists/#create-a-gist'}"
      ]
     },
     "execution_count": 112,
     "metadata": {},
     "output_type": "execute_result"
    }
   ],
   "source": [
    "resp.json()"
   ]
  },
  {
   "cell_type": "markdown",
   "metadata": {
    "slideshow": {
     "slide_type": "subslide"
    }
   },
   "source": [
    "### once more, with ~~feeling~~ authentication\n",
    "\n",
    "fundamentally, a `POST` request is allowing users to add some data to some data source. it is rare for a site to allow a `post` request without also requesting that we authenticate\n",
    "\n",
    "pretty often, though, we'll need to authenticate before we can make a `POST` request."
   ]
  },
  {
   "cell_type": "markdown",
   "metadata": {
    "slideshow": {
     "slide_type": "subslide"
    }
   },
   "source": [
    "a paradigm we will repeat often in the remainder of the class -- one that is ubiquitous in web communication -- is the idea of creating something called a `session`. a `session` is a persistent connection with some other computer which serves a number of purposes, but in the web client context it mainly serves to cache authentication and prefered behavior."
   ]
  },
  {
   "cell_type": "markdown",
   "metadata": {
    "slideshow": {
     "slide_type": "subslide"
    }
   },
   "source": [
    "we are going to add our `github` credentials oto a re-usable `session` object available directly in the `requests` library (and almost any other web request library)."
   ]
  },
  {
   "cell_type": "code",
   "execution_count": 113,
   "metadata": {
    "scrolled": true,
    "slideshow": {
     "slide_type": "-"
    }
   },
   "outputs": [
    {
     "name": "stdout",
     "output_type": "stream",
     "text": [
      "Help on class Request in module requests.models:\n",
      "\n",
      "class Request(RequestHooksMixin)\n",
      " |  A user-created :class:`Request <Request>` object.\n",
      " |  \n",
      " |  Used to prepare a :class:`PreparedRequest <PreparedRequest>`, which is sent to the server.\n",
      " |  \n",
      " |  :param method: HTTP method to use.\n",
      " |  :param url: URL to send.\n",
      " |  :param headers: dictionary of headers to send.\n",
      " |  :param files: dictionary of {filename: fileobject} files to multipart upload.\n",
      " |  :param data: the body to attach to the request. If a dictionary is provided, form-encoding will take place.\n",
      " |  :param json: json for the body to attach to the request (if files or data is not specified).\n",
      " |  :param params: dictionary of URL parameters to append to the URL.\n",
      " |  :param auth: Auth handler or (user, pass) tuple.\n",
      " |  :param cookies: dictionary or CookieJar of cookies to attach to this request.\n",
      " |  :param hooks: dictionary of callback hooks, for internal usage.\n",
      " |  \n",
      " |  Usage::\n",
      " |  \n",
      " |    >>> import requests\n",
      " |    >>> req = requests.Request('GET', 'http://httpbin.org/get')\n",
      " |    >>> req.prepare()\n",
      " |    <PreparedRequest [GET]>\n",
      " |  \n",
      " |  Method resolution order:\n",
      " |      Request\n",
      " |      RequestHooksMixin\n",
      " |      builtins.object\n",
      " |  \n",
      " |  Methods defined here:\n",
      " |  \n",
      " |  __init__(self, method=None, url=None, headers=None, files=None, data=None, params=None, auth=None, cookies=None, hooks=None, json=None)\n",
      " |      Initialize self.  See help(type(self)) for accurate signature.\n",
      " |  \n",
      " |  __repr__(self)\n",
      " |      Return repr(self).\n",
      " |  \n",
      " |  prepare(self)\n",
      " |      Constructs a :class:`PreparedRequest <PreparedRequest>` for transmission and returns it.\n",
      " |  \n",
      " |  ----------------------------------------------------------------------\n",
      " |  Methods inherited from RequestHooksMixin:\n",
      " |  \n",
      " |  deregister_hook(self, event, hook)\n",
      " |      Deregister a previously registered hook.\n",
      " |      Returns True if the hook existed, False if not.\n",
      " |  \n",
      " |  register_hook(self, event, hook)\n",
      " |      Properly register a hook.\n",
      " |  \n",
      " |  ----------------------------------------------------------------------\n",
      " |  Data descriptors inherited from RequestHooksMixin:\n",
      " |  \n",
      " |  __dict__\n",
      " |      dictionary for instance variables (if defined)\n",
      " |  \n",
      " |  __weakref__\n",
      " |      list of weak references to the object (if defined)\n",
      "\n"
     ]
    }
   ],
   "source": [
    "# check out `auth` below\n",
    "help(requests.Request)"
   ]
  },
  {
   "cell_type": "markdown",
   "metadata": {
    "slideshow": {
     "slide_type": "subslide"
    }
   },
   "source": [
    "github gists support this as well, so let's do it! enter your user name and password to `username` and `pw` (I will use `getpass` here so I can type mine and not save it forever in a `notebook`, which is *not* cool"
   ]
  },
  {
   "cell_type": "code",
   "execution_count": 117,
   "metadata": {
    "slideshow": {
     "slide_type": "-"
    }
   },
   "outputs": [
    {
     "name": "stdout",
     "output_type": "stream",
     "text": [
      "Password: ········\n"
     ]
    }
   ],
   "source": [
    "import getpass\n",
    "\n",
    "username = 'rzl15'\n",
    "pw = getpass.getpass('Password: ')"
   ]
  },
  {
   "cell_type": "markdown",
   "metadata": {
    "slideshow": {
     "slide_type": "subslide"
    }
   },
   "source": [
    "and now, just use that user name and password directly in the call to the github `POST` function"
   ]
  },
  {
   "cell_type": "code",
   "execution_count": 118,
   "metadata": {
    "slideshow": {
     "slide_type": "-"
    }
   },
   "outputs": [
    {
     "data": {
      "text/plain": [
       "201"
      ]
     },
     "execution_count": 118,
     "metadata": {},
     "output_type": "execute_result"
    }
   ],
   "source": [
    "resp = requests.post(\n",
    "    url=\"https://api.github.com/gists\",\n",
    "    json=data,\n",
    "    auth=(username, pw)\n",
    ")\n",
    "resp.status_code"
   ]
  },
  {
   "cell_type": "markdown",
   "metadata": {
    "slideshow": {
     "slide_type": "notes"
    }
   },
   "source": [
    "note: you may still get a 401 if you have enabled multi-factor authentication. if so, good for you, but also, sucks for you, because I won't cover that just now"
   ]
  },
  {
   "cell_type": "markdown",
   "metadata": {
    "slideshow": {
     "slide_type": "subslide"
    }
   },
   "source": [
    "and our results (click on the link!):"
   ]
  },
  {
   "cell_type": "code",
   "execution_count": 119,
   "metadata": {
    "scrolled": true,
    "slideshow": {
     "slide_type": "-"
    }
   },
   "outputs": [
    {
     "name": "stdout",
     "output_type": "stream",
     "text": [
      "https://gist.github.com/71d4f7206a18209a7ee5da771cc1067c\n"
     ]
    },
    {
     "data": {
      "text/plain": [
       "{'url': 'https://api.github.com/gists/71d4f7206a18209a7ee5da771cc1067c',\n",
       " 'forks_url': 'https://api.github.com/gists/71d4f7206a18209a7ee5da771cc1067c/forks',\n",
       " 'commits_url': 'https://api.github.com/gists/71d4f7206a18209a7ee5da771cc1067c/commits',\n",
       " 'id': '71d4f7206a18209a7ee5da771cc1067c',\n",
       " 'node_id': 'MDQ6R2lzdDcxZDRmNzIwNmExODIwOWE3ZWU1ZGE3NzFjYzEwNjdj',\n",
       " 'git_pull_url': 'https://gist.github.com/71d4f7206a18209a7ee5da771cc1067c.git',\n",
       " 'git_push_url': 'https://gist.github.com/71d4f7206a18209a7ee5da771cc1067c.git',\n",
       " 'html_url': 'https://gist.github.com/71d4f7206a18209a7ee5da771cc1067c',\n",
       " 'files': {'my_test_file.py': {'filename': 'my_test_file.py',\n",
       "   'type': 'application/x-python',\n",
       "   'language': 'Python',\n",
       "   'raw_url': 'https://gist.githubusercontent.com/rzl15/71d4f7206a18209a7ee5da771cc1067c/raw/00950d9ac57ceeabf45f9120c2615199746d35fb/my_test_file.py',\n",
       "   'size': 20,\n",
       "   'truncated': False,\n",
       "   'content': \"print('hello world')\"}},\n",
       " 'public': True,\n",
       " 'created_at': '2018-10-25T04:35:06Z',\n",
       " 'updated_at': '2018-10-25T04:35:06Z',\n",
       " 'description': 'a test post of a gist',\n",
       " 'comments': 0,\n",
       " 'user': None,\n",
       " 'comments_url': 'https://api.github.com/gists/71d4f7206a18209a7ee5da771cc1067c/comments',\n",
       " 'owner': {'login': 'rzl15',\n",
       "  'id': 44456956,\n",
       "  'node_id': 'MDQ6VXNlcjQ0NDU2OTU2',\n",
       "  'avatar_url': 'https://avatars3.githubusercontent.com/u/44456956?v=4',\n",
       "  'gravatar_id': '',\n",
       "  'url': 'https://api.github.com/users/rzl15',\n",
       "  'html_url': 'https://github.com/rzl15',\n",
       "  'followers_url': 'https://api.github.com/users/rzl15/followers',\n",
       "  'following_url': 'https://api.github.com/users/rzl15/following{/other_user}',\n",
       "  'gists_url': 'https://api.github.com/users/rzl15/gists{/gist_id}',\n",
       "  'starred_url': 'https://api.github.com/users/rzl15/starred{/owner}{/repo}',\n",
       "  'subscriptions_url': 'https://api.github.com/users/rzl15/subscriptions',\n",
       "  'organizations_url': 'https://api.github.com/users/rzl15/orgs',\n",
       "  'repos_url': 'https://api.github.com/users/rzl15/repos',\n",
       "  'events_url': 'https://api.github.com/users/rzl15/events{/privacy}',\n",
       "  'received_events_url': 'https://api.github.com/users/rzl15/received_events',\n",
       "  'type': 'User',\n",
       "  'site_admin': False},\n",
       " 'forks': [],\n",
       " 'history': [{'user': {'login': 'rzl15',\n",
       "    'id': 44456956,\n",
       "    'node_id': 'MDQ6VXNlcjQ0NDU2OTU2',\n",
       "    'avatar_url': 'https://avatars3.githubusercontent.com/u/44456956?v=4',\n",
       "    'gravatar_id': '',\n",
       "    'url': 'https://api.github.com/users/rzl15',\n",
       "    'html_url': 'https://github.com/rzl15',\n",
       "    'followers_url': 'https://api.github.com/users/rzl15/followers',\n",
       "    'following_url': 'https://api.github.com/users/rzl15/following{/other_user}',\n",
       "    'gists_url': 'https://api.github.com/users/rzl15/gists{/gist_id}',\n",
       "    'starred_url': 'https://api.github.com/users/rzl15/starred{/owner}{/repo}',\n",
       "    'subscriptions_url': 'https://api.github.com/users/rzl15/subscriptions',\n",
       "    'organizations_url': 'https://api.github.com/users/rzl15/orgs',\n",
       "    'repos_url': 'https://api.github.com/users/rzl15/repos',\n",
       "    'events_url': 'https://api.github.com/users/rzl15/events{/privacy}',\n",
       "    'received_events_url': 'https://api.github.com/users/rzl15/received_events',\n",
       "    'type': 'User',\n",
       "    'site_admin': False},\n",
       "   'version': '68e795c7d6bc817c3d08c8fff6faeddfa77e1f1a',\n",
       "   'committed_at': '2018-10-25T04:35:06Z',\n",
       "   'change_status': {'total': 1, 'additions': 1, 'deletions': 0},\n",
       "   'url': 'https://api.github.com/gists/71d4f7206a18209a7ee5da771cc1067c/68e795c7d6bc817c3d08c8fff6faeddfa77e1f1a'}],\n",
       " 'truncated': False}"
      ]
     },
     "execution_count": 119,
     "metadata": {},
     "output_type": "execute_result"
    }
   ],
   "source": [
    "j = resp.json()\n",
    "print(j['html_url'])\n",
    "j"
   ]
  },
  {
   "cell_type": "markdown",
   "metadata": {
    "slideshow": {
     "slide_type": "subslide"
    }
   },
   "source": [
    "it's great that that worked for us, but imagine if you had to program hundreds of similar but slightly different requests. what if you don't want to pass your credentials to each one of them?"
   ]
  },
  {
   "cell_type": "code",
   "execution_count": 120,
   "metadata": {
    "slideshow": {
     "slide_type": "subslide"
    }
   },
   "outputs": [
    {
     "data": {
      "text/plain": [
       "201"
      ]
     },
     "execution_count": 120,
     "metadata": {},
     "output_type": "execute_result"
    }
   ],
   "source": [
    "session = requests.Session()\n",
    "session.auth = (username, pw)\n",
    "\n",
    "# note *session* below\n",
    "resp = session.post(\n",
    "    url=\"https://api.github.com/gists\",\n",
    "    json=data\n",
    ")\n",
    "\n",
    "resp.status_code"
   ]
  },
  {
   "cell_type": "code",
   "execution_count": 121,
   "metadata": {
    "scrolled": true,
    "slideshow": {
     "slide_type": "subslide"
    }
   },
   "outputs": [
    {
     "name": "stdout",
     "output_type": "stream",
     "text": [
      "https://gist.github.com/9dd09e2a09ae6df773d1212835b52b49\n"
     ]
    },
    {
     "data": {
      "text/plain": [
       "{'url': 'https://api.github.com/gists/9dd09e2a09ae6df773d1212835b52b49',\n",
       " 'forks_url': 'https://api.github.com/gists/9dd09e2a09ae6df773d1212835b52b49/forks',\n",
       " 'commits_url': 'https://api.github.com/gists/9dd09e2a09ae6df773d1212835b52b49/commits',\n",
       " 'id': '9dd09e2a09ae6df773d1212835b52b49',\n",
       " 'node_id': 'MDQ6R2lzdDlkZDA5ZTJhMDlhZTZkZjc3M2QxMjEyODM1YjUyYjQ5',\n",
       " 'git_pull_url': 'https://gist.github.com/9dd09e2a09ae6df773d1212835b52b49.git',\n",
       " 'git_push_url': 'https://gist.github.com/9dd09e2a09ae6df773d1212835b52b49.git',\n",
       " 'html_url': 'https://gist.github.com/9dd09e2a09ae6df773d1212835b52b49',\n",
       " 'files': {'my_test_file.py': {'filename': 'my_test_file.py',\n",
       "   'type': 'application/x-python',\n",
       "   'language': 'Python',\n",
       "   'raw_url': 'https://gist.githubusercontent.com/rzl15/9dd09e2a09ae6df773d1212835b52b49/raw/00950d9ac57ceeabf45f9120c2615199746d35fb/my_test_file.py',\n",
       "   'size': 20,\n",
       "   'truncated': False,\n",
       "   'content': \"print('hello world')\"}},\n",
       " 'public': True,\n",
       " 'created_at': '2018-10-25T04:36:37Z',\n",
       " 'updated_at': '2018-10-25T04:36:37Z',\n",
       " 'description': 'a test post of a gist',\n",
       " 'comments': 0,\n",
       " 'user': None,\n",
       " 'comments_url': 'https://api.github.com/gists/9dd09e2a09ae6df773d1212835b52b49/comments',\n",
       " 'owner': {'login': 'rzl15',\n",
       "  'id': 44456956,\n",
       "  'node_id': 'MDQ6VXNlcjQ0NDU2OTU2',\n",
       "  'avatar_url': 'https://avatars3.githubusercontent.com/u/44456956?v=4',\n",
       "  'gravatar_id': '',\n",
       "  'url': 'https://api.github.com/users/rzl15',\n",
       "  'html_url': 'https://github.com/rzl15',\n",
       "  'followers_url': 'https://api.github.com/users/rzl15/followers',\n",
       "  'following_url': 'https://api.github.com/users/rzl15/following{/other_user}',\n",
       "  'gists_url': 'https://api.github.com/users/rzl15/gists{/gist_id}',\n",
       "  'starred_url': 'https://api.github.com/users/rzl15/starred{/owner}{/repo}',\n",
       "  'subscriptions_url': 'https://api.github.com/users/rzl15/subscriptions',\n",
       "  'organizations_url': 'https://api.github.com/users/rzl15/orgs',\n",
       "  'repos_url': 'https://api.github.com/users/rzl15/repos',\n",
       "  'events_url': 'https://api.github.com/users/rzl15/events{/privacy}',\n",
       "  'received_events_url': 'https://api.github.com/users/rzl15/received_events',\n",
       "  'type': 'User',\n",
       "  'site_admin': False},\n",
       " 'forks': [],\n",
       " 'history': [{'user': {'login': 'rzl15',\n",
       "    'id': 44456956,\n",
       "    'node_id': 'MDQ6VXNlcjQ0NDU2OTU2',\n",
       "    'avatar_url': 'https://avatars3.githubusercontent.com/u/44456956?v=4',\n",
       "    'gravatar_id': '',\n",
       "    'url': 'https://api.github.com/users/rzl15',\n",
       "    'html_url': 'https://github.com/rzl15',\n",
       "    'followers_url': 'https://api.github.com/users/rzl15/followers',\n",
       "    'following_url': 'https://api.github.com/users/rzl15/following{/other_user}',\n",
       "    'gists_url': 'https://api.github.com/users/rzl15/gists{/gist_id}',\n",
       "    'starred_url': 'https://api.github.com/users/rzl15/starred{/owner}{/repo}',\n",
       "    'subscriptions_url': 'https://api.github.com/users/rzl15/subscriptions',\n",
       "    'organizations_url': 'https://api.github.com/users/rzl15/orgs',\n",
       "    'repos_url': 'https://api.github.com/users/rzl15/repos',\n",
       "    'events_url': 'https://api.github.com/users/rzl15/events{/privacy}',\n",
       "    'received_events_url': 'https://api.github.com/users/rzl15/received_events',\n",
       "    'type': 'User',\n",
       "    'site_admin': False},\n",
       "   'version': '4b04c6312552bab434c51691245dc55a3cc4797c',\n",
       "   'committed_at': '2018-10-25T04:36:36Z',\n",
       "   'change_status': {'total': 1, 'additions': 1, 'deletions': 0},\n",
       "   'url': 'https://api.github.com/gists/9dd09e2a09ae6df773d1212835b52b49/4b04c6312552bab434c51691245dc55a3cc4797c'}],\n",
       " 'truncated': False}"
      ]
     },
     "execution_count": 121,
     "metadata": {},
     "output_type": "execute_result"
    }
   ],
   "source": [
    "j = resp.json()\n",
    "print(j['html_url'])\n",
    "j"
   ]
  },
  {
   "cell_type": "markdown",
   "metadata": {
    "slideshow": {
     "slide_type": "slide"
    }
   },
   "source": [
    "## using browser developer tools"
   ]
  },
  {
   "cell_type": "markdown",
   "metadata": {
    "slideshow": {
     "slide_type": "subslide"
    }
   },
   "source": [
    "when doing web scraping, the modern browser developer tools can be pretty much invaluable. I'm going to do a *very* cursory summary of the most important tricks to know when using developer tools. [the full documentation](https://developers.google.com/web/tools/chrome-devtools/) is excellent.\n",
    "\n",
    "remember the main goal: finding elements that have the data we want, or a static endpoint that contains those elements in a more compact form"
   ]
  },
  {
   "cell_type": "markdown",
   "metadata": {
    "slideshow": {
     "slide_type": "subslide"
    }
   },
   "source": [
    "**<div align=\"center\">walkthrough: google chrome \"Inspect\" mode</div>**\n",
    "\n",
    "let's check out the use of the chrome developer tools on [the `anaconda` repo page](https://anaconda.org/anaconda/repo).\n",
    "\n",
    "*note to self: leave presentation mode to get list of things to cover in notes slide*"
   ]
  },
  {
   "cell_type": "markdown",
   "metadata": {
    "slideshow": {
     "slide_type": "notes"
    }
   },
   "source": [
    "the walkthrough covered the following topics, broken down by tab name in the \"Inspect\" mode dashboard\n",
    "\n",
    "+ elements\n",
    "    + main window\n",
    "        + this is a DOM explorer, allowing you to search for elements, expand and collapse, etc\n",
    "        + selecting a line item highlights the corresponding rendered space\n",
    "            + this is nested, so you can use this to find which element does a thing, or...\n",
    "    + find (`Ctrl + f`)\n",
    "        + search is done using `css` selectors or `xpath`\n",
    "    + bottom \"breadcrumbs\" banner\n",
    "        + this can be used to find the full `xpath` expression or the individual `css` selector expressions\n",
    "    + the \"element selector\" button (top left of the Inspect menu)\n",
    "        + can be used to point and click select\n",
    "    + element properties menu (right panel)\n",
    "        + generally, more important for identifying `css` properties\n",
    "        + let's edit a value, and click on a page to identify the source of that value\n",
    "+ console\n",
    "    + this is a `javascript` console\n",
    "        + this is an interactive shell for executing `javascript` code\n",
    "        + it has already effectively loaded *all* of the `javascript` code that was used by your browser to build and render this webpage\n",
    "    + example: `console.log('hello world')`\n",
    "    + it will display pretty frequent error messages\n",
    "+ sources\n",
    "    + many files are used to build a webpage\n",
    "        + the contents returned by the single `GET` of the first `url` will include instructions on how to acquire many other files (*e.g.* `javascript` files, `css` files, other `url`s)\n",
    "    + this menu lists them\n",
    "    + files are grouped by\n",
    "        + the domain that sent them\n",
    "        + the path in the url\n",
    "        + a common construct is to have `css`, `js`, and `img` directories to separate those files by type\n",
    "    + most files are \"minified\"\n",
    "        + white spaces is removed to make transfer faster\n",
    "        + you can have chrome add that white spacing back in\n",
    "            + click the `{}` character in the bottom-left corner of the display window\n",
    "+ network\n",
    "    + one use case: seeing what files are sent when\n",
    "    + a better use case: looking at the content individual pages we pulled in\n",
    "        + many times, a *complicated* webpage will be built out of *much simpler* and *more programmatically friendly* data (e.g. simple `json` objects)\n",
    "    + top panel: filter by file type\n",
    "        + this is a high-pass filter and not guaranteed\n",
    "        + it's by extension -- some `javascript` or `json` requests will not have `js` as an extension, so it's not perfect\n",
    "    + bottom-left panel: file name\n",
    "    + bottom-right panel: `request` details\n",
    "        + this is the real bread and butter!\n",
    "        + [`headers`](https://developer.mozilla.org/en-US/docs/Web/HTTP/Headers)\n",
    "            + `headers` are packets of information that are sent along with the actual `request` or `response` (basically, meta-data about the request itself)\n",
    "                + example: the data type of the content we're requesting or responding with (`json`)\n",
    "            + this panel contains the actual structure of the actual `request` that was made\n",
    "            + subsections:\n",
    "                + general\n",
    "                    + these are the most basic details about the `request` which was actually made and the status of the repsonse\n",
    "                + response headers\n",
    "                    + these are the `header` elements of the `response` to our browser's request\n",
    "                + request headers\n",
    "                    + the `header` our browser sent along with our original `request`\n",
    "                    + often some sub-section of these are *required* by the responding server for your content to be received\n",
    "                + query string parameters\n",
    "                    + if the `url` contained a query string (`?key1=val1&key2=val2`, etc.), it's parsed here\n",
    "                    + can be \"unparsed\" as well\n",
    "            + if you want *just this piece* of the full url building process request, you should try to replicate this page\n",
    "        + preview\n",
    "            + mostly used for rendering images\n",
    "        + response\n",
    "            + this is the rendered content of the actual response (*i.e.* usually what you're looking for)\n",
    "    + back to the file name panel\n",
    "        + right click one of the items\n",
    "        + \"copy >\"\n",
    "        + check out the various options, including curl statements!\n",
    "    + finally, *reload* the page to see the entire request stream re-built"
   ]
  },
  {
   "cell_type": "markdown",
   "metadata": {
    "slideshow": {
     "slide_type": "subslide"
    }
   },
   "source": [
    "**<div align=\"center\">walkthrough: a practical application</div>**\n",
    "\n",
    "let's open [the Eversource power company's outage reporting map](https://www.eversource.com/clp/outage/outagemap.aspx) and use some of the developer tools to find the data in the table of current outage information"
   ]
  },
  {
   "cell_type": "markdown",
   "metadata": {
    "slideshow": {
     "slide_type": "notes"
    }
   },
   "source": [
    "for the walkthrough, do the following\n",
    "\n",
    "+ open the inspect panel\n",
    "+ (re)load [the outage map](https://www.eversource.com/clp/outage/outagemap.aspx)\n",
    "+ explore\n",
    "    + look for the current outage information\n",
    "    + check out \"Outage Details\" panel\n",
    "+ in the \"outage report\" popup, select the table row elements\n",
    "    + `xpath` selector: `//table[@id=\"outageDetail\"]//tr`\n",
    "    + `css` selector: `table#outageDetail tr`\n",
    "    + copy one of these\n",
    "+ try this in python with the code in the cell below"
   ]
  },
  {
   "cell_type": "code",
   "execution_count": 122,
   "metadata": {
    "slideshow": {
     "slide_type": "subslide"
    }
   },
   "outputs": [
    {
     "data": {
      "text/plain": [
       "[]"
      ]
     },
     "execution_count": 122,
     "metadata": {},
     "output_type": "execute_result"
    }
   ],
   "source": [
    "resp = requests.get('https://www.eversource.com/clp/outage/outagemap.aspx')\n",
    "root = lxml.html.fromstring(resp.text)\n",
    "root.xpath('//table[@id=\"outageDetail\"]//tr')"
   ]
  },
  {
   "cell_type": "markdown",
   "metadata": {
    "slideshow": {
     "slide_type": "notes"
    }
   },
   "source": [
    "+ it didn't work -- why?\n",
    "+ reloading the page\n",
    "    + maybe the data is not in the *original* request, but is loaded afterward. it is *built* by the page\n",
    "    + reload the webpage and search for that same `xpath` or `css select` statement rapidly\n",
    "    + observe: they are *not found* when the page starts to render, and then are later found\n",
    "        + this screams [ajax](https://developer.mozilla.org/en-US/docs/AJAX/Getting_Started) (Asynchronous Javascript And Xml)\n",
    "    + maybe we can see the request that obtained those elements?\n",
    "+ Inspect > Network tab\n",
    "    + clear the previous requests\n",
    "    + hit reload\n",
    "    + de-activate the \"Record\" button (just stops adding new little requests after page has fully rendered)\n",
    "    + click around through those files\n",
    "        + try limiting to `js` first, on a whim\n",
    "            + no dice\n",
    "        + try just `xhr`\n",
    "            + awwwwwwwwww yisssssssssss\n",
    "            + note the request url: https://www.eversource.com/clp/outage/services/OutageData.asmx/AllOutageData\n",
    "            + and the request method: `POST`\n",
    "        + try the code below"
   ]
  },
  {
   "cell_type": "code",
   "execution_count": 124,
   "metadata": {
    "scrolled": true,
    "slideshow": {
     "slide_type": "subslide"
    }
   },
   "outputs": [
    {
     "ename": "JSONDecodeError",
     "evalue": "Expecting value: line 1 column 1 (char 0)",
     "output_type": "error",
     "traceback": [
      "\u001b[0;31m--------------------\u001b[0m",
      "\u001b[0;31mJSONDecodeError\u001b[0mTraceback (most recent call last)",
      "\u001b[0;32m<ipython-input-124-d21522f9255c>\u001b[0m in \u001b[0;36m<module>\u001b[0;34m()\u001b[0m\n\u001b[1;32m      2\u001b[0m     \u001b[0;34m'https://www.eversource.com/clp/outage/services/OutageData.asmx/AllOutageData'\u001b[0m\u001b[0;34m\u001b[0m\u001b[0m\n\u001b[1;32m      3\u001b[0m )\n\u001b[0;32m----> 4\u001b[0;31m \u001b[0mj\u001b[0m \u001b[0;34m=\u001b[0m \u001b[0mresp\u001b[0m\u001b[0;34m.\u001b[0m\u001b[0mjson\u001b[0m\u001b[0;34m(\u001b[0m\u001b[0;34m)\u001b[0m\u001b[0;34m\u001b[0m\u001b[0m\n\u001b[0m\u001b[1;32m      5\u001b[0m \u001b[0mj\u001b[0m\u001b[0;34m\u001b[0m\u001b[0m\n",
      "\u001b[0;32m~/miniconda3/envs/gu511/lib/python3.6/site-packages/requests/models.py\u001b[0m in \u001b[0;36mjson\u001b[0;34m(self, **kwargs)\u001b[0m\n\u001b[1;32m    894\u001b[0m                     \u001b[0;31m# used.\u001b[0m\u001b[0;34m\u001b[0m\u001b[0;34m\u001b[0m\u001b[0m\n\u001b[1;32m    895\u001b[0m                     \u001b[0;32mpass\u001b[0m\u001b[0;34m\u001b[0m\u001b[0m\n\u001b[0;32m--> 896\u001b[0;31m         \u001b[0;32mreturn\u001b[0m \u001b[0mcomplexjson\u001b[0m\u001b[0;34m.\u001b[0m\u001b[0mloads\u001b[0m\u001b[0;34m(\u001b[0m\u001b[0mself\u001b[0m\u001b[0;34m.\u001b[0m\u001b[0mtext\u001b[0m\u001b[0;34m,\u001b[0m \u001b[0;34m**\u001b[0m\u001b[0mkwargs\u001b[0m\u001b[0;34m)\u001b[0m\u001b[0;34m\u001b[0m\u001b[0m\n\u001b[0m\u001b[1;32m    897\u001b[0m \u001b[0;34m\u001b[0m\u001b[0m\n\u001b[1;32m    898\u001b[0m     \u001b[0;34m@\u001b[0m\u001b[0mproperty\u001b[0m\u001b[0;34m\u001b[0m\u001b[0m\n",
      "\u001b[0;32m~/miniconda3/envs/gu511/lib/python3.6/json/__init__.py\u001b[0m in \u001b[0;36mloads\u001b[0;34m(s, encoding, cls, object_hook, parse_float, parse_int, parse_constant, object_pairs_hook, **kw)\u001b[0m\n\u001b[1;32m    352\u001b[0m             \u001b[0mparse_int\u001b[0m \u001b[0;32mis\u001b[0m \u001b[0;32mNone\u001b[0m \u001b[0;32mand\u001b[0m \u001b[0mparse_float\u001b[0m \u001b[0;32mis\u001b[0m \u001b[0;32mNone\u001b[0m \u001b[0;32mand\u001b[0m\u001b[0;34m\u001b[0m\u001b[0m\n\u001b[1;32m    353\u001b[0m             parse_constant is None and object_pairs_hook is None and not kw):\n\u001b[0;32m--> 354\u001b[0;31m         \u001b[0;32mreturn\u001b[0m \u001b[0m_default_decoder\u001b[0m\u001b[0;34m.\u001b[0m\u001b[0mdecode\u001b[0m\u001b[0;34m(\u001b[0m\u001b[0ms\u001b[0m\u001b[0;34m)\u001b[0m\u001b[0;34m\u001b[0m\u001b[0m\n\u001b[0m\u001b[1;32m    355\u001b[0m     \u001b[0;32mif\u001b[0m \u001b[0mcls\u001b[0m \u001b[0;32mis\u001b[0m \u001b[0;32mNone\u001b[0m\u001b[0;34m:\u001b[0m\u001b[0;34m\u001b[0m\u001b[0m\n\u001b[1;32m    356\u001b[0m         \u001b[0mcls\u001b[0m \u001b[0;34m=\u001b[0m \u001b[0mJSONDecoder\u001b[0m\u001b[0;34m\u001b[0m\u001b[0m\n",
      "\u001b[0;32m~/miniconda3/envs/gu511/lib/python3.6/json/decoder.py\u001b[0m in \u001b[0;36mdecode\u001b[0;34m(self, s, _w)\u001b[0m\n\u001b[1;32m    337\u001b[0m \u001b[0;34m\u001b[0m\u001b[0m\n\u001b[1;32m    338\u001b[0m         \"\"\"\n\u001b[0;32m--> 339\u001b[0;31m         \u001b[0mobj\u001b[0m\u001b[0;34m,\u001b[0m \u001b[0mend\u001b[0m \u001b[0;34m=\u001b[0m \u001b[0mself\u001b[0m\u001b[0;34m.\u001b[0m\u001b[0mraw_decode\u001b[0m\u001b[0;34m(\u001b[0m\u001b[0ms\u001b[0m\u001b[0;34m,\u001b[0m \u001b[0midx\u001b[0m\u001b[0;34m=\u001b[0m\u001b[0m_w\u001b[0m\u001b[0;34m(\u001b[0m\u001b[0ms\u001b[0m\u001b[0;34m,\u001b[0m \u001b[0;36m0\u001b[0m\u001b[0;34m)\u001b[0m\u001b[0;34m.\u001b[0m\u001b[0mend\u001b[0m\u001b[0;34m(\u001b[0m\u001b[0;34m)\u001b[0m\u001b[0;34m)\u001b[0m\u001b[0;34m\u001b[0m\u001b[0m\n\u001b[0m\u001b[1;32m    340\u001b[0m         \u001b[0mend\u001b[0m \u001b[0;34m=\u001b[0m \u001b[0m_w\u001b[0m\u001b[0;34m(\u001b[0m\u001b[0ms\u001b[0m\u001b[0;34m,\u001b[0m \u001b[0mend\u001b[0m\u001b[0;34m)\u001b[0m\u001b[0;34m.\u001b[0m\u001b[0mend\u001b[0m\u001b[0;34m(\u001b[0m\u001b[0;34m)\u001b[0m\u001b[0;34m\u001b[0m\u001b[0m\n\u001b[1;32m    341\u001b[0m         \u001b[0;32mif\u001b[0m \u001b[0mend\u001b[0m \u001b[0;34m!=\u001b[0m \u001b[0mlen\u001b[0m\u001b[0;34m(\u001b[0m\u001b[0ms\u001b[0m\u001b[0;34m)\u001b[0m\u001b[0;34m:\u001b[0m\u001b[0;34m\u001b[0m\u001b[0m\n",
      "\u001b[0;32m~/miniconda3/envs/gu511/lib/python3.6/json/decoder.py\u001b[0m in \u001b[0;36mraw_decode\u001b[0;34m(self, s, idx)\u001b[0m\n\u001b[1;32m    355\u001b[0m             \u001b[0mobj\u001b[0m\u001b[0;34m,\u001b[0m \u001b[0mend\u001b[0m \u001b[0;34m=\u001b[0m \u001b[0mself\u001b[0m\u001b[0;34m.\u001b[0m\u001b[0mscan_once\u001b[0m\u001b[0;34m(\u001b[0m\u001b[0ms\u001b[0m\u001b[0;34m,\u001b[0m \u001b[0midx\u001b[0m\u001b[0;34m)\u001b[0m\u001b[0;34m\u001b[0m\u001b[0m\n\u001b[1;32m    356\u001b[0m         \u001b[0;32mexcept\u001b[0m \u001b[0mStopIteration\u001b[0m \u001b[0;32mas\u001b[0m \u001b[0merr\u001b[0m\u001b[0;34m:\u001b[0m\u001b[0;34m\u001b[0m\u001b[0m\n\u001b[0;32m--> 357\u001b[0;31m             \u001b[0;32mraise\u001b[0m \u001b[0mJSONDecodeError\u001b[0m\u001b[0;34m(\u001b[0m\u001b[0;34m\"Expecting value\"\u001b[0m\u001b[0;34m,\u001b[0m \u001b[0ms\u001b[0m\u001b[0;34m,\u001b[0m \u001b[0merr\u001b[0m\u001b[0;34m.\u001b[0m\u001b[0mvalue\u001b[0m\u001b[0;34m)\u001b[0m \u001b[0;32mfrom\u001b[0m \u001b[0;32mNone\u001b[0m\u001b[0;34m\u001b[0m\u001b[0m\n\u001b[0m\u001b[1;32m    358\u001b[0m         \u001b[0;32mreturn\u001b[0m \u001b[0mobj\u001b[0m\u001b[0;34m,\u001b[0m \u001b[0mend\u001b[0m\u001b[0;34m\u001b[0m\u001b[0m\n",
      "\u001b[0;31mJSONDecodeError\u001b[0m: Expecting value: line 1 column 1 (char 0)"
     ]
    }
   ],
   "source": [
    "resp = requests.post(\n",
    "    'https://www.eversource.com/clp/outage/services/OutageData.asmx/AllOutageData'\n",
    ")\n",
    "j = resp.json()\n",
    "j"
   ]
  },
  {
   "cell_type": "markdown",
   "metadata": {
    "slideshow": {
     "slide_type": "notes"
    }
   },
   "source": [
    "+ *that* didn't work either -- what's going on?\n",
    "    + check the `request header`\n",
    "    + if you're *expecting* `json`, you should probably *tell them* you're expecting `json`\n",
    "    + try the code below now"
   ]
  },
  {
   "cell_type": "code",
   "execution_count": 127,
   "metadata": {
    "scrolled": true,
    "slideshow": {
     "slide_type": "subslide"
    }
   },
   "outputs": [
    {
     "data": {
      "text/html": [
       "<div>\n",
       "<style>\n",
       "    .dataframe thead tr:only-child th {\n",
       "        text-align: right;\n",
       "    }\n",
       "\n",
       "    .dataframe thead th {\n",
       "        text-align: left;\n",
       "    }\n",
       "\n",
       "    .dataframe tbody tr th {\n",
       "        vertical-align: top;\n",
       "    }\n",
       "</style>\n",
       "<table border=\"1\" class=\"dataframe\">\n",
       "  <thead>\n",
       "    <tr style=\"text-align: right;\">\n",
       "      <th></th>\n",
       "      <th>CustomersAffected</th>\n",
       "      <th>Latitide</th>\n",
       "      <th>Longitide</th>\n",
       "      <th>Name</th>\n",
       "      <th>NumberOfCustomersServed</th>\n",
       "      <th>PercentageCustomersAffected</th>\n",
       "      <th>ReportDate</th>\n",
       "      <th>StateTotalCustomersServed</th>\n",
       "      <th>__type</th>\n",
       "    </tr>\n",
       "  </thead>\n",
       "  <tbody>\n",
       "    <tr>\n",
       "      <th>0</th>\n",
       "      <td>1</td>\n",
       "      <td>0</td>\n",
       "      <td>0</td>\n",
       "      <td>BROOKFIELD</td>\n",
       "      <td>8390</td>\n",
       "      <td>0.01</td>\n",
       "      <td>10/25/2018 12:47:21 AM</td>\n",
       "      <td>1271896</td>\n",
       "      <td>NU.Web.OutageMap.TownOutageInfo</td>\n",
       "    </tr>\n",
       "    <tr>\n",
       "      <th>1</th>\n",
       "      <td>5</td>\n",
       "      <td>0</td>\n",
       "      <td>0</td>\n",
       "      <td>REDDING</td>\n",
       "      <td>3736</td>\n",
       "      <td>0.13</td>\n",
       "      <td>10/25/2018 12:47:21 AM</td>\n",
       "      <td>1271896</td>\n",
       "      <td>NU.Web.OutageMap.TownOutageInfo</td>\n",
       "    </tr>\n",
       "    <tr>\n",
       "      <th>2</th>\n",
       "      <td>1</td>\n",
       "      <td>0</td>\n",
       "      <td>0</td>\n",
       "      <td>RIDGEFIELD</td>\n",
       "      <td>10884</td>\n",
       "      <td>0.01</td>\n",
       "      <td>10/25/2018 12:47:21 AM</td>\n",
       "      <td>1271896</td>\n",
       "      <td>NU.Web.OutageMap.TownOutageInfo</td>\n",
       "    </tr>\n",
       "  </tbody>\n",
       "</table>\n",
       "</div>"
      ],
      "text/plain": [
       "  CustomersAffected  Latitide  Longitide        Name NumberOfCustomersServed  \\\n",
       "0                 1         0          0  BROOKFIELD                    8390   \n",
       "1                 5         0          0     REDDING                    3736   \n",
       "2                 1         0          0  RIDGEFIELD                   10884   \n",
       "\n",
       "   PercentageCustomersAffected              ReportDate  \\\n",
       "0                         0.01  10/25/2018 12:47:21 AM   \n",
       "1                         0.13  10/25/2018 12:47:21 AM   \n",
       "2                         0.01  10/25/2018 12:47:21 AM   \n",
       "\n",
       "   StateTotalCustomersServed                           __type  \n",
       "0                    1271896  NU.Web.OutageMap.TownOutageInfo  \n",
       "1                    1271896  NU.Web.OutageMap.TownOutageInfo  \n",
       "2                    1271896  NU.Web.OutageMap.TownOutageInfo  "
      ]
     },
     "execution_count": 127,
     "metadata": {},
     "output_type": "execute_result"
    }
   ],
   "source": [
    "resp = requests.post(\n",
    "    'https://www.eversource.com/clp/outage/services/OutageData.asmx/AllOutageData',\n",
    "    headers={\n",
    "        'Content-Type': 'application/json'\n",
    "    }\n",
    ")\n",
    "j = resp.json()\n",
    "df = pd.DataFrame(j['d'])\n",
    "df.head()"
   ]
  },
  {
   "cell_type": "markdown",
   "metadata": {
    "slideshow": {
     "slide_type": "slide"
    }
   },
   "source": [
    "## `javascript` engines and `selenium` webdrivers"
   ]
  },
  {
   "cell_type": "markdown",
   "metadata": {
    "slideshow": {
     "slide_type": "subslide"
    }
   },
   "source": [
    "in the previous example we experienced something pretty tricky -- an `ajax` (Asynchronous Javascript And Xml) request.\n",
    "\n",
    "the response to our initial request contained instructions on how to *keep* building the webpage, and our browser knew how to take those instructions and turn them into additional `requests` (smart little cookie)"
   ]
  },
  {
   "cell_type": "markdown",
   "metadata": {
    "slideshow": {
     "slide_type": "subslide"
    }
   },
   "source": [
    "because of the way that the developers who put together the Eversource cite constructed their webpage, we got lucky -- we were able to find a *single, `static` url* which had all the content we need in one go. it's not always that simple, though.\n",
    "\n",
    "sometimes it's just not possible to get the information you need without running some `javascript` code (just like your smart little internet browser does)."
   ]
  },
  {
   "cell_type": "markdown",
   "metadata": {
    "slideshow": {
     "slide_type": "subslide"
    }
   },
   "source": [
    "when this is required, we must do something more complicated than our previous simple `python` requests -- we must use a `javascript engine`s like those used in our web browsers.\n",
    "\n",
    "we can use `webdrivers` -- programs which interface with browsers on our behalf -- to do this."
   ]
  },
  {
   "cell_type": "markdown",
   "metadata": {
    "slideshow": {
     "slide_type": "subslide"
    }
   },
   "source": [
    "there are many packages for running `webdrivers` in multiple languages, but the most common (across languages) is [`selenium`](http://www.seleniumhq.org/)\n",
    "\n",
    "you can think of it like this: people write code in various languages (e.g. `python`) that use the `selenium webdriver` to create and then interact with a browser's `javascript engine`"
   ]
  },
  {
   "cell_type": "markdown",
   "metadata": {
    "slideshow": {
     "slide_type": "subslide"
    }
   },
   "source": [
    "### setup"
   ]
  },
  {
   "cell_type": "markdown",
   "metadata": {
    "slideshow": {
     "slide_type": "subslide"
    }
   },
   "source": [
    "#### installing `selenium`, a web browser, and a webdriver"
   ]
  },
  {
   "cell_type": "markdown",
   "metadata": {
    "slideshow": {
     "slide_type": "subslide"
    }
   },
   "source": [
    "we need:\n",
    "\n",
    "1. the `python selenium` library\n",
    "2. a web browser\n",
    "3. a web driver\n",
    "    \n",
    "as always, the first question: am I installing this *locally* or *on my `ec2` server*?"
   ]
  },
  {
   "cell_type": "markdown",
   "metadata": {
    "slideshow": {
     "slide_type": "subslide"
    }
   },
   "source": [
    "the answer: it depends. we can make both work.\n",
    "\n",
    "+ on both local and remote, the install steps are basically the same\n",
    "+ *if* we go with *remote*, we have an additional complication when we want to *use* selenium (more on that later)\n",
    "\n",
    "you do you. I will do the harder *remote* setup (so you've seen some of the guts of this process), but will try and make it clear when I'm doing something that is remote only and doesn't apply to you *local* folks."
   ]
  },
  {
   "cell_type": "markdown",
   "metadata": {
    "slideshow": {
     "slide_type": "subslide"
    }
   },
   "source": [
    "**<div align=\"center\">walkthrough: installing `selenium` parts (either *local* or *remote*)</div>**\n",
    "\n",
    "1. open a terminal\n",
    "2. install `selenium`\n",
    "    1. activate some `conda` environment (e.g. the `scrapesville` one we've been using)\n",
    "    2. run `pip install selenium`\n",
    "3. download and unpack [the webdriver for your chosen browser](http://selenium-python.readthedocs.io/installation.html#drivers)\n",
    "    1. you will likely have to pick one, download (`wget`) a `zip` or `tar`ball, and `unzip` or `tar -xvzf` it\n",
    "    2. note the path where you saved it\n",
    "4. if needed, install a browser (none is installed by default in `ec2`)"
   ]
  },
  {
   "cell_type": "markdown",
   "metadata": {
    "slideshow": {
     "slide_type": "subslide"
    }
   },
   "source": [
    "in my (remote) case:\n",
    "\n",
    "```bash\n",
    "conda activate scrapesville\n",
    "pip install selenium\n",
    "\n",
    "mkdir -p ~/selenium_example\n",
    "cd ~/selenium_example\n",
    "wget https://github.com/mozilla/geckodriver/releases/download/v0.23.0/geckodriver-v0.23.0-linux64.tar.gz\n",
    "tar -xvzf geckodriver-v0.23.0-linux64.tar.gz\n",
    "ls -alh ~/selenium_example/\n",
    "\n",
    "# finally, install firefox -- chrome is actually pretty annoying for this example\n",
    "sudo apt install firefox\n",
    "```"
   ]
  },
  {
   "cell_type": "markdown",
   "metadata": {
    "slideshow": {
     "slide_type": "subslide"
    }
   },
   "source": [
    "so we now should have access to the `selenium python` code library, an executible `webdriver`, and a browser that `webdriver` can drive. \n",
    "\n",
    "what can (should) we actually *do* with them?"
   ]
  },
  {
   "cell_type": "markdown",
   "metadata": {
    "slideshow": {
     "slide_type": "subslide"
    }
   },
   "source": [
    "well, `selenium` was originally constructed not for web scraping but for UAT processes -- we could use it to automatically replicate the experience of a user coming to a webpage, clicking buttons, typing things in fields, etc.\n",
    "\n",
    "it can be used to create `test`s of a webpage's functionality, ensuring that the webpage behaves as expected."
   ]
  },
  {
   "cell_type": "markdown",
   "metadata": {
    "slideshow": {
     "slide_type": "subslide"
    }
   },
   "source": [
    "this means, in particular, that it can *launch an actual browser*, and control it with commands. that's pretty awesome.\n",
    "\n",
    "in turn, *that* means that we may need to be able to see an actual browser (or launching it will fail). if you're working *locally*, no problem! if you're working *remotely*, though, that's not something we've ever done via the command line yet."
   ]
  },
  {
   "cell_type": "markdown",
   "metadata": {
    "slideshow": {
     "slide_type": "subslide"
    }
   },
   "source": [
    "we can do it with `x11` forwarding. let's figure out how "
   ]
  },
  {
   "cell_type": "markdown",
   "metadata": {
    "slideshow": {
     "slide_type": "subslide"
    }
   },
   "source": [
    "#### `x11` forwarding graphical interfaces (*remote only*)\n",
    "\n",
    "the general idea here is straightforward: if *you* have some `x11`-speaking service running, and the *remote server* has some `x11`-speaking service running, you can have guis sent over your `ssh` connection from the *remote* to your local laptop.\n",
    "\n",
    "your `ubuntu` servers already have what they need -- let's install what *we* need"
   ]
  },
  {
   "cell_type": "markdown",
   "metadata": {
    "slideshow": {
     "slide_type": "subslide"
    }
   },
   "source": [
    "for a full walkthrough, check out [this description from Indiana University](https://uisapp2.iu.edu/confluence-prd/pages/viewpage.action?pageId=280461906). the basics are simple though:\n",
    "\n",
    "1. mac: download [`xquartz`](https://www.xquartz.org/) and run it\n",
    "2. windows: download [`xming`](http://sourceforge.net/projects/xming/) and run it\n",
    "3. linux: you should be ok out of the box. if you see complaints about not having the `xorg` package installed, install it"
   ]
  },
  {
   "cell_type": "markdown",
   "metadata": {
    "slideshow": {
     "slide_type": "subslide"
    }
   },
   "source": [
    "now that you have an `x11` service running on your machine, you should be able to have `x11` communications with your remote server, and display guis `forward`ed from that server.\n",
    "\n",
    "for mac and linux users, create an `ssh` connection with `x11` forwarding by entering the *exact same command* you usually would to connect via `ssh` connection, but **add a `-Y` flag** (that's a *capital* `Y`):\n",
    "\n",
    "```bash\n",
    "ssh -Y -i /path/to/privatekey username@servername\n",
    "```"
   ]
  },
  {
   "cell_type": "markdown",
   "metadata": {
    "slideshow": {
     "slide_type": "subslide"
    }
   },
   "source": [
    "for windows users, you will want to enable `x11` by loading your `putty` connection and navigating to the `connection > ssh > x11` side menu panel. after you've made that update, you can save if you want."
   ]
  },
  {
   "cell_type": "markdown",
   "metadata": {
    "slideshow": {
     "slide_type": "subslide"
    }
   },
   "source": [
    "`x11` forwarding is a somewhat common process, and you will do it *any* time you want to \"see\" an application running on a remote server. think of it as \"remote desktop\", but for a single application. it's also the same process for every application, so you only need to set it up and learn it one time."
   ]
  },
  {
   "cell_type": "markdown",
   "metadata": {
    "slideshow": {
     "slide_type": "subslide"
    }
   },
   "source": [
    "##### where are we?\n",
    "\n",
    "at this point:\n",
    "\n",
    "1. you should have installed `selenium`\n",
    "2. you should have downloaded and unzipped a `webdriver`\n",
    "3. if you're doing all of this remotely\n",
    "    1. you should have downloaded an `x11` client\n",
    "    2. you should have made an `ssh` connection using the `-X` flag\n",
    "    \n",
    "everybody there?"
   ]
  },
  {
   "cell_type": "markdown",
   "metadata": {
    "slideshow": {
     "slide_type": "subslide"
    }
   },
   "source": [
    "### an example\n",
    "\n",
    "let's try an example. suppose [our Eversource example page from before](https://www.eversource.com/clp/outage/outagemap.aspx) hadn't yielded that single convenient endpoint. we could still scrape that table if we wanted to because with `selenium` we can do *literally anything* we could do with a browser"
   ]
  },
  {
   "cell_type": "markdown",
   "metadata": {
    "slideshow": {
     "slide_type": "subslide"
    }
   },
   "source": [
    "let's start with a few simple `python` commands just to get things up and running.\n",
    "\n",
    "first, we will need to know or remember *where* on our filesystem we saved that `webdriver` file -- we will need to be able to point to it in order to use.\n",
    "\n",
    "I saved mine in a `~/selenium_example` directory"
   ]
  },
  {
   "cell_type": "markdown",
   "metadata": {
    "slideshow": {
     "slide_type": "subslide"
    }
   },
   "source": [
    "```python\n",
    "import os\n",
    "import pandas as pd\n",
    "import selenium.webdriver\n",
    "\n",
    "fdriver = os.path.join(\n",
    "    os.path.expanduser('~'), 'selenium_example', 'geckodriver'\n",
    ")\n",
    "\n",
    "# you may use Firefox, or Chrome, or Edge, or whatever\n",
    "driver = selenium.webdriver.Firefox(\n",
    "    executable_path=fdriver\n",
    ")\n",
    "```"
   ]
  },
  {
   "cell_type": "markdown",
   "metadata": {
    "slideshow": {
     "slide_type": "subslide"
    }
   },
   "source": [
    "woah!\n",
    "\n",
    "first, that `driver = ...` command actually launched our browser. cool.\n",
    "\n",
    "did you notice, though, that the `python` session waited until the browser seemed done rendering? it does that. for everything we do, actually. which is good -- we are waiting until the web browser tells us it's done working on the current request."
   ]
  },
  {
   "cell_type": "markdown",
   "metadata": {
    "slideshow": {
     "slide_type": "subslide"
    }
   },
   "source": [
    "let's try getting our eversource url:\n",
    "\n",
    "```python\n",
    "driver.get('https://www.eversource.com/clp/outage/outagemap.aspx')\n",
    "\n",
    "driver.current_url\n",
    "```"
   ]
  },
  {
   "cell_type": "markdown",
   "metadata": {
    "slideshow": {
     "slide_type": "subslide"
    }
   },
   "source": [
    "the `driver` item we have now has the ability to do all the things we might want to do -- including:\n",
    "\n",
    "1. clicking on elements\n",
    "2. typing (sending keystrokes)\n",
    "3. dragging, dropping, or highlighting"
   ]
  },
  {
   "cell_type": "markdown",
   "metadata": {
    "slideshow": {
     "slide_type": "subslide"
    }
   },
   "source": [
    "the way it does all of the above is by\n",
    "\n",
    "1. selecting an element it wishes to interact with (e.g. a text box we would type in)\n",
    "2. using `send_keys`, `click`, or other member functions on that element\n",
    "\n",
    "let's try an example -- we know we want to click on that table popup here. we need a `css` selector or `xpath` to isoalte that clickable menu element"
   ]
  },
  {
   "cell_type": "markdown",
   "metadata": {
    "slideshow": {
     "slide_type": "subslide"
    }
   },
   "source": [
    "look for that information in the `inspector` mode of firefox, chrome, etc.\n",
    "\n",
    "once you've found an `{xpath, css}`, try and select that element with `driver.find_element_by_{xpath, css_selector}()`\n",
    "\n",
    "if that works, try `click`ing that element and see what happens!"
   ]
  },
  {
   "cell_type": "markdown",
   "metadata": {
    "slideshow": {
     "slide_type": "subslide"
    }
   },
   "source": [
    "```python\n",
    "menulink = driver.find_element_by_xpath('.//a[@href=\"#detail_container\"]')\n",
    "menulink\n",
    "menulink.click()\n",
    "```"
   ]
  },
  {
   "cell_type": "markdown",
   "metadata": {
    "slideshow": {
     "slide_type": "subslide"
    }
   },
   "source": [
    "so let's keep repeating this process until we've done all the steps we want:\n",
    "\n",
    "1. click on the \"View Outage Report\" link\n",
    "    1. hint: there's a `driver.find_element_by_id` method\n",
    "2. select all the elements in the table"
   ]
  },
  {
   "cell_type": "markdown",
   "metadata": {
    "slideshow": {
     "slide_type": "subslide"
    }
   },
   "source": [
    "```python\n",
    "outagelink = driver.find_element_by_id('viewOutage')\n",
    "outagelink.click()\n",
    "\n",
    "outageInfo = []\n",
    "for row in driver.find_elements_by_xpath('//table[@id=\"outageDetail\"]/tbody/tr'):\n",
    "    town, cust, aff, pct = row.find_elements_by_xpath('td')\n",
    "    outageInfo.append({\n",
    "        'town_name': town.text,\n",
    "        'customers': cust.text,\n",
    "        'customers_affected': aff.text,\n",
    "        'pct_customers_affected': pct.text,\n",
    "    })\n",
    "    \n",
    "df = pd.DataFrame(outageInfo)\n",
    "df.head()\n",
    "```"
   ]
  },
  {
   "cell_type": "markdown",
   "metadata": {
    "slideshow": {
     "slide_type": "subslide"
    }
   },
   "source": [
    "now, that's pretty inarguably cool, but in terms of doing something *practical*, I think it has some serious drawbacks:\n",
    "\n",
    "1. requires external software (a running browser program and driver)\n",
    "    1. **you don't have to do the `x11` forwarding**\n",
    "        1. it is possible to run the browser in \"headless\" mode\n",
    "        2. this makes the process considerably faster\n",
    "2. obviously slower (more overhead in rendering, e.g.)\n",
    "3. more resource (memory) intensive"
   ]
  },
  {
   "cell_type": "markdown",
   "metadata": {
    "slideshow": {
     "slide_type": "subslide"
    }
   },
   "source": [
    "#### tangent: handling sensitive information or credentials\n",
    "\n",
    "how should we handle private or secure information (credentials, personally identifying information, etc)?"
   ]
  },
  {
   "cell_type": "markdown",
   "metadata": {
    "slideshow": {
     "slide_type": "subslide"
    }
   },
   "source": [
    "one option: hard code it. then put the file with that hard-coded password on `git`. then let anyone who wants to log in to whatever they want to with that user name and password.\n",
    "\n",
    "[this is not a good option](https://github.com/search?utf8=%E2%9C%93&q=remove+password&type=Commits&ref=searchresults). don't do choose this option"
   ]
  },
  {
   "cell_type": "markdown",
   "metadata": {
    "slideshow": {
     "slide_type": "subslide"
    }
   },
   "source": [
    "another option: in a previous cell we used the `getpass.getpass` to manually type in a password. this loads a string value into a variable (which we could then accidentally print out to a log file or a `jupyter notebook` at any time), but it avoids displaying it while I typed in front of you all just now.\n",
    "\n",
    "this is not automatable. don't do this option"
   ]
  },
  {
   "cell_type": "markdown",
   "metadata": {
    "slideshow": {
     "slide_type": "subslide"
    }
   },
   "source": [
    "a not-perfect-but-not-that-bad option: \n",
    "\n",
    "*see how I've already anchored expectations? cute, right?*\n",
    "\n",
    "a commonly accepted method of securing passwords is to write them (yes, even in plain text) to a file in a completely different place on the file system, and secure them that using the system's permissions structure"
   ]
  },
  {
   "cell_type": "markdown",
   "metadata": {
    "slideshow": {
     "slide_type": "subslide"
    }
   },
   "source": [
    "for example, we could have the following two files:\n",
    "\n",
    "**`~/code/myapp/myapp.py`**\n",
    "```python\n",
    "# load credentials as a dictionary from a json file\n",
    "def load_credentials(filename):\n",
    "    with open(filename, 'r') as f:\n",
    "        credentials = json.load(f)\n",
    "        return credentials\n",
    "        \n",
    "def do_a_thing(filename):\n",
    "    credentials = load_credentials(filename)\n",
    "    username = credentials['username']\n",
    "    password = credentials['password']\n",
    "    # etc\n",
    "```"
   ]
  },
  {
   "cell_type": "markdown",
   "metadata": {
    "slideshow": {
     "slide_type": "subslide"
    }
   },
   "source": [
    "**`~/.secrets/mycredentials.json`**\n",
    "```json\n",
    "/*  python file should load as a dictionary called `credentials` and then access \n",
    "    `credentials['username']` and `credentials['password']`\n",
    "*/\n",
    "{\n",
    "    'username': 'my_user_name',\n",
    "    'password': 'my_password'\n",
    "}\n",
    "```"
   ]
  },
  {
   "cell_type": "markdown",
   "metadata": {
    "slideshow": {
     "slide_type": "subslide"
    }
   },
   "source": [
    "two things to note about this arrangment:\n",
    "\n",
    "1. we have to provide a file name\n",
    "    1. we no longer enter user names or passwords, but we have to provide the path to some secure file\n",
    "    2. this would be done by the user interactively, or as a command line flag `--credentials-file`\n",
    "2. the file is not in the same place as the code\n",
    "    1. this means every user must inidividually have a credentials file that is valid\n",
    "    2. the path to that file and that file itself can be controlled using the filesystem permissions\n",
    "        1. on `linux` systems, this meands having a permission level of `r-x --- ---` on the `~/.secrets` directory and `r-- --- ---` on the `~/.secrets/mycredentials.json` file itself"
   ]
  },
  {
   "cell_type": "markdown",
   "metadata": {
    "slideshow": {
     "slide_type": "subslide"
    }
   },
   "source": [
    "there are many other options for handling this, and many that are more secure (e.g. setting up a centralized key management service, encrypting that credentials file instead of leaving it in plain text)"
   ]
  },
  {
   "cell_type": "markdown",
   "metadata": {
    "slideshow": {
     "slide_type": "subslide"
    }
   },
   "source": [
    "bottom line: keep your passwords completely separate from your code. if you accidentally hard-code your password into your code, **change your password**."
   ]
  },
  {
   "cell_type": "markdown",
   "metadata": {
    "slideshow": {
     "slide_type": "slide"
    }
   },
   "source": [
    "## final summary\n",
    "\n",
    "so, in general, the workflow for doing directed webscraping of an identified data sources is:\n",
    "\n",
    "1. search, at least once, for a `json` api (e.g. \"google json api my.data.source\")\n",
    "    1. if you find a `json` api, use that api with the standard web requests\n",
    "2. see if the content is kept in obviously structured `html` in a static request\n",
    "    1. if it is, `GET` the `html` document with `requests`\n",
    "    2. convert the `html` to an `lxml.html` object\n",
    "    3. identify `xpath` or `css` selectors to iterate through data elements and find them on the `lxml.html` object\n",
    "3. look through the developer tools for a better sub-request\n",
    "    1. if so, repeat the steps under 2\n",
    "4. look into an automated `javascript` engine approach using `selenium`"
   ]
  },
  {
   "cell_type": "markdown",
   "metadata": {
    "slideshow": {
     "slide_type": "slide"
    }
   },
   "source": [
    "***<div align=\"center\">`REST` up<div>***\n",
    "<div align=\"center\"><img src=\"http://www.softwaresamurai.org/wp-content/uploads/2017/12/RESTfil-API.png\" width=\"400px\"></div>\n",
    "\n",
    "# END OF LECTURE\n",
    "\n",
    "next lecture: [`aws` `iam`](008_iam.ipynb)"
   ]
  }
 ],
 "metadata": {
  "celltoolbar": "Slideshow",
  "kernelspec": {
   "display_name": "Python 3",
   "language": "python",
   "name": "python3"
  },
  "language_info": {
   "codemirror_mode": {
    "name": "ipython",
    "version": 3
   },
   "file_extension": ".py",
   "mimetype": "text/x-python",
   "name": "python",
   "nbconvert_exporter": "python",
   "pygments_lexer": "ipython3",
   "version": "3.6.6"
  },
  "toc": {
   "toc_cell": false,
   "toc_number_sections": true,
   "toc_threshold": 6,
   "toc_window_display": false
  }
 },
 "nbformat": 4,
 "nbformat_minor": 2
}
