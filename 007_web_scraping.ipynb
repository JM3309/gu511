{
 "cells": [
  {
   "cell_type": "markdown",
   "metadata": {
    "slideshow": {
     "slide_type": "slide"
    }
   },
   "source": [
    "# web scraping"
   ]
  },
  {
   "cell_type": "markdown",
   "metadata": {
    "slideshow": {
     "slide_type": "slide"
    }
   },
   "source": [
    "## basic web-scraping concepts\n",
    "\n",
    "This is by no means an exhaustive summary. there are 7.2 bajillion articles about web scraping and they're probably all better. [Especially the Mozilla ones](https://developer.mozilla.org/en-US/). Also, people always freak out about how bad the W3 pages are (and they are), but they're still (in my opinion) a good beginner's resource. So dont' be afraid to try them out, but be aware that there are some problems."
   ]
  },
  {
   "cell_type": "markdown",
   "metadata": {
    "slideshow": {
     "slide_type": "subslide"
    }
   },
   "source": [
    "The only thing that is special about this one is that I wrote it and you've been duped into reading it.\n",
    "\n",
    "So enjoy!"
   ]
  },
  {
   "cell_type": "markdown",
   "metadata": {
    "slideshow": {
     "slide_type": "subslide"
    }
   },
   "source": [
    "### requests\n",
    "\n",
    "The basic problem here is that some one out there in the ol' interwebs has put up a pretty page with some data we want, and we need to go get it.\n",
    "\n",
    "The primary action we will be executing is called a `request`. We are trying to make our computer yell at their computer and send us that neat data. So we need to figure out how to yell in a way that makes their computer happy."
   ]
  },
  {
   "cell_type": "markdown",
   "metadata": {
    "slideshow": {
     "slide_type": "subslide"
    }
   },
   "source": [
    "Our computers all yell at eachother in a language called HTTP -- you have perhaps heard of it.\n",
    "\n",
    "[There are a ton of details about how to yell](https://developer.mozilla.org/en-US/docs/Web/HTTP), what's appropriate and what isn't, etc. But for our purpose, we basically only care about [`requests`](https://developer.mozilla.org/en-US/docs/Web/HTTP/Methods)."
   ]
  },
  {
   "cell_type": "markdown",
   "metadata": {
    "slideshow": {
     "slide_type": "subslide"
    }
   },
   "source": [
    "There are several different types of yells:\n",
    "\n",
    "+ `GET` -- you want to get a thing and they should give it to you\n",
    "+ `POST` -- you want to send them a thing and they should at least write you a thank you card; if they want to give you something back that's cool but it's not expected (but it's polite, so, that's basically the same as expectation, but with all sorts of passive aggressiveness tacked on)"
   ]
  },
  {
   "cell_type": "markdown",
   "metadata": {
    "slideshow": {
     "slide_type": "subslide"
    }
   },
   "source": [
    "+ `HEAD` -- you want to get a thing but you would prefer it if they just told you about the thing first, like sent you a picture of it or told you how big it was. You may still want to get it at some point but you're just testing the water. it's a fun, no commitment thing -- why rush in?\n",
    "+ `PUT` -- a really pushy `POST` request, basically they tell us they have a cool painting and we say OUR PAINTING HERE IS BETTER FORGET YOURS"
   ]
  },
  {
   "cell_type": "markdown",
   "metadata": {
    "slideshow": {
     "slide_type": "subslide"
    }
   },
   "source": [
    "+ `DELETE` -- actually that painting was dumb. you were right. our bad\n",
    "+ `CONNECT`, `OPTIONS`, `TRACE`, `PATCH` -- stuff your parents yell to their friends but no one really does any more outside of really formal settings"
   ]
  },
  {
   "cell_type": "markdown",
   "metadata": {
    "slideshow": {
     "slide_type": "subslide"
    }
   },
   "source": [
    "all of these have their time and place and the web wouldn't work without them.\n",
    "\n",
    "that being said, you generally only need `GET` and `POST` messages"
   ]
  },
  {
   "cell_type": "markdown",
   "metadata": {
    "slideshow": {
     "slide_type": "subslide"
    }
   },
   "source": [
    "### data formats\n",
    "\n",
    "So, suppose you got your computer to yell at their computer and everyone's into it. You say HEY CAN A FELLA `GET` OR WHAT and the other computer said"
   ]
  },
  {
   "cell_type": "markdown",
   "metadata": {
    "slideshow": {
     "slide_type": "subslide"
    }
   },
   "source": [
    "```\n",
    "01100101 01100001 01110011 01110100 01100101 01110010 00100000 01100101 \n",
    "01100111 01100111 01110011 00100000 01100001 01110010 01100101 00100000 \n",
    "01100111 01110010 01100101 01100001 01110100 00100000 01001001 00100000 \n",
    "01101100 01101111 01110110 01100101 00100000 01100101 01100001 01110011 \n",
    "01110100 01100101 01110010 00100000 01100101 01100111 01100111 01110011 \n",
    "00101110 00100000 01110011 01100011 01110010 01100001 01101101 01100010 \n",
    "01101100 01100101 01100100 00101100 00100000 01101111 01110110 01100101 \n",
    "01110010 00100000 01100101 01100001 01110011 01111001 00101100 00100000 \n",
    "01100100 01101111 01101110 00100111 01110100 00100000 01100101 01110110 \n",
    "01100101 01101110 00100000 01100011 01100001 01110010 01100101 00101110 \n",
    "00100000 01110011 01100101 01110010 01101001 01101111 01110101 01110011 \n",
    "01101100 01111001 00100000 01110100 01100001 01110011 01110100 01111001 \n",
    "00101110\n",
    "```\n",
    "\n",
    "<!--a href=\"http://www.rapidtables.com/convert/number/binary-to-ascii.htm\">funtimes<a/ -->"
   ]
  },
  {
   "cell_type": "markdown",
   "metadata": {
    "slideshow": {
     "slide_type": "subslide"
    }
   },
   "source": [
    "not cool."
   ]
  },
  {
   "cell_type": "markdown",
   "metadata": {
    "slideshow": {
     "slide_type": "slide"
    }
   },
   "source": [
    "#### `html` format\n",
    "\n",
    "okay so it's actually a *little* cool, it looks like many of the other computers out there speak [HyperText Markup Language](https://developer.mozilla.org/en-US/docs/Web/HTML). So at least they're trying.\n",
    "\n",
    "`html` is a special amalgam of xml-like tag structures that is the language which is used by your browser to render webpages."
   ]
  },
  {
   "cell_type": "markdown",
   "metadata": {
    "slideshow": {
     "slide_type": "subslide"
    }
   },
   "source": [
    "check out [this example page with simple `html`](http://www.columbia.edu/~fdc/sample.html). Specifically, right click and go to \"view source.\" You can do that on any webpage."
   ]
  },
  {
   "cell_type": "markdown",
   "metadata": {
    "slideshow": {
     "slide_type": "subslide"
    }
   },
   "source": [
    "Of course, you usually will have more luck using the \"developers tools\" than just viewing source\n",
    "\n",
    "+ in google chrome, right click > \"Inspect\"\n",
    "+ in firefox, right click > \"Inspect Element\"\n",
    "+ in explorer or edge, press F12, and feel at least a little bit of jealousy\n",
    "+ in safari, go to www.google.com, search for, and download something else."
   ]
  },
  {
   "cell_type": "markdown",
   "metadata": {
    "slideshow": {
     "slide_type": "subslide"
    }
   },
   "source": [
    "##### `xpath`\n",
    "\n",
    "[`xpath`](https://msdn.microsoft.com/en-us/library/ms256086) is a query language for `xml` documents. Given that `html` is effectively a refined subset of `xml`, it's a natural fit for parsing `html` documents.\n",
    "\n",
    "it's a bit more time-tested than an alternative selecting language option (`css`) (time-tested in years, but perhaps not in projects or eyeballs) and has a broader use case, but is still not really as popular and (in my opinion) not as easy to learn. It's kind of the `C` or `C++` to `css`'s `python`."
   ]
  },
  {
   "cell_type": "markdown",
   "metadata": {
    "slideshow": {
     "slide_type": "subslide"
    }
   },
   "source": [
    "that being said, it's by far my favorite of the two, and almost always my go-to. Just because I learned it first... and the edge cases are not as strange as the `css` edge cases, in my opinion. that being said, I'd probably recommend *learning* `css` selecting instead.\n",
    "\n",
    "which is why, naturally, I'm just gonna keep on teaching you `xpath`"
   ]
  },
  {
   "cell_type": "markdown",
   "metadata": {
    "slideshow": {
     "slide_type": "subslide"
    }
   },
   "source": [
    "in many respects, `xpath` is similar to describing paths of files on a linux file system.\n",
    "\n",
    "suppose that you know that somewhere several levels deep inside your root directory there is a folder called `important_files` and that it has a file in it where the extension is `.txt` and you want to list information about it.\n",
    "\n",
    "if you knew the *exact path*, you could use the `ls` command:\n",
    "\n",
    "```\n",
    "ls /path/to/directory/important_files/*.txt\n",
    "```"
   ]
  },
  {
   "cell_type": "markdown",
   "metadata": {
    "slideshow": {
     "slide_type": "subslide"
    }
   },
   "source": [
    "if you *don't* know the *exact path*, though, maybe you could use some wildcard / `glob` expressions to find it. For example, you could use the find tool:\n",
    "\n",
    "```bash\n",
    "find . -ipath \"*important_files/*.txt\"\n",
    "\n",
    "# real example:\n",
    "find ~/miniconda3 -ipath \"*packages/*.yaml\"\n",
    "```"
   ]
  },
  {
   "cell_type": "markdown",
   "metadata": {
    "slideshow": {
     "slide_type": "subslide"
    }
   },
   "source": [
    "basically, you can utilize what you know: somewhere underneath some stating point (*e.g.* the root directory or my home directory) there's an element that is a child of something I know, and that child item has a property."
   ]
  },
  {
   "cell_type": "markdown",
   "metadata": {
    "slideshow": {
     "slide_type": "subslide"
    }
   },
   "source": [
    "`xpath` is similar. take the example below, and suppose we wanted to \"select\" the `ul` item. \n",
    "\n",
    "you know things about the hierarchy of a document (it's a list item `ul`) and the attributes (it is in the class `zachs_list`)\n",
    "\n",
    "```html\n",
    "<body>\n",
    "    <div>\n",
    "        <ul class=\"zachs_list\">\n",
    "            <li>hello</li>\n",
    "            <li>world</li>\n",
    "        </ul>\n",
    "    </div>\n",
    "</body>\n",
    "```"
   ]
  },
  {
   "cell_type": "markdown",
   "metadata": {
    "slideshow": {
     "slide_type": "subslide"
    }
   },
   "source": [
    "we can specify the *exact path*:\n",
    "\n",
    "```\n",
    "path = /body/div/ul\n",
    "```\n",
    "\n",
    "```html\n",
    "<body>\n",
    "    <div>\n",
    "        <ul class=\"zachs_list\">\n",
    "            <li>hello</li>\n",
    "            <li>world</li>\n",
    "        </ul>\n",
    "    </div>\n",
    "</body>\n",
    "```"
   ]
  },
  {
   "cell_type": "markdown",
   "metadata": {
    "slideshow": {
     "slide_type": "subslide"
    }
   },
   "source": [
    "it's also possible to discuss *relative paths*. suppose we want to describe `ul` *relative* to `div`:\n",
    "\n",
    "```\n",
    "path = ./ul\n",
    "```\n",
    "\n",
    "```html\n",
    "<body>\n",
    "    <div>\n",
    "        <ul class=\"zachs_list\">\n",
    "            <li>hello</li>\n",
    "            <li>world</li>\n",
    "        </ul>\n",
    "    </div>\n",
    "</body>\n",
    "```"
   ]
  },
  {
   "cell_type": "markdown",
   "metadata": {
    "slideshow": {
     "slide_type": "subslide"
    }
   },
   "source": [
    "we can also represent unknown elements along some longer hierarchy (similar to our `*` in our patterns in the file path examples above. we do this in `xpath` by writing two consecutive `/` characters. suppose we want to find any `ul` element under the `root` (top of the document) with any intermediate elements:\n",
    "\n",
    "```\n",
    "path = .//ul\n",
    "```\n",
    "\n",
    "```html\n",
    "<body>\n",
    "    <div>\n",
    "        <ul class=\"zachs_list\">\n",
    "            <li>hello</li>\n",
    "            <li>world</li>\n",
    "        </ul>\n",
    "    </div>\n",
    "</body>\n",
    "```"
   ]
  },
  {
   "cell_type": "markdown",
   "metadata": {
    "slideshow": {
     "slide_type": "subslide"
    }
   },
   "source": [
    "finally, it's possible to select elements using their attributes (those items inside the `<>` characters such as `class`, `id`, *etc.*).\n",
    "\n",
    "you specify these elements using the following notation:\n",
    "\n",
    "```\n",
    "/path/to/xorhtml/element[@attr=\"attr_value\"]\n",
    "```"
   ]
  },
  {
   "cell_type": "markdown",
   "metadata": {
    "slideshow": {
     "slide_type": "subslide"
    }
   },
   "source": [
    "for example, we could find all `ul` elements with `class` value of `zachs_list` via the path:\n",
    "\n",
    "```\n",
    "path = .//ul[@class=\"zachs_list\"]\n",
    "```\n",
    "\n",
    "```html\n",
    "<body>\n",
    "    <div>\n",
    "        <ul class=\"zachs_list\">\n",
    "            <li>hello</li>\n",
    "            <li>world</li>\n",
    "        </ul>\n",
    "    </div>\n",
    "</body>\n",
    "```"
   ]
  },
  {
   "cell_type": "markdown",
   "metadata": {
    "slideshow": {
     "slide_type": "subslide"
    }
   },
   "source": [
    "<div align=\"center\">**mini-exercise: create some `xpath` expressions**</div>\n",
    "\n",
    "given the source `html` from this webpage: https://anaconda.org/anaconda/repo, develop some `xpath` expressions to select the \"Package Name\" elements.\n",
    "\n",
    "*hint: in \"inspect\" mode, you can find an \"element selector\" button that will allow you to click on the visible element and it will isolate that piece in the source code"
   ]
  },
  {
   "cell_type": "markdown",
   "metadata": {
    "slideshow": {
     "slide_type": "subslide"
    }
   },
   "source": [
    "here are some reasonable options:\n",
    "\n",
    "1. absolute: `html/body/div/div/div/div/div/div/div/div/div/table/tbody/tr/td/a/span`\n",
    "2. at any depth (over-inclusive): `//a/span`\n",
    "3. using attributes: `//span[@class=\"packageName\"]`"
   ]
  },
  {
   "cell_type": "markdown",
   "metadata": {
    "slideshow": {
     "slide_type": "subslide"
    }
   },
   "source": [
    "one final note on \"narrowing down\" the number of items which will match a given `xpath` expression: there are two very common attributes in `html` documents, and because they serve different purposes in `html` and `css`, they can be pretty useful in selecting items:\n",
    "\n",
    "1. `class`: this attribute marks that an element is \"in a class with\" other elements, so it often defines elements which are conceptually related. This is particularly common for groups of things that are specially formatted (e.g. our \"Package Name\" elements, which are all green links\n",
    "2. `id`: this is a *globally unique* attribute, so if we want to get one and only one element (*e.g.* `<table class=\"full-width\" id=\"repo-packages-table\">`) this is a guaranteed way to do so"
   ]
  },
  {
   "cell_type": "markdown",
   "metadata": {
    "slideshow": {
     "slide_type": "subslide"
    }
   },
   "source": [
    "##### `css`\n",
    "\n",
    "Cascading Style Sheets (*aka* [`css`](https://developer.mozilla.org/en-US/docs/Web/CSS)) is a language for describing how a browser should format and style the `html` documents it renders."
   ]
  },
  {
   "cell_type": "markdown",
   "metadata": {
    "slideshow": {
     "slide_type": "subslide"
    }
   },
   "source": [
    "`css` files are not a pre-requisite for creating a webpage (styling can be done directly in `html` docs), but websites that don't utilize this language (or some more advanced variant) are few and far between."
   ]
  },
  {
   "cell_type": "markdown",
   "metadata": {
    "slideshow": {
     "slide_type": "subslide"
    }
   },
   "source": [
    "If you want an example of `css`, you can again refer to the \"Inspect\" screen / \"developers tools.\" \n",
    "\n",
    "+ The entire right panel is dedicated to `css` and `javascript` properties of the highlighted `html` document elements.\n",
    "+ the `Sources` tab of the Inspect window has a lot of files, but all the delivered `css` files are there\n",
    "+ check out the `css` file for [the Elder Research landing page](http://www.elderresearch.com/): [source is here](http://www.elderresearch.com/hs-fs/hub/2176909/hub_generated/template_assets/1491831211917/custom/page/css/vast-style.min.css), but that's not that useful, is it?  "
   ]
  },
  {
   "cell_type": "markdown",
   "metadata": {
    "slideshow": {
     "slide_type": "subslide"
    }
   },
   "source": [
    "why does this matter?\n",
    "\n",
    "basically, there is a well-established language for telling browsers how to style \"things like this\", and those tags and keys are therefore \"naturally occurring.\" we can just use the existence of this language and statements such as those to take an `html` document and grab the same sorts of things.\n",
    "\n",
    "```css\n",
    "ul.zachs_list\n",
    "```"
   ]
  },
  {
   "cell_type": "markdown",
   "metadata": {
    "slideshow": {
     "slide_type": "subslide"
    }
   },
   "source": [
    "`css` is a remarkably flexible way of specifying elements within a hierarchy and [this MDN tutorial](https://developer.mozilla.org/en-US/docs/Learn/CSS/Introduction_to_CSS/Selectors) is an excellent intro. there are a few rules that are most important to know:\n",
    "\n",
    "+ `class` values are selected with the `.` character (e.g. `.class_name`)\n",
    "+ `id` values are selected with the `#` character (e.g. `#id_name`)\n",
    "+ a basic element in a selector is a combo of the `html` tag elements (e.g. `div`, `p`, `li`) and maybe the above (e.g. `div.class1`)"
   ]
  },
  {
   "cell_type": "markdown",
   "metadata": {
    "slideshow": {
     "slide_type": "subslide"
    }
   },
   "source": [
    "+ the basic elements can be combined in several ways\n",
    "    + a comma between elements (e.g. `div, p`) will select any element of either the first or second type\n",
    "    + a space (e.g. `div p`) will select any second element underneath the first\n",
    "    + a `>` (e.g. `div > p`) will select any second element which is a direct child of the first\n",
    "    + a `+` (e.g. `div + p`) will select any second element which is an immediate sibling of the first \n",
    "    + a `~` (e.g. `div ~ p`) will select any second element which is any sibling of the first"
   ]
  },
  {
   "cell_type": "markdown",
   "metadata": {
    "slideshow": {
     "slide_type": "subslide"
    }
   },
   "source": [
    "+ attributes can be selected via\n",
    "    + `[attr]`: any element which has a given attribute\n",
    "    + `[attr=val]`: any element which has the given attribute with the given value\n",
    "    + several other options performing logical test on the values"
   ]
  },
  {
   "cell_type": "markdown",
   "metadata": {
    "slideshow": {
     "slide_type": "subslide"
    }
   },
   "source": [
    "##### a quick diversion: installing selector gadget\n",
    "\n",
    "generally speaking, it never *hurts* to check out the source code when building an `xpath` expression or a `css` selector expression. but there's a pretty great tool for cutting short, if you're interested..."
   ]
  },
  {
   "cell_type": "markdown",
   "metadata": {
    "slideshow": {
     "slide_type": "subslide"
    }
   },
   "source": [
    "<div align=\"center\">**mini-exercise: install selector gadget**</div>\n",
    "\n",
    "go find the browser extension [selector gadget](http://selectorgadget.com/) and install it.\n",
    "\n",
    "note: this is optional. if you don't like cluttering your browser I get it and you can just follow along"
   ]
  },
  {
   "cell_type": "markdown",
   "metadata": {
    "slideshow": {
     "slide_type": "subslide"
    }
   },
   "source": [
    "up above we built an `xpath` expression to find the \"Package Name\" element in the table at (https://anaconda.org/anaconda/repo). let's look at how selector gadget helps us here"
   ]
  },
  {
   "cell_type": "markdown",
   "metadata": {
    "slideshow": {
     "slide_type": "subslide"
    }
   },
   "source": [
    "<div align=\"center\">**mini-exercise: use selector gadget to build a `css` path and an `xpath` expression**</div>\n",
    "\n",
    "1. activate selector gadget by clicking on the extension button\n",
    "2. select the package name element\n",
    "    1. this will activate (highlight yellow) elements which match that selected item under *some* `css` selector path\n",
    "3. click on any \"wrong\" items until only the desire elements are highlighted\n",
    "4. investigate the `css` selector item at the bottom, and click the `xpath` button\n",
    "5. repeat with the Summary field items"
   ]
  },
  {
   "cell_type": "markdown",
   "metadata": {
    "slideshow": {
     "slide_type": "slide"
    }
   },
   "source": [
    "#### `json` format and `javascript`\n",
    "\n",
    "`html` isn't the only way that computers yell at each other, though. there are other languages they yell in, and one of the most common is [JavaScript Object Notation](http://json.org/), or `json` for short."
   ]
  },
  {
   "cell_type": "markdown",
   "metadata": {
    "slideshow": {
     "slide_type": "subslide"
    }
   },
   "source": [
    "if you're familiar with `python` default data types, `json` can be converted directly to lists, dictionaries, numbers, and strings. my personal favorite example is [the Magic the Gathering `json` webpage](https://mtgjson.com/) ([direct link to example](https://mtgjson.com/json/XLN.json)), but [there are a ton out there](https://github.com/toddmotto/public-apis)."
   ]
  },
  {
   "cell_type": "markdown",
   "metadata": {
    "slideshow": {
     "slide_type": "subslide"
    }
   },
   "source": [
    "there are a million web tutorials out there. use any of them. they're all better than this.\n",
    "\n",
    "`json` is everywhere. it [has it's detractors](https://codepunk.io/xml-vs-json-why-json-sucks/), but it is essentially the *de facto* data and information transfer protocol on the web."
   ]
  },
  {
   "cell_type": "markdown",
   "metadata": {
    "slideshow": {
     "slide_type": "subslide"
    }
   },
   "source": [
    "as I wrote above, `json` is the \"JavaScript Object Notation.\" the reason it's so ubiquitous is that [`javascript`](https://developer.mozilla.org/en-US/docs/Web/JavaScript) is ubiquitous. \n",
    "\n",
    "`javascript` is a programming language which has a ton of ~~bugs~~ features resulting from its use case as the primary web language for client-side (aka heavy lifting is done by you (via your browser) rather than the server sending you information) computation."
   ]
  },
  {
   "cell_type": "markdown",
   "metadata": {
    "slideshow": {
     "slide_type": "subslide"
    }
   },
   "source": [
    "some people treat `javascript` as if it's not a chaos land of abominations and for the most part we all let them go on thinking those things, because they make us really pretty and fast webpages. Sometimes [everyone realizes that the whole enterprise is castles built on sand](https://qz.com/646467/how-one-programmer-broke-the-internet-by-deleting-a-tiny-piece-of-code/) and the super l33t trolls of the internet have a chuckle or two."
   ]
  },
  {
   "cell_type": "markdown",
   "metadata": {
    "slideshow": {
     "slide_type": "subslide"
    }
   },
   "source": [
    "The main reason I bring it up is this: sometimes the only way to access the data you want is via `javascript`. in about 95% of all cases, I find this is something you can avoid with some digging.\n",
    "\n",
    "why avoid it? because it requires breaking out of the simple `requests` paradigm and using a full-fledged `javascript` engine, and that's a big jump in complexity.\n",
    "\n",
    "**whenever possible, I try and just `GET` things.**"
   ]
  },
  {
   "cell_type": "markdown",
   "metadata": {
    "slideshow": {
     "slide_type": "slide"
    }
   },
   "source": [
    "## setup"
   ]
  },
  {
   "cell_type": "markdown",
   "metadata": {
    "slideshow": {
     "slide_type": "subslide"
    }
   },
   "source": [
    "<div align=\"center\">**mini-exercise: create a web scraping `conda` environment**</div>\n",
    "\n",
    "using `conda`, let's create a new environment and install the most basic items for our first web scraping tests.\n",
    "\n",
    "```bash\n",
    "conda create -n scrapesville python=3\n",
    "source activate scrapesville\n",
    "conda install requests lxml cssselect pandas\n",
    "```\n",
    "\n",
    "that's it! we should be good to go"
   ]
  },
  {
   "cell_type": "markdown",
   "metadata": {
    "slideshow": {
     "slide_type": "notes"
    }
   },
   "source": [
    "fun side story: check out [this cute little trick](https://www.theregister.co.uk/2017/09/15/pretend_python_packages_prey_on_poor_typing/), and make sure you always install `requests` and not `reqeusts`"
   ]
  },
  {
   "cell_type": "markdown",
   "metadata": {
    "slideshow": {
     "slide_type": "slide"
    }
   },
   "source": [
    "## `GET` requests"
   ]
  },
  {
   "cell_type": "markdown",
   "metadata": {
    "slideshow": {
     "slide_type": "subslide"
    }
   },
   "source": [
    "let's do some scraping!\n",
    "\n",
    "as a reminder, a `GET` request is a request we send to a server to ask for some information, and the returned message is whatever content we asked for."
   ]
  },
  {
   "cell_type": "markdown",
   "metadata": {
    "slideshow": {
     "slide_type": "slide"
    }
   },
   "source": [
    "### `json` is almost too easy\n",
    "\n",
    "my go-to `json` example, as discussed above, is [mtgjson.com](https://mtgjson.com/). however, I can understand why maybe that's not the most useful resource for everyone. \n",
    "\n",
    "let's work with the (debatably) more useful [wikipedia `json` api](https://www.mediawiki.org/wiki/API:Main_page)"
   ]
  },
  {
   "cell_type": "markdown",
   "metadata": {
    "slideshow": {
     "slide_type": "subslide"
    }
   },
   "source": [
    "take, for example, the below url:\n",
    "\n",
    "```\n",
    "https://en.wikipedia.org/w/api.php?action=query&titles=Leet&prop=revisions&rvprop=content&format=json\n",
    "```\n",
    "[(link)](https://en.wikipedia.org/w/api.php?action=query&titles=Leet&prop=revisions&rvprop=content&format=json)\n",
    "\n",
    "Let's break the url from this request down into pieces"
   ]
  },
  {
   "cell_type": "markdown",
   "metadata": {
    "slideshow": {
     "slide_type": "subslide"
    }
   },
   "source": [
    "```\n",
    "https://en.wikipedia.org/w/api.php?action=query&titles=Leet&prop=revisions&rvprop=content&format=json\n",
    "^--------------------------------^\n",
    "```\n",
    "\n",
    "`https://en.wikipedia.org/w/api.php`: this is known as the api \"endpoint,\" a `url` to which we can send `request`s. basically, this is equivalent to a function name in a program"
   ]
  },
  {
   "cell_type": "markdown",
   "metadata": {
    "slideshow": {
     "slide_type": "subslide"
    }
   },
   "source": [
    "```\n",
    "https://en.wikipedia.org/w/api.php?action=query&titles=Leet&prop=revisions&rvprop=content&format=json\n",
    "                                  ^\n",
    "```\n",
    "\n",
    "`?` is a common delimiter (most common? only?) indicating that what follows is a list of key-value pairs of parameters. This is like the open-parentheses of a function declaration"
   ]
  },
  {
   "cell_type": "markdown",
   "metadata": {
    "slideshow": {
     "slide_type": "subslide"
    }
   },
   "source": [
    "```\n",
    "https://en.wikipedia.org/w/api.php?action=query&titles=Leet&prop=revisions&rvprop=content&format=json\n",
    "                                   ^----------^\n",
    "```\n",
    "\n",
    "`foo=bar`: each of the `key=value` strings is a parameter to the function and the parameter's value. the allowed keys are defined by the api endpoint, and a really good api will [tell you what the possibilities are](https://en.wikipedia.org/w/api.php) (but most won't)."
   ]
  },
  {
   "cell_type": "markdown",
   "metadata": {
    "slideshow": {
     "slide_type": "subslide"
    }
   },
   "source": [
    "```\n",
    "https://en.wikipedia.org/w/api.php?action=query&titles=Leet&prop=revisions&rvprop=content&format=json\n",
    "                                               ^\n",
    "```\n",
    "\n",
    "`&`: this symbol simply separates key-value pairs, like commas in an `R` or `python` function"
   ]
  },
  {
   "cell_type": "markdown",
   "metadata": {
    "slideshow": {
     "slide_type": "subslide"
    }
   },
   "source": [
    "```\n",
    "https://en.wikipedia.org/w/api.php?action=query&titles=Leet&prop=revisions&rvprop=content&format=json\n",
    "```\n",
    "\n",
    "+ ask the primary wikipedia api endpoint, and\n",
    "+ take the `action` of [`query`](https://en.wikipedia.org/w/api.php?action=help&modules=query)\n",
    "+ look for documents with `titles` of `Leet`\n",
    "+ look for the `prop`(erty) [`revisions`](https://en.wikipedia.org/w/api.php?action=help&modules=query%2Brevisions)\n",
    "+ for each revision, get the property (aka the `rvprop`) `content`\n",
    "+ return it to us with the `format` `json` (other options are `jsonfm` and `xml` -- in your browser, try changing that value in the url!"
   ]
  },
  {
   "cell_type": "markdown",
   "metadata": {
    "slideshow": {
     "slide_type": "subslide"
    }
   },
   "source": [
    "Let's do it with `python`!"
   ]
  },
  {
   "cell_type": "code",
   "execution_count": null,
   "metadata": {
    "ExecuteTime": {
     "end_time": "2017-05-29T19:46:28.554830Z",
     "start_time": "2017-05-29T19:46:28.551277Z"
    },
    "collapsed": true,
    "scrolled": true,
    "slideshow": {
     "slide_type": "subslide"
    }
   },
   "outputs": [],
   "source": [
    "import requests\n",
    "\n",
    "help(requests.get)"
   ]
  },
  {
   "cell_type": "code",
   "execution_count": null,
   "metadata": {
    "ExecuteTime": {
     "end_time": "2017-05-29T19:57:42.970066Z",
     "start_time": "2017-05-29T19:57:42.962608Z"
    },
    "collapsed": true,
    "slideshow": {
     "slide_type": "subslide"
    }
   },
   "outputs": [],
   "source": [
    "def my_request(title='Leet'):\n",
    "    return requests.get(\n",
    "        url='https://en.wikipedia.org/w/api.php',\n",
    "        params={\n",
    "            'action': 'query',\n",
    "            'titles': title,\n",
    "            'prop': 'revisions',\n",
    "            'rvprop': 'content',\n",
    "            'format': 'json'\n",
    "        }\n",
    "    )"
   ]
  },
  {
   "cell_type": "code",
   "execution_count": null,
   "metadata": {
    "ExecuteTime": {
     "end_time": "2017-05-29T19:57:57.275483Z",
     "start_time": "2017-05-29T19:57:56.981163Z"
    },
    "collapsed": true,
    "slideshow": {
     "slide_type": "subslide"
    }
   },
   "outputs": [],
   "source": [
    "response = my_request()\n",
    "response"
   ]
  },
  {
   "cell_type": "markdown",
   "metadata": {
    "slideshow": {
     "slide_type": "subslide"
    }
   },
   "source": [
    "this message was either successful or unsuccessful, and there are a well-establish handful of reasons for whatever the result was. they are called [status codes](https://developer.mozilla.org/en-US/docs/Web/HTTP/Status)\n",
    "\n",
    "this code is useful information for more automated process, but also sometimes helps us understand what went wrong. For the most part, we like 200s and we hate 400s and 500s. the others -- supposedly -- exist."
   ]
  },
  {
   "cell_type": "code",
   "execution_count": null,
   "metadata": {
    "ExecuteTime": {
     "end_time": "2017-05-28T20:58:36.635583Z",
     "start_time": "2017-05-28T20:58:36.630604Z"
    },
    "collapsed": true,
    "slideshow": {
     "slide_type": "subslide"
    }
   },
   "outputs": [],
   "source": [
    "response.status_code"
   ]
  },
  {
   "cell_type": "markdown",
   "metadata": {
    "slideshow": {
     "slide_type": "subslide"
    }
   },
   "source": [
    "awesome. now what about the content? as we requested in above, this `api` responded with `json`"
   ]
  },
  {
   "cell_type": "code",
   "execution_count": null,
   "metadata": {
    "ExecuteTime": {
     "end_time": "2017-05-29T19:50:04.093796Z",
     "start_time": "2017-05-29T19:50:04.086461Z"
    },
    "collapsed": true,
    "slideshow": {
     "slide_type": "-"
    }
   },
   "outputs": [],
   "source": [
    "j = response.json()\n",
    "j"
   ]
  },
  {
   "cell_type": "markdown",
   "metadata": {
    "slideshow": {
     "slide_type": "subslide"
    }
   },
   "source": [
    "we can dig into that as we would with any `python` dict of dicts of dicts of dicts of lists of dicts:"
   ]
  },
  {
   "cell_type": "code",
   "execution_count": null,
   "metadata": {
    "ExecuteTime": {
     "end_time": "2017-05-29T19:50:56.966925Z",
     "start_time": "2017-05-29T19:50:56.959787Z"
    },
    "collapsed": true,
    "slideshow": {
     "slide_type": "-"
    }
   },
   "outputs": [],
   "source": [
    "print(j['query']['pages']['18562']['revisions'][0]['*'])"
   ]
  },
  {
   "cell_type": "markdown",
   "metadata": {
    "slideshow": {
     "slide_type": "subslide"
    }
   },
   "source": [
    "not too bad!"
   ]
  },
  {
   "cell_type": "markdown",
   "metadata": {
    "slideshow": {
     "slide_type": "slide"
    }
   },
   "source": [
    "### `xpath` selection\n",
    "\n",
    "things are certainly more complicated when we don't have a convenient `json` endpoint, but we can still usually use `xpath` and static `GET` requests."
   ]
  },
  {
   "cell_type": "markdown",
   "metadata": {
    "slideshow": {
     "slide_type": "subslide"
    }
   },
   "source": [
    "as a working example, let's keep focusing on that `conda` repo table: https://anaconda.org/anaconda/repo."
   ]
  },
  {
   "cell_type": "markdown",
   "metadata": {
    "slideshow": {
     "slide_type": "subslide"
    }
   },
   "source": [
    "we'll use the `requests` library to get the `html` document, and `lxml` (specifically `lxml.html`) to parse the returned `html` to an `lxml python` object"
   ]
  },
  {
   "cell_type": "code",
   "execution_count": null,
   "metadata": {
    "ExecuteTime": {
     "end_time": "2017-05-29T20:08:47.928238Z",
     "start_time": "2017-05-29T20:08:47.899689Z"
    },
    "collapsed": true,
    "slideshow": {
     "slide_type": "-"
    }
   },
   "outputs": [],
   "source": [
    "import lxml.html\n",
    "import requests"
   ]
  },
  {
   "cell_type": "code",
   "execution_count": null,
   "metadata": {
    "ExecuteTime": {
     "end_time": "2017-05-29T20:08:48.636707Z",
     "start_time": "2017-05-29T20:08:48.058919Z"
    },
    "collapsed": true,
    "slideshow": {
     "slide_type": "subslide"
    }
   },
   "outputs": [],
   "source": [
    "response = requests.get(url='https://anaconda.org/anaconda/repo')\n",
    "response.status_code"
   ]
  },
  {
   "cell_type": "code",
   "execution_count": null,
   "metadata": {
    "ExecuteTime": {
     "end_time": "2017-05-29T20:08:48.648337Z",
     "start_time": "2017-05-29T20:08:48.639302Z"
    },
    "collapsed": true,
    "slideshow": {
     "slide_type": "-"
    }
   },
   "outputs": [],
   "source": [
    "print(response.text)"
   ]
  },
  {
   "cell_type": "markdown",
   "metadata": {
    "slideshow": {
     "slide_type": "subslide"
    }
   },
   "source": [
    "first, create an `lxml` `html` object out of the request response"
   ]
  },
  {
   "cell_type": "code",
   "execution_count": null,
   "metadata": {
    "ExecuteTime": {
     "end_time": "2017-05-29T20:08:49.164770Z",
     "start_time": "2017-05-29T20:08:49.155322Z"
    },
    "collapsed": true
   },
   "outputs": [],
   "source": [
    "root = lxml.html.fromstring(response.text)\n",
    "root"
   ]
  },
  {
   "cell_type": "markdown",
   "metadata": {
    "slideshow": {
     "slide_type": "subslide"
    }
   },
   "source": [
    "the `Element` object is nested: it has \"children\" which are, themselves, `lxml.html Element` objects:"
   ]
  },
  {
   "cell_type": "code",
   "execution_count": null,
   "metadata": {
    "ExecuteTime": {
     "end_time": "2017-05-29T20:09:19.186413Z",
     "start_time": "2017-05-29T20:09:19.179952Z"
    },
    "collapsed": true
   },
   "outputs": [],
   "source": [
    "root.getchildren()"
   ]
  },
  {
   "cell_type": "markdown",
   "metadata": {
    "slideshow": {
     "slide_type": "subslide"
    }
   },
   "source": [
    "we can use `xpath` expressions via the `xpath` method on each `Element` object. by definition, all `xpath` expressions executed this way are relative to the particular object whose method we are using"
   ]
  },
  {
   "cell_type": "code",
   "execution_count": null,
   "metadata": {
    "ExecuteTime": {
     "end_time": "2017-05-29T20:10:31.310437Z",
     "start_time": "2017-05-29T20:10:31.303160Z"
    },
    "collapsed": true
   },
   "outputs": [],
   "source": [
    "root.xpath('body')"
   ]
  },
  {
   "cell_type": "markdown",
   "metadata": {
    "slideshow": {
     "slide_type": "subslide"
    }
   },
   "source": [
    "let's take the full `xpath` to the \"Package Name\" elements we developed above:\n",
    "\n",
    "```\n",
    "body/div/div/div/div/div/div/div/div/div/table/tbody/tr/td/a/span\n",
    "```\n",
    "\n",
    "and find elements at this `xpath` using the `xpath` method, one element at a time"
   ]
  },
  {
   "cell_type": "code",
   "execution_count": null,
   "metadata": {
    "ExecuteTime": {
     "end_time": "2017-05-29T20:10:37.561101Z",
     "start_time": "2017-05-29T20:10:37.553486Z"
    },
    "collapsed": true,
    "slideshow": {
     "slide_type": "subslide"
    }
   },
   "outputs": [],
   "source": [
    "# build it up one element at a time\n",
    "#root.xpath('body/div/div/div/div/div/div/div/div/div/table/tbody/tr/td/a/span')\n",
    "root.xpath('body')"
   ]
  },
  {
   "cell_type": "markdown",
   "metadata": {
    "slideshow": {
     "slide_type": "subslide"
    }
   },
   "source": [
    "note that `tbody` element in the path above. it turns out that modern browsers add the `tbody` element in there whether it's in the source code or not.\n",
    "\n",
    "this means that we can often end up in a situation where `tbody` is what we see in the chrome devtools, for example, but there's actually no `tbody` element in the `lxml` object.\n",
    "\n",
    "why is still mostly a mystery to me, and [I'm comforted by the fact that I'm not alone](https://stackoverflow.com/questions/27918086/why-tbody-will-be-added-automatically-by-browser)."
   ]
  },
  {
   "cell_type": "code",
   "execution_count": null,
   "metadata": {
    "collapsed": true,
    "scrolled": true,
    "slideshow": {
     "slide_type": "subslide"
    }
   },
   "outputs": [],
   "source": [
    "root.xpath('body/div/div/div/div/div/div/div/div/div/table/tbody/tr/td/a/span')"
   ]
  },
  {
   "cell_type": "markdown",
   "metadata": {
    "slideshow": {
     "slide_type": "subslide"
    }
   },
   "source": [
    "SO USEFUL RIGHT? Let's look at one of those items above"
   ]
  },
  {
   "cell_type": "code",
   "execution_count": null,
   "metadata": {
    "ExecuteTime": {
     "end_time": "2017-05-29T20:11:44.061211Z",
     "start_time": "2017-05-29T20:11:44.052941Z"
    },
    "collapsed": true
   },
   "outputs": [],
   "source": [
    "packageElems = root.xpath('body/div/div/div/div/div/div/div/div/div/table/tbody/tr/td/a/span')\n",
    "print('we have {} spans'.format(len(packageElems)))\n",
    "\n",
    "pkg0 = packageElems[0]\n",
    "print(lxml.html.tostring(pkg0))"
   ]
  },
  {
   "cell_type": "markdown",
   "metadata": {
    "slideshow": {
     "slide_type": "subslide"
    }
   },
   "source": [
    "this `span` element has a `class` attribute with value `\"packageName\"`:"
   ]
  },
  {
   "cell_type": "code",
   "execution_count": null,
   "metadata": {
    "ExecuteTime": {
     "end_time": "2017-05-29T20:12:30.762546Z",
     "start_time": "2017-05-29T20:12:30.757188Z"
    },
    "collapsed": true
   },
   "outputs": [],
   "source": [
    "pkg0.attrib"
   ]
  },
  {
   "cell_type": "markdown",
   "metadata": {
    "slideshow": {
     "slide_type": "subslide"
    }
   },
   "source": [
    "that seems pretty dang unique to the \"package name\" column we are interested in, right? how about we use it in our `xpath` expression:"
   ]
  },
  {
   "cell_type": "code",
   "execution_count": null,
   "metadata": {
    "collapsed": true
   },
   "outputs": [],
   "source": [
    "packageElems = root.xpath('//span[@class=\"packageName\"]')\n",
    "print('we have {} td cells'.format(len(packageElems)))\n",
    "\n",
    "pkg0 = packageElems[0]\n",
    "print(lxml.html.tostring(pkg0))"
   ]
  },
  {
   "cell_type": "markdown",
   "metadata": {
    "slideshow": {
     "slide_type": "subslide"
    }
   },
   "source": [
    "same elements with about 1/80th of the work. cool.\n",
    "\n",
    "the text contained \"within\" this first `span` element is `anaconda`, and can be accessed via the `text` object attribute:"
   ]
  },
  {
   "cell_type": "code",
   "execution_count": null,
   "metadata": {
    "ExecuteTime": {
     "end_time": "2017-05-28T21:55:39.828425Z",
     "start_time": "2017-05-28T21:55:39.821335Z"
    },
    "collapsed": true,
    "slideshow": {
     "slide_type": "-"
    }
   },
   "outputs": [],
   "source": [
    "pkg0.text"
   ]
  },
  {
   "cell_type": "markdown",
   "metadata": {
    "slideshow": {
     "slide_type": "subslide"
    }
   },
   "source": [
    "using that `text` object attribute we can get all of the package names from a simple list comprehension"
   ]
  },
  {
   "cell_type": "code",
   "execution_count": null,
   "metadata": {
    "ExecuteTime": {
     "end_time": "2017-05-29T20:13:31.615896Z",
     "start_time": "2017-05-29T20:13:31.611198Z"
    },
    "collapsed": true,
    "slideshow": {
     "slide_type": "-"
    }
   },
   "outputs": [],
   "source": [
    "packagenames = [elem.text for elem in packageElems]\n",
    "\n",
    "packagenames[:10]"
   ]
  },
  {
   "cell_type": "markdown",
   "metadata": {
    "slideshow": {
     "slide_type": "subslide"
    }
   },
   "source": [
    "that's pretty good so far, but what if we want to actually pull down *all* the contents of that table -- not just the package name?\n",
    "\n",
    "we could create a separate parser for each column and zip them together\n",
    "\n",
    "there are issues with this sort of approach, though -- any idea what would be problematic with this?"
   ]
  },
  {
   "cell_type": "markdown",
   "metadata": {
    "slideshow": {
     "slide_type": "subslide"
    }
   },
   "source": [
    "first, what would happen if one of the rows was missing an element, and we zipped lists of different lengths? or a future table had multiple sub-elements in a cell in a row (e.g. [here](https://en.wikipedia.org/wiki/Help:Table#Cells_spanning_multiple_rows_or_columns))"
   ]
  },
  {
   "cell_type": "markdown",
   "metadata": {
    "slideshow": {
     "slide_type": "subslide"
    }
   },
   "source": [
    "second, that approach actually throws away quite a bit of information. every element within one *row* of the table is actually a *child* of a table row element (`tr`). \n",
    "\n",
    "we could use an `xpath` expression to get our `tr`, and then iterate through the elements (`td`) that are children of those rows."
   ]
  },
  {
   "cell_type": "markdown",
   "metadata": {
    "slideshow": {
     "slide_type": "subslide"
    }
   },
   "source": [
    "let's start by building an expression to get the table rows:"
   ]
  },
  {
   "cell_type": "code",
   "execution_count": null,
   "metadata": {
    "ExecuteTime": {
     "end_time": "2017-05-28T22:00:29.521328Z",
     "start_time": "2017-05-28T22:00:29.514293Z"
    },
    "collapsed": true,
    "slideshow": {
     "slide_type": "-"
    }
   },
   "outputs": [],
   "source": [
    "rows = root.xpath('//table[@id=\"repo-packages-table\"]/tbody/tr')\n",
    "print('we got {} rows'.format(len(rows)))\n",
    "\n",
    "row0 = rows[0]\n",
    "row0"
   ]
  },
  {
   "cell_type": "markdown",
   "metadata": {
    "slideshow": {
     "slide_type": "subslide"
    }
   },
   "source": [
    "this `tr` element has four children, one for each column"
   ]
  },
  {
   "cell_type": "code",
   "execution_count": null,
   "metadata": {
    "ExecuteTime": {
     "end_time": "2017-05-28T22:00:33.258378Z",
     "start_time": "2017-05-28T22:00:33.252770Z"
    },
    "collapsed": true,
    "slideshow": {
     "slide_type": "-"
    }
   },
   "outputs": [],
   "source": [
    "row0.getchildren()"
   ]
  },
  {
   "cell_type": "markdown",
   "metadata": {
    "slideshow": {
     "slide_type": "subslide"
    }
   },
   "source": [
    "let's unpack this row and parse out the info we want from each element"
   ]
  },
  {
   "cell_type": "code",
   "execution_count": null,
   "metadata": {
    "collapsed": true,
    "slideshow": {
     "slide_type": "-"
    }
   },
   "outputs": [],
   "source": [
    "packageTd, accessTd, summaryTd, updatedTd = row0.getchildren()"
   ]
  },
  {
   "cell_type": "markdown",
   "metadata": {
    "slideshow": {
     "slide_type": "subslide"
    }
   },
   "source": [
    "for `packageTd`, let's get the link to and name of the package. we can use the `find` object method to return the first (and only the first) element which matches a given `xpath` expression"
   ]
  },
  {
   "cell_type": "code",
   "execution_count": null,
   "metadata": {
    "collapsed": true,
    "slideshow": {
     "slide_type": "-"
    }
   },
   "outputs": [],
   "source": [
    "a = packageTd.find('a')\n",
    "print(a)\n",
    "\n",
    "a.attrib"
   ]
  },
  {
   "cell_type": "code",
   "execution_count": null,
   "metadata": {
    "collapsed": true,
    "slideshow": {
     "slide_type": "subslide"
    }
   },
   "outputs": [],
   "source": [
    "packagelink = packageTd.find('a').attrib['href']\n",
    "packagelink"
   ]
  },
  {
   "cell_type": "markdown",
   "metadata": {
    "slideshow": {
     "slide_type": "subslide"
    }
   },
   "source": [
    "as for the name, that's the `text` element on the `span` (we saw this up above)."
   ]
  },
  {
   "cell_type": "code",
   "execution_count": null,
   "metadata": {
    "slideshow": {
     "slide_type": "-"
    }
   },
   "outputs": [],
   "source": [
    "packagename = packageTd.find('a/span').text\n",
    "packagename"
   ]
  },
  {
   "cell_type": "markdown",
   "metadata": {
    "slideshow": {
     "slide_type": "subslide"
    }
   },
   "source": [
    "the other three are much easier -- each is simply a `td` element with a text item we'd like to pull out"
   ]
  },
  {
   "cell_type": "code",
   "execution_count": null,
   "metadata": {
    "collapsed": true,
    "slideshow": {
     "slide_type": "-"
    }
   },
   "outputs": [],
   "source": [
    "access = accessTd.text\n",
    "summary = summaryTd.text\n",
    "updated = updatedTd.text\n",
    "\n",
    "access, summary, updated"
   ]
  },
  {
   "cell_type": "markdown",
   "metadata": {
    "slideshow": {
     "slide_type": "subslide"
    }
   },
   "source": [
    "the extra whitespace on the `summary` is annoying -- we can `strip` that off. also, let's parse the `updated` date string into a datetime object"
   ]
  },
  {
   "cell_type": "code",
   "execution_count": null,
   "metadata": {
    "collapsed": true,
    "slideshow": {
     "slide_type": "-"
    }
   },
   "outputs": [],
   "source": [
    "import datetime\n",
    "\n",
    "access = accessTd.text\n",
    "summary = summaryTd.text.strip()\n",
    "updated = datetime.datetime.strptime(updatedTd.text, '%Y-%m-%d')\n",
    "\n",
    "access, summary, updated"
   ]
  },
  {
   "cell_type": "markdown",
   "metadata": {
    "slideshow": {
     "slide_type": "subslide"
    }
   },
   "source": [
    "let's unpack these four elements all in one place and put them together into a dictionary for this record"
   ]
  },
  {
   "cell_type": "code",
   "execution_count": null,
   "metadata": {
    "ExecuteTime": {
     "end_time": "2017-05-28T22:00:41.080453Z",
     "start_time": "2017-05-28T22:00:41.070761Z"
    },
    "collapsed": true,
    "slideshow": {
     "slide_type": "-"
    }
   },
   "outputs": [],
   "source": [
    "packageTd, accessTd, summaryTd, updatedTd = row0.getchildren()\n",
    "d = {\n",
    "    'packagelink': packageTd.find('a').attrib['href'],\n",
    "    'packagename': packageTd.find('a/span').text,\n",
    "    'access': accessTd.text,\n",
    "    'summary': summaryTd.text.strip(),\n",
    "    'updated': datetime.datetime.strptime(updatedTd.text, '%Y-%m-%d'),\n",
    "}\n",
    "d"
   ]
  },
  {
   "cell_type": "markdown",
   "metadata": {
    "slideshow": {
     "slide_type": "subslide"
    }
   },
   "source": [
    "let's turn that into a function we can apply to all of the rows in our parsed table"
   ]
  },
  {
   "cell_type": "code",
   "execution_count": null,
   "metadata": {
    "ExecuteTime": {
     "end_time": "2017-05-28T22:00:41.080453Z",
     "start_time": "2017-05-28T22:00:41.070761Z"
    },
    "collapsed": true,
    "slideshow": {
     "slide_type": "-"
    }
   },
   "outputs": [],
   "source": [
    "def parse_row(elem):\n",
    "    packageTd, accessTd, summaryTd, updatedTd = elem.getchildren()\n",
    "    d = {\n",
    "        'packagelink': packageTd.find('a').attrib['href'],\n",
    "        'packagename': packageTd.find('a/span').text,\n",
    "        'access': accessTd.text,\n",
    "        'summary': summaryTd.text.strip(),\n",
    "        'updated': datetime.datetime.strptime(updatedTd.text, '%Y-%m-%d'),\n",
    "    }\n",
    "    return d"
   ]
  },
  {
   "cell_type": "markdown",
   "metadata": {
    "slideshow": {
     "slide_type": "subslide"
    }
   },
   "source": [
    "and finally, we can take our `rows` element from wayyyyyyyy back and use a list comprehension to parse each row in that list to a dictionary of useful information. in fact, it'll be a list of dictionaries -- let's just toss it into a `pandas` dataframe while we're at it"
   ]
  },
  {
   "cell_type": "code",
   "execution_count": null,
   "metadata": {
    "collapsed": true,
    "slideshow": {
     "slide_type": "-"
    }
   },
   "outputs": [],
   "source": [
    "import pandas as pd\n",
    "\n",
    "rows = root.xpath('//table[@id=\"repo-packages-table\"]/tbody/tr')\n",
    "packageinfo = [parse_row(row) for row in rows]\n",
    "dfpackage = pd.DataFrame(packageinfo)\n",
    "dfpackage.head()"
   ]
  },
  {
   "cell_type": "markdown",
   "metadata": {
    "slideshow": {
     "slide_type": "subslide"
    }
   },
   "source": [
    "from end to end, then, we have the following `python` code to parse this entire table:"
   ]
  },
  {
   "cell_type": "code",
   "execution_count": null,
   "metadata": {
    "collapsed": true,
    "slideshow": {
     "slide_type": "subslide"
    }
   },
   "outputs": [],
   "source": [
    "def parse_row(elem):\n",
    "    packageTd, accessTd, summaryTd, updatedTd = elem.getchildren()\n",
    "    return {\n",
    "        'packagelink': packageTd.find('a').attrib['href'],\n",
    "        'packagename': packageTd.find('a/span').text,\n",
    "        'access': accessTd.text,\n",
    "        'summary': summaryTd.text.strip(),\n",
    "        'updated': datetime.datetime.strptime(updatedTd.text, '%Y-%m-%d'),\n",
    "    }\n",
    "\n",
    "def get_packages():\n",
    "    response = requests.get(url='https://anaconda.org/anaconda/repo')\n",
    "    root = lxml.html.fromstring(response.text)\n",
    "    return pd.DataFrame([\n",
    "        parse_row(row)\n",
    "        for row in root.xpath('//table[@id=\"repo-packages-table\"]/tbody/tr')\n",
    "    ])"
   ]
  },
  {
   "cell_type": "code",
   "execution_count": null,
   "metadata": {
    "collapsed": true,
    "slideshow": {
     "slide_type": "subslide"
    }
   },
   "outputs": [],
   "source": [
    "dfpackage = get_packages()\n",
    "dfpackage.head()"
   ]
  },
  {
   "cell_type": "markdown",
   "metadata": {
    "slideshow": {
     "slide_type": "slide"
    }
   },
   "source": [
    "### `css` selection\n",
    "\n",
    "as you saw above, we were generally referring to the `class` or `id` elements of `html` tag elements -- well, that's almost identical to what is done in `css`."
   ]
  },
  {
   "cell_type": "markdown",
   "metadata": {
    "slideshow": {
     "slide_type": "subslide"
    }
   },
   "source": [
    "we can use the `cssselect` (three `s` characters there) to do the `css` selection. repeating the selection of *just* the \"Package Name\" column is easy to reproduce\n",
    "\n",
    "*note: we will reuse the `lxml.html` object from before*"
   ]
  },
  {
   "cell_type": "code",
   "execution_count": null,
   "metadata": {
    "ExecuteTime": {
     "end_time": "2017-05-29T20:29:01.666896Z",
     "start_time": "2017-05-29T20:29:01.644927Z"
    },
    "collapsed": true,
    "slideshow": {
     "slide_type": "-"
    }
   },
   "outputs": [],
   "source": [
    "packageElems = root.cssselect('.packageName')\n",
    "packages = [elem.text for elem in packageElems]\n",
    "packages[:5]"
   ]
  },
  {
   "cell_type": "markdown",
   "metadata": {
    "slideshow": {
     "slide_type": "subslide"
    }
   },
   "source": [
    "the selection of the table element is also trivial. we can use the `#` character to select based on the `id` value, and the `tr` element to select a descendent of that selected table"
   ]
  },
  {
   "cell_type": "code",
   "execution_count": null,
   "metadata": {
    "ExecuteTime": {
     "end_time": "2017-05-29T20:29:02.281904Z",
     "start_time": "2017-05-29T20:29:02.272074Z"
    },
    "collapsed": true,
    "slideshow": {
     "slide_type": "-"
    }
   },
   "outputs": [],
   "source": [
    "rows = root.cssselect('table#repo-packages-table tr')\n",
    "print('we found {} rows'.format(len(rows)))\n",
    "\n",
    "rows[:5]"
   ]
  },
  {
   "cell_type": "markdown",
   "metadata": {
    "slideshow": {
     "slide_type": "subslide"
    }
   },
   "source": [
    "notice something weird?"
   ]
  },
  {
   "cell_type": "markdown",
   "metadata": {
    "slideshow": {
     "slide_type": "subslide"
    }
   },
   "source": [
    "that `css` selection grabbed 51 rows, but we were only supposed to have 50. our \"any descendant\" selector picked up the header as well. not cool!\n",
    "\n",
    "let's be more specific"
   ]
  },
  {
   "cell_type": "code",
   "execution_count": null,
   "metadata": {
    "ExecuteTime": {
     "end_time": "2017-05-29T20:29:02.281904Z",
     "start_time": "2017-05-29T20:29:02.272074Z"
    },
    "collapsed": true,
    "slideshow": {
     "slide_type": "-"
    }
   },
   "outputs": [],
   "source": [
    "rows = root.cssselect('table#repo-packages-table tbody tr')\n",
    "print('we found {} rows'.format(len(rows)))\n",
    "\n",
    "rows[:5]"
   ]
  },
  {
   "cell_type": "markdown",
   "metadata": {
    "slideshow": {
     "slide_type": "subslide"
    }
   },
   "source": [
    "we can reproduce the entire earlier behavior with `css` selectors:"
   ]
  },
  {
   "cell_type": "code",
   "execution_count": null,
   "metadata": {
    "collapsed": true,
    "slideshow": {
     "slide_type": "subslide"
    }
   },
   "outputs": [],
   "source": [
    "def parse_row(elem):\n",
    "    packageTd, accessTd, summaryTd, updatedTd = elem.getchildren()\n",
    "    return {\n",
    "        'packagelink': packageTd.cssselect('a')[0].attrib['href'],\n",
    "        'packagename': packageTd.cssselect('a span')[0].text,\n",
    "        'access': accessTd.text,\n",
    "        'summary': summaryTd.text.strip(),\n",
    "        'updated': datetime.datetime.strptime(updatedTd.text, '%Y-%m-%d'),\n",
    "    }\n",
    "\n",
    "def get_packages():\n",
    "    response = requests.get(url='https://anaconda.org/anaconda/repo')\n",
    "    root = lxml.html.fromstring(response.text)\n",
    "    return pd.DataFrame([\n",
    "        parse_row(row)\n",
    "        for row in root.cssselect('table#repo-packages-table tbody tr')\n",
    "    ])"
   ]
  },
  {
   "cell_type": "code",
   "execution_count": null,
   "metadata": {
    "collapsed": true,
    "slideshow": {
     "slide_type": "subslide"
    }
   },
   "outputs": [],
   "source": [
    "dfpackage = get_packages()\n",
    "dfpackage.head()"
   ]
  },
  {
   "cell_type": "markdown",
   "metadata": {
    "slideshow": {
     "slide_type": "slide"
    }
   },
   "source": [
    "## `POST` requests"
   ]
  },
  {
   "cell_type": "markdown",
   "metadata": {
    "slideshow": {
     "slide_type": "subslide"
    }
   },
   "source": [
    "sometimes a `POST` request is basically the same as `GET` request -- point at a `url` and yell `POST` instead of `GET` and you're done.\n",
    "\n",
    "generally speaking, though, we are *also* sending data along with our `POST` request"
   ]
  },
  {
   "cell_type": "markdown",
   "metadata": {
    "slideshow": {
     "slide_type": "subslide"
    }
   },
   "source": [
    "far and away, the most common use case for `POST` requests is submitting data via `html` forms (e.g. login forms, uploads, submission forms). \n",
    "\n",
    "as a quick and simple example of a `POST` request, let's check out the submission api for [github gist](https://gist.github.com/RZachLamberty) (a place to host small snippets of code instead of full repos):\n",
    "\n",
    "https://developer.github.com/v3/gists/#create-a-gist"
   ]
  },
  {
   "cell_type": "markdown",
   "metadata": {
    "slideshow": {
     "slide_type": "subslide"
    }
   },
   "source": [
    "so, we have the ability to create a new gist via an automated `POST` message. let's do that!\n",
    "\n",
    "our first task is to build the data object in that gist. It looks like a dictionary, so let's just see if that works."
   ]
  },
  {
   "cell_type": "code",
   "execution_count": null,
   "metadata": {
    "collapsed": true,
    "slideshow": {
     "slide_type": "subslide"
    }
   },
   "outputs": [],
   "source": [
    "data = {\n",
    "    'description': 'a test post of a gist',\n",
    "    'public': True,\n",
    "    'files': {\n",
    "        'my_test_file.py': {\n",
    "            'content': \"print('hello world')\"\n",
    "        }\n",
    "    }\n",
    "}"
   ]
  },
  {
   "cell_type": "markdown",
   "metadata": {
    "slideshow": {
     "slide_type": "subslide"
    }
   },
   "source": [
    "we can post this information using the `requests.post` function. we could either convert the `data` element to `json` using the `python json.dumps` function, or we could let `requests` do it for us via the `json` parameter."
   ]
  },
  {
   "cell_type": "code",
   "execution_count": null,
   "metadata": {
    "collapsed": true,
    "slideshow": {
     "slide_type": "-"
    }
   },
   "outputs": [],
   "source": [
    "resp = requests.post(\n",
    "    url=\"https://api.github.com/gists\",\n",
    "    json=data\n",
    ")\n",
    "resp.status_code"
   ]
  },
  {
   "cell_type": "markdown",
   "metadata": {
    "slideshow": {
     "slide_type": "subslide"
    }
   },
   "source": [
    "and our results (click on the link!):"
   ]
  },
  {
   "cell_type": "code",
   "execution_count": null,
   "metadata": {
    "collapsed": true,
    "scrolled": true,
    "slideshow": {
     "slide_type": "-"
    }
   },
   "outputs": [],
   "source": [
    "j = resp.json()\n",
    "print(j['html_url'])\n",
    "j"
   ]
  },
  {
   "cell_type": "markdown",
   "metadata": {
    "slideshow": {
     "slide_type": "subslide"
    }
   },
   "source": [
    "### once more, with ~~feeling~~ authentication\n",
    "\n",
    "fundamentally, a `POST` request is allowing users to add some data to some data source. github did us a pretty big solid up above -- allowing us to `POST` as an anonymous user.\n",
    "\n",
    "pretty often, though, we'll need to authenticate before we can make a `POST` request."
   ]
  },
  {
   "cell_type": "markdown",
   "metadata": {
    "slideshow": {
     "slide_type": "subslide"
    }
   },
   "source": [
    "remember the `boto3` library `session` objects which we created to encapsulate information that applied to all of our requests? and do you remember that one of the things we specified in the `session` -- so we didn't have to specify it every time we called one of our functions -- was our credentials?\n",
    "\n",
    "you'll never believe what's I'm about to say."
   ]
  },
  {
   "cell_type": "markdown",
   "metadata": {
    "slideshow": {
     "slide_type": "subslide"
    }
   },
   "source": [
    "adding credentials or authentication to a re-usable `session` object is actual a construct from the `requests` library (and almost any other web request library)."
   ]
  },
  {
   "cell_type": "markdown",
   "metadata": {
    "slideshow": {
     "slide_type": "subslide"
    }
   },
   "source": [
    "as with `boto`, we could authenticate every `requests.post` function or we could create a single authenticated `session` and authenticate that"
   ]
  },
  {
   "cell_type": "code",
   "execution_count": null,
   "metadata": {
    "collapsed": true,
    "scrolled": true,
    "slideshow": {
     "slide_type": "-"
    }
   },
   "outputs": [],
   "source": [
    "# check out `auth` below\n",
    "help(requests.Request)"
   ]
  },
  {
   "cell_type": "markdown",
   "metadata": {
    "slideshow": {
     "slide_type": "subslide"
    }
   },
   "source": [
    "github gists support this as well, so let's do it! enter your user name and password below:"
   ]
  },
  {
   "cell_type": "code",
   "execution_count": null,
   "metadata": {
    "collapsed": true,
    "slideshow": {
     "slide_type": "-"
    }
   },
   "outputs": [],
   "source": [
    "import getpass\n",
    "\n",
    "username = 'rzachlamberty'\n",
    "pw = getpass.getpass('Password: ')"
   ]
  },
  {
   "cell_type": "markdown",
   "metadata": {
    "slideshow": {
     "slide_type": "subslide"
    }
   },
   "source": [
    "and now, just use that user name and password directly in the call to the github `POST` function"
   ]
  },
  {
   "cell_type": "code",
   "execution_count": null,
   "metadata": {
    "collapsed": true,
    "slideshow": {
     "slide_type": "-"
    }
   },
   "outputs": [],
   "source": [
    "resp = requests.post(\n",
    "    url=\"https://api.github.com/gists\",\n",
    "    json=data,\n",
    "    auth=(username, pw)\n",
    ")\n",
    "resp.status_code"
   ]
  },
  {
   "cell_type": "markdown",
   "metadata": {
    "slideshow": {
     "slide_type": "subslide"
    }
   },
   "source": [
    "and our results (click on the link!):"
   ]
  },
  {
   "cell_type": "code",
   "execution_count": null,
   "metadata": {
    "collapsed": true,
    "scrolled": true,
    "slideshow": {
     "slide_type": "-"
    }
   },
   "outputs": [],
   "source": [
    "j = resp.json()\n",
    "print(j['html_url'])\n",
    "j"
   ]
  },
  {
   "cell_type": "markdown",
   "metadata": {
    "slideshow": {
     "slide_type": "subslide"
    }
   },
   "source": [
    "it's great that that worked for us, but imagine if you had to program hundreds of similar but slightly different requests. what if you don't want to pass your credentials to each one of them? \n",
    "\n",
    "just as with `boto3`, you can create a `session`, and then instead of calling `requests.post` and `requests.get` with `auth` arguments, you call `session.post` and `session.get`"
   ]
  },
  {
   "cell_type": "code",
   "execution_count": null,
   "metadata": {
    "collapsed": true,
    "slideshow": {
     "slide_type": "subslide"
    }
   },
   "outputs": [],
   "source": [
    "session = requests.Session()\n",
    "session.auth = (username, pw)\n",
    "\n",
    "# note *session* below\n",
    "resp = session.post(\n",
    "    url=\"https://api.github.com/gists\",\n",
    "    json=data\n",
    ")\n",
    "\n",
    "resp.status_code"
   ]
  },
  {
   "cell_type": "code",
   "execution_count": null,
   "metadata": {
    "collapsed": true,
    "slideshow": {
     "slide_type": "subslide"
    }
   },
   "outputs": [],
   "source": [
    "j = resp.json()\n",
    "print(j['html_url'])\n",
    "j"
   ]
  },
  {
   "cell_type": "markdown",
   "metadata": {
    "slideshow": {
     "slide_type": "subslide"
    }
   },
   "source": [
    "#### tangent: handling sensitive information or credentials\n",
    "\n",
    "how should we handle private or secure information (credentials, personally identifying information, etc)?"
   ]
  },
  {
   "cell_type": "markdown",
   "metadata": {
    "slideshow": {
     "slide_type": "subslide"
    }
   },
   "source": [
    "one option: hard code it. then put the file with that hard-coded password on `git`. then let anyone who wants to log in to whatever they want to with that user name and password.\n",
    "\n",
    "[this is not a good option](https://github.com/search?utf8=%E2%9C%93&q=remove+password&type=Commits&ref=searchresults). don't do choose this option"
   ]
  },
  {
   "cell_type": "markdown",
   "metadata": {
    "slideshow": {
     "slide_type": "subslide"
    }
   },
   "source": [
    "another option: in a previous cell we used the `getpass.getpass` to manually type in a password. this loads a string value into a variable (which we could then accidentally print out to a log file or a `jupyter notebook` at any time), but it avoids displaying it while I typed in front of you all just now.\n",
    "\n",
    "this is not automatable. don't do this option"
   ]
  },
  {
   "cell_type": "markdown",
   "metadata": {
    "slideshow": {
     "slide_type": "subslide"
    }
   },
   "source": [
    "a not-perfect-but-not-that-bad option: \n",
    "\n",
    "*see how I've already anchored expectations? cute, right?*\n",
    "\n",
    "a commonly accepted method of securing passwords is to write them (yes, even in plain text) to a file in a completely different place on the file system, and secure them that using the system's permissions structure"
   ]
  },
  {
   "cell_type": "markdown",
   "metadata": {
    "slideshow": {
     "slide_type": "subslide"
    }
   },
   "source": [
    "for example, we could have the following two files:\n",
    "\n",
    "**`~/code/myapp/myapp.py`**\n",
    "```python\n",
    "# load credentials as a dictionary from a json file\n",
    "def load_credentials(filename):\n",
    "    with open(filename, 'r') as f:\n",
    "        credentials = json.load(f)\n",
    "        return credentials\n",
    "        \n",
    "def do_a_thing(filename):\n",
    "    credentials = load_credentials(filename)\n",
    "    username = credentials['username']\n",
    "    password = credentials['password']\n",
    "    # etc\n",
    "```"
   ]
  },
  {
   "cell_type": "markdown",
   "metadata": {
    "slideshow": {
     "slide_type": "subslide"
    }
   },
   "source": [
    "**`~/.secrets/mycredentials.json`**\n",
    "```json\n",
    "/*  python file should load as a dictionary called `credentials` and then access \n",
    "    `credentials['username']` and `credentials['password']`\n",
    "*/\n",
    "{\n",
    "    'username': 'my_user_name',\n",
    "    'password': 'my_password'\n",
    "}\n",
    "```"
   ]
  },
  {
   "cell_type": "markdown",
   "metadata": {
    "slideshow": {
     "slide_type": "subslide"
    }
   },
   "source": [
    "two things to note about this arrangment:\n",
    "\n",
    "1. we have to provide a file name\n",
    "    1. we no longer enter user names or passwords, but we have to provide the path to some secure file\n",
    "    2. this would be done by the user interactively, or as a command line flag `--credentials-file`\n",
    "2. the file is not in the same place as the code\n",
    "    1. this means every user must inidividually have a credentials file that is valid\n",
    "    2. the path to that file and that file itself can be controlled using the filesystem permissions\n",
    "        1. on `linux` systems, this meands having a permission level of `r-x --- ---` on the `~/.secrets` directory and `r-- --- ---` on the `~/.secrets/mycredentials.json` file itself"
   ]
  },
  {
   "cell_type": "markdown",
   "metadata": {
    "slideshow": {
     "slide_type": "subslide"
    }
   },
   "source": [
    "there are many other options for handling this, and many that are more secure (e.g. setting up a centralized key management service, encrypting that credentials file instead of leaving it in plain text)"
   ]
  },
  {
   "cell_type": "markdown",
   "metadata": {
    "slideshow": {
     "slide_type": "subslide"
    }
   },
   "source": [
    "bottom line: keep your passwords completely separate from your code. if you accidentally hard-code your password into your code, **change your password**."
   ]
  },
  {
   "cell_type": "markdown",
   "metadata": {
    "slideshow": {
     "slide_type": "slide"
    }
   },
   "source": [
    "## using browser developer tools"
   ]
  },
  {
   "cell_type": "markdown",
   "metadata": {
    "slideshow": {
     "slide_type": "subslide"
    }
   },
   "source": [
    "when doing web scraping, the modern browser developer tools can be pretty much invaluable. I'm going to do a *very* cursory summary of the most important tricks to know when using developer tools. [the full documentation](https://developers.google.com/web/tools/chrome-devtools/) is excellent.\n",
    "\n",
    "remember the main goal: finding elements that have the data we want, or a static endpoint that contains those elements in a more compact form"
   ]
  },
  {
   "cell_type": "markdown",
   "metadata": {
    "slideshow": {
     "slide_type": "subslide"
    }
   },
   "source": [
    "<div align=\"center\">**walkthrough: google chrome \"Inspect\" mode**</div>\n",
    "\n",
    "let's check out the use of the chrome developer tools on [the `anaconda` repo page](https://anaconda.org/anaconda/repo)"
   ]
  },
  {
   "cell_type": "markdown",
   "metadata": {
    "slideshow": {
     "slide_type": "notes"
    }
   },
   "source": [
    "the walkthrough covered the following topics, broken down by tab name in the \"Inspect\" mode dashboard\n",
    "\n",
    "+ elements\n",
    "    + main window\n",
    "        + this is a DOM explorer, allowing you to search for elements, expand and collapse, etc\n",
    "        + selecting a line item highlights the corresponding rendered space\n",
    "            + this is nested, so you can use this to find which element does a thing, or...\n",
    "    + the \"element selector\" button (top left of the Inspect menu)\n",
    "        + can be used to point and click select\n",
    "    + bottom \"breadcrumbs\" banner\n",
    "        + this can be used to find the full `xpath` expression or the individual `css` selector expressions\n",
    "    + find (`Ctrl + f`)\n",
    "        + search is done using `css` selectors or `xpath`\n",
    "    + element properties menu (right panel)\n",
    "        + generally, more important for identifying `css` properties\n",
    "        + let's edit a value, and click on a page to identify the source of that value\n",
    "+ console\n",
    "    + this is a `javascript` console\n",
    "        + this is an interactive shell for executing `javascript` code\n",
    "        + it has already effectively loaded *all* of the `javascript` code that was used by your browser to build and render this webpage\n",
    "    + example: `console.log('hello world')`\n",
    "    + it will display pretty frequent error messages\n",
    "+ sources\n",
    "    + many files are used to build a webpage\n",
    "        + the contents returned by the single `GET` of the first `url` will include instructions on how to acquire many other files (*e.g.* `javascript` files, `css` files, other `url`s)\n",
    "    + this menu lists them\n",
    "    + files are grouped by\n",
    "        + the domain that sent them\n",
    "        + the path in the url\n",
    "        + a common construct is to have `css`, `js`, and `img` directories to separate those files by type\n",
    "    + most files are \"minified\"\n",
    "        + white spaces is removed to make transfer faster\n",
    "        + you can have chrome add that white spacing back in\n",
    "            + click the `{}` character in the bottom-left corner of the display window\n",
    "+ network\n",
    "    + one use case: seeing what files are sent when\n",
    "    + a better use case: looking at the content individual pages we pulled in\n",
    "        + many times, a *complicated* webpage will be built out of *much simpler* and *more programmatically friendly* data (e.g. simple `json` objects)\n",
    "    + top panel: filter by file type\n",
    "        + this is a high-pass filter and not guaranteed\n",
    "        + it's by extension -- some `javascript` or `json` requests will not have `js` as an extension, so it's not perfect\n",
    "    + bottom-left panel: file name\n",
    "    + bottom-right panel: `request` details\n",
    "        + this is the real bread and butter!\n",
    "        + [`headers`](https://developer.mozilla.org/en-US/docs/Web/HTTP/Headers)\n",
    "            + `headers` are packets of information that are sent along with the actual `request` or `response` (basically, meta-data about the request itself)\n",
    "                + example: the data type of the content we're requesting or responding with (`json`)\n",
    "            + this panel contains the actual structure of the actual `request` that was made\n",
    "            + subsections:\n",
    "                + general\n",
    "                    + these are the most basic details about the `request` which was actually made and the status of the repsonse\n",
    "                + response headers\n",
    "                    + these are the `header` elements of the `response` to our browser's request\n",
    "                + request headers\n",
    "                    + the `header` our browser sent along with our original `request`\n",
    "                    + often some sub-section of these are *required* by the responding server for your content to be received\n",
    "                + query string parameters\n",
    "                    + if the `url` contained a query string (`?key1=val1&key2=val2`, etc.), it's parsed here\n",
    "                    + can be \"unparsed\" as well\n",
    "            + if you want *just this piece* of the full url building process request, you should try to replicate this page\n",
    "        + preview\n",
    "            + mostly used for rendering images\n",
    "        + response\n",
    "            + this is the rendered content of the actual response (*i.e.* usually what you're looking for)\n",
    "    + back to the file name panel\n",
    "        + right click one of the items\n",
    "        + \"copy >\"\n",
    "        + check out the various options, including curl statements!\n",
    "    + finally, *reload* the page to see the entire request stream re-built"
   ]
  },
  {
   "cell_type": "markdown",
   "metadata": {
    "slideshow": {
     "slide_type": "subslide"
    }
   },
   "source": [
    "<div align=\"center\">**walkthrough: a practical application**</div>\n",
    "\n",
    "let's open [the Eversource power company's outage reporting map](https://www.eversource.com/clp/outage/outagemap.aspx) and use some of the developer tools to find the data in the table of current outage information"
   ]
  },
  {
   "cell_type": "markdown",
   "metadata": {
    "slideshow": {
     "slide_type": "notes"
    }
   },
   "source": [
    "the walkthrough does the following\n",
    "\n",
    "+ open the inspect panel\n",
    "+ (re)load [the outage map](https://www.eversource.com/clp/outage/outagemap.aspx)\n",
    "+ explore\n",
    "    + look for the current outage information\n",
    "    + check out \"Outage Details\" panel\n",
    "+ in the \"outage report\" popup, select the table row elements\n",
    "    + `xpath` selector: `//table[@id=\"outageDetail\"]//tr`\n",
    "    + `css` selector: `table#outageDetail tr`\n",
    "    + copy one of these\n",
    "+ try this in python with the code in the cell below"
   ]
  },
  {
   "cell_type": "code",
   "execution_count": null,
   "metadata": {
    "collapsed": true,
    "slideshow": {
     "slide_type": "subslide"
    }
   },
   "outputs": [],
   "source": [
    "resp = requests.get('https://www.eversource.com/clp/outage/outagemap.aspx')\n",
    "root = lxml.html.fromstring(resp.text)\n",
    "root.xpath('//table[@id=\"outageDetail\"]//tr')"
   ]
  },
  {
   "cell_type": "markdown",
   "metadata": {
    "slideshow": {
     "slide_type": "notes"
    }
   },
   "source": [
    "+ it didn't work -- why?\n",
    "+ reloading the page\n",
    "    + maybe the data is not in the *original* request, but is loaded afterward.\n",
    "    + reload the webpage and search for that same `xpath` or `css select` statement rapidly\n",
    "    + observe: they are *not found* when the page starts to render, and then are later found\n",
    "        + this screams [ajax](https://developer.mozilla.org/en-US/docs/AJAX/Getting_Started) (Asynchronous Javascript And Xml)\n",
    "    + maybe we can see the request that obtained those elements?\n",
    "+ Inspect > Network tab\n",
    "    + clear the previous requests\n",
    "    + hit reload\n",
    "    + de-activate the \"Record\" button (just stops adding new little requests after page has fully rendered)\n",
    "    + click around through those files\n",
    "        + try limiting to `js` first, on a whim\n",
    "            + no dice\n",
    "        + try just `xhr`\n",
    "            + awwwwwwwwww yisssssssssss\n",
    "            + note the request url: https://www.eversource.com/clp/outage/services/OutageData.asmx/AllOutageData\n",
    "            + and the request method: `POST`\n",
    "        + try the code below"
   ]
  },
  {
   "cell_type": "code",
   "execution_count": null,
   "metadata": {
    "collapsed": true,
    "scrolled": true,
    "slideshow": {
     "slide_type": "subslide"
    }
   },
   "outputs": [],
   "source": [
    "resp = requests.post('https://www.eversource.com/clp/outage/services/OutageData.asmx/AllOutageData')\n",
    "j = resp.json()\n",
    "j"
   ]
  },
  {
   "cell_type": "markdown",
   "metadata": {
    "slideshow": {
     "slide_type": "notes"
    }
   },
   "source": [
    "+ *that* didn't work either -- what's going on?\n",
    "    + check the `request header`\n",
    "    + if you're *expecting* `json`, you should probably *tell them* you're expecting `json`\n",
    "    + try the code below now"
   ]
  },
  {
   "cell_type": "code",
   "execution_count": null,
   "metadata": {
    "collapsed": true,
    "scrolled": true,
    "slideshow": {
     "slide_type": "subslide"
    }
   },
   "outputs": [],
   "source": [
    "resp = requests.post(\n",
    "    'https://www.eversource.com/clp/outage/services/OutageData.asmx/AllOutageData',\n",
    "    headers={\n",
    "        'Content-Type': 'application/json'\n",
    "    }\n",
    ")\n",
    "j = resp.json()\n",
    "df = pd.DataFrame(j['d'])\n",
    "df.head()"
   ]
  },
  {
   "cell_type": "markdown",
   "metadata": {
    "slideshow": {
     "slide_type": "slide"
    }
   },
   "source": [
    "## `javascript` engines and `selenium` webdrivers"
   ]
  },
  {
   "cell_type": "markdown",
   "metadata": {
    "slideshow": {
     "slide_type": "subslide"
    }
   },
   "source": [
    "in the previous example we experienced something pretty tricky -- an `ajax` (Asynchronous Javascript And Xml) request.\n",
    "\n",
    "the response to our initial request contained instructions on how to *keep* building the webpage, and our browser knew how to take those instructions and turn them into additional `requests` (smart little cookie)"
   ]
  },
  {
   "cell_type": "markdown",
   "metadata": {
    "slideshow": {
     "slide_type": "subslide"
    }
   },
   "source": [
    "because of the way that the developers who put together the Eversource cite constructed their webpage, we got lucky -- we were able to find a *single, `static` url* which had all the content we need in one go. it's not always that simple, though.\n",
    "\n",
    "sometimes it's just not possible to get the information you need without running some `javascript` code (just like your smart little internet browser does)."
   ]
  },
  {
   "cell_type": "markdown",
   "metadata": {
    "slideshow": {
     "slide_type": "subslide"
    }
   },
   "source": [
    "when this is required, we must do something more complicated than our previous simple `python` requests -- we must use a `javascript engine`s like those used in our web browsers.\n",
    "\n",
    "we can use `webdrivers` -- programs which interface with browsers on our behalf -- to do this."
   ]
  },
  {
   "cell_type": "markdown",
   "metadata": {
    "slideshow": {
     "slide_type": "subslide"
    }
   },
   "source": [
    "there are many packages for running `webdrivers` in multiple languages, but the most common (across languages) is [`selenium`](http://www.seleniumhq.org/)\n",
    "\n",
    "you can think of it like this: people write code in various languages (e.g. `python`) that use the `selenium webdriver` to create and then interact with a browser's `javascript engine`"
   ]
  },
  {
   "cell_type": "markdown",
   "metadata": {
    "slideshow": {
     "slide_type": "subslide"
    }
   },
   "source": [
    "### setup"
   ]
  },
  {
   "cell_type": "markdown",
   "metadata": {
    "slideshow": {
     "slide_type": "subslide"
    }
   },
   "source": [
    "#### installing `selenium`, a web browser, and a webdriver"
   ]
  },
  {
   "cell_type": "markdown",
   "metadata": {
    "slideshow": {
     "slide_type": "subslide"
    }
   },
   "source": [
    "we need:\n",
    "\n",
    "1. the `python selenium` library\n",
    "2. a web browser\n",
    "3. a web driver\n",
    "    \n",
    "as always, the first question: am I installing this *locally* or *on my `ec2` server*?"
   ]
  },
  {
   "cell_type": "markdown",
   "metadata": {
    "slideshow": {
     "slide_type": "subslide"
    }
   },
   "source": [
    "the answer: it depends. we can make both work.\n",
    "\n",
    "+ on both local and remote, the install steps are basically the same\n",
    "+ *if* we go with *remote*, we have an additional complication when we want to *use* selenium (more on that later)\n",
    "\n",
    "you do you. I will do the harder *remote* setup (so you've seen some of the guts of this process), but will try and make it clear when I'm doing something that is remote only and doesn't apply to you *local* folks."
   ]
  },
  {
   "cell_type": "markdown",
   "metadata": {
    "slideshow": {
     "slide_type": "subslide"
    }
   },
   "source": [
    "<div align=\"center\">**walkthrough: installing `selenium` parts (both *local* and *remote*)**</div>\n",
    "\n",
    "1. open a terminal\n",
    "2. install `selenium`\n",
    "    1. activate some `conda` environment (e.g. the `scrapesville` one we've been using)\n",
    "    2. run `pip install selenium`\n",
    "3. download and unpack [the webdriver for your chosen browser](http://selenium-python.readthedocs.io/installation.html#drivers)\n",
    "    1. you will likely have to pick one, download (`wget`) a `zip` or `tar`ball, and `unzip` or `tar -xvzf` it\n",
    "    2. note the path where you saved it\n",
    "4. if needed, install a browser (none is installed by default in `ec2`)"
   ]
  },
  {
   "cell_type": "markdown",
   "metadata": {
    "slideshow": {
     "slide_type": "subslide"
    }
   },
   "source": [
    "in my (remote) case:\n",
    "\n",
    "```bash\n",
    "mkdir -p ~/selenium_example\n",
    "cd ~/selenium_example\n",
    "wget https://github.com/mozilla/geckodriver/releases/download/v0.19.0/geckodriver-v0.19.0-linux64.tar.gz\n",
    "tar -xvzf geckodriver-v0.19.0-linux64.tar.gz\n",
    "ls -alh ~/selenium_example/\n",
    "\n",
    "# finally, install firefox -- chrome is actually pretty annoying for this example\n",
    "sudo apt install firefox\n",
    "```"
   ]
  },
  {
   "cell_type": "markdown",
   "metadata": {
    "slideshow": {
     "slide_type": "subslide"
    }
   },
   "source": [
    "so we now should have access to the `selenium python` code library, an executible `webdriver`, and a browser that `webdriver` can drive. \n",
    "\n",
    "what can (should) we actually *do* with them?"
   ]
  },
  {
   "cell_type": "markdown",
   "metadata": {
    "slideshow": {
     "slide_type": "subslide"
    }
   },
   "source": [
    "well, `selenium` was originally constructed not for web scraping but for UAT processes -- we could use it to automatically replicate the experience of a user coming to a webpage, clicking buttons, typing things in fields, etc.\n",
    "\n",
    "it can be used to create `test`s of a webpage's functionality, ensuring that the webpage behaves as expected."
   ]
  },
  {
   "cell_type": "markdown",
   "metadata": {
    "slideshow": {
     "slide_type": "subslide"
    }
   },
   "source": [
    "this means, in particular, that it can *launch an actual browser*, and control it with commands. that's pretty awesome.\n",
    "\n",
    "in turn, *that* means that we may need to be able to see an actual browser (or launching it will fail). if you're working *locally*, no problem! if you're working *remotely*, though, that's not something we've ever done via the command line yet."
   ]
  },
  {
   "cell_type": "markdown",
   "metadata": {
    "slideshow": {
     "slide_type": "subslide"
    }
   },
   "source": [
    "we can do it with `x11` forwarding. let's figure out how "
   ]
  },
  {
   "cell_type": "markdown",
   "metadata": {
    "slideshow": {
     "slide_type": "subslide"
    }
   },
   "source": [
    "#### `x11` forwarding graphical interfaces (*remote only*)\n",
    "\n",
    "the general idea here is straightforward: if *you* have some `x11`-speaking service running, and the *remote server* has some `x11`-speaking service running, you can have guis sent over your `ssh` connection from the *remote* to your local laptop.\n",
    "\n",
    "your `ubuntu` servers already have what they need -- let's install what *we* need"
   ]
  },
  {
   "cell_type": "markdown",
   "metadata": {
    "slideshow": {
     "slide_type": "subslide"
    }
   },
   "source": [
    "for a full walkthrough, check out [this description from Indiana University](https://uisapp2.iu.edu/confluence-prd/pages/viewpage.action?pageId=280461906). the basics are simple though:\n",
    "\n",
    "1. mac: download [`xquartz`](https://www.xquartz.org/) and run it\n",
    "2. windows: download [`xming`](http://sourceforge.net/projects/xming/) and run it\n",
    "3. linux: you should be ok out of the box. if you see complaints about not having the `xorg` package installed, install it"
   ]
  },
  {
   "cell_type": "markdown",
   "metadata": {
    "slideshow": {
     "slide_type": "subslide"
    }
   },
   "source": [
    "now that you have an `x11` service running on your machine, you should be able to have `x11` communications with your remote server, and display guis `forward`ed from that server.\n",
    "\n",
    "for mac and linux users, create an `ssh` connection with `x11` forwarding by entering the *exact same command* you usually would to connect via `ssh` connection, but **add a `-X` flag** (that's a *capital* `X`):\n",
    "\n",
    "```bash\n",
    "ssh -X -i /path/to/privatekey username@servername\n",
    "```"
   ]
  },
  {
   "cell_type": "markdown",
   "metadata": {
    "slideshow": {
     "slide_type": "subslide"
    }
   },
   "source": [
    "for windows users, you will want to enable `x11` by loading your `putty` connection and navigating to the `connection > ssh > x11` side menu panel. after you've made that update, you can save if you want."
   ]
  },
  {
   "cell_type": "markdown",
   "metadata": {
    "slideshow": {
     "slide_type": "subslide"
    }
   },
   "source": [
    "`x11` forwarding is a somewhat common process, and you will do it *any* time you want to \"see\" an application running on a remote server. think of it as \"remote desktop\", but for a single application. it's also the same process for every application, so you only need to set it up and learn it one time."
   ]
  },
  {
   "cell_type": "markdown",
   "metadata": {
    "slideshow": {
     "slide_type": "subslide"
    }
   },
   "source": [
    "##### where are we?\n",
    "\n",
    "at this point:\n",
    "\n",
    "1. you should have installed `selenium`\n",
    "2. you should have downloaded and unzipped a `webdriver`\n",
    "3. if you're doing all of this remotely\n",
    "    1. you should have downloaded an `x11` client\n",
    "    2. you should have made an `ssh` connection using the `-X` flag\n",
    "    \n",
    "everybody there?"
   ]
  },
  {
   "cell_type": "markdown",
   "metadata": {
    "slideshow": {
     "slide_type": "subslide"
    }
   },
   "source": [
    "### an example\n",
    "\n",
    "let's try an example. suppose [our Eversource example page from before](https://www.eversource.com/clp/outage/outagemap.aspx) hadn't yielded that single convenient endpoint. we could still scrape that table if we wanted to because with `selenium` we can do *literally anything* we could do with a browser"
   ]
  },
  {
   "cell_type": "markdown",
   "metadata": {
    "slideshow": {
     "slide_type": "subslide"
    }
   },
   "source": [
    "let's start with a few simple `python` commands just to get things up and running.\n",
    "\n",
    "first, we will need to know or remember *where* on our filesystem we saved that `webdriver` file -- we will need to be able to point to it in order to use.\n",
    "\n",
    "I saved mine in a `~/selenium_example` directory"
   ]
  },
  {
   "cell_type": "markdown",
   "metadata": {
    "slideshow": {
     "slide_type": "subslide"
    }
   },
   "source": [
    "```python\n",
    "import os\n",
    "import selenium.webdriver\n",
    "\n",
    "fdriver = os.path.join(\n",
    "    os.path.expanduser('~'), 'selenium_example', 'geckodriver'\n",
    ")\n",
    "\n",
    "# you may use Firefox, or Chrome, or Edge, or whatever\n",
    "driver = selenium.webdriver.Firefox(\n",
    "    executable_path=fdriver\n",
    ")\n",
    "```"
   ]
  },
  {
   "cell_type": "markdown",
   "metadata": {
    "slideshow": {
     "slide_type": "subslide"
    }
   },
   "source": [
    "woah!\n",
    "\n",
    "first, that `driver = ...` command actually launched our browser. cool.\n",
    "\n",
    "did you notice, though, that the `python` session waited until the browser seemed done rendering? it does that. for everything we do, actually. which is good -- we are waiting until the web browser tells us it's done working on the current request."
   ]
  },
  {
   "cell_type": "markdown",
   "metadata": {
    "slideshow": {
     "slide_type": "subslide"
    }
   },
   "source": [
    "let's try getting our eversource url:\n",
    "\n",
    "```python\n",
    "driver.get('https://www.eversource.com/clp/outage/outagemap.aspx')\n",
    "\n",
    "driver.current_url\n",
    "```"
   ]
  },
  {
   "cell_type": "markdown",
   "metadata": {
    "slideshow": {
     "slide_type": "subslide"
    }
   },
   "source": [
    "the `driver` item we have now has the ability to do all the things we might want to do -- including:\n",
    "\n",
    "1. clicking on elements\n",
    "2. typing (sending keystrokes)\n",
    "3. dragging, dropping, or highlighting"
   ]
  },
  {
   "cell_type": "markdown",
   "metadata": {
    "slideshow": {
     "slide_type": "subslide"
    }
   },
   "source": [
    "the way it does all of the above is by\n",
    "\n",
    "1. selecting an element it wishes to interact with (e.g. a text box we would type in)\n",
    "2. using `send_keys`, `click`, or other member functions on that element\n",
    "\n",
    "let's try an example -- we know we want to click on that table popup here. we need a `css` selector or `xpath` to isoalte that clickable menu element"
   ]
  },
  {
   "cell_type": "markdown",
   "metadata": {
    "slideshow": {
     "slide_type": "subslide"
    }
   },
   "source": [
    "look for that information in the `inspector` mode of firefox, chrome, etc.\n",
    "\n",
    "once you've found an `{xpath, css}`, try and select that element with `driver.find_element_by_{xpath, css_selector}()`\n",
    "\n",
    "if that works, try `click`ing that element and see what happens!"
   ]
  },
  {
   "cell_type": "markdown",
   "metadata": {
    "slideshow": {
     "slide_type": "subslide"
    }
   },
   "source": [
    "```python\n",
    "menulink = driver.find_element_by_xpath('.//a[@href=\"#detail_container\"]')\n",
    "menulink\n",
    "menulink.click()\n",
    "```"
   ]
  },
  {
   "cell_type": "markdown",
   "metadata": {
    "slideshow": {
     "slide_type": "subslide"
    }
   },
   "source": [
    "so let's keep repeating this process until we've done all the steps we want:\n",
    "\n",
    "1. click on the \"View Outage Report\" link\n",
    "    1. hint: there's a `driver.find_element_by_id` method\n",
    "2. select all the elements in the table"
   ]
  },
  {
   "cell_type": "markdown",
   "metadata": {
    "slideshow": {
     "slide_type": "subslide"
    }
   },
   "source": [
    "```python\n",
    "outagelink = driver.find_element_by_id('viewOutage')\n",
    "outagelink.click()\n",
    "\n",
    "outageInfo = []\n",
    "for row in driver.find_elements_by_xpath('//table[@id=\"outageDetail\"]/tbody/tr'):\n",
    "    town, cust, aff, pct = row.find_elements_by_xpath('td')\n",
    "    outageInfo.append({\n",
    "        'town_name': town.text,\n",
    "        'customers': cust.text,\n",
    "        'customers_affected': aff.text,\n",
    "        'pct_customers_affected': pct.text,\n",
    "    })\n",
    "    \n",
    "df = pd.DataFrame(outageInfo)\n",
    "df.head()\n",
    "```"
   ]
  },
  {
   "cell_type": "markdown",
   "metadata": {
    "slideshow": {
     "slide_type": "subslide"
    }
   },
   "source": [
    "now, that's pretty inarguably cool, but in terms of doing something *practical*, I think it has some serious drawbacks:\n",
    "\n",
    "1. requires external software (a running browser program and driver)\n",
    "    1. **you don't have to do the `x11` forwarding**\n",
    "        1. it is possible to run the browser in \"headless\" mode\n",
    "        2. this makes the process considerably faster\n",
    "2. obviously slower (more overhead in rendering, e.g.)\n",
    "3. more resource (memory) intensive"
   ]
  },
  {
   "cell_type": "markdown",
   "metadata": {
    "slideshow": {
     "slide_type": "slide"
    }
   },
   "source": [
    "## summary\n",
    "\n",
    "so, in general, the workflow for doing directed webscraping of an identified data sources is:\n",
    "\n",
    "1. search, at least once, for a `json` api (e.g. \"google json api my.data.source\")\n",
    "    1. if you find a `json` api, use that api with the standard web requests\n",
    "2. see if the content is kept in obviously structured `html` in a static request\n",
    "    1. if it is, `GET` the `html` document with `requests`\n",
    "    2. convert the `html` to an `lxml.html` object\n",
    "    3. identify `xpath` or `css` selectors to iterate through data elements and find them on the `lxml.html` object\n",
    "3. look through the developer tools for a better sub-request\n",
    "    1. if so, repeat the steps under 2\n",
    "4. look into an automated `javascript` engine approach using `selenium`"
   ]
  },
  {
   "cell_type": "markdown",
   "metadata": {
    "slideshow": {
     "slide_type": "slide"
    }
   },
   "source": [
    "***<div align=\"center\">`REST` up<div>***\n",
    "<div align=\"center\"><img src=\"http://www.softwaresamurai.org/wp-content/uploads/2017/12/RESTfil-API.png\" width=\"400px\"></div>\n",
    "\n",
    "# END OF LECTURE\n",
    "\n",
    "next lecture: [`aws` `iam`](008_iam.ipynb)"
   ]
  }
 ],
 "metadata": {
  "celltoolbar": "Slideshow",
  "kernelspec": {
   "display_name": "Python 3",
   "language": "python",
   "name": "python3"
  },
  "language_info": {
   "codemirror_mode": {
    "name": "ipython",
    "version": 3
   },
   "file_extension": ".py",
   "mimetype": "text/x-python",
   "name": "python",
   "nbconvert_exporter": "python",
   "pygments_lexer": "ipython3",
   "version": "3.6.6"
  },
  "toc": {
   "toc_cell": false,
   "toc_number_sections": true,
   "toc_threshold": 6,
   "toc_window_display": false
  }
 },
 "nbformat": 4,
 "nbformat_minor": 2
}
