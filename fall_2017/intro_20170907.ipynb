{
 "cells": [
  {
   "cell_type": "markdown",
   "metadata": {
    "slideshow": {
     "slide_type": "slide"
    }
   },
   "source": [
    "# introduction notes for 2017.09.07"
   ]
  },
  {
   "cell_type": "markdown",
   "metadata": {
    "slideshow": {
     "slide_type": "subslide"
    }
   },
   "source": [
    "there are a couple of organizational things I want to make sure I don't forget to cover in the run-up to this lecture!\n",
    "\n",
    "1. using azure notebooks\n",
    "    1. problems with images in rendered notebooks\n",
    "    2. running notebooks\n",
    "2. grading policy\n",
    "3. office hour schedule\n",
    "4. canvas"
   ]
  },
  {
   "cell_type": "markdown",
   "metadata": {
    "slideshow": {
     "slide_type": "slide"
    }
   },
   "source": [
    "## using azure notebooks"
   ]
  },
  {
   "cell_type": "markdown",
   "metadata": {
    "slideshow": {
     "slide_type": "subslide"
    }
   },
   "source": [
    "### problems with images in rendered notebooks\n",
    "\n",
    "I've been informed that for some browsers the images in the notebooks are not rendering correctly. can I get a quick show of hands re: the number of users that are experiencing this problem?"
   ]
  },
  {
   "cell_type": "markdown",
   "metadata": {
    "slideshow": {
     "slide_type": "subslide"
    }
   },
   "source": [
    "there is a short-term work around for this issue: if the items fail to render on azure, you can check out the backup version on github: https://github.com/rzl-ds/gu511\n",
    "\n",
    "the long-term work around will be for me to figure out how to include the images in a more dircect way! right now they are hosted on google drive and embeded directly in the notebooks and it's a whole *thing*."
   ]
  },
  {
   "cell_type": "markdown",
   "metadata": {
    "slideshow": {
     "slide_type": "subslide"
    }
   },
   "source": [
    "### running notebooks\n",
    "\n",
    "one of the exercises on the next homework assignment will be to pair up and actually execute a `jupyter` notebook with a partner.\n",
    "\n",
    "this means that the normal way that azure notebooks serves up the notebooks -- as *renedered*, *static* documents -- won't cut it. we need to actually *run* the notebooks."
   ]
  },
  {
   "cell_type": "markdown",
   "metadata": {
    "slideshow": {
     "slide_type": "subslide"
    }
   },
   "source": [
    "there are two ways I would recommend to do it:\n",
    "\n",
    "+ on azure notebooks\n",
    "    1. create an account: https://notebooks.azure.com/account/signin#\n",
    "    2. open the lecture note library: https://notebooks.azure.com/rzachlamberty/libraries/gu511\n",
    "    3. highlight the notebook you want to open and click \"clone\"\n",
    "        1. <img align=\"center\" src=\"http://drive.google.com/uc?export=view&id=0ByQ4VmO-MwEEM2cwckFHbjZLdWs\"></img>"
   ]
  },
  {
   "cell_type": "markdown",
   "metadata": {
    "slideshow": {
     "slide_type": "subslide"
    }
   },
   "source": [
    "2. run them locally\n",
    "    1. the instructions are written out in the README at the bottom of the lecture note library, but basically...\n",
    "    2. download the file from\n",
    "        1. the azure notebook library: https://notebooks.azure.com/rzachlamberty/libraries/gu511, or\n",
    "        2. the github repo: https://github.com/rzl-ds/gu511\n",
    "    3. create a `conda` environment with at least `jupyter` installed\n",
    "    4. run `jupyter notebook` from the directory containing the notebook"
   ]
  },
  {
   "cell_type": "markdown",
   "metadata": {
    "slideshow": {
     "slide_type": "slide"
    }
   },
   "source": [
    "## grading policy\n",
    "\n",
    "+ there will be a 50 / 25 / 25 split between the homework, exam 1, and exam 2.\n",
    "+ I will grade the final results on a curve\n",
    "+ the final grades will range between A and a B-\n",
    "    + I won't *require* that any of those grades are given -- if the level of effort and completion is comparable I won't split hairs just to give one student an A or one student a B-\n",
    "    + C or below are reserved for cases of academic integrity violations, failure to submit homeworks or missed exams, etc."
   ]
  },
  {
   "cell_type": "markdown",
   "metadata": {
    "slideshow": {
     "slide_type": "slide"
    }
   },
   "source": [
    "## office hour schedule\n",
    "\n",
    "+ I will have office hours *every Thursday* from 5:00 - 6:30 PM in cubicle 313.1\n",
    "+ Carlos will have office hours on Wednesdays from 5:00 - 6:00 PM (location TBD)"
   ]
  },
  {
   "cell_type": "markdown",
   "metadata": {
    "slideshow": {
     "slide_type": "slide"
    }
   },
   "source": [
    "# canvas\n",
    "\n",
    "as you are most likely aware from emails sent out earlier this week, we are using canvas as our central communication and announcement platform. Assignment and homeworks will remain on azure notebooks for the foreseeable future, but all other documents and communication will be done with canvas\n",
    "\n",
    "url: http://canvas.georgetown.edu/"
   ]
  }
 ],
 "metadata": {
  "celltoolbar": "Slideshow",
  "kernelspec": {
   "display_name": "Python 3",
   "language": "python",
   "name": "python3"
  },
  "language_info": {
   "codemirror_mode": {
    "name": "ipython",
    "version": 3
   },
   "file_extension": ".py",
   "mimetype": "text/x-python",
   "name": "python",
   "nbconvert_exporter": "python",
   "pygments_lexer": "ipython3",
   "version": "3.6.3"
  }
 },
 "nbformat": 4,
 "nbformat_minor": 2
}
