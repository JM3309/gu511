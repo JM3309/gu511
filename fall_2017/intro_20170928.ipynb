{
 "cells": [
  {
   "cell_type": "markdown",
   "metadata": {
    "slideshow": {
     "slide_type": "slide"
    }
   },
   "source": [
    "# introduction notes for 2017.09.28"
   ]
  },
  {
   "cell_type": "markdown",
   "metadata": {
    "slideshow": {
     "slide_type": "subslide"
    }
   },
   "source": [
    "1. downloading `ds_pipeline_template.ipynb`\n",
    "2. no MFA or password for the ARN in hw assignment\n",
    "3. Carlos' office hours"
   ]
  },
  {
   "cell_type": "markdown",
   "metadata": {
    "slideshow": {
     "slide_type": "subslide"
    }
   },
   "source": [
    "## downloading `ds_pipeline_template.ipynb`\n",
    "\n",
    "several people had issues downloading this file, so I wanted to discuss how to download these properly, and to get a little bit into the weeds re: how these files are formatted"
   ]
  },
  {
   "cell_type": "markdown",
   "metadata": {
    "slideshow": {
     "slide_type": "subslide"
    }
   },
   "source": [
    "### how to download\n",
    "\n",
    "the files are available from two sources, and as usual, I recommend downloading them in the following order:\n",
    "\n",
    "1. [the azure notebooks hw site](https://notebooks.azure.com/rzachlamberty/libraries/gu511-hw)\n",
    "2. [the github hw repo](https://github.com/rzl-ds/gu511_hw)"
   ]
  },
  {
   "cell_type": "markdown",
   "metadata": {
    "slideshow": {
     "slide_type": "subslide"
    }
   },
   "source": [
    "+ [the azure notebooks hw site](https://notebooks.azure.com/rzachlamberty/libraries/gu511-hw)\n",
    "    1. click on the line item of the notebook you want to download \n",
    "    2. click the \"download\" link at the top of the page"
   ]
  },
  {
   "cell_type": "markdown",
   "metadata": {
    "slideshow": {
     "slide_type": "subslide"
    }
   },
   "source": [
    "+ [the github hw repo](https://github.com/rzl-ds/gu511_hw)\n",
    "    1. click on the notebook you want to download\n",
    "        1. this launches a webpage with a rendered version of the document\n",
    "    2. click the *raw* button at the top of that page\n",
    "    3. save the raw page (`ctrl+s` or `right click > save as`)"
   ]
  },
  {
   "cell_type": "markdown",
   "metadata": {
    "slideshow": {
     "slide_type": "subslide"
    }
   },
   "source": [
    "### what an `ipynb` file looks like\n",
    "\n",
    "let's check out the raw version of one of these files on github:\n",
    "\n",
    "https://raw.githubusercontent.com/rzl-ds/gu511_hw/master/2017_09_28.ipynb"
   ]
  },
  {
   "cell_type": "markdown",
   "metadata": {
    "slideshow": {
     "slide_type": "subslide"
    }
   },
   "source": [
    "the contents of these files are formatted in `json` (JavaScript Object Notation), which is similar to collections of `dict` and `list` elements in `python`.\n",
    "\n",
    "this format is one of the *de facto* languages of internet communication, and is a *very* common serialization and information transfer protocol."
   ]
  },
  {
   "cell_type": "markdown",
   "metadata": {
    "slideshow": {
     "slide_type": "subslide"
    }
   },
   "source": [
    "it is also possible to download the `html` version of the above files (the rendered versions, e.g.). These may end up having the correct *extension* (`ipynb`), but incorrect contents.\n",
    "\n",
    "if you do something like this, you'll see:\n",
    "\n",
    "```python\n",
    "Unreadable Notebook: /path/to/your/ds_pipeline_template.ipynb NotJSONError('Notebook does not appear to be JSON: \\'<!DOCTYPE html>\\\\n ...',)\n",
    "```"
   ]
  },
  {
   "cell_type": "markdown",
   "metadata": {
    "slideshow": {
     "slide_type": "subslide"
    }
   },
   "source": [
    "this is a good rule to learn: **extensions often don't actually *do* much of anything**. \n",
    "\n",
    "they are mostly there to give the operating system, a user, or a piece of software a hint on how to load or run files. sometimes software requires files to have a certain extension, but it *always* requires them to have a certain format to their content."
   ]
  },
  {
   "cell_type": "markdown",
   "metadata": {
    "slideshow": {
     "slide_type": "slide"
    }
   },
   "source": [
    "## no MFA or password for the ARN in hw assignment\n",
    "\n",
    "when creating the role to share items with us, don't put any extra permissions on it (no passwords, no MFA).\n",
    "\n",
    "if you did this, no worried -- open the `role` in `aws` and edit the permissions page"
   ]
  },
  {
   "cell_type": "markdown",
   "metadata": {
    "slideshow": {
     "slide_type": "slide"
    }
   },
   "source": [
    "## Carlos' office hourse\n",
    "\n",
    "just a reminder: Carlos has office hours:\n",
    "\n",
    "+ Wednesday from 5:00 - 6:30 PM\n",
    "+ St. Mary's Hall, 345"
   ]
  }
 ],
 "metadata": {
  "celltoolbar": "Slideshow",
  "kernelspec": {
   "display_name": "Python 3",
   "language": "python",
   "name": "python3"
  },
  "language_info": {
   "codemirror_mode": {
    "name": "ipython",
    "version": 3
   },
   "file_extension": ".py",
   "mimetype": "text/x-python",
   "name": "python",
   "nbconvert_exporter": "python",
   "pygments_lexer": "ipython3",
   "version": "3.6.2"
  }
 },
 "nbformat": 4,
 "nbformat_minor": 2
}
