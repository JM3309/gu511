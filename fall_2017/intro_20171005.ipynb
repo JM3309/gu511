{
 "cells": [
  {
   "cell_type": "markdown",
   "metadata": {
    "slideshow": {
     "slide_type": "slide"
    }
   },
   "source": [
    "# introduction notes for 2017.10.05"
   ]
  },
  {
   "cell_type": "markdown",
   "metadata": {
    "slideshow": {
     "slide_type": "subslide"
    }
   },
   "source": [
    "1. \"field trip\"\n",
    "2. carlos' email address\n",
    "3. discussing the spot pricing exercise"
   ]
  },
  {
   "cell_type": "markdown",
   "metadata": {
    "slideshow": {
     "slide_type": "subslide"
    }
   },
   "source": [
    "## \"field trip\"\n",
    "\n",
    "Hadley Wickham, Oct. 19\n",
    "\n",
    "https://www.meetup.com/stats-prog-dc/events/243926205/"
   ]
  },
  {
   "cell_type": "markdown",
   "metadata": {
    "slideshow": {
     "slide_type": "subslide"
    }
   },
   "source": [
    "## carlos' email address\n",
    "\n",
    "Carlos finally has a GU email address! `chb49@georgetown.edu`. please send future emails to the two of us to \n",
    "\n",
    "+ rzl5@georgetown.edu\n",
    "+ chb49@georgetown.edu\n",
    "\n",
    "I have also updated [the announcement on canvas](https://georgetown.instructure.com/courses/43989/discussion_topics/130741) which has our contact info"
   ]
  },
  {
   "cell_type": "markdown",
   "metadata": {
    "slideshow": {
     "slide_type": "subslide"
    }
   },
   "source": [
    "## discussing the spot price exercise\n",
    "\n",
    "I have saved [the spot price graph](https://plot.ly/~r.zach.lamberty/131/) to my plotly account -- let's take a look at it. in particular, let's talk about\n",
    "\n",
    "1. plotly as a service\n",
    "2. spot pricing decisions"
   ]
  }
 ],
 "metadata": {
  "celltoolbar": "Slideshow",
  "kernelspec": {
   "display_name": "Python 3",
   "language": "python",
   "name": "python3"
  },
  "language_info": {
   "codemirror_mode": {
    "name": "ipython",
    "version": 3
   },
   "file_extension": ".py",
   "mimetype": "text/x-python",
   "name": "python",
   "nbconvert_exporter": "python",
   "pygments_lexer": "ipython3",
   "version": "3.6.2"
  }
 },
 "nbformat": 4,
 "nbformat_minor": 2
}
