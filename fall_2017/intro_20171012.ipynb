{
 "cells": [
  {
   "cell_type": "markdown",
   "metadata": {
    "slideshow": {
     "slide_type": "slide"
    }
   },
   "source": [
    "# introduction notes for 2017.10.12"
   ]
  },
  {
   "cell_type": "markdown",
   "metadata": {
    "slideshow": {
     "slide_type": "subslide"
    }
   },
   "source": [
    "1. \"field trip\" is happening\n",
    "2. grad student mixer @ epicurean after this class\n",
    "3. exam plan"
   ]
  },
  {
   "cell_type": "markdown",
   "metadata": {
    "slideshow": {
     "slide_type": "subslide"
    }
   },
   "source": [
    "## \"field trip\" is happening\n",
    "\n",
    "NEXT WEEK'S LECTURE:\n",
    "\n",
    "Hadley Wickham, Oct. 19\n",
    "\n",
    "https://www.meetup.com/stats-prog-dc/events/243926205/"
   ]
  },
  {
   "cell_type": "markdown",
   "metadata": {
    "slideshow": {
     "slide_type": "subslide"
    }
   },
   "source": [
    "## grad student mixer @ epicurean after this class\n",
    "\n",
    "I think you know more about this then I do -- pizza, beer, MAST students.\n",
    "\n",
    "Epicurean, right next door!"
   ]
  },
  {
   "cell_type": "markdown",
   "metadata": {
    "slideshow": {
     "slide_type": "subslide"
    }
   },
   "source": [
    "## exam plan\n",
    "\n",
    "the midterm exam will be a **2 day take home exam** -- basically, a slightly larger than normal homework assignment covering the contents of the first 8 lecture topics (`ec2` through `web scraping`). even if we get to `aws lambda` today, that will not be included"
   ]
  },
  {
   "cell_type": "markdown",
   "metadata": {
    "slideshow": {
     "slide_type": "subslide"
    }
   },
   "source": [
    "### exam date\n",
    "\n",
    "the exam will be over a fixed two-day period and will be the same two-day period for all students.\n",
    "\n",
    "please fill out the following poll to indicate which days will be most preferable for you: https://goo.gl/forms/rv3pnVoskIDwmUW33"
   ]
  }
 ],
 "metadata": {
  "celltoolbar": "Slideshow",
  "kernelspec": {
   "display_name": "Python 3",
   "language": "python",
   "name": "python3"
  },
  "language_info": {
   "codemirror_mode": {
    "name": "ipython",
    "version": 3
   },
   "file_extension": ".py",
   "mimetype": "text/x-python",
   "name": "python",
   "nbconvert_exporter": "python",
   "pygments_lexer": "ipython3",
   "version": "3.6.2"
  }
 },
 "nbformat": 4,
 "nbformat_minor": 2
}
