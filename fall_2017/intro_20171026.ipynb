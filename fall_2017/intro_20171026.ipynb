{
 "cells": [
  {
   "cell_type": "markdown",
   "metadata": {
    "slideshow": {
     "slide_type": "slide"
    }
   },
   "source": [
    "# introduction notes for 2017.10.26"
   ]
  },
  {
   "cell_type": "markdown",
   "metadata": {
    "slideshow": {
     "slide_type": "subslide"
    }
   },
   "source": [
    "1. exam schedule\n",
    "2. homework schedule\n",
    "3. \"field trip\" thoughts"
   ]
  },
  {
   "cell_type": "markdown",
   "metadata": {
    "slideshow": {
     "slide_type": "subslide"
    }
   },
   "source": [
    "## exam schedule\n",
    "\n",
    "The midterm exam will be released tonight after class. It will be posted just like a homework, but at\n",
    "\n",
    "https://notebooks.azure.com/rzachlamberty/libraries/gu511-exam\n",
    "\n",
    "(same url as the lecture notes and homework assignments, but with the `-exam`).\n",
    "\n",
    "there will also be an email when it's posted"
   ]
  },
  {
   "cell_type": "markdown",
   "metadata": {
    "slideshow": {
     "slide_type": "subslide"
    }
   },
   "source": [
    "You will have until EOD Monday (roughly 4 days) to complete the exam. I've tried to make an exam that is like a large homework assignment -- doable in a few hours. I don't anticipate it will take anyone all four days."
   ]
  },
  {
   "cell_type": "markdown",
   "metadata": {
    "slideshow": {
     "slide_type": "subslide"
    }
   },
   "source": [
    "it is long, but a great deal of it is walkthroughs and exposition. I always write everything with the `-v` flag set.\n",
    "\n",
    "questions?"
   ]
  },
  {
   "cell_type": "markdown",
   "metadata": {
    "slideshow": {
     "slide_type": "subslide"
    }
   },
   "source": [
    "## homework schedule\n",
    "\n",
    "to accomodate the exam being moved (which was to accomodate the grades and answer keys being late), we will have a slight change to the regular homework schedule\n",
    "\n",
    "1. this week's homework (on `aws lambda` functions) will be due in *two* weeks (not the usual one)\n",
    "2. the following week's homework (finishing `lambda` and moving on to databases) will be due at the same time (one week after assignment)"
   ]
  },
  {
   "cell_type": "markdown",
   "metadata": {
    "slideshow": {
     "slide_type": "subslide"
    }
   },
   "source": [
    "## \"field trip\" thoughts\n",
    "\n",
    "what'd you think?"
   ]
  }
 ],
 "metadata": {
  "celltoolbar": "Slideshow",
  "kernelspec": {
   "display_name": "Python 3",
   "language": "python",
   "name": "python3"
  },
  "language_info": {
   "codemirror_mode": {
    "name": "ipython",
    "version": 3
   },
   "file_extension": ".py",
   "mimetype": "text/x-python",
   "name": "python",
   "nbconvert_exporter": "python",
   "pygments_lexer": "ipython3",
   "version": "3.6.2"
  }
 },
 "nbformat": 4,
 "nbformat_minor": 2
}
