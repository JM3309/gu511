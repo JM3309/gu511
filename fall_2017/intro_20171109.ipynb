{
 "cells": [
  {
   "cell_type": "markdown",
   "metadata": {
    "slideshow": {
     "slide_type": "slide"
    }
   },
   "source": [
    "# introduction notes for 2017.11.09"
   ]
  },
  {
   "cell_type": "markdown",
   "metadata": {
    "slideshow": {
     "slide_type": "subslide"
    }
   },
   "source": [
    "1. exam answer key posted\n",
    "2. fixing `s3` permissions / access"
   ]
  },
  {
   "cell_type": "markdown",
   "metadata": {
    "slideshow": {
     "slide_type": "subslide"
    }
   },
   "source": [
    "## exam answer key posted\n",
    "\n",
    "the exam answer key has been posted [on github](https://github.com/rzl-ds/gu511_exam/blob/master/2017_midterm_exam_answers.ipynb) and [azure notebooks](https://notebooks.azure.com/rzachlamberty/libraries/gu511-exam)"
   ]
  },
  {
   "cell_type": "markdown",
   "metadata": {
    "slideshow": {
     "slide_type": "subslide"
    }
   },
   "source": [
    "## fixing `s3` permissions / access\n",
    "\n",
    "more `s3` permissions fun!\n",
    "\n",
    "our goal with creating the new `s3` buckets *we* controlled was to remove the permission headaches from you when you're doing your homework submission"
   ]
  },
  {
   "cell_type": "markdown",
   "metadata": {
    "slideshow": {
     "slide_type": "subslide"
    }
   },
   "source": [
    "our approach was the following:\n",
    "\n",
    "1. create a new bucket for each user\n",
    "2. grant full control to that other `aws` account via a canned `acl` (access control list)\n",
    "3. add the below bucket policy to give both accounts all `s3` permissions on that bucket"
   ]
  },
  {
   "cell_type": "markdown",
   "metadata": {
    "slideshow": {
     "slide_type": "subslide"
    }
   },
   "source": [
    "```json\n",
    "{\n",
    "    \"Version\": \"2012-10-17\",\n",
    "    \"Id\": \"GUID-c2b219e2-c49f-11e7-aa9d-9890969c4c99\",\n",
    "    \"Statement\": [\n",
    "        {\n",
    "            \"Sid\": \"1\",\n",
    "            \"Effect\": \"Allow\",\n",
    "            \"Principal\": {\n",
    "                \"AWS\": [\n",
    "                    \"arn:aws:iam::134461086921:root\",\n",
    "                    \"arn:aws:iam::USER_AWS_ID:root\"\n",
    "                ]\n",
    "            },\n",
    "            \"Action\": \"s3:*\",\n",
    "            \"Resource\": [\n",
    "                \"arn:aws:s3:::2017.fall.gu511.GUID/*\",\n",
    "                \"arn:aws:s3:::2017.fall.gu511.GUID\"\n",
    "            ]\n",
    "        }\n",
    "    ]\n",
    "}\n",
    "```"
   ]
  },
  {
   "cell_type": "markdown",
   "metadata": {
    "slideshow": {
     "slide_type": "subslide"
    }
   },
   "source": [
    "only one problem: files *I* add are all visible to you immediately, but files *you* add are not visible to me by default. \n",
    "\n",
    "after some extensive research, it appears that there is one (and only one) solution: you need to update the `acl` value on your files to grant the bucket owner (me) full control."
   ]
  },
  {
   "cell_type": "markdown",
   "metadata": {
    "slideshow": {
     "slide_type": "subslide"
    }
   },
   "source": [
    "there are two ways to do this. first, you can re-upload all the files you've added, but with an extra flag:\n",
    "\n",
    "```bash\n",
    "aws s3 cp YOUR_FILE s3://2017.fall.gu511.{GUID} --acl bucket-owner-full-control\n",
    "```"
   ]
  },
  {
   "cell_type": "markdown",
   "metadata": {
    "slideshow": {
     "slide_type": "subslide"
    }
   },
   "source": [
    "the other option is to add that `acl` directly to an `s3` key without re-uploading:\n",
    "\n",
    "```bash\n",
    "aws s3api put-object-acl --bucket s3://2017.fall.gu511.{GUID} --key {KEY_NAME} --acl bucket-owner-full-control\n",
    "```"
   ]
  },
  {
   "cell_type": "markdown",
   "metadata": {
    "slideshow": {
     "slide_type": "subslide"
    }
   },
   "source": [
    "if you have several files uploaded already, the following python code should also be sufficient to update the `acl` on each\n",
    "\n",
    "```python\n",
    "import boto3\n",
    "\n",
    "def update_acls(guid):\n",
    "    session = boto3.session.Session()\n",
    "    s3 = session.resource('s3')\n",
    "\n",
    "    bucket = s3.Bucket('2017.fall.gu511.{}'.format(guid))\n",
    "    for obj in bucket.objects.all():\n",
    "        resp = obj.Acl().put(ACL='bucket-owner-full-control')\n",
    "        \n",
    "        try:\n",
    "            assert resp['ResponseMetadata']['HTTPStatusCode'] == 200\n",
    "            print('update of key \"{.key}\" successful'.format(obj))\n",
    "        except AssertionError:\n",
    "            print('updaate of key \"{.key}\" FAILED'.format(obj))\n",
    "```"
   ]
  },
  {
   "cell_type": "markdown",
   "metadata": {
    "slideshow": {
     "slide_type": "subslide"
    }
   },
   "source": [
    "alternatively, you could fix this manually via the web console.\n",
    "\n",
    "1. go to your bucket at `https://s3.console.aws.amazon.com/s3/buckets/2017.fall.gu511.{GUID}/`\n",
    "2. for each file you have uploaded\n",
    "    1. click on the link to that file\n",
    "    2. open the \"Permissions\" tab\n",
    "    3. under \"Access for other AWS accounts\"\n",
    "        1. click \"+ Add account\"\n",
    "        2. enter `rzl5@georgetown.edu`\n",
    "        3. check all three boxes \"Yes\"\n",
    "        4. click \"Save\""
   ]
  }
 ],
 "metadata": {
  "celltoolbar": "Slideshow",
  "kernelspec": {
   "display_name": "Python 3",
   "language": "python",
   "name": "python3"
  },
  "language_info": {
   "codemirror_mode": {
    "name": "ipython",
    "version": 3
   },
   "file_extension": ".py",
   "mimetype": "text/x-python",
   "name": "python",
   "nbconvert_exporter": "python",
   "pygments_lexer": "ipython3",
   "version": "3.6.3"
  }
 },
 "nbformat": 4,
 "nbformat_minor": 2
}
