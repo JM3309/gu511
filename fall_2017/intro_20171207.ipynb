{
 "cells": [
  {
   "cell_type": "markdown",
   "metadata": {
    "slideshow": {
     "slide_type": "slide"
    }
   },
   "source": [
    "# introduction notes for 2017.12.07\n",
    "\n",
    "1. *LAST CLASS*!\n",
    "2. exam plan\n",
    "3. survey"
   ]
  },
  {
   "cell_type": "markdown",
   "metadata": {
    "slideshow": {
     "slide_type": "subslide"
    }
   },
   "source": [
    "## last class\n",
    "\n",
    "thanks!"
   ]
  },
  {
   "cell_type": "markdown",
   "metadata": {
    "slideshow": {
     "slide_type": "subslide"
    }
   },
   "source": [
    "## exam plan\n",
    "\n",
    "the final exam will be structured similarly to the midterm (a `jupyter notebook` posted to github / azure). it will cover all the material we went over during class, including the final `hadoop` lecture (today).\n",
    "\n",
    "the exam period runs from the 12th to the 20th. I will post the final exam on the 12th and you have until the EOD on the 20th to submit your results."
   ]
  },
  {
   "cell_type": "markdown",
   "metadata": {
    "slideshow": {
     "slide_type": "subslide"
    }
   },
   "source": [
    "## surveys\n",
    "\n",
    "by now, you should have all received an email about the official course survey. some of you filled it out and that's awesome.\n",
    "\n",
    "the last 15 minutes of this final class are set aside for you to finish that survey, but I also will ask you to do a second ***anonymous*** survey on the *topics* covered in this class"
   ]
  },
  {
   "cell_type": "markdown",
   "metadata": {
    "slideshow": {
     "slide_type": "subslide"
    }
   },
   "source": [
    "+ official gu survey: https://eval.georgetown.edu/\n",
    "+ unofficial (but as or more important, in my opinion) course topic survey: https://goo.gl/forms/zTcOysNJ8aeCClWF2 (verify that this is working!)"
   ]
  }
 ],
 "metadata": {
  "celltoolbar": "Slideshow",
  "kernelspec": {
   "display_name": "Python 3",
   "language": "python",
   "name": "python3"
  },
  "language_info": {
   "codemirror_mode": {
    "name": "ipython",
    "version": 3
   },
   "file_extension": ".py",
   "mimetype": "text/x-python",
   "name": "python",
   "nbconvert_exporter": "python",
   "pygments_lexer": "ipython3",
   "version": "3.6.3"
  }
 },
 "nbformat": 4,
 "nbformat_minor": 2
}
