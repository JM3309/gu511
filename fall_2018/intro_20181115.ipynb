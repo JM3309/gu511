{
 "cells": [
  {
   "cell_type": "markdown",
   "metadata": {
    "slideshow": {
     "slide_type": "slide"
    }
   },
   "source": [
    "# introduction notes for 2018.11.15\n",
    "\n",
    "1. **log in to your `aws` accounts at https://console.aws.amazon.com/**\n",
    "1. no class next week\n",
    "1. v2.0 will drop soon"
   ]
  },
  {
   "cell_type": "markdown",
   "metadata": {
    "slideshow": {
     "slide_type": "subslide"
    }
   },
   "source": [
    "## **log in to your `aws` accounts at https://console.aws.amazon.com/**\n",
    "\n",
    "we will be working with `rds` and possibly `redshift` today, so log in!"
   ]
  },
  {
   "cell_type": "markdown",
   "metadata": {
    "slideshow": {
     "slide_type": "subslide"
    }
   },
   "source": [
    "## no class next week\n",
    "\n",
    "Happy Thanksgiving!"
   ]
  },
  {
   "cell_type": "markdown",
   "metadata": {
    "slideshow": {
     "slide_type": "subslide"
    }
   },
   "source": [
    "## v2.0 will drop soon\n",
    "\n",
    "gang, if all goes well, I'm gonna be a dad by Tuesday morning at the latest -- so apologies in advance for the impending zombie mode"
   ]
  }
 ],
 "metadata": {
  "celltoolbar": "Slideshow",
  "kernelspec": {
   "display_name": "Python 3",
   "language": "python",
   "name": "python3"
  },
  "language_info": {
   "codemirror_mode": {
    "name": "ipython",
    "version": 3
   },
   "file_extension": ".py",
   "mimetype": "text/x-python",
   "name": "python",
   "nbconvert_exporter": "python",
   "pygments_lexer": "ipython3",
   "version": "3.6.6"
  }
 },
 "nbformat": 4,
 "nbformat_minor": 2
}
