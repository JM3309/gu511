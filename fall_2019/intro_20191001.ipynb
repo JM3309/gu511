{
 "cells": [
  {
   "cell_type": "markdown",
   "metadata": {
    "slideshow": {
     "slide_type": "slide"
    }
   },
   "source": [
    "# introduction notes for 2019.10.01\n",
    "\n",
    "1. get your public key (`~/.ssh/id_rsa.pub`) copied to your clipboard\n",
    "1. difference between a \"repository\" and a directory\n",
    "1. windows and carriage returns"
   ]
  },
  {
   "cell_type": "markdown",
   "metadata": {
    "slideshow": {
     "slide_type": "subslide"
    }
   },
   "source": [
    "## get your public key (`~/.ssh/id_rsa.pub`) copied to your clipboard"
   ]
  },
  {
   "cell_type": "markdown",
   "metadata": {
    "slideshow": {
     "slide_type": "subslide"
    }
   },
   "source": [
    "## difference between a \"repository\" and a directory\n",
    "\n",
    "I have haphazardly referred to a \"repository\" (or \"repo\" for short) in the homeworks and lectures without being explicit:\n",
    "\n",
    "**repository** has a *specific* meaning in that it is the name of the database of version control files (contained in the `.git` directory) that define the history of our files\n",
    "\n",
    "it also has a *generic* meaning in that it is used as a nickname for the github page that users push and pull from, or the code directory plus the history"
   ]
  },
  {
   "cell_type": "markdown",
   "metadata": {
    "slideshow": {
     "slide_type": "subslide"
    }
   },
   "source": [
    "## windows and carriage returns\n",
    "\n",
    "one windows-based user was editing their `bash` script for the most recent assignment and had verified (by copy-pasting) that every line in it worked as planned. when they went to run it on my `ec2`, however, they received the following errors:\n",
    "\n",
    "```\n",
    ": No such file or directory6: /home/rgr36/data/weather/download.log\n",
    ": numeric argument required9: exit: 1\n",
    "```"
   ]
  },
  {
   "cell_type": "markdown",
   "metadata": {
    "slideshow": {
     "slide_type": "subslide"
    }
   },
   "source": [
    "this user was editing their file in **notepad**, and they encountered a very famous windows vs. non-windows \"feature\":\n",
    "\n",
    "1. in `linux` and `linux`-like systems, the signal to the computer that the text is moving to the new line is the **newline character** (often written as `\\n`)\n",
    "1. in `windows`, the signal to the computer that the text is moving to the new line is **two characters**\n",
    "    1. a **carriage return** (written as `\\r`)\n",
    "    1. a newline (aka line feed, written as `\\n`)"
   ]
  },
  {
   "cell_type": "markdown",
   "metadata": {
    "slideshow": {
     "slide_type": "subslide"
    }
   },
   "source": [
    "code written on windows machines where the `\\r` carriage return character is included **will not play nice** with `linux`-like environments\n",
    "\n",
    "the solution: use a better editor than notepad. install `notepad++` and [change the end of line characters](http://sql313.com/index.php/43-main-blogs/maincat-dba/62-using-notepad-to-change-end-of-line-characters)"
   ]
  }
 ],
 "metadata": {
  "celltoolbar": "Slideshow",
  "kernelspec": {
   "display_name": "Python 3",
   "language": "python",
   "name": "python3"
  },
  "language_info": {
   "codemirror_mode": {
    "name": "ipython",
    "version": 3
   },
   "file_extension": ".py",
   "mimetype": "text/x-python",
   "name": "python",
   "nbconvert_exporter": "python",
   "pygments_lexer": "ipython3",
   "version": "3.7.3"
  },
  "toc": {
   "base_numbering": 1,
   "nav_menu": {},
   "number_sections": true,
   "sideBar": true,
   "skip_h1_title": false,
   "title_cell": "Table of Contents",
   "title_sidebar": "Contents",
   "toc_cell": false,
   "toc_position": {},
   "toc_section_display": true,
   "toc_window_display": false
  }
 },
 "nbformat": 4,
 "nbformat_minor": 2
}
