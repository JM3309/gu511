{
 "cells": [
  {
   "cell_type": "markdown",
   "metadata": {
    "slideshow": {
     "slide_type": "slide"
    }
   },
   "source": [
    "# introduction notes for 2019.12.03\n",
    "\n",
    "1. last class\n",
    "1. this lecture will be on the final\n",
    "1. small homework for this lecture\n",
    "1. final schedule\n",
    "1. docker for mac taking up too much cpu\n",
    "1. advent of code"
   ]
  },
  {
   "cell_type": "markdown",
   "metadata": {
    "slideshow": {
     "slide_type": "subslide"
    }
   },
   "source": [
    "## last class\n",
    "\n",
    "this is the last class! we did it! thank you!"
   ]
  },
  {
   "cell_type": "markdown",
   "metadata": {
    "slideshow": {
     "slide_type": "subslide"
    }
   },
   "source": [
    "## this lecture will be on the final!\n",
    "\n",
    "**all** of this `spark` lecture will be valid material on the final, even if we don't finish in the time tonight -- so read it all if we don't cover it all"
   ]
  },
  {
   "cell_type": "markdown",
   "metadata": {
    "slideshow": {
     "slide_type": "subslide"
    }
   },
   "source": [
    "## small homework for this lecture\n",
    "\n",
    "there will be a smaller-than-normal homework assignment for this lecture to reflect the fact that study days are starting next Tuesday.\n",
    "\n",
    "the assignment will be due by EOD Monday dec 09th"
   ]
  },
  {
   "cell_type": "markdown",
   "metadata": {
    "slideshow": {
     "slide_type": "subslide"
    }
   },
   "source": [
    "## final schedule\n",
    "\n",
    "the final will be another take-home assignment similar in structure to our homeworks but around twice as long. it will be made available at the start of the exam dates (**Thu Dec 12**) and will be due by the end of that period (**EOD Fri Dec 20**).\n",
    "\n",
    "otherwise, the rules the same as they were for the midterm."
   ]
  },
  {
   "cell_type": "markdown",
   "metadata": {
    "slideshow": {
     "slide_type": "subslide"
    }
   },
   "source": [
    "## docker for mac taking up too much cpu\n",
    "\n",
    "for those of you who have `macs` and installed `docker` as part of this course, know that the `docker` desktop app is currently consuming a lot of `cpu` resources for some `mac` owners. if this is you, I suggest watching [this github issue here](https://github.com/docker/for-mac/issues/4064)"
   ]
  },
  {
   "cell_type": "markdown",
   "metadata": {
    "slideshow": {
     "slide_type": "subslide"
    }
   },
   "source": [
    "## advent of code\n",
    "\n",
    "unrelated to anything, but if you like fun programming puzzles you should check out the [advent of code](http://adventofcode.com/) puzzle competition -- there is a different pair of computer programming puzzles every day from Dec 1st until Dec 25th.\n",
    "\n",
    "the author puts together silly stories for each problem (e.g. reindeers need stars to power rudolph's nose and the only way to get stars is to implement a-star algorithms in caves)"
   ]
  }
 ],
 "metadata": {
  "celltoolbar": "Slideshow",
  "kernelspec": {
   "display_name": "Python 3",
   "language": "python",
   "name": "python3"
  },
  "language_info": {
   "codemirror_mode": {
    "name": "ipython",
    "version": 3
   },
   "file_extension": ".py",
   "mimetype": "text/x-python",
   "name": "python",
   "nbconvert_exporter": "python",
   "pygments_lexer": "ipython3",
   "version": "3.7.3"
  },
  "toc": {
   "base_numbering": 1,
   "nav_menu": {},
   "number_sections": true,
   "sideBar": true,
   "skip_h1_title": false,
   "title_cell": "Table of Contents",
   "title_sidebar": "Contents",
   "toc_cell": false,
   "toc_position": {},
   "toc_section_display": true,
   "toc_window_display": false
  }
 },
 "nbformat": 4,
 "nbformat_minor": 2
}
