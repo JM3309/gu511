{
 "cells": [
  {
   "cell_type": "markdown",
   "metadata": {
    "slideshow": {
     "slide_type": "slide"
    }
   },
   "source": [
    "# introduction notes for 2018.09.13\n",
    "\n",
    "\n",
    "1. **log in to your `ec2` servers!**\n",
    "1. TA availability updates\n",
    "1. `R` conference in DC"
   ]
  },
  {
   "cell_type": "markdown",
   "metadata": {
    "slideshow": {
     "slide_type": "subslide"
    }
   },
   "source": [
    "## log in to your `ec2` servers!\n",
    "\n",
    "you got this"
   ]
  },
  {
   "cell_type": "markdown",
   "metadata": {
    "slideshow": {
     "slide_type": "subslide"
    }
   },
   "source": [
    "## TA availability updates\n",
    "\n",
    "because our main TA Carlos Blancarte (chb49@georgetown.edu) is a globetrotter, he will not be available for physical office hours for the month of September. he will remain the course grader during this time.\n",
    "\n",
    "our second TA Andrew Stewart (as4116@georgetown.edu) is holding office hours in the meantime. he took this course and is more than capable to answer your questions. for some questions he's more capable than me by now!"
   ]
  },
  {
   "cell_type": "markdown",
   "metadata": {
    "slideshow": {
     "slide_type": "subslide"
    }
   },
   "source": [
    "+ **for questions about grades**, email Carlos (chb49@georgetown.edu)\n",
    "+ **for questions about the homework or course material**\n",
    "    + attend Zach's office hours on Thursday from 5 - 6:30 in the cubicles\n",
    "    + attend Andrew's office hours on Mondays and Wednesdays from 5 - 7 in the cubicles\n",
    "    + email Zach (rzl5@georgetown.edu)"
   ]
  },
  {
   "cell_type": "markdown",
   "metadata": {
    "slideshow": {
     "slide_type": "subslide"
    }
   },
   "source": [
    "## `R` conference in DC\n",
    "\n",
    "https://dc.rstats.ai/"
   ]
  }
 ],
 "metadata": {
  "celltoolbar": "Slideshow",
  "kernelspec": {
   "display_name": "Python 3",
   "language": "python",
   "name": "python3"
  },
  "language_info": {
   "codemirror_mode": {
    "name": "ipython",
    "version": 3
   },
   "file_extension": ".py",
   "mimetype": "text/x-python",
   "name": "python",
   "nbconvert_exporter": "python",
   "pygments_lexer": "ipython3",
   "version": "3.6.6"
  }
 },
 "nbformat": 4,
 "nbformat_minor": 2
}
