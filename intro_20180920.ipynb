{
 "cells": [
  {
   "cell_type": "markdown",
   "metadata": {
    "slideshow": {
     "slide_type": "slide"
    }
   },
   "source": [
    "# introduction notes for 2018.09.20\n",
    "\n",
    "\n",
    "1. **log in to your `ec2` servers!**\n",
    "1. Zach's office hours moved to SMT 126\n",
    "1. kaggle daily exercises\n",
    "1. reminder on \"where\" terminals are when `ssh`-ing\n",
    "1. ip addresses for `ssh` connections"
   ]
  },
  {
   "cell_type": "markdown",
   "metadata": {
    "slideshow": {
     "slide_type": "subslide"
    }
   },
   "source": [
    "## log in to your `ec2` servers!\n",
    "\n",
    "you got this"
   ]
  },
  {
   "cell_type": "markdown",
   "metadata": {
    "slideshow": {
     "slide_type": "subslide"
    }
   },
   "source": [
    "## Zach's office hours moved to SMT 126\n",
    "\n",
    "I have been assigned room SMT 126 for my office hours. they will be at the same time (5 - 6:30) on Thursdays, just in a new, bigger location"
   ]
  },
  {
   "cell_type": "markdown",
   "metadata": {
    "slideshow": {
     "slide_type": "subslide"
    }
   },
   "source": [
    "so, full reminder on TAs, grading, and office hours:\n",
    "\n",
    "+ **for questions about grades**, email Carlos (chb49@georgetown.edu)\n",
    "+ **for questions about the homework or course material**\n",
    "    + attend Zach's office hours on Thursday from 5 - 6:30 in SMT 126\n",
    "    + attend Andrew's office hours on Mondays and Wednesdays from 5 - 7 in the cubicles\n",
    "    + email Zach (rzl5@georgetown.edu)"
   ]
  },
  {
   "cell_type": "markdown",
   "metadata": {
    "slideshow": {
     "slide_type": "subslide"
    }
   },
   "source": [
    "## kaggle daily exercises\n",
    "\n",
    "kaggle is doing a fun daily \"challenge\" that is worth checking out: https://www.kaggle.com/ml-for-insights-signup"
   ]
  },
  {
   "cell_type": "markdown",
   "metadata": {
    "slideshow": {
     "slide_type": "subslide"
    }
   },
   "source": [
    "## reminder on \"where\" terminals are when `ssh`-ing\n",
    "\n",
    "a few people have asked questions that made it clear to me I had failed to explain something fundamental.\n",
    "\n",
    "+ before you make any `ssh` connection\n",
    "    + `putty` is \"on\" and is \"looking at\" your local machine\n",
    "    + the terminal you open on your computer (`terminal.app` on mac, `cmd` or `powershell` on your windows computer) are \"on\" and are \"looking at\" your local machine\n",
    "+ once you make your `ssh` connection\n",
    "    + `putty` opens up a little terminal window that is \"on\" and is \"looking at\" your REMOTE machine\n",
    "    + the `terminal.app`, `cmd`, or `powershell` windows stay the same (except for, maybe, the \"prompt\" at which you enter commands), but now those terminal sessions are \"on\" and are \"looking at\" your REMOTE machine"
   ]
  },
  {
   "cell_type": "markdown",
   "metadata": {
    "slideshow": {
     "slide_type": "subslide"
    }
   },
   "source": [
    "# ip addresses for `ssh` connections\n",
    "\n",
    "okay your ip address doesn't matter **BUT IT COULD OKAY**"
   ]
  }
 ],
 "metadata": {
  "celltoolbar": "Slideshow",
  "kernelspec": {
   "display_name": "Python 3",
   "language": "python",
   "name": "python3"
  },
  "language_info": {
   "codemirror_mode": {
    "name": "ipython",
    "version": 3
   },
   "file_extension": ".py",
   "mimetype": "text/x-python",
   "name": "python",
   "nbconvert_exporter": "python",
   "pygments_lexer": "ipython3",
   "version": "3.6.6"
  }
 },
 "nbformat": 4,
 "nbformat_minor": 2
}
