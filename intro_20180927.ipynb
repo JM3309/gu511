{
 "cells": [
  {
   "cell_type": "markdown",
   "metadata": {
    "slideshow": {
     "slide_type": "slide"
    }
   },
   "source": [
    "# introduction notes for 2018.09.27\n",
    "\n",
    "1. **log in to your `ec2` servers!**\n",
    "1. graduate student mixer tonight at 9pm in the Epicurean bar area\n",
    "1. `scp` between various computers\n",
    "1. `git` excitement info"
   ]
  },
  {
   "cell_type": "markdown",
   "metadata": {
    "slideshow": {
     "slide_type": "subslide"
    }
   },
   "source": [
    "## log in to your `ec2` servers!\n",
    "\n",
    "you got this"
   ]
  },
  {
   "cell_type": "markdown",
   "metadata": {
    "slideshow": {
     "slide_type": "subslide"
    }
   },
   "source": [
    "## graduate student mixer tonight at 9pm in the Epicurean bar area!\n",
    "\n",
    "say hey to Stuart!"
   ]
  },
  {
   "cell_type": "markdown",
   "metadata": {
    "slideshow": {
     "slide_type": "subslide"
    }
   },
   "source": [
    "## `scp` between various computers\n",
    "\n",
    "currently there are three computers. you can use `ssh` (and therefore `scp`) from one of them to the other two. think of it as a triangle: two of the edges are filled in, the other isn't.\n",
    "\n",
    "if you want to copy from your `ec2` to my `ec2`, you could:\n",
    "\n",
    "1. fill in that other edge -- generate a key pair, give me the public key, and I'll add it. then you can copy directly.\n",
    "1. use the other two edges -- copy the file down from your `ec2` to your laptop, then copy it up from your laptop to my `ec2`"
   ]
  },
  {
   "cell_type": "markdown",
   "metadata": {
    "slideshow": {
     "slide_type": "subslide"
    }
   },
   "source": [
    "## `git` excitement info\n",
    "\n",
    "we'll cover `git` tonight. this is a new lecture, but a topic that I think is frankly essential to modern data science practitioners.\n",
    "\n",
    "you all gave me feedback about your interest; here's what you said:"
   ]
  },
  {
   "cell_type": "code",
   "execution_count": 14,
   "metadata": {
    "slideshow": {
     "slide_type": "skip"
    }
   },
   "outputs": [
    {
     "data": {
      "text/html": [
       "<script>requirejs.config({paths: { 'plotly': ['https://cdn.plot.ly/plotly-latest.min']},});if(!window.Plotly) {{require(['plotly'],function(plotly) {window.Plotly=plotly;});}}</script>"
      ],
      "text/vnd.plotly.v1+html": [
       "<script>requirejs.config({paths: { 'plotly': ['https://cdn.plot.ly/plotly-latest.min']},});if(!window.Plotly) {{require(['plotly'],function(plotly) {window.Plotly=plotly;});}}</script>"
      ]
     },
     "metadata": {},
     "output_type": "display_data"
    }
   ],
   "source": [
    "import plotly\n",
    "import plotly.graph_objs as go\n",
    "import plotly.offline\n",
    "\n",
    "plotly.offline.init_notebook_mode(connected=True)"
   ]
  },
  {
   "cell_type": "code",
   "execution_count": 15,
   "metadata": {
    "slideshow": {
     "slide_type": "skip"
    }
   },
   "outputs": [
    {
     "name": "stdout",
     "output_type": "stream",
     "text": [
      "This is the format of your plot grid:\n",
      "[ (1,1) x1,y1 ]  [ (1,2) x2,y2 ]\n",
      "\n"
     ]
    }
   ],
   "source": [
    "layout = go.Layout(title='git and github familiarity')\n",
    "fig = plotly.tools.make_subplots(\n",
    "    rows=1, cols=2, subplot_titles=('familiarity', 'excitement')\n",
    ")\n",
    "fig.append_trace(go.Bar(x=[\"what's that\", 'heard of it', 'use it all the time'], y=[2, 8, 4]), 1, 1)\n",
    "fig.append_trace(go.Bar(x=[\"ugh gross\", 'meh, whatevs', \"can't wait!\"], y=[2, 1, 12]), 1, 2)\n",
    "fig['layout'].update(title='git and github')\n",
    "fig['layout']['yaxis1'].update(range=[0, 12])"
   ]
  },
  {
   "cell_type": "code",
   "execution_count": 16,
   "metadata": {
    "slideshow": {
     "slide_type": "subslide"
    }
   },
   "outputs": [
    {
     "data": {
      "application/vnd.plotly.v1+json": {
       "data": [
        {
         "type": "bar",
         "uid": "cbbd0354-c295-11e8-87c8-4a0004b26690",
         "x": [
          "what's that",
          "heard of it",
          "use it all the time"
         ],
         "xaxis": "x",
         "y": [
          2,
          8,
          4
         ],
         "yaxis": "y"
        },
        {
         "type": "bar",
         "uid": "cbbe7400-c295-11e8-80f8-4a0004b26690",
         "x": [
          "ugh gross",
          "meh, whatevs",
          "can't wait!"
         ],
         "xaxis": "x2",
         "y": [
          2,
          1,
          12
         ],
         "yaxis": "y2"
        }
       ],
       "layout": {
        "annotations": [
         {
          "font": {
           "size": 16
          },
          "showarrow": false,
          "text": "familiarity",
          "x": 0.225,
          "xanchor": "center",
          "xref": "paper",
          "y": 1,
          "yanchor": "bottom",
          "yref": "paper"
         },
         {
          "font": {
           "size": 16
          },
          "showarrow": false,
          "text": "excitement",
          "x": 0.775,
          "xanchor": "center",
          "xref": "paper",
          "y": 1,
          "yanchor": "bottom",
          "yref": "paper"
         }
        ],
        "title": "git and github",
        "xaxis": {
         "anchor": "y",
         "domain": [
          0,
          0.45
         ]
        },
        "xaxis2": {
         "anchor": "y2",
         "domain": [
          0.55,
          1
         ]
        },
        "yaxis": {
         "anchor": "x",
         "domain": [
          0,
          1
         ],
         "range": [
          0,
          12
         ]
        },
        "yaxis2": {
         "anchor": "x2",
         "domain": [
          0,
          1
         ]
        }
       }
      },
      "text/html": [
       "<div id=\"8b973d3d-ec8b-4ca9-bca2-1f617b073ab0\" style=\"height: 525px; width: 100%;\" class=\"plotly-graph-div\"></div><script type=\"text/javascript\">require([\"plotly\"], function(Plotly) { window.PLOTLYENV=window.PLOTLYENV || {};window.PLOTLYENV.BASE_URL=\"https://plot.ly\";\n",
       "        Plotly.plot(\n",
       "            '8b973d3d-ec8b-4ca9-bca2-1f617b073ab0',\n",
       "            [{\"x\": [\"what's that\", \"heard of it\", \"use it all the time\"], \"y\": [2, 8, 4], \"type\": \"bar\", \"uid\": \"cbbd0354-c295-11e8-87c8-4a0004b26690\", \"xaxis\": \"x\", \"yaxis\": \"y\"}, {\"x\": [\"ugh gross\", \"meh, whatevs\", \"can't wait!\"], \"y\": [2, 1, 12], \"type\": \"bar\", \"uid\": \"cbbe7400-c295-11e8-80f8-4a0004b26690\", \"xaxis\": \"x2\", \"yaxis\": \"y2\"}],\n",
       "            {\"annotations\": [{\"font\": {\"size\": 16}, \"showarrow\": false, \"text\": \"familiarity\", \"x\": 0.225, \"xanchor\": \"center\", \"xref\": \"paper\", \"y\": 1.0, \"yanchor\": \"bottom\", \"yref\": \"paper\"}, {\"font\": {\"size\": 16}, \"showarrow\": false, \"text\": \"excitement\", \"x\": 0.775, \"xanchor\": \"center\", \"xref\": \"paper\", \"y\": 1.0, \"yanchor\": \"bottom\", \"yref\": \"paper\"}], \"xaxis\": {\"anchor\": \"y\", \"domain\": [0.0, 0.45]}, \"yaxis\": {\"anchor\": \"x\", \"domain\": [0.0, 1.0], \"range\": [0, 12]}, \"xaxis2\": {\"anchor\": \"y2\", \"domain\": [0.55, 1.0]}, \"yaxis2\": {\"anchor\": \"x2\", \"domain\": [0.0, 1.0]}, \"title\": \"git and github\"},\n",
       "            {\"showLink\": true, \"linkText\": \"Export to plot.ly\"}\n",
       "        ).then(function () {return Plotly.addFrames('8b973d3d-ec8b-4ca9-bca2-1f617b073ab0',{});}).then(function(){Plotly.animate('8b973d3d-ec8b-4ca9-bca2-1f617b073ab0');})\n",
       "        });</script>"
      ],
      "text/vnd.plotly.v1+html": [
       "<div id=\"8b973d3d-ec8b-4ca9-bca2-1f617b073ab0\" style=\"height: 525px; width: 100%;\" class=\"plotly-graph-div\"></div><script type=\"text/javascript\">require([\"plotly\"], function(Plotly) { window.PLOTLYENV=window.PLOTLYENV || {};window.PLOTLYENV.BASE_URL=\"https://plot.ly\";\n",
       "        Plotly.plot(\n",
       "            '8b973d3d-ec8b-4ca9-bca2-1f617b073ab0',\n",
       "            [{\"x\": [\"what's that\", \"heard of it\", \"use it all the time\"], \"y\": [2, 8, 4], \"type\": \"bar\", \"uid\": \"cbbd0354-c295-11e8-87c8-4a0004b26690\", \"xaxis\": \"x\", \"yaxis\": \"y\"}, {\"x\": [\"ugh gross\", \"meh, whatevs\", \"can't wait!\"], \"y\": [2, 1, 12], \"type\": \"bar\", \"uid\": \"cbbe7400-c295-11e8-80f8-4a0004b26690\", \"xaxis\": \"x2\", \"yaxis\": \"y2\"}],\n",
       "            {\"annotations\": [{\"font\": {\"size\": 16}, \"showarrow\": false, \"text\": \"familiarity\", \"x\": 0.225, \"xanchor\": \"center\", \"xref\": \"paper\", \"y\": 1.0, \"yanchor\": \"bottom\", \"yref\": \"paper\"}, {\"font\": {\"size\": 16}, \"showarrow\": false, \"text\": \"excitement\", \"x\": 0.775, \"xanchor\": \"center\", \"xref\": \"paper\", \"y\": 1.0, \"yanchor\": \"bottom\", \"yref\": \"paper\"}], \"xaxis\": {\"anchor\": \"y\", \"domain\": [0.0, 0.45]}, \"yaxis\": {\"anchor\": \"x\", \"domain\": [0.0, 1.0], \"range\": [0, 12]}, \"xaxis2\": {\"anchor\": \"y2\", \"domain\": [0.55, 1.0]}, \"yaxis2\": {\"anchor\": \"x2\", \"domain\": [0.0, 1.0]}, \"title\": \"git and github\"},\n",
       "            {\"showLink\": true, \"linkText\": \"Export to plot.ly\"}\n",
       "        ).then(function () {return Plotly.addFrames('8b973d3d-ec8b-4ca9-bca2-1f617b073ab0',{});}).then(function(){Plotly.animate('8b973d3d-ec8b-4ca9-bca2-1f617b073ab0');})\n",
       "        });</script>"
      ]
     },
     "metadata": {},
     "output_type": "display_data"
    }
   ],
   "source": [
    "plotly.offline.iplot(fig)"
   ]
  }
 ],
 "metadata": {
  "celltoolbar": "Slideshow",
  "kernelspec": {
   "display_name": "Python 3",
   "language": "python",
   "name": "python3"
  },
  "language_info": {
   "codemirror_mode": {
    "name": "ipython",
    "version": 3
   },
   "file_extension": ".py",
   "mimetype": "text/x-python",
   "name": "python",
   "nbconvert_exporter": "python",
   "pygments_lexer": "ipython3",
   "version": "3.6.6"
  }
 },
 "nbformat": 4,
 "nbformat_minor": 2
}
