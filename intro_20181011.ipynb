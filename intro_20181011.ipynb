{
 "cells": [
  {
   "cell_type": "markdown",
   "metadata": {
    "slideshow": {
     "slide_type": "slide"
    }
   },
   "source": [
    "# introduction notes for 2018.10.11\n",
    "\n",
    "1. **log in to your `ec2` servers!**\n",
    "1. extra easy homework\n",
    "1. postponing the midterm until *next* week\n",
    "1. weekend data jam"
   ]
  },
  {
   "cell_type": "markdown",
   "metadata": {
    "slideshow": {
     "slide_type": "subslide"
    }
   },
   "source": [
    "## log in to your `ec2` servers!\n",
    "\n",
    "you got this"
   ]
  },
  {
   "cell_type": "markdown",
   "metadata": {
    "slideshow": {
     "slide_type": "subslide"
    }
   },
   "source": [
    "## extra easy homework\n",
    "\n",
    "woops. looks like I committed the answers this week. serves me right for trying to put together homework at 1AM on a Thursday.\n",
    "\n",
    "**fortunately** the answer keys were also *wrong* -- you have to `git commit` between `git add` and `git push`"
   ]
  },
  {
   "cell_type": "markdown",
   "metadata": {
    "slideshow": {
     "slide_type": "subslide"
    }
   },
   "source": [
    "## postponing the midterm until next week\n",
    "\n",
    "speaking of things I shouldn't do at 1AM on Thursdays: write midterm exam questions!\n",
    "\n",
    "really though, I would like to have more material to cover on the midterm exam (including the `python` material we will be covering tonight) so I will be giving you all a regular homework assignment this week and we will be having the midterm in place of the regular homework *next* week. more details to follow"
   ]
  },
  {
   "cell_type": "markdown",
   "metadata": {
    "slideshow": {
     "slide_type": "subslide"
    }
   },
   "source": [
    "# weekend data jam\n",
    "\n",
    "coming up on Saturday, November 3rd is an all-day [\"data jam\" for datakind](https://www.eventbrite.com/e/datakind-dc-annual-datadive-tickets-50930894677). this open-ended data exploration for non-profit groups and can be a lot of fun."
   ]
  }
 ],
 "metadata": {
  "celltoolbar": "Slideshow",
  "kernelspec": {
   "display_name": "Python 3",
   "language": "python",
   "name": "python3"
  },
  "language_info": {
   "codemirror_mode": {
    "name": "ipython",
    "version": 3
   },
   "file_extension": ".py",
   "mimetype": "text/x-python",
   "name": "python",
   "nbconvert_exporter": "python",
   "pygments_lexer": "ipython3",
   "version": "3.6.6"
  }
 },
 "nbformat": 4,
 "nbformat_minor": 2
}
