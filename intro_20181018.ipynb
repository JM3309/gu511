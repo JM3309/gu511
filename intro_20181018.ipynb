{
 "cells": [
  {
   "cell_type": "markdown",
   "metadata": {
    "slideshow": {
     "slide_type": "slide"
    }
   },
   "source": [
    "# introduction notes for 2018.10.18\n",
    "\n",
    "1. **log in to your `ec2` servers!**\n",
    "1. late homework policy\n",
    "1. midterm schedule"
   ]
  },
  {
   "cell_type": "markdown",
   "metadata": {
    "slideshow": {
     "slide_type": "subslide"
    }
   },
   "source": [
    "## log in to your `ec2` servers!\n",
    "\n",
    "you got this"
   ]
  },
  {
   "cell_type": "markdown",
   "metadata": {
    "slideshow": {
     "slide_type": "subslide"
    }
   },
   "source": [
    "## late homework policy\n",
    "\n",
    "because it wasn't formally written in the course intro slides: for homework assignments turned in after the Friday (end of day) deadline, each day beyond the homework due date will result in a 10% grade reduction."
   ]
  },
  {
   "cell_type": "markdown",
   "metadata": {
    "slideshow": {
     "slide_type": "subslide"
    }
   },
   "source": [
    "## midterm schedule\n",
    "\n",
    "I will post the midterm to [this `github` repo](https://github.com/rzl-ds/gu511_exam) and will email the class about it. at that point you are free to start working on the exam.\n",
    "\n",
    "the exam will cover all material discussed in lectures up to *and including* today's. my intention is that this will take approximately 1.5 to 2 times as long to complete as a regular homework set."
   ]
  }
 ],
 "metadata": {
  "celltoolbar": "Slideshow",
  "kernelspec": {
   "display_name": "Python 3",
   "language": "python",
   "name": "python3"
  },
  "language_info": {
   "codemirror_mode": {
    "name": "ipython",
    "version": 3
   },
   "file_extension": ".py",
   "mimetype": "text/x-python",
   "name": "python",
   "nbconvert_exporter": "python",
   "pygments_lexer": "ipython3",
   "version": "3.6.6"
  }
 },
 "nbformat": 4,
 "nbformat_minor": 2
}
