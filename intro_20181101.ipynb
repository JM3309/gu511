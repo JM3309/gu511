{
 "cells": [
  {
   "cell_type": "markdown",
   "metadata": {
    "slideshow": {
     "slide_type": "slide"
    }
   },
   "source": [
    "# introduction notes for 2018.11.01\n",
    "\n",
    "1. **log in to your `ec2` servers!**\n",
    "1. **log in to your `aws` accounts at https://console.aws.amazon.com/**\n",
    "1. hw due EOD tomorrow (Friday Nov 2nd)\n",
    "1. what to do when `github` won't render notebooks\n",
    "1. no `commit` message on `git merge` hw (my bad)"
   ]
  },
  {
   "cell_type": "markdown",
   "metadata": {
    "slideshow": {
     "slide_type": "subslide"
    }
   },
   "source": [
    "## log in to your `ec2` servers!\n",
    "\n",
    "you got this"
   ]
  },
  {
   "cell_type": "markdown",
   "metadata": {
    "slideshow": {
     "slide_type": "subslide"
    }
   },
   "source": [
    "## **log in to your `aws` accounts at https://console.aws.amazon.com/**\n",
    "\n",
    "after we finish the webscraping lecture we will dive back in to `aws` with the `iam` service. go ahead and save yourself a few paniced seconds later in lecture by launching the `aws` console and doing the whole MFA song and dance"
   ]
  },
  {
   "cell_type": "markdown",
   "metadata": {
    "slideshow": {
     "slide_type": "subslide"
    }
   },
   "source": [
    "##  hw due EOD tomorrow (Friday Nov 2nd)\n",
    "\n",
    "just a reminder! current hw is again due on Fridays, and we will continue that going forward until the end of the course"
   ]
  },
  {
   "cell_type": "markdown",
   "metadata": {
    "slideshow": {
     "slide_type": "subslide"
    }
   },
   "source": [
    "## what to do when `github` won't render notebooks\n",
    "\n",
    "every so often `github` fails to render notebooks:\n",
    "\n",
    "<br><div align=\"center\"><img src=\"http://drive.google.com/uc?export=view&id=1SpMPHZ7BHLu6ilWG6jqRFf2ms04Mr_Yh\"></div>"
   ]
  },
  {
   "cell_type": "markdown",
   "metadata": {
    "slideshow": {
     "slide_type": "subslide"
    }
   },
   "source": [
    "there are two options\n",
    "\n",
    "1. download and run them locally (requires knowledge of `git` and `jupyter`)\n",
    "1. launch using google colab\n",
    "\n",
    "the next slide describes how to launch using `colab`"
   ]
  },
  {
   "cell_type": "markdown",
   "metadata": {
    "slideshow": {
     "slide_type": "subslide"
    }
   },
   "source": [
    "1. go to https://colab.research.google.com/\n",
    "1. click on `github` (see picture below) and search for the github url: https://github.com/rzl-ds/gu511\n",
    "1. select any of the ones you wish to open\n",
    "\n",
    "<br><div align=\"center\"><img src=\"http://drive.google.com/uc?export=view&id=1DpLde3ndyKAX2FNCC4HRUZ9OSbh0sis4\" width=\"800px\"></div>"
   ]
  },
  {
   "cell_type": "markdown",
   "metadata": {
    "slideshow": {
     "slide_type": "subslide"
    }
   },
   "source": [
    "# no `commit` message on `git merge` hw (my bad)\n",
    "\n",
    "sorry folks, if you do everything correctly you won't (by default) be offered the ability to set the commit message. I've removed that line from the homework and will just be looking for successful `merge` (don't care about the `message`)"
   ]
  }
 ],
 "metadata": {
  "celltoolbar": "Slideshow",
  "kernelspec": {
   "display_name": "Python 3",
   "language": "python",
   "name": "python3"
  },
  "language_info": {
   "codemirror_mode": {
    "name": "ipython",
    "version": 3
   },
   "file_extension": ".py",
   "mimetype": "text/x-python",
   "name": "python",
   "nbconvert_exporter": "python",
   "pygments_lexer": "ipython3",
   "version": "3.6.6"
  }
 },
 "nbformat": 4,
 "nbformat_minor": 2
}
