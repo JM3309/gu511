{
 "cells": [
  {
   "cell_type": "markdown",
   "metadata": {
    "slideshow": {
     "slide_type": "slide"
    }
   },
   "source": [
    "# introduction notes for 2018.11.08\n",
    "\n",
    "1. **log in to your `ec2` servers!**\n",
    "1. **log in to your `aws` accounts at https://console.aws.amazon.com/**\n",
    "1. `aws`? in my crystal city? it's more likely than you think.\n",
    "1. open in `colab` browser extension"
   ]
  },
  {
   "cell_type": "markdown",
   "metadata": {
    "slideshow": {
     "slide_type": "subslide"
    }
   },
   "source": [
    "## log in to your `ec2` servers!\n",
    "\n",
    "you got this"
   ]
  },
  {
   "cell_type": "markdown",
   "metadata": {
    "slideshow": {
     "slide_type": "subslide"
    }
   },
   "source": [
    "## **log in to your `aws` accounts at https://console.aws.amazon.com/**\n",
    "\n",
    "we will be making tweaks and changes and spinning up instances in `aws` so go ahead and do your MFA logins"
   ]
  },
  {
   "cell_type": "markdown",
   "metadata": {
    "slideshow": {
     "slide_type": "subslide"
    }
   },
   "source": [
    "## `aws`? in my crystal city? it's more likely than you think.\n",
    "\n",
    "buckle up, folks -- it looks like Amazon has selected Crystal City as (one half of) its new headquarters. things are about to get a whole lot cloud-ier.\n",
    "\n",
    "bonus: this is probably good news for any of you living on the Yellow or Blue where headways might make it under 15 minutes finally."
   ]
  },
  {
   "cell_type": "markdown",
   "metadata": {
    "slideshow": {
     "slide_type": "subslide"
    }
   },
   "source": [
    "## open in `colab` browser extension\n",
    "\n",
    "this week, the folks behind google colab introduced [a chrome browser extension](https://chrome.google.com/webstore/detail/open-in-colab/iogfkhleblhcpcekbiedikdehleodpjo). last I checked, there is a version on firefox that doesn't appear to be from the same developers, so I probably wouldn't install that yet.\n",
    "\n",
    "use this button to directly launch [`jupyter` notebooks](https://github.com/rzl-ds/gu511_hw/blob/master/2018.11.09.ipynb) on `github` in `colab`"
   ]
  }
 ],
 "metadata": {
  "celltoolbar": "Slideshow",
  "kernelspec": {
   "display_name": "Python 3",
   "language": "python",
   "name": "python3"
  },
  "language_info": {
   "codemirror_mode": {
    "name": "ipython",
    "version": 3
   },
   "file_extension": ".py",
   "mimetype": "text/x-python",
   "name": "python",
   "nbconvert_exporter": "python",
   "pygments_lexer": "ipython3",
   "version": "3.6.6"
  }
 },
 "nbformat": 4,
 "nbformat_minor": 2
}
