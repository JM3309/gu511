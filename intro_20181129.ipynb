{
 "cells": [
  {
   "cell_type": "markdown",
   "metadata": {
    "slideshow": {
     "slide_type": "slide"
    }
   },
   "source": [
    "# introduction notes for 2018.11.29\n",
    "\n",
    "1. **log in to your `aws` accounts at https://console.aws.amazon.com/**\n",
    "1. redshift connection issues\n",
    "1. `dbname`, `database name`, and the changing `rds` console interface\n",
    "1. `ec2` disk size problems"
   ]
  },
  {
   "cell_type": "markdown",
   "metadata": {
    "slideshow": {
     "slide_type": "subslide"
    }
   },
   "source": [
    "## **log in to your `aws` accounts at https://console.aws.amazon.com/**\n",
    "\n",
    "we will be working with `rds` and possibly `redshift` today, so log in!"
   ]
  },
  {
   "cell_type": "markdown",
   "metadata": {
    "slideshow": {
     "slide_type": "subslide"
    }
   },
   "source": [
    "## redshift connection issues\n",
    "\n",
    "my bad -- wasn't open to all IP addresses in the security group. if you had timeout problems while attempting to connect, try again now"
   ]
  },
  {
   "cell_type": "markdown",
   "metadata": {
    "slideshow": {
     "slide_type": "subslide"
    }
   },
   "source": [
    "## `dbname`, `database name`, and the changing `rds` console interface\n",
    "\n",
    "a few annoying things here\n",
    "\n",
    "+ AWS is actually being abusive in its language on the db console page -- what they label \"DB name\" is actually the \"DB instance id\" (see the \"configuration\" tab)\n",
    "    + in particular, that thing they labelled confusingly is not the \"database name\" or \"DBName\" (very cool)\n",
    "    + the thing they've labeled \"DB name\" which is actually \"DB instance id\" is a unique identifier of the \"DB\" which is a sort of meta collection of things (the server aws spun up, the configuration, the postgres database service, etc).\n",
    "    + contained within the postgres service, you can (and do) have several databases, and those have names (\"database name\")\n",
    "+ in postgres-speak, there is only \"dbname\" and it is a reference to the *database name* in aws-speak\n",
    "+ literally within the last week AWS has updated their console view for RDS and removed the line item that tells you wha the *database name* is (that's the one we need)"
   ]
  },
  {
   "cell_type": "markdown",
   "metadata": {
    "slideshow": {
     "slide_type": "subslide"
    }
   },
   "source": [
    "recall from setting it up, you either choose a custom name or you go with the default (awsuser)\n",
    "\n",
    "<br><div align=\"center\"><img src=\"http://drive.google.com/uc?export=view&id=1_AyENWpRqisqTcu6f-ik_zd40-IOfrWx\" width=\"800px\"></div>"
   ]
  },
  {
   "cell_type": "markdown",
   "metadata": {
    "slideshow": {
     "slide_type": "subslide"
    }
   },
   "source": [
    "that's the thing you need to give to the psql --dbname flag. if you don't remember what you provided, try awsuser. if that doesn't work, you can either:\n",
    "\n",
    "1. create a new rds db instance (Delete the old one)\n",
    "1. run `aws --profile YOUR_PROFILE_NAME rds describe-db-instances | grep DBName` (replace YOUR_PROFILE_NAME with your profile, or drop that if you have ec2 iam rol permissions)"
   ]
  },
  {
   "cell_type": "markdown",
   "metadata": {
    "slideshow": {
     "slide_type": "subslide"
    }
   },
   "source": [
    "## `ec2` disk size problems\n",
    "\n",
    "several people have run into problems installing `python` packages on `ec2` instances that are too full at the default 8GB sizes. you have a few options"
   ]
  },
  {
   "cell_type": "markdown",
   "metadata": {
    "slideshow": {
     "slide_type": "subslide"
    }
   },
   "source": [
    "increase the disk size: you can do this through the web console (you may have to shut down the `ec2` instance to do this). basically, click on the machine, and in the bottom panel go find the `ebs` id link and click it\n",
    "\n",
    "<br><div align=\"center\"><img src=\"http://drive.google.com/uc?export=view&id=1mW1APVujBcS_C31Vd_kWR1Q7Ox1g1pFo\" width=\"800px\"></div>\n",
    "\n",
    "then on the `ebs` id page, right click and choose to modify the volume, and the modification is the disk size"
   ]
  },
  {
   "cell_type": "markdown",
   "metadata": {
    "slideshow": {
     "slide_type": "subslide"
    }
   },
   "source": [
    "alternatively, you can clean up some extra stuff. two common cleanup tasks I do with regularity:\n",
    "\n",
    "```sh\n",
    "sudo apt-get clean\n",
    "sudo apt autoremove -y\n",
    "```\n",
    "\n",
    "and\n",
    "\n",
    "```sh\n",
    "conda clean -y --all\n",
    "```"
   ]
  }
 ],
 "metadata": {
  "celltoolbar": "Slideshow",
  "kernelspec": {
   "display_name": "Python 3",
   "language": "python",
   "name": "python3"
  },
  "language_info": {
   "codemirror_mode": {
    "name": "ipython",
    "version": 3
   },
   "file_extension": ".py",
   "mimetype": "text/x-python",
   "name": "python",
   "nbconvert_exporter": "python",
   "pygments_lexer": "ipython3",
   "version": "3.6.7"
  }
 },
 "nbformat": 4,
 "nbformat_minor": 2
}
