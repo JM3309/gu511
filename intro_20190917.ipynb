{
 "cells": [
  {
   "cell_type": "markdown",
   "metadata": {
    "slideshow": {
     "slide_type": "slide"
    }
   },
   "source": [
    "# introduction notes for 2019.09.17\n",
    "\n",
    "1. start up and log in to your `ec2` instance\n",
    "1. office hour poll results\n",
    "1. class topic survey results\n",
    "1. dc `R` conference here on campus"
   ]
  },
  {
   "cell_type": "markdown",
   "metadata": {
    "slideshow": {
     "slide_type": "subslide"
    }
   },
   "source": [
    "## start up and log in to your `ec2` instance"
   ]
  },
  {
   "cell_type": "markdown",
   "metadata": {
    "slideshow": {
     "slide_type": "subslide"
    }
   },
   "source": [
    "## office hour poll results\n",
    "\n",
    "in a landslide, the TA office hours will be\n",
    "\n",
    "WEDNESDAYS from 5:45 - 6:30 PM"
   ]
  },
  {
   "cell_type": "markdown",
   "metadata": {
    "slideshow": {
     "slide_type": "subslide"
    }
   },
   "source": [
    "## class topic survey results\n",
    "\n",
    "most excitement for:\n",
    "\n",
    "+ advanced `python` topics\n",
    "+ `hadoop` and `spark`\n",
    "+ deep learning frameworks (`tensorflow` and `pytorch`) and `api`s (`keras)\n",
    "+ version control with `git` and `github`\n",
    "+ web scraping\n",
    "+ `ec2` and `lambda`"
   ]
  },
  {
   "cell_type": "markdown",
   "metadata": {
    "slideshow": {
     "slide_type": "subslide"
    }
   },
   "source": [
    "stuff we may skip (so if this is really important to you please contact me about it directly!!)\n",
    "\n",
    "+ `nosql` and `graph` databases"
   ]
  },
  {
   "cell_type": "markdown",
   "metadata": {
    "slideshow": {
     "slide_type": "subslide"
    }
   },
   "source": [
    "## dc `R` conference here on campus\n",
    "\n",
    "this year's DC `R` conference is being held on the GU campus (in the ICC building) November 7th - 9th. lineup includes at least one program graduate that I saw\n",
    "\n",
    "details here: https://dc.rstats.ai"
   ]
  }
 ],
 "metadata": {
  "celltoolbar": "Slideshow",
  "kernelspec": {
   "display_name": "Python 3",
   "language": "python",
   "name": "python3"
  },
  "language_info": {
   "codemirror_mode": {
    "name": "ipython",
    "version": 3
   },
   "file_extension": ".py",
   "mimetype": "text/x-python",
   "name": "python",
   "nbconvert_exporter": "python",
   "pygments_lexer": "ipython3",
   "version": "3.7.3"
  },
  "toc": {
   "base_numbering": 1,
   "nav_menu": {},
   "number_sections": true,
   "sideBar": true,
   "skip_h1_title": false,
   "title_cell": "Table of Contents",
   "title_sidebar": "Contents",
   "toc_cell": false,
   "toc_position": {},
   "toc_section_display": true,
   "toc_window_display": false
  }
 },
 "nbformat": 4,
 "nbformat_minor": 2
}
