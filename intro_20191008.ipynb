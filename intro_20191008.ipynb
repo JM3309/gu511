{
 "cells": [
  {
   "cell_type": "markdown",
   "metadata": {
    "slideshow": {
     "slide_type": "slide"
    }
   },
   "source": [
    "# introduction notes for 2019.10.08\n",
    "\n",
    "1. open the `python` lecture in `colab`\n",
    "1. late homework policy\n",
    "1. midterm schedule"
   ]
  },
  {
   "cell_type": "markdown",
   "metadata": {
    "slideshow": {
     "slide_type": "subslide"
    }
   },
   "source": [
    "## open the `python` lecture in `colab`\n",
    "\n",
    "today we will cover a lot of `python` code and you will perhaps want to follow along by executing that code as we move through the lecture.\n",
    "\n",
    "if you want an easy way to do that, open the notes in [google colab](https://colab.research.google.com/)\n",
    "\n",
    "1. go to https://colab.research.google.com/\n",
    "1. select the `github` tab in the open dialog box\n",
    "1. search for organization `rzl-ds`\n",
    "1. select `005_python.ipynb` from the dropdown"
   ]
  },
  {
   "cell_type": "markdown",
   "metadata": {
    "slideshow": {
     "slide_type": "subslide"
    }
   },
   "source": [
    "## late homework policy\n",
    "\n",
    "because I didn't write it out in the intro lecture: late homeworks will receive a 10% deduction for each day beyond the due date.\n",
    "\n",
    "in general, if you need an extension, please reach out to me to let me know"
   ]
  },
  {
   "cell_type": "markdown",
   "metadata": {
    "slideshow": {
     "slide_type": "subslide"
    }
   },
   "source": [
    "## midterm schedule\n",
    "\n",
    "I will post the midterm to [this `github` repo](https://github.com/rzl-ds/gu511_exam) and will email the class about it. at that point you are free to start working on the exam.\n",
    "\n",
    "the exam will cover all material discussed in lectures up to *and including* today's. my intention is that this will take approximately 1.5 to 2 times as long to complete as a regular homework set."
   ]
  }
 ],
 "metadata": {
  "celltoolbar": "Slideshow",
  "kernelspec": {
   "display_name": "Python 3",
   "language": "python",
   "name": "python3"
  },
  "language_info": {
   "codemirror_mode": {
    "name": "ipython",
    "version": 3
   },
   "file_extension": ".py",
   "mimetype": "text/x-python",
   "name": "python",
   "nbconvert_exporter": "python",
   "pygments_lexer": "ipython3",
   "version": "3.7.3"
  },
  "toc": {
   "base_numbering": 1,
   "nav_menu": {},
   "number_sections": true,
   "sideBar": true,
   "skip_h1_title": false,
   "title_cell": "Table of Contents",
   "title_sidebar": "Contents",
   "toc_cell": false,
   "toc_position": {},
   "toc_section_display": true,
   "toc_window_display": false
  }
 },
 "nbformat": 4,
 "nbformat_minor": 2
}
