{
 "cells": [
  {
   "cell_type": "markdown",
   "metadata": {
    "slideshow": {
     "slide_type": "slide"
    }
   },
   "source": [
    "# introduction notes for 2019.10.22\n",
    "\n",
    "1. extremely relevant OSS moment\n",
    "1. `rstats` conference updates"
   ]
  },
  {
   "cell_type": "markdown",
   "metadata": {
    "slideshow": {
     "slide_type": "subslide"
    }
   },
   "source": [
    "## extremely relevant OSS moment\n",
    "\n",
    "suppose you were a brave students who\n",
    "\n",
    "```\n",
    "<extreme_no_judgement_zone>\n",
    "```\n",
    "waited until about 3:14PM or so to start the `conda`-related homework problems on the midterm exam\n",
    "```\n",
    "</extreme_no_judgement_zone>\n",
    "```"
   ]
  },
  {
   "cell_type": "markdown",
   "metadata": {
    "slideshow": {
     "slide_type": "subslide"
    }
   },
   "source": [
    "if you found yourself in such a situation, you ran into the following:\n",
    "\n",
    "<div align=\"center\"><img width=1000 src=\"http://drive.google.com/uc?export=view&id=1YoCYh_0vxjAm2Cff7PtBakKtvNTs49oT\"></div>"
   ]
  },
  {
   "cell_type": "markdown",
   "metadata": {
    "slideshow": {
     "slide_type": "subslide"
    }
   },
   "source": [
    "as it turns out, the `conda` and `miniconda` installer files were updated on the day the exam was due, and any attempt to install using the latest (`Miniconda2-latest-Linux-x86_64.sh`) installer script would hang `~*~fOrEvEr~*~` at the \"Unpacking payload ...\" step"
   ]
  },
  {
   "cell_type": "markdown",
   "metadata": {
    "slideshow": {
     "slide_type": "subslide"
    }
   },
   "source": [
    "so what do you do when something like this happens?\n",
    "\n",
    "you complain online!\n",
    "\n",
    "https://github.com/conda/conda/issues/9345\n",
    "\n",
    "the solution? for now, install one of the previous versions, availabe here: https://repo.continuum.io/miniconda/"
   ]
  },
  {
   "cell_type": "markdown",
   "metadata": {
    "slideshow": {
     "slide_type": "subslide"
    }
   },
   "source": [
    "## `rstats` conference updates\n",
    "\n",
    "this might be old news to you all already, but: it looks like the department has the ability to get 10 MAST students discounts down to a rate of $120 for the upcoming https://dc.rstats.ai conference."
   ]
  }
 ],
 "metadata": {
  "celltoolbar": "Slideshow",
  "kernelspec": {
   "display_name": "Python 3",
   "language": "python",
   "name": "python3"
  },
  "language_info": {
   "codemirror_mode": {
    "name": "ipython",
    "version": 3
   },
   "file_extension": ".py",
   "mimetype": "text/x-python",
   "name": "python",
   "nbconvert_exporter": "python",
   "pygments_lexer": "ipython3",
   "version": "3.7.3"
  },
  "toc": {
   "base_numbering": 1,
   "nav_menu": {},
   "number_sections": true,
   "sideBar": true,
   "skip_h1_title": false,
   "title_cell": "Table of Contents",
   "title_sidebar": "Contents",
   "toc_cell": false,
   "toc_position": {},
   "toc_section_display": true,
   "toc_window_display": false
  }
 },
 "nbformat": 4,
 "nbformat_minor": 2
}
