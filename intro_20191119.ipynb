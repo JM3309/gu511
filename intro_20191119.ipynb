{
 "cells": [
  {
   "cell_type": "markdown",
   "metadata": {
    "slideshow": {
     "slide_type": "slide"
    }
   },
   "source": [
    "# introduction notes for 2019.11.19\n",
    "\n",
    "1. hard cutoff for shared `redshift` cluster access\n",
    "1. zoom video lecture next week\n",
    "1. no office hours next week"
   ]
  },
  {
   "cell_type": "markdown",
   "metadata": {
    "slideshow": {
     "slide_type": "subslide"
    }
   },
   "source": [
    "## hard cutoff for shared `redshift` cluster access\n",
    "\n",
    "I am paying for the shared `redshift` cluster to which you have access to as part of this week's homework. they say you can't put a price on education but I guess I am -- 8 days of redshift access.\n",
    "\n",
    "I'll be shutting off that shared `redshift` cluster as of Thursday morning, so any homework not done by that point will need to be completed on your own cluster."
   ]
  },
  {
   "cell_type": "markdown",
   "metadata": {
    "slideshow": {
     "slide_type": "subslide"
    }
   },
   "source": [
    "## zoom video lecture next week\n",
    "\n",
    "contrary to the course intro notes, we will be having lecture next week (the week of Thanksgiving). it **will not** be a physical lecture, please do not come to campus for it!\n",
    "\n",
    "instead, I will email out a link to a shared recording of a lecture.\n",
    "\n",
    "the homework for next week's lecture will be significantly reduced (if not entirely optional -- tbd)"
   ]
  },
  {
   "cell_type": "markdown",
   "metadata": {
    "slideshow": {
     "slide_type": "subslide"
    }
   },
   "source": [
    "## no office hours next week\n",
    "\n",
    "I will *not* be holding my Tuesday afternoon office hours next week, but I will be availble via email"
   ]
  }
 ],
 "metadata": {
  "celltoolbar": "Slideshow",
  "kernelspec": {
   "display_name": "Python 3",
   "language": "python",
   "name": "python3"
  },
  "language_info": {
   "codemirror_mode": {
    "name": "ipython",
    "version": 3
   },
   "file_extension": ".py",
   "mimetype": "text/x-python",
   "name": "python",
   "nbconvert_exporter": "python",
   "pygments_lexer": "ipython3",
   "version": "3.7.3"
  },
  "toc": {
   "base_numbering": 1,
   "nav_menu": {},
   "number_sections": true,
   "sideBar": true,
   "skip_h1_title": false,
   "title_cell": "Table of Contents",
   "title_sidebar": "Contents",
   "toc_cell": false,
   "toc_position": {},
   "toc_section_display": true,
   "toc_window_display": false
  }
 },
 "nbformat": 4,
 "nbformat_minor": 2
}
